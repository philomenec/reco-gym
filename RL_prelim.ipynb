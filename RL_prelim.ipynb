{
 "cells": [
  {
   "cell_type": "markdown",
   "metadata": {},
   "source": [
    "# RL preliminaries"
   ]
  },
  {
   "cell_type": "code",
   "execution_count": 1,
   "metadata": {},
   "outputs": [
    {
     "name": "stdout",
     "output_type": "stream",
     "text": [
      "Number of products = 10\n",
      "Number of flips = 10\n",
      "Value of kappa = 0.2\n"
     ]
    }
   ],
   "source": [
    "\n",
    "import gym, recogym\n",
    "import matplotlib.pyplot as plt\n",
    "from copy import deepcopy\n",
    "import numpy as np\n",
    "import os\n",
    "from datetime import datetime\n",
    "import pandas as pd\n",
    "import pickle as pkl\n",
    "pd.options.mode.chained_assignment = None \n",
    "# from inspect import getsource\n",
    "from recogym.evaluate_agent_sale import verify_agents_sale, display_metrics, verify_agents_sale_extended \n",
    "from tqdm import tqdm\n",
    "\n",
    "# env_1_sale_args is a dictionary of default parameters (i.e. number of products)\n",
    "from recogym import env_1_sale_args, Configuration\n",
    "from recogym.agents.sale_agent import train_agents, train_timeagents\n",
    "from recogym.envs.utils_sale import format_avg_result, avg_result, format_avg_result_extended, avg_result_extended\n",
    "\n",
    "\n",
    "# You can overwrite environment arguments here:\n",
    "env_1_sale_args['random_seed'] = 0\n",
    "env_1_sale_args['num_products'] = 10\n",
    "env_1_sale_args['number_of_flips'] = 10 \n",
    "\n",
    "num_products = env_1_sale_args['num_products']\n",
    "print('Number of products =',num_products)\n",
    "print('Number of flips =',env_1_sale_args['number_of_flips'])\n",
    "nb_flips = env_1_sale_args['number_of_flips']\n",
    "\n",
    "# You can overwrite environment arguments here:\n",
    "env_1_sale_args['random_seed'] = 42\n",
    "env_1_sale_args['mu_sale'] = False \n",
    "\n",
    "# env_1_sale_args['kappa'] = 0.5\n",
    "print('Value of kappa =',env_1_sale_args['kappa'])\n",
    "\n",
    "# Initialize the gym \n",
    "env = gym.make('reco-gym-sale-v1')\n",
    "env.init_gym(env_1_sale_args)\n",
    "\n"
   ]
  },
  {
   "cell_type": "code",
   "execution_count": 2,
   "metadata": {},
   "outputs": [],
   "source": [
    "# Repository to save pickles\n",
    "data_repo = 'data_conversion/'"
   ]
  },
  {
   "cell_type": "markdown",
   "metadata": {},
   "source": [
    "## Train baseline agents"
   ]
  },
  {
   "cell_type": "markdown",
   "metadata": {},
   "source": [
    "#### Settings"
   ]
  },
  {
   "cell_type": "code",
   "execution_count": 3,
   "metadata": {},
   "outputs": [],
   "source": [
    "## Choose number of users for training and AB test\n",
    "# Number of users for the training\n",
    "# env_1_sale_args['num_users'] = 6 ##tochange !!\n",
    "env_1_sale_args['num_users'] = 5000\n",
    "num_users = env_1_sale_args['num_users']\n",
    "\n",
    "# Number of users for the A/B test\n",
    "env_1_sale_args['num_users_AB'] = 7 ##tochange !!\n",
    "# env_1_sale_args['num_users_AB'] = 5000\n",
    "num_users_AB = env_1_sale_args['num_users_AB']\n",
    "\n",
    "# Choose user features\n",
    "from recogym.agents.sale_agent import CountViewsClicksFeatureProvider, CountViewsFeatureProvider, ShareViewsClicksFeatureProvider, ShareViewsFeatureProvider\n",
    "vc_feature = CountViewsClicksFeatureProvider(env.config)\n",
    "v_feature = CountViewsFeatureProvider(env.config)\n",
    "vc_share_feature = ShareViewsClicksFeatureProvider(env.config)\n",
    "v_share_feature = ShareViewsFeatureProvider(env.config)\n",
    "features = {'vc':vc_feature,\n",
    "           'v':v_feature,\n",
    "           'vc_share':vc_share_feature,\n",
    "           'v_share':v_share_feature}\n",
    "feature_name = 'v_share'\n",
    "feature = features[feature_name]"
   ]
  },
  {
   "cell_type": "markdown",
   "metadata": {},
   "source": [
    "#### <font color='red'> Number of A/B tests</font>"
   ]
  },
  {
   "cell_type": "code",
   "execution_count": 4,
   "metadata": {},
   "outputs": [],
   "source": [
    "# # Choose number of A/B tests\n",
    "num_AB_tests = 2 ##tochange !\n",
    "# num_AB_tests = 25 ##tochange !"
   ]
  },
  {
   "cell_type": "markdown",
   "metadata": {},
   "source": [
    "#### Logs"
   ]
  },
  {
   "cell_type": "code",
   "execution_count": 5,
   "metadata": {
    "scrolled": true
   },
   "outputs": [
    {
     "name": "stdout",
     "output_type": "stream",
     "text": [
      "--- Logs loaded---\n"
     ]
    }
   ],
   "source": [
    "agents={}\n",
    "logs={}\n",
    "\n",
    "############## Random agent\n",
    "name_agent = 'rand'+str(nb_flips)\n",
    "from recogym.agents import RandomAgent, random_args\n",
    "random_agent = RandomAgent(Configuration(random_args))\n",
    "agents[name_agent] = random_agent\n",
    "\n",
    "\n",
    "try:\n",
    "    logs[name_agent] = pkl.load(open(data_repo + 'data' + str(num_users) + name_agent + '.pkl','rb'))\n",
    "    print('--- Logs loaded---')\n",
    "except: \n",
    "    print(\"--- Generate logs ---\")\n",
    "    logs[name_agent] = deepcopy(env).generate_logs(num_users)\n",
    "    print(data_repo + 'data' + str(num_users) + name_agent + '.pkl')\n",
    "    pkl.dump(logs[name_agent], open(data_repo + 'data' + str(num_users) + name_agent + '.pkl','wb'))"
   ]
  },
  {
   "cell_type": "code",
   "execution_count": 6,
   "metadata": {},
   "outputs": [],
   "source": [
    "\n",
    "from recogym.agents.sale_agent_repeated import PseudoRewards, ShareViewsCountClicksFeatureProvider\n",
    "data = logs[name_agent]\n",
    "RewardTilde = PseudoRewards(clicks_only=False)\n",
    "RewardTilde.observe(data)\n",
    "RewardTilde.pseudo_observe(RewardTilde.data_rewards)"
   ]
  },
  {
   "cell_type": "code",
   "execution_count": 7,
   "metadata": {},
   "outputs": [
    {
     "data": {
      "text/plain": [
       "6         0.0\n",
       "7         0.0\n",
       "8         0.0\n",
       "9         0.0\n",
       "10        0.0\n",
       "         ... \n",
       "511604    0.0\n",
       "511605    0.0\n",
       "511606    0.0\n",
       "511607    0.0\n",
       "511608    0.0\n",
       "Name: pseudo_y, Length: 392170, dtype: float64"
      ]
     },
     "execution_count": 7,
     "metadata": {},
     "output_type": "execute_result"
    }
   ],
   "source": [
    "RewardTilde.data_rewards[\"pseudo_y\"]"
   ]
  },
  {
   "cell_type": "code",
   "execution_count": 8,
   "metadata": {},
   "outputs": [],
   "source": [
    "UserFeatures = ShareViewsCountClicksFeatureProvider(config = env.config )\n",
    "UserFeatures.reset()\n",
    "# UserFeatures.observe(data)"
   ]
  },
  {
   "cell_type": "code",
   "execution_count": 9,
   "metadata": {},
   "outputs": [
    {
     "data": {
      "text/plain": [
       "array([0., 0., 0., 0., 0., 0., 0., 0., 0., 0., 0., 0., 0., 0., 0., 0., 0.,\n",
       "       0., 0., 0.])"
      ]
     },
     "execution_count": 9,
     "metadata": {},
     "output_type": "execute_result"
    }
   ],
   "source": [
    "# UserFeatures.features()\n",
    "UserFeatures.features()"
   ]
  },
  {
   "cell_type": "code",
   "execution_count": 10,
   "metadata": {},
   "outputs": [
    {
     "data": {
      "text/plain": [
       "{'num_products': 10,\n",
       " 'num_users': 5000,\n",
       " 'random_seed': 42,\n",
       " 'prob_leave_bandit': 0.01,\n",
       " 'prob_leave_organic': 0.01,\n",
       " 'prob_bandit_to_organic': 0.05,\n",
       " 'prob_organic_to_bandit': 0.25,\n",
       " 'normalize_beta': False,\n",
       " 'with_ps_all': False,\n",
       " 'num_clusters': 2,\n",
       " 'phi_var': 0.1,\n",
       " 'K': 5,\n",
       " 'sigma_omega_initial': 1,\n",
       " 'sigma_omega': 0.1,\n",
       " 'number_of_flips': 10,\n",
       " 'sigma_mu_organic': 3,\n",
       " 'change_omega_for_bandits': False,\n",
       " 'kappa': 0.2,\n",
       " 'sigma_Lambda': 1,\n",
       " 'psale_scale': 0.15,\n",
       " 'delta_for_clicks': 0,\n",
       " 'delta_for_views': 0,\n",
       " 'sig_coef': 1,\n",
       " 'mu_sale': False,\n",
       " 'sigma_mu_sale': 0,\n",
       " 'num_users_AB': 7}"
      ]
     },
     "execution_count": 10,
     "metadata": {},
     "output_type": "execute_result"
    }
   ],
   "source": [
    "env_1_sale_args"
   ]
  },
  {
   "cell_type": "markdown",
   "metadata": {},
   "source": [
    "## Question : how to initialize Q0 ? Train a discounted agent as a start to avoid long nb of iterations ? Better to start bad to check that it does in the right direction ?"
   ]
  },
  {
   "cell_type": "code",
   "execution_count": 11,
   "metadata": {},
   "outputs": [],
   "source": [
    "import torch\n",
    "import torch.nn as nn\n",
    "import torch.nn.functional as F \n",
    "from torch import optim\n",
    "\n",
    "import numpy as np\n",
    "\n",
    "import gym\n",
    "from gym.wrappers import Monitor\n",
    "from pprint import pprint\n",
    "from pyvirtualdisplay import Display\n",
    "from IPython import display as ipythondisplay\n",
    "from IPython.display import clear_output\n",
    "\n",
    "from pathlib import Path\n",
    "import base64\n",
    "import pandas as pd\n",
    "import itertools\n",
    "import seaborn as sns"
   ]
  },
  {
   "cell_type": "code",
   "execution_count": null,
   "metadata": {},
   "outputs": [],
   "source": []
  },
  {
   "cell_type": "markdown",
   "metadata": {},
   "source": [
    "### Simulator rewards, online"
   ]
  },
  {
   "cell_type": "code",
   "execution_count": 12,
   "metadata": {},
   "outputs": [],
   "source": [
    "from recogym.agents.sale_agent_reinforce import Model, make_seed, REINFORCE"
   ]
  },
  {
   "cell_type": "code",
   "execution_count": null,
   "metadata": {},
   "outputs": [],
   "source": []
  },
  {
   "cell_type": "code",
   "execution_count": 13,
   "metadata": {},
   "outputs": [
    {
     "name": "stdout",
     "output_type": "stream",
     "text": [
      "Config :  {'learning_rate': 0.014, 'seed': 42, 'gamma': 0.98}\n"
     ]
    }
   ],
   "source": [
    "learning_rate = 0.015\n",
    "gamma = 1.0  # every second counts the same\n",
    "seed = 1235\n",
    "\n",
    "config = {\n",
    "    'learning_rate': 0.014,\n",
    "    'seed': env_1_sale_args['random_seed'],\n",
    "    'gamma': .98\n",
    "}\n",
    "\n",
    "print(\"Config : \",config)\n"
   ]
  },
  {
   "cell_type": "code",
   "execution_count": 14,
   "metadata": {},
   "outputs": [],
   "source": [
    "# agent = REINFORCE(config,env,UserFeatures)\n",
    "\n",
    "# agent.train(n_trajectories=50, n_update=5)\n",
    "\n",
    "# # Save the model\n",
    "# datetag = datetime.now().strftime(\"%d%m%Y-%H%M%S\")\n",
    "# PATH = f\"data/RL/reinforce_{datetag}.pth\"\n",
    "# print(PATH)\n",
    "# torch.save(agent.model.state_dict(), PATH)\n",
    "# # agent.model.state_dict = torch.load(PATH)\n",
    "# agent.evaluate()"
   ]
  },
  {
   "cell_type": "code",
   "execution_count": 15,
   "metadata": {},
   "outputs": [],
   "source": [
    "class PseudoREINFORCE(REINFORCE):\n",
    "        \n",
    "    def __init__(self, config, env, user_features, pseudo_reward_provider):\n",
    "        super().__init__(config, env, user_features)\n",
    "        self.pseudo_reward_provider = pseudo_reward_provider\n",
    "    \n",
    "    def _compute_pseudo_returns(self, rewards):\n",
    "        num_rew = len(rewards)\n",
    "        exponents = np.arange(num_rew)\n",
    "        gammas = np.power(self.gamma, exponents)\n",
    "        \n",
    "        return rewards.dot(gammas)\n",
    "    \n",
    "        \n",
    "    def optimize_model(self, n_trajectories):\n",
    "\n",
    "        reward_trajectories = np.empty(n_trajectories)\n",
    "        loss = 0.\n",
    "        \n",
    "        for i in range(n_trajectories):\n",
    "            print('trajectory n°'+str(i))\n",
    "            print(datetime.now())\n",
    "            traj_rewards = []  # rewards of the trajectory\n",
    "            traj_pseudo_rewards = []  # rewards of the trajectory\n",
    "            traj_proba = 0.  # sum of log-probabilities of trajectory\n",
    "            \n",
    "            # Build trajectory\n",
    "            done = False\n",
    "            self.env.reset()\n",
    "            # reset user features\n",
    "            self.reset()\n",
    "            obs_raw, _, done, reward = self.env.step(None)\n",
    "            log = self.observation_to_log(obs_raw,reward)\n",
    "            self.user_features.observe(log, memory=False)\n",
    "            state = self.user_features.features()\n",
    "            state = torch.from_numpy(state).float()\n",
    "            while not done:\n",
    "                action = self.model.select_action(state)  # can be cast to int for action idx\n",
    "                # Get proba\n",
    "                prob = self.model(state)[int(action)]\n",
    "                traj_proba += torch.log(prob)\n",
    "                \n",
    "                obs_raw, reward, done, info = self.env.step(int(action))\n",
    "                log = self.observation_to_log(obs_raw,reward)\n",
    "                self.user_features.observe(log, memory=False)\n",
    "                state = self.user_features.features()\n",
    "                state = torch.from_numpy(state).float()\n",
    "\n",
    "                self.pseudo_reward_provider.pseudo_observe(log)\n",
    "                pseudo_reward = self.pseudo_reward_provider.data_rewards\n",
    "                if reward > 0:\n",
    "                    print(\"reward\", reward)\n",
    "                    print(\"pseudo rewards\", pseudo_reward)\n",
    "                # Store the new reward\n",
    "                traj_rewards.append(reward)\n",
    "                \n",
    "                \n",
    "            traj_rewards = np.array(traj_rewards)  # NumPy array\n",
    "            \n",
    "            # Get total reward\n",
    "            total_reward = self._compute_returns(traj_rewards)  # NumPy array\n",
    "            reward_trajectories[i] = total_reward\n",
    "            \n",
    "            loss = loss + total_reward * traj_proba / n_trajectories  # accumulate the negative criterion\n",
    "            # reset user features construction and delete logs in memory\n",
    "            self.reset()\n",
    "            \n",
    "        self.env.close()  # important\n",
    "        \n",
    "        loss = -loss\n",
    "        \n",
    "        # The following lines take care of the gradient descent step for the variable loss\n",
    "        # that you need to compute.\n",
    "        print(\"Loss:\", loss.data.numpy())\n",
    "        \n",
    "        # Discard previous gradients\n",
    "        self.optimizer.zero_grad()\n",
    "        # Compute the gradient \n",
    "        loss.backward()\n",
    "        # Do the gradient descent step\n",
    "        self.optimizer.step()\n",
    "        return reward_trajectories\n",
    "    \n",
    "    def train(self, n_trajectories, n_update):\n",
    "        \"\"\"Training method\n",
    "\n",
    "        Parameters\n",
    "        ----------\n",
    "        n_trajectories : int\n",
    "            The number of trajectories used to approximate the expected gradient\n",
    "        n_update : int\n",
    "            The number of gradient updates\n",
    "            \n",
    "        \"\"\"\n",
    "        \n",
    "        final_update = self.current_ep + n_update\n",
    "        rewards = self.rewards  # restart the reward record\n",
    "        for episode in range(self.current_ep, final_update):\n",
    "            rewards.append(self.optimize_model(n_trajectories))\n",
    "            print(f'Episode {episode + 1}/{final_update}: rewards ' \n",
    "                  +f'{round(rewards[-1].mean(), 2)} +/- {round(rewards[-1].std(), 2)}')\n",
    "            self.current_ep += 1\n",
    "        \n",
    "        # Plotting\n",
    "        r = pd.DataFrame((itertools.chain(*(itertools.product([i], rewards[i]) for i in range(len(rewards))))), columns=['Epoch', 'Reward'])\n",
    "        sns.lineplot(x=\"Epoch\", y=\"Reward\", data=r, ci='sd');\n",
    "        \n",
    "    "
   ]
  },
  {
   "cell_type": "code",
   "execution_count": 16,
   "metadata": {},
   "outputs": [],
   "source": [
    "agent = PseudoREINFORCE(config,env,UserFeatures,RewardTilde)"
   ]
  },
  {
   "cell_type": "code",
   "execution_count": 17,
   "metadata": {},
   "outputs": [
    {
     "name": "stdout",
     "output_type": "stream",
     "text": [
      "trajectory n°0\n",
      "2020-09-30 17:27:04.002220\n",
      "trajectory n°1\n",
      "2020-09-30 17:27:05.221006\n",
      "trajectory n°2\n",
      "2020-09-30 17:27:05.599771\n",
      "Loss: -0.0\n",
      "Episode 1/2: rewards 0.0 +/- 0.0\n",
      "trajectory n°0\n",
      "2020-09-30 17:27:07.460067\n",
      "trajectory n°1\n",
      "2020-09-30 17:27:29.560966\n",
      "trajectory n°2\n",
      "2020-09-30 17:27:33.391382\n",
      "Loss: -0.0\n",
      "Episode 2/2: rewards 0.0 +/- 0.0\n",
      "data/RL/Pseudoreinforce_30092020-172802.pth\n"
     ]
    },
    {
     "data": {
      "image/png": "[encoded data removed]",
      "text/plain": [
       "<Figure size 432x288 with 1 Axes>"
      ]
     },
     "metadata": {
      "needs_background": "light"
     },
     "output_type": "display_data"
    }
   ],
   "source": [
    "agent.train(n_trajectories=3, n_update=2)\n",
    "\n",
    "# Save the model\n",
    "datetag = datetime.now().strftime(\"%d%m%Y-%H%M%S\")\n",
    "PATH = f\"data/RL/Pseudoreinforce_{datetag}.pth\"\n",
    "print(PATH)\n",
    "torch.save(agent.model.state_dict(), PATH)\n",
    "# agent.model.state_dict = torch.load(PATH)"
   ]
  },
  {
   "cell_type": "code",
   "execution_count": null,
   "metadata": {},
   "outputs": [],
   "source": []
  }
 ],
 "metadata": {
  "kernelspec": {
   "display_name": "Python 3",
   "language": "python",
   "name": "python3"
  },
  "language_info": {
   "codemirror_mode": {
    "name": "ipython",
    "version": 3
   },
   "file_extension": ".py",
   "mimetype": "text/x-python",
   "name": "python",
   "nbconvert_exporter": "python",
   "pygments_lexer": "ipython3",
   "version": "3.7.4"
  }
 },
 "nbformat": 4,
 "nbformat_minor": 2
}
