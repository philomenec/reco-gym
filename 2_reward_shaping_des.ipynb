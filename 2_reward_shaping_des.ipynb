{
 "cells": [
  {
   "cell_type": "code",
   "execution_count": 1,
   "metadata": {},
   "outputs": [
    {
     "data": {
      "text/plain": [
       "{'num_products': 10,\n",
       " 'num_users': 5000,\n",
       " 'random_seed': 42,\n",
       " 'prob_leave_bandit': 0.01,\n",
       " 'prob_leave_organic': 0.01,\n",
       " 'prob_bandit_to_organic': 0.05,\n",
       " 'prob_organic_to_bandit': 0.25,\n",
       " 'normalize_beta': False,\n",
       " 'with_ps_all': False,\n",
       " 'num_clusters': 2,\n",
       " 'phi_var': 0.1,\n",
       " 'K': 5,\n",
       " 'sigma_omega_initial': 1,\n",
       " 'sigma_omega': 0.1,\n",
       " 'number_of_flips': 5,\n",
       " 'sigma_mu_organic': 3,\n",
       " 'change_omega_for_bandits': False,\n",
       " 'kappa': 0.2,\n",
       " 'sigma_Lambda': 1,\n",
       " 'psale_scale': 0.15,\n",
       " 'delta_for_clicks': 0,\n",
       " 'delta_for_views': 0,\n",
       " 'sig_coef': 1}"
      ]
     },
     "execution_count": 1,
     "metadata": {},
     "output_type": "execute_result"
    }
   ],
   "source": [
    "import gym, recogym\n",
    "import matplotlib.pyplot as plt\n",
    "from copy import deepcopy\n",
    "import numpy as np\n",
    "import pandas as pd\n",
    "import pickle as pkl\n",
    "pd.options.mode.chained_assignment = None \n",
    "# from inspect import getsource\n",
    "from recogym.evaluate_agent_sale import verify_agents_sale, plot_verify_agents_sale, plot_CR_CTR\n",
    "from tqdm import tqdm\n",
    "\n",
    "# env_1_sale_args is a dictionary of default parameters (i.e. number of products)\n",
    "from recogym import env_1_sale_args, Configuration\n",
    "from recogym.envs.utils_sale import (share_states, share_sale, env_infos, count_sales_first_session, \n",
    "                                     get_beta_confidence_interval, share_user_with_sale, share_clicks_with_sale)\n",
    "# You can overwrite environment arguments here:\n",
    "env_1_sale_args['random_seed'] = 42\n",
    "\n",
    "# Initialize the gym for the first time by calling .make() and .init_gym()\n",
    "env = gym.make('reco-gym-sale-v1')\n",
    "env.init_gym(env_1_sale_args)\n",
    "\n",
    "# .reset() env before each episode (one episode per user).\n",
    "env.reset()\n",
    "done = False\n",
    "\n",
    "env_1_sale_args['num_products'] = 10\n",
    "num_products = env_1_sale_args['num_products']\n",
    "\n",
    "# You can overwrite environment arguments here:\n",
    "env_1_sale_args['random_seed'] = 42\n",
    "\n",
    "# Initialize the gym \n",
    "env = gym.make('reco-gym-sale-v1')\n",
    "env.init_gym(env_1_sale_args)\n",
    "\n",
    "env_1_sale_args['number_of_flips'] = 5\n",
    "env_1_sale_args['num_users'] = 5000\n",
    "env_1_sale_args"
   ]
  },
  {
   "cell_type": "code",
   "execution_count": 3,
   "metadata": {},
   "outputs": [],
   "source": [
    "num_users = 10000\n",
    "num_AB_users = 5000"
   ]
  },
  {
   "cell_type": "code",
   "execution_count": 4,
   "metadata": {},
   "outputs": [],
   "source": [
    "# Random policy as logging policy\n",
    "try :\n",
    "    data_random = pkl.load(open(str('data\\data'+str(num_users)+'rand.pkl'),'rb'))\n",
    "    data = data_random.copy()\n",
    "except :\n",
    "    data_random = deepcopy(env).generate_logs(num_users)\n",
    "    data = data_random.copy()\n",
    "    pkl.dump(data,open(str('data\\data'+str(num_users)+'rand.pkl'),'wb'))"
   ]
  },
  {
   "cell_type": "markdown",
   "metadata": {},
   "source": [
    "## Reward shaping"
   ]
  },
  {
   "cell_type": "markdown",
   "metadata": {},
   "source": [
    "#### (1) Clicks : \n",
    "reward = click"
   ]
  },
  {
   "cell_type": "code",
   "execution_count": 5,
   "metadata": {},
   "outputs": [],
   "source": [
    "from recogym.agents.sale_agent import ClickRewardProvider\n",
    "\n",
    "Click_rewards = ClickRewardProvider()"
   ]
  },
  {
   "cell_type": "markdown",
   "metadata": {},
   "source": [
    "#### (2) MDP (non-product-specific)\n",
    "Attribute the reward of the MDP"
   ]
  },
  {
   "cell_type": "code",
   "execution_count": 6,
   "metadata": {},
   "outputs": [],
   "source": [
    "from recogym.agents.sale_agent import MDPRewardProvider\n",
    "\n",
    "MDP_rewards = MDPRewardProvider()\n",
    "MDP_rewards_all = MDPRewardProvider(clicks_only=False)\n",
    "MDP_rewards_pureorganic = MDPRewardProvider(clicks_only=False, organic_only=True)"
   ]
  },
  {
   "cell_type": "code",
   "execution_count": 7,
   "metadata": {},
   "outputs": [
    {
     "data": {
      "image/png": "[encoded data removed]",
      "text/plain": [
       "<Figure size 432x288 with 1 Axes>"
      ]
     },
     "metadata": {
      "needs_background": "light"
     },
     "output_type": "display_data"
    },
    {
     "name": "stdout",
     "output_type": "stream",
     "text": [
      "Share of sales that are taken into account in the trainset :  0.8359090637866221\n",
      "Number of sales in the trainset : 14009.0\n"
     ]
    }
   ],
   "source": [
    "MDP_rewards_all.observe(data)\n",
    "MDP_base_all = MDP_rewards_all.features()\n",
    "# display(MDP_base_all)\n",
    "# len(MDP_base_all)\n",
    "\n",
    "trainset = MDP_base_all\n",
    "\n",
    "plt.hist(trainset[\"y\"], bins = np.array(sorted(list(trainset[\"y\"].unique())+[max(trainset[\"y\"])+1]))-0.5)\n",
    "plt.title(\"All non sale as negative\")\n",
    "plt.show()\n",
    "print(\"Share of sales that are taken into account in the trainset : \",\n",
    "      np.sum(trainset[\"y\"])/np.sum(data[\"z\"]==\"sale\"))\n",
    "print(\"Number of sales in the trainset :\",np.sum(trainset[\"y\"]))"
   ]
  },
  {
   "cell_type": "code",
   "execution_count": 10,
   "metadata": {},
   "outputs": [
    {
     "data": {
      "image/png": "[encoded data removed]",
      "text/plain": [
       "<Figure size 432x288 with 1 Axes>"
      ]
     },
     "metadata": {
      "needs_background": "light"
     },
     "output_type": "display_data"
    },
    {
     "name": "stdout",
     "output_type": "stream",
     "text": [
      "Share of sales that are taken into account in the trainset :  0.16283787815502118\n",
      "Number of sales in the trainset : 2729.0\n"
     ]
    }
   ],
   "source": [
    "MDP_rewards.observe(data)\n",
    "MDP_base = MDP_rewards.features()\n",
    "# display(MDP_base)\n",
    "# print(len(MDP_base))\n",
    "\n",
    "trainset = MDP_base\n",
    "\n",
    "plt.hist(trainset[\"y\"], bins = np.array(sorted(list(trainset[\"y\"].unique())+[max(trainset[\"y\"])+1]))-0.5)\n",
    "plt.title(\"Sale with no click as negative\")\n",
    "plt.show()\n",
    "print(\"Share of sales that are taken into account in the trainset : \",\n",
    "      np.sum(trainset[\"y\"])/np.sum((data[\"z\"]==\"sale\")))\n",
    "print(\"Number of sales in the trainset :\",np.sum(trainset[\"y\"]))"
   ]
  },
  {
   "cell_type": "code",
   "execution_count": 11,
   "metadata": {},
   "outputs": [
    {
     "data": {
      "image/png": "[encoded data removed]",
      "text/plain": [
       "<Figure size 432x288 with 1 Axes>"
      ]
     },
     "metadata": {
      "needs_background": "light"
     },
     "output_type": "display_data"
    },
    {
     "name": "stdout",
     "output_type": "stream",
     "text": [
      "Share of sales that are taken into account in the trainset :  0.516080911748911\n",
      "Number of sales in the trainset : 8649\n"
     ]
    }
   ],
   "source": [
    "MDP_rewards_pureorganic.observe(data)\n",
    "MDP_base_pureorganic = MDP_rewards_pureorganic.features()\n",
    "\n",
    "trainset = MDP_base_pureorganic\n",
    "\n",
    "plt.hist(trainset[\"y\"], bins = np.array(sorted(list(trainset[\"y\"].unique())+[max(trainset[\"y\"])+1]))-0.5)\n",
    "plt.title(\"All non sale as negative, Pureorganic\")\n",
    "plt.show()\n",
    "print(\"Share of sales that are taken into account in the trainset : \",\n",
    "      np.sum(trainset[\"y\"])/np.sum(data[\"z\"]==\"sale\"))\n",
    "print(\"Number of sales in the trainset :\",np.sum(trainset[\"y\"]))"
   ]
  },
  {
   "cell_type": "markdown",
   "metadata": {},
   "source": [
    "#### (3) Non personnalized Short term (non product-specific)\n",
    "Attribute a reward if any sale happened before the next clicked reco"
   ]
  },
  {
   "cell_type": "code",
   "execution_count": 12,
   "metadata": {},
   "outputs": [],
   "source": [
    "from recogym.agents.sale_agent import NonPersoShortTermRewardProvider\n",
    "nst_rewards = NonPersoShortTermRewardProvider()\n",
    "nst_rewards_all = NonPersoShortTermRewardProvider(clicks_only=False)"
   ]
  },
  {
   "cell_type": "code",
   "execution_count": 13,
   "metadata": {},
   "outputs": [
    {
     "data": {
      "image/png": "[encoded data removed]",
      "text/plain": [
       "<Figure size 432x288 with 1 Axes>"
      ]
     },
     "metadata": {
      "needs_background": "light"
     },
     "output_type": "display_data"
    },
    {
     "name": "stdout",
     "output_type": "stream",
     "text": [
      "Share of sales that are taken into account in the trainset :  0.483919088251089\n"
     ]
    }
   ],
   "source": [
    "nst_rewards_all.observe(data)\n",
    "nst_all = nst_rewards_all.features()\n",
    "\n",
    "trainset = nst_all\n",
    "\n",
    "plt.hist(trainset[\"y\"], bins = np.array(sorted(list(trainset[\"y\"].unique())+[max(trainset[\"y\"])+1]))-0.5)\n",
    "plt.title(\"All non sale as negative\")\n",
    "plt.show()\n",
    "print(\"Share of sales that are taken into account in the trainset : \",\n",
    "      np.sum(trainset[\"y\"])/np.sum(data[\"z\"]==\"sale\"))"
   ]
  },
  {
   "cell_type": "code",
   "execution_count": 14,
   "metadata": {},
   "outputs": [
    {
     "data": {
      "image/png": "[encoded data removed]",
      "text/plain": [
       "<Figure size 432x288 with 1 Axes>"
      ]
     },
     "metadata": {
      "needs_background": "light"
     },
     "output_type": "display_data"
    },
    {
     "name": "stdout",
     "output_type": "stream",
     "text": [
      "Share of sales that are taken into account in the trainset :  0.483919088251089\n"
     ]
    }
   ],
   "source": [
    "nst_rewards.observe(data)\n",
    "nst = nst_rewards.features()\n",
    "\n",
    "trainset = nst\n",
    "\n",
    "plt.hist(trainset[\"y\"], bins = np.array(sorted(list(trainset[\"y\"].unique())+[max(trainset[\"y\"])+1]))-0.5)\n",
    "plt.title(\"Sale with no click as negative\")\n",
    "plt.show()\n",
    "print(\"Share of sales that are taken into account in the trainset : \",\n",
    "      np.sum(trainset[\"y\"])/np.sum((data[\"z\"]==\"sale\")))"
   ]
  },
  {
   "cell_type": "markdown",
   "metadata": {},
   "source": [
    " #### (4) Short term reward provider (product-specific)\n",
    " Only attribute reward if the recommended product is sold before the next clicked recommendation "
   ]
  },
  {
   "cell_type": "code",
   "execution_count": 15,
   "metadata": {},
   "outputs": [],
   "source": [
    "from recogym.agents.sale_agent import ShortTermRewardProvider\n",
    "st_rewards = ShortTermRewardProvider()\n",
    "st_rewards_all = ShortTermRewardProvider(clicks_only=False)"
   ]
  },
  {
   "cell_type": "code",
   "execution_count": 16,
   "metadata": {},
   "outputs": [
    {
     "data": {
      "image/png": "[encoded data removed]",
      "text/plain": [
       "<Figure size 432x288 with 1 Axes>"
      ]
     },
     "metadata": {
      "needs_background": "light"
     },
     "output_type": "display_data"
    },
    {
     "name": "stdout",
     "output_type": "stream",
     "text": [
      "Share of sales that are taken into account in the trainset :  0.07452711975654872\n"
     ]
    }
   ],
   "source": [
    "st_rewards_all.observe(data)\n",
    "st_all = st_rewards_all.features()\n",
    "\n",
    "trainset = st_all\n",
    "\n",
    "plt.hist(trainset[\"y\"], bins = np.array(sorted(list(trainset[\"y\"].unique())+[max(trainset[\"y\"])+1]))-0.5)\n",
    "plt.title(\"All non sale as negative\")\n",
    "plt.show()\n",
    "print(\"Share of sales that are taken into account in the trainset : \",\n",
    "      np.sum(trainset[\"y\"])/np.sum(data[\"z\"]==\"sale\"))"
   ]
  },
  {
   "cell_type": "code",
   "execution_count": 17,
   "metadata": {},
   "outputs": [
    {
     "data": {
      "image/png": "[encoded data removed]",
      "text/plain": [
       "<Figure size 432x288 with 1 Axes>"
      ]
     },
     "metadata": {
      "needs_background": "light"
     },
     "output_type": "display_data"
    },
    {
     "name": "stdout",
     "output_type": "stream",
     "text": [
      "Share of sales that are taken into account in the trainset :  0.07452711975654872\n"
     ]
    }
   ],
   "source": [
    "st_rewards.observe(data)\n",
    "st = st_rewards.features()\n",
    "# st.to_csv(\"data/data_clicked.csv\")\n",
    "\n",
    "trainset = st\n",
    "\n",
    "plt.hist(trainset[\"y\"], bins = np.array(sorted(list(trainset[\"y\"].unique())+[max(trainset[\"y\"])+1]))-0.5)\n",
    "plt.title(\"Sale with no click as negative\")\n",
    "plt.show()\n",
    "print(\"Share of sales that are taken into account in the trainset : \",\n",
    "      np.sum(trainset[\"y\"])/np.sum((data[\"z\"]==\"sale\")))"
   ]
  },
  {
   "cell_type": "markdown",
   "metadata": {},
   "source": [
    "#### (5) Cumulative reward provider (product-specific)\n",
    "Attribute a reward if the product was sold later at one point during the user session\n",
    "\n",
    "In case of several recommendations for the same product, attribute it to the last time it was recommended.\n",
    "Thus, for each user : look at every sale, find the last time it was recommended (if any), and give reward"
   ]
  },
  {
   "cell_type": "code",
   "execution_count": 18,
   "metadata": {},
   "outputs": [],
   "source": [
    "from recogym.agents.sale_agent import CumulativeRewardProvider\n",
    "cum_rewards = CumulativeRewardProvider()\n",
    "cum_rewards_all = CumulativeRewardProvider(clicks_only=False)"
   ]
  },
  {
   "cell_type": "code",
   "execution_count": 19,
   "metadata": {
    "scrolled": true
   },
   "outputs": [
    {
     "data": {
      "image/png": "[encoded data removed]",
      "text/plain": [
       "<Figure size 432x288 with 1 Axes>"
      ]
     },
     "metadata": {
      "needs_background": "light"
     },
     "output_type": "display_data"
    },
    {
     "name": "stdout",
     "output_type": "stream",
     "text": [
      "Share of sales that are taken into account in the trainset :  0.121307953935199\n"
     ]
    }
   ],
   "source": [
    "cum_rewards_all.observe(data)\n",
    "cum_all = cum_rewards_all.features()\n",
    "\n",
    "trainset = cum_all\n",
    "\n",
    "plt.hist(trainset[\"y\"], bins = np.array(sorted(list(trainset[\"y\"].unique())+[max(trainset[\"y\"])+1]))-0.5)\n",
    "plt.title(\"All non sale as negative\")\n",
    "plt.show()\n",
    "print(\"Share of sales that are taken into account in the trainset : \",\n",
    "      np.sum(trainset[\"y\"])/np.sum(data[\"z\"]==\"sale\"))"
   ]
  },
  {
   "cell_type": "code",
   "execution_count": 20,
   "metadata": {},
   "outputs": [
    {
     "data": {
      "image/png": "[encoded data removed]",
      "text/plain": [
       "<Figure size 432x288 with 1 Axes>"
      ]
     },
     "metadata": {
      "needs_background": "light"
     },
     "output_type": "display_data"
    },
    {
     "name": "stdout",
     "output_type": "stream",
     "text": [
      "Share of sales that are taken into account in the trainset :  0.121307953935199\n"
     ]
    }
   ],
   "source": [
    "cum_rewards.observe(data)\n",
    "cum = cum_rewards.features()\n",
    "trainset = cum\n",
    "\n",
    "plt.hist(trainset[\"y\"], bins = np.array(sorted(list(trainset[\"y\"].unique())+[max(trainset[\"y\"])+1]))-0.5)\n",
    "plt.title(\"Sale with no click as negative\")\n",
    "plt.show()\n",
    "print(\"Share of sales that are taken into account in the trainset : \",\n",
    "      np.sum(trainset[\"y\"])/np.sum((data[\"z\"]==\"sale\")))"
   ]
  },
  {
   "cell_type": "code",
   "execution_count": null,
   "metadata": {},
   "outputs": [],
   "source": []
  }
 ],
 "metadata": {
  "kernelspec": {
   "display_name": "Python 3",
   "language": "python",
   "name": "python3"
  },
  "language_info": {
   "codemirror_mode": {
    "name": "ipython",
    "version": 3
   },
   "file_extension": ".py",
   "mimetype": "text/x-python",
   "name": "python",
   "nbconvert_exporter": "python",
   "pygments_lexer": "ipython3",
   "version": "3.7.4"
  }
 },
 "nbformat": 4,
 "nbformat_minor": 2
}
