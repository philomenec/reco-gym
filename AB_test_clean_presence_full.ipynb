{
 "cells": [
  {
   "cell_type": "markdown",
   "metadata": {},
   "source": [
    "# Training and A/B test for Conversion agents - <font color='blue'> Presence</font> of sale"
   ]
  },
  {
   "cell_type": "code",
   "execution_count": 16,
   "metadata": {},
   "outputs": [
    {
     "name": "stdout",
     "output_type": "stream",
     "text": [
      "Number of products = 10\n",
      "Number of flips = 10\n",
      "Value of kappa = 0.2\n"
     ]
    }
   ],
   "source": [
    "import gym, recogym\n",
    "import matplotlib.pyplot as plt\n",
    "from copy import deepcopy\n",
    "import numpy as np\n",
    "import pandas as pd\n",
    "import pickle as pkl\n",
    "pd.options.mode.chained_assignment = None \n",
    "# from inspect import getsource\n",
    "from recogym.evaluate_agent_sale import verify_agents_sale, display_metrics, verify_agents_sale_extended \n",
    "from tqdm import tqdm\n",
    "\n",
    "# env_1_sale_args is a dictionary of default parameters (i.e. number of products)\n",
    "from recogym import env_1_sale_args, Configuration\n",
    "from recogym.agents.sale_agent import train_agents, train_timeagents\n",
    "from recogym.envs.utils_sale import format_avg_result, avg_result, format_avg_result_extended, avg_result_extended\n",
    "\n",
    "\n",
    "# You can overwrite environment arguments here:\n",
    "env_1_sale_args['random_seed'] = 0\n",
    "env_1_sale_args['num_products'] = 10\n",
    "env_1_sale_args['number_of_flips'] = 10 \n",
    "\n",
    "num_products = env_1_sale_args['num_products']\n",
    "print('Number of products =',num_products)\n",
    "print('Number of flips =',env_1_sale_args['number_of_flips'])\n",
    "nb_flips = env_1_sale_args['number_of_flips']\n",
    "\n",
    "# You can overwrite environment arguments here:\n",
    "env_1_sale_args['random_seed'] = 42\n",
    "env_1_sale_args['mu_sale'] = False \n",
    "\n",
    "# env_1_sale_args['kappa'] = 0.5\n",
    "print('Value of kappa =',env_1_sale_args['kappa'])\n",
    "\n",
    "# Initialize the gym \n",
    "env = gym.make('reco-gym-sale-v1')\n",
    "env.init_gym(env_1_sale_args)\n",
    "\n"
   ]
  },
  {
   "cell_type": "code",
   "execution_count": 17,
   "metadata": {},
   "outputs": [],
   "source": [
    "# Repository to save pickles\n",
    "data_repo = 'data_conversion/'"
   ]
  },
  {
   "cell_type": "markdown",
   "metadata": {},
   "source": [
    "## Train baseline agents"
   ]
  },
  {
   "cell_type": "markdown",
   "metadata": {},
   "source": [
    "#### Settings"
   ]
  },
  {
   "cell_type": "code",
   "execution_count": 18,
   "metadata": {},
   "outputs": [],
   "source": [
    "## Choose number of users for training and AB test\n",
    "# Number of users for the training\n",
    "# env_1_sale_args['num_users'] = 6 ##tochange !!\n",
    "env_1_sale_args['num_users'] = 5000\n",
    "num_users = env_1_sale_args['num_users']\n",
    "\n",
    "# Number of users for the A/B test\n",
    "# env_1_sale_args['num_users_AB'] = 7 ##tochange !!\n",
    "env_1_sale_args['num_users_AB'] = 5000\n",
    "num_users_AB = env_1_sale_args['num_users_AB']\n",
    "\n",
    "# Choose user features\n",
    "from recogym.agents.sale_agent import CountViewsClicksFeatureProvider, CountViewsFeatureProvider, ShareViewsClicksFeatureProvider, ShareViewsFeatureProvider\n",
    "vc_feature = CountViewsClicksFeatureProvider(env.config)\n",
    "v_feature = CountViewsFeatureProvider(env.config)\n",
    "vc_share_feature = ShareViewsClicksFeatureProvider(env.config)\n",
    "v_share_feature = ShareViewsFeatureProvider(env.config)\n",
    "features = {'vc':vc_feature,\n",
    "           'v':v_feature,\n",
    "           'vc_share':vc_share_feature,\n",
    "           'v_share':v_share_feature}\n",
    "feature_name = 'v_share'\n",
    "feature = features[feature_name]"
   ]
  },
  {
   "cell_type": "markdown",
   "metadata": {},
   "source": [
    "#### <font color='red'> Number of A/B tests</font>"
   ]
  },
  {
   "cell_type": "code",
   "execution_count": 19,
   "metadata": {},
   "outputs": [],
   "source": [
    "# # Choose number of A/B tests\n",
    "num_AB_tests = 2 ##tochange !\n",
    "# num_AB_tests = 25 ##tochange !"
   ]
  },
  {
   "cell_type": "markdown",
   "metadata": {},
   "source": [
    "#### Logs"
   ]
  },
  {
   "cell_type": "code",
   "execution_count": 20,
   "metadata": {
    "scrolled": true
   },
   "outputs": [
    {
     "name": "stdout",
     "output_type": "stream",
     "text": [
      "--- Logs loaded---\n"
     ]
    }
   ],
   "source": [
    "agents={}\n",
    "logs={}\n",
    "\n",
    "############## Random agent\n",
    "name_agent = 'rand'+str(nb_flips)\n",
    "from recogym.agents import RandomAgent, random_args\n",
    "random_agent = RandomAgent(Configuration(random_args))\n",
    "agents[name_agent] = random_agent\n",
    "\n",
    "\n",
    "try:\n",
    "    logs[name_agent] = pkl.load(open(data_repo + 'data' + str(num_users) + name_agent + '.pkl','rb'))\n",
    "    print('--- Logs loaded---')\n",
    "except: \n",
    "    print(\"--- Generate logs ---\")\n",
    "    logs[name_agent] = deepcopy(env).generate_logs(num_users)\n",
    "    print(data_repo + 'data' + str(num_users) + name_agent + '.pkl')\n",
    "    pkl.dump(logs[name_agent], open(data_repo + 'data' + str(num_users) + name_agent + '.pkl','wb'))"
   ]
  },
  {
   "cell_type": "markdown",
   "metadata": {},
   "source": [
    "#### Training for the <font color='blue'> Presence</font> of sale"
   ]
  },
  {
   "cell_type": "markdown",
   "metadata": {},
   "source": [
    "##### No weights"
   ]
  },
  {
   "cell_type": "code",
   "execution_count": 21,
   "metadata": {},
   "outputs": [
    {
     "name": "stdout",
     "output_type": "stream",
     "text": [
      "--- Trained agents loaded --- \n"
     ]
    }
   ],
   "source": [
    "name_extension = 'pres'\n",
    "name_logging = name_agent\n",
    "res_dict = {}\n",
    "try :\n",
    "    info, save_agents = pkl.load(open(data_repo+str('agents'+str(num_users)+name_logging+feature_name+name_extension+'.pkl'),'rb'))\n",
    "    print('--- Trained agents loaded --- ')\n",
    "except :\n",
    "    print('--- Train agents ---')\n",
    "    info, save_agents = train_agents(name_logging,logs,feature_name,features, num_users=num_users, \n",
    "                                     kronecker_features=True,repo = data_repo)"
   ]
  },
  {
   "cell_type": "code",
   "execution_count": 22,
   "metadata": {},
   "outputs": [
    {
     "name": "stdout",
     "output_type": "stream",
     "text": [
      "data_conversion/res_rand106_7_v_sharepres_nb0likelihood_saleclickprod_discountpres_full.pkl\n",
      "data_conversion/res_rand106_7_v_sharepres_nb1likelihood_saleclickprod_discountpres_full.pkl\n",
      "--- A/B test results loaded ---\n"
     ]
    }
   ],
   "source": [
    "try:\n",
    "    for i in range(num_AB_tests):\n",
    "        name_extension = 'pres'+'_nb'+str(i)\n",
    "        name = 'likelihood_saleclickprod_discountpres_full'\n",
    "        agent_id = name_logging+str(num_users)+\"_\"+str(num_users_AB)+\"_\"+feature_name+name_extension\n",
    "        print(str(data_repo) +'res_'+agent_id+name+'.pkl')\n",
    "        r = pkl.load(open(str(data_repo) +'res_'+agent_id+name+'.pkl',\"rb\"))\n",
    "        for k in r.keys():\n",
    "            if k not in ['CTR', 'Tot sales ATT', 'Share user with sale ATT', 'Tot sales', 'Share user with sale',\n",
    "                         'True CTR','True PCS','True OS','True NCS']:\n",
    "                r[k] = None\n",
    "\n",
    "        res_dict[name_logging+str(num_users)+\"_\"+str(num_users_AB)+\"_\"+feature_name+name_extension] = r\n",
    "    print('--- A/B test results loaded ---')\n",
    "    \n",
    "except:\n",
    "    print(' --- Run A/B test --- ')\n",
    "    for i in range(num_AB_tests):\n",
    "        print(\"-------------- A/B test n°\"+str(i)+'--------------')\n",
    "        name_extension = 'pres'+'_nb'+str(i)\n",
    "        res=verify_agents_sale_extended(\n",
    "            env,\n",
    "            number_of_users=num_users_AB,\n",
    "            agents={\n",
    "                **agents, \n",
    "                **save_agents},\n",
    "            name = name_logging+str(num_users)+\"_\"+str(num_users_AB)+\"_\"+feature_name+name_extension,\n",
    "            seed = 0,\n",
    "            same_env = False,\n",
    "            repo = data_repo\n",
    "        )\n",
    "\n",
    "        r = deepcopy(res)\n",
    "        for k in r.keys():\n",
    "            if k not in ['CTR', 'Tot sales ATT', 'Share user with sale ATT', 'Tot sales', 'Share user with sale',\n",
    "                         'True CTR','True PCS','True OS','True NCS']:\n",
    "                r[k] = None\n",
    "\n",
    "        res_dict[name_logging+str(num_users)+\"_\"+str(num_users_AB)+\"_\"+feature_name+name_extension] = r"
   ]
  },
  {
   "cell_type": "code",
   "execution_count": 23,
   "metadata": {},
   "outputs": [
    {
     "name": "stdout",
     "output_type": "stream",
     "text": [
      "-- A/B test --\n"
     ]
    },
    {
     "data": {
      "text/html": [
       "<div>\n",
       "<style scoped>\n",
       "    .dataframe tbody tr th:only-of-type {\n",
       "        vertical-align: middle;\n",
       "    }\n",
       "\n",
       "    .dataframe tbody tr th {\n",
       "        vertical-align: top;\n",
       "    }\n",
       "\n",
       "    .dataframe thead th {\n",
       "        text-align: right;\n",
       "    }\n",
       "</style>\n",
       "<table border=\"1\" class=\"dataframe\">\n",
       "  <thead>\n",
       "    <tr style=\"text-align: right;\">\n",
       "      <th></th>\n",
       "      <th>Agent</th>\n",
       "      <th>CTR</th>\n",
       "      <th>Att Sales</th>\n",
       "      <th>Att CR</th>\n",
       "      <th>Sales</th>\n",
       "      <th>CR</th>\n",
       "    </tr>\n",
       "  </thead>\n",
       "  <tbody>\n",
       "    <tr>\n",
       "      <th>0</th>\n",
       "      <td>Rand</td>\n",
       "      <td>0.881 (0.517) %</td>\n",
       "      <td>1 (0)</td>\n",
       "      <td>16.03 (0.00) %</td>\n",
       "      <td>5 (2)</td>\n",
       "      <td>27.99 (8.46) %</td>\n",
       "    </tr>\n",
       "    <tr>\n",
       "      <th>1</th>\n",
       "      <td>Click</td>\n",
       "      <td>0.854 (0.374) %</td>\n",
       "      <td>1 (0)</td>\n",
       "      <td>19.02 (4.23) %</td>\n",
       "      <td>5 (0)</td>\n",
       "      <td>25.00 (4.23) %</td>\n",
       "    </tr>\n",
       "    <tr>\n",
       "      <th>2</th>\n",
       "      <td>PDS</td>\n",
       "      <td>0.710 (0.444) %</td>\n",
       "      <td>1 (0)</td>\n",
       "      <td>16.03 (0.00) %</td>\n",
       "      <td>7 (1)</td>\n",
       "      <td>33.97 (8.45) %</td>\n",
       "    </tr>\n",
       "    <tr>\n",
       "      <th>3</th>\n",
       "      <td>PCS</td>\n",
       "      <td>0.653 (0.281) %</td>\n",
       "      <td>0 (0)</td>\n",
       "      <td>10.09 (8.40) %</td>\n",
       "      <td>3 (4)</td>\n",
       "      <td>22.02 (16.91) %</td>\n",
       "    </tr>\n",
       "    <tr>\n",
       "      <th>4</th>\n",
       "      <td>DPCS</td>\n",
       "      <td>0.895 (0.077) %</td>\n",
       "      <td>1 (1)</td>\n",
       "      <td>16.03 (8.45) %</td>\n",
       "      <td>6 (8)</td>\n",
       "      <td>25.00 (12.69) %</td>\n",
       "    </tr>\n",
       "  </tbody>\n",
       "</table>\n",
       "</div>"
      ],
      "text/plain": [
       "   Agent              CTR Att Sales          Att CR  Sales               CR\n",
       "0   Rand  0.881 (0.517) %     1 (0)  16.03 (0.00) %  5 (2)   27.99 (8.46) %\n",
       "1  Click  0.854 (0.374) %     1 (0)  19.02 (4.23) %  5 (0)   25.00 (4.23) %\n",
       "2    PDS  0.710 (0.444) %     1 (0)  16.03 (0.00) %  7 (1)   33.97 (8.45) %\n",
       "3    PCS  0.653 (0.281) %     0 (0)  10.09 (8.40) %  3 (4)  22.02 (16.91) %\n",
       "4   DPCS  0.895 (0.077) %     1 (1)  16.03 (8.45) %  6 (8)  25.00 (12.69) %"
      ]
     },
     "metadata": {},
     "output_type": "display_data"
    },
    {
     "name": "stdout",
     "output_type": "stream",
     "text": [
      "-- True metrics --\n"
     ]
    },
    {
     "data": {
      "text/html": [
       "<div>\n",
       "<style scoped>\n",
       "    .dataframe tbody tr th:only-of-type {\n",
       "        vertical-align: middle;\n",
       "    }\n",
       "\n",
       "    .dataframe tbody tr th {\n",
       "        vertical-align: top;\n",
       "    }\n",
       "\n",
       "    .dataframe thead th {\n",
       "        text-align: right;\n",
       "    }\n",
       "</style>\n",
       "<table border=\"1\" class=\"dataframe\">\n",
       "  <thead>\n",
       "    <tr style=\"text-align: right;\">\n",
       "      <th></th>\n",
       "      <th>Agent</th>\n",
       "      <th>True CTR</th>\n",
       "      <th>True PCS</th>\n",
       "      <th>True OS</th>\n",
       "      <th>True NCS</th>\n",
       "      <th>NDPC</th>\n",
       "      <th>DPCSO</th>\n",
       "      <th>DPCSN</th>\n",
       "    </tr>\n",
       "  </thead>\n",
       "  <tbody>\n",
       "    <tr>\n",
       "      <th>0</th>\n",
       "      <td>Rand</td>\n",
       "      <td>0.610 (0.089) %</td>\n",
       "      <td>4.29 (0.43) %</td>\n",
       "      <td>2.68 (0.72) %</td>\n",
       "      <td>3.26 (0.40) %</td>\n",
       "      <td>0.519 (0.024) pm</td>\n",
       "      <td>0.200 (0.064) pm</td>\n",
       "      <td>0.126 (0.014) pm</td>\n",
       "    </tr>\n",
       "    <tr>\n",
       "      <th>1</th>\n",
       "      <td>Click</td>\n",
       "      <td>0.712 (0.124) %</td>\n",
       "      <td>5.66 (0.92) %</td>\n",
       "      <td>4.14 (2.04) %</td>\n",
       "      <td>4.80 (1.19) %</td>\n",
       "      <td>0.795 (0.010) pm</td>\n",
       "      <td>0.231 (0.197) pm</td>\n",
       "      <td>0.126 (0.061) pm</td>\n",
       "    </tr>\n",
       "    <tr>\n",
       "      <th>2</th>\n",
       "      <td>PDS</td>\n",
       "      <td>0.676 (0.086) %</td>\n",
       "      <td>5.45 (0.51) %</td>\n",
       "      <td>4.27 (0.53) %</td>\n",
       "      <td>4.64 (0.50) %</td>\n",
       "      <td>0.732 (0.025) pm</td>\n",
       "      <td>0.160 (0.023) pm</td>\n",
       "      <td>0.110 (0.013) pm</td>\n",
       "    </tr>\n",
       "    <tr>\n",
       "      <th>3</th>\n",
       "      <td>PCS</td>\n",
       "      <td>0.759 (0.121) %</td>\n",
       "      <td>4.64 (1.85) %</td>\n",
       "      <td>3.16 (2.31) %</td>\n",
       "      <td>3.67 (2.28) %</td>\n",
       "      <td>0.682 (0.168) pm</td>\n",
       "      <td>0.230 (0.105) pm</td>\n",
       "      <td>0.153 (0.089) pm</td>\n",
       "    </tr>\n",
       "    <tr>\n",
       "      <th>4</th>\n",
       "      <td>DPCS</td>\n",
       "      <td>0.858 (0.040) %</td>\n",
       "      <td>4.96 (1.07) %</td>\n",
       "      <td>3.31 (1.18) %</td>\n",
       "      <td>4.23 (0.94) %</td>\n",
       "      <td>0.856 (0.223) pm</td>\n",
       "      <td>0.284 (0.006) pm</td>\n",
       "      <td>0.127 (0.028) pm</td>\n",
       "    </tr>\n",
       "  </tbody>\n",
       "</table>\n",
       "</div>"
      ],
      "text/plain": [
       "   Agent         True CTR       True PCS        True OS       True NCS  \\\n",
       "0   Rand  0.610 (0.089) %  4.29 (0.43) %  2.68 (0.72) %  3.26 (0.40) %   \n",
       "1  Click  0.712 (0.124) %  5.66 (0.92) %  4.14 (2.04) %  4.80 (1.19) %   \n",
       "2    PDS  0.676 (0.086) %  5.45 (0.51) %  4.27 (0.53) %  4.64 (0.50) %   \n",
       "3    PCS  0.759 (0.121) %  4.64 (1.85) %  3.16 (2.31) %  3.67 (2.28) %   \n",
       "4   DPCS  0.858 (0.040) %  4.96 (1.07) %  3.31 (1.18) %  4.23 (0.94) %   \n",
       "\n",
       "               NDPC             DPCSO             DPCSN  \n",
       "0  0.519 (0.024) pm  0.200 (0.064) pm  0.126 (0.014) pm  \n",
       "1  0.795 (0.010) pm  0.231 (0.197) pm  0.126 (0.061) pm  \n",
       "2  0.732 (0.025) pm  0.160 (0.023) pm  0.110 (0.013) pm  \n",
       "3  0.682 (0.168) pm  0.230 (0.105) pm  0.153 (0.089) pm  \n",
       "4  0.856 (0.223) pm  0.284 (0.006) pm  0.127 (0.028) pm  "
      ]
     },
     "metadata": {},
     "output_type": "display_data"
    }
   ],
   "source": [
    "res_avg = avg_result_extended(res_dict)\n",
    "(res_recap, res_recap_latex, \n",
    " res_AB, res_AB_latex, \n",
    " res_true, res_true_latex) = format_avg_result_extended(res_avg) #get dataframe & corresponding latex table"
   ]
  },
  {
   "cell_type": "code",
   "execution_count": 24,
   "metadata": {},
   "outputs": [
    {
     "name": "stdout",
     "output_type": "stream",
     "text": [
      "\\begin{tabular}{llllll}\n",
      "\\toprule\n",
      " Agent &              CTR & Att Sales &          Att CR &  Sales &               CR \\\\\n",
      "\\midrule\n",
      "  Rand &  0.881 (0.517) \\% &     1 (0) &  16.03 (0.00) \\% &  5 (2) &   27.99 (8.46) \\% \\\\\n",
      " Click &  0.854 (0.374) \\% &     1 (0) &  19.02 (4.23) \\% &  5 (0) &   25.00 (4.23) \\% \\\\\n",
      "   PDS &  0.710 (0.444) \\% &     1 (0) &  16.03 (0.00) \\% &  7 (1) &   33.97 (8.45) \\% \\\\\n",
      "   PCS &  0.653 (0.281) \\% &     0 (0) &  10.09 (8.40) \\% &  3 (4) &  22.02 (16.91) \\% \\\\\n",
      "  DPCS &  0.895 (0.077) \\% &     1 (1) &  16.03 (8.45) \\% &  6 (8) &  25.00 (12.69) \\% \\\\\n",
      "\\bottomrule\n",
      "\\end{tabular}\n",
      "\n",
      "\n",
      "\\begin{tabular}{llllllll}\n",
      "\\toprule\n",
      " Agent &         True CTR &       True PCS &        True OS &       True NCS &              NDPC &             DPCSO &             DPCSN \\\\\n",
      "\\midrule\n",
      "  Rand &  0.610 (0.089) \\% &  4.29 (0.43) \\% &  2.68 (0.72) \\% &  3.26 (0.40) \\% &  0.519 (0.024) pm &  0.200 (0.064) pm &  0.126 (0.014) pm \\\\\n",
      " Click &  0.712 (0.124) \\% &  5.66 (0.92) \\% &  4.14 (2.04) \\% &  4.80 (1.19) \\% &  0.795 (0.010) pm &  0.231 (0.197) pm &  0.126 (0.061) pm \\\\\n",
      "   PDS &  0.676 (0.086) \\% &  5.45 (0.51) \\% &  4.27 (0.53) \\% &  4.64 (0.50) \\% &  0.732 (0.025) pm &  0.160 (0.023) pm &  0.110 (0.013) pm \\\\\n",
      "   PCS &  0.759 (0.121) \\% &  4.64 (1.85) \\% &  3.16 (2.31) \\% &  3.67 (2.28) \\% &  0.682 (0.168) pm &  0.230 (0.105) pm &  0.153 (0.089) pm \\\\\n",
      "  DPCS &  0.858 (0.040) \\% &  4.96 (1.07) \\% &  3.31 (1.18) \\% &  4.23 (0.94) \\% &  0.856 (0.223) pm &  0.284 (0.006) pm &  0.127 (0.028) pm \\\\\n",
      "\\bottomrule\n",
      "\\end{tabular}\n",
      "\n"
     ]
    }
   ],
   "source": [
    "print(res_AB_latex+'\\n')\n",
    "print(res_true_latex)"
   ]
  },
  {
   "cell_type": "markdown",
   "metadata": {},
   "source": [
    "##### Weights"
   ]
  },
  {
   "cell_type": "code",
   "execution_count": 25,
   "metadata": {},
   "outputs": [
    {
     "name": "stdout",
     "output_type": "stream",
     "text": [
      "--- Trained agents loaded --- \n"
     ]
    }
   ],
   "source": [
    "name_extension = 'presweights'\n",
    "name_logging = name_agent\n",
    "res_dict = {}\n",
    "try :\n",
    "    info, save_agents = pkl.load(open(data_repo+str('agents'+str(num_users)+name_logging+feature_name+name_extension+'.pkl'),'rb'))\n",
    "    print('--- Trained agents loaded --- ')\n",
    "except :\n",
    "    print('--- Train agents ---')\n",
    "    info, save_agents = train_agents(name_logging,logs,feature_name,features, num_users=num_users, \n",
    "                                     kronecker_features=True,weights = True, repo = data_repo)"
   ]
  },
  {
   "cell_type": "code",
   "execution_count": 26,
   "metadata": {},
   "outputs": [
    {
     "name": "stdout",
     "output_type": "stream",
     "text": [
      "--- A/B test results loaded ---\n"
     ]
    }
   ],
   "source": [
    "try:\n",
    "    for i in range(num_AB_tests):\n",
    "        name_extension = 'presweights'+'_nb'+str(i)\n",
    "        name = 'likelihood_saleclickprod_discountpresweights_full'\n",
    "        agent_id = name_logging+str(num_users)+\"_\"+str(num_users_AB)+\"_\"+feature_name+name_extension\n",
    "        r = pkl.load(open(str(data_repo) +'res_'+agent_id+name+'.pkl',\"rb\"))\n",
    "        for k in r.keys():\n",
    "            if k not in ['CTR', 'Tot sales ATT', 'Share user with sale ATT', 'Tot sales', 'Share user with sale',\n",
    "                         'True CTR','True PCS','True OS','True NCS']:\n",
    "                r[k] = None\n",
    "\n",
    "        res_dict[name_logging+str(num_users)+\"_\"+str(num_users_AB)+\"_\"+feature_name+name_extension] = r\n",
    "    print('--- A/B test results loaded ---')\n",
    "    \n",
    "except:\n",
    "    print(' --- Run A/B test --- ')\n",
    "    for i in range(num_AB_tests):\n",
    "        print(\"-------------- A/B test n°\"+str(i)+'--------------')\n",
    "        name_extension = 'presweights'+'_nb'+str(i)\n",
    "        res=verify_agents_sale_extended(\n",
    "            env,\n",
    "            number_of_users=num_users_AB,\n",
    "            agents={\n",
    "                **agents, \n",
    "                **save_agents},\n",
    "            name = name_logging+str(num_users)+\"_\"+str(num_users_AB)+\"_\"+feature_name+name_extension,\n",
    "            seed = 0,\n",
    "            same_env = False,\n",
    "            repo = data_repo\n",
    "        )\n",
    "\n",
    "        r = deepcopy(res)\n",
    "        for k in r.keys():\n",
    "            if k not in ['CTR', 'Tot sales ATT', 'Share user with sale ATT', 'Tot sales', 'Share user with sale',\n",
    "                         'True CTR','True PCS','True OS','True NCS']:\n",
    "                r[k] = None\n",
    "\n",
    "        res_dict[name_logging+str(num_users)+\"_\"+str(num_users_AB)+\"_\"+feature_name+name_extension] = r"
   ]
  },
  {
   "cell_type": "code",
   "execution_count": 27,
   "metadata": {},
   "outputs": [
    {
     "name": "stdout",
     "output_type": "stream",
     "text": [
      "-- A/B test --\n"
     ]
    },
    {
     "data": {
      "text/html": [
       "<div>\n",
       "<style scoped>\n",
       "    .dataframe tbody tr th:only-of-type {\n",
       "        vertical-align: middle;\n",
       "    }\n",
       "\n",
       "    .dataframe tbody tr th {\n",
       "        vertical-align: top;\n",
       "    }\n",
       "\n",
       "    .dataframe thead th {\n",
       "        text-align: right;\n",
       "    }\n",
       "</style>\n",
       "<table border=\"1\" class=\"dataframe\">\n",
       "  <thead>\n",
       "    <tr style=\"text-align: right;\">\n",
       "      <th></th>\n",
       "      <th>Agent</th>\n",
       "      <th>CTR</th>\n",
       "      <th>Att Sales</th>\n",
       "      <th>Att CR</th>\n",
       "      <th>Sales</th>\n",
       "      <th>CR</th>\n",
       "    </tr>\n",
       "  </thead>\n",
       "  <tbody>\n",
       "    <tr>\n",
       "      <th>0</th>\n",
       "      <td>Rand</td>\n",
       "      <td>0.297 (0.034) %</td>\n",
       "      <td>0 (1)</td>\n",
       "      <td>10.09 (8.40) %</td>\n",
       "      <td>6 (8)</td>\n",
       "      <td>19.06 (21.09) %</td>\n",
       "    </tr>\n",
       "    <tr>\n",
       "      <th>1</th>\n",
       "      <td>Click</td>\n",
       "      <td>0.420 (0.133) %</td>\n",
       "      <td>0 (1)</td>\n",
       "      <td>10.09 (8.40) %</td>\n",
       "      <td>8 (6)</td>\n",
       "      <td>25.00 (4.23) %</td>\n",
       "    </tr>\n",
       "    <tr>\n",
       "      <th>2</th>\n",
       "      <td>PDS</td>\n",
       "      <td>0.611 (0.080) %</td>\n",
       "      <td>0 (0)</td>\n",
       "      <td>13.04 (4.22) %</td>\n",
       "      <td>9 (0)</td>\n",
       "      <td>39.94 (0.00) %</td>\n",
       "    </tr>\n",
       "    <tr>\n",
       "      <th>3</th>\n",
       "      <td>PCS</td>\n",
       "      <td>0.501 (0.386) %</td>\n",
       "      <td>1 (1)</td>\n",
       "      <td>13.08 (12.63) %</td>\n",
       "      <td>7 (5)</td>\n",
       "      <td>27.98 (16.91) %</td>\n",
       "    </tr>\n",
       "    <tr>\n",
       "      <th>4</th>\n",
       "      <td>DPCS</td>\n",
       "      <td>0.820 (0.235) %</td>\n",
       "      <td>1 (0)</td>\n",
       "      <td>10.06 (0.00) %</td>\n",
       "      <td>9 (0)</td>\n",
       "      <td>27.99 (0.00) %</td>\n",
       "    </tr>\n",
       "  </tbody>\n",
       "</table>\n",
       "</div>"
      ],
      "text/plain": [
       "   Agent              CTR Att Sales           Att CR  Sales               CR\n",
       "0   Rand  0.297 (0.034) %     0 (1)   10.09 (8.40) %  6 (8)  19.06 (21.09) %\n",
       "1  Click  0.420 (0.133) %     0 (1)   10.09 (8.40) %  8 (6)   25.00 (4.23) %\n",
       "2    PDS  0.611 (0.080) %     0 (0)   13.04 (4.22) %  9 (0)   39.94 (0.00) %\n",
       "3    PCS  0.501 (0.386) %     1 (1)  13.08 (12.63) %  7 (5)  27.98 (16.91) %\n",
       "4   DPCS  0.820 (0.235) %     1 (0)   10.06 (0.00) %  9 (0)   27.99 (0.00) %"
      ]
     },
     "metadata": {},
     "output_type": "display_data"
    },
    {
     "name": "stdout",
     "output_type": "stream",
     "text": [
      "-- True metrics --\n"
     ]
    },
    {
     "data": {
      "text/html": [
       "<div>\n",
       "<style scoped>\n",
       "    .dataframe tbody tr th:only-of-type {\n",
       "        vertical-align: middle;\n",
       "    }\n",
       "\n",
       "    .dataframe tbody tr th {\n",
       "        vertical-align: top;\n",
       "    }\n",
       "\n",
       "    .dataframe thead th {\n",
       "        text-align: right;\n",
       "    }\n",
       "</style>\n",
       "<table border=\"1\" class=\"dataframe\">\n",
       "  <thead>\n",
       "    <tr style=\"text-align: right;\">\n",
       "      <th></th>\n",
       "      <th>Agent</th>\n",
       "      <th>True CTR</th>\n",
       "      <th>True PCS</th>\n",
       "      <th>True OS</th>\n",
       "      <th>True NCS</th>\n",
       "      <th>NDPC</th>\n",
       "      <th>DPCSO</th>\n",
       "      <th>DPCSN</th>\n",
       "    </tr>\n",
       "  </thead>\n",
       "  <tbody>\n",
       "    <tr>\n",
       "      <th>0</th>\n",
       "      <td>Rand</td>\n",
       "      <td>0.576 (0.037) %</td>\n",
       "      <td>4.63 (0.53) %</td>\n",
       "      <td>3.23 (0.12) %</td>\n",
       "      <td>3.61 (0.50) %</td>\n",
       "      <td>0.531 (0.027) pm</td>\n",
       "      <td>0.159 (0.037) pm</td>\n",
       "      <td>0.117 (0.004) pm</td>\n",
       "    </tr>\n",
       "    <tr>\n",
       "      <th>1</th>\n",
       "      <td>Click</td>\n",
       "      <td>0.530 (0.035) %</td>\n",
       "      <td>5.72 (1.61) %</td>\n",
       "      <td>4.77 (1.56) %</td>\n",
       "      <td>5.08 (2.26) %</td>\n",
       "      <td>0.601 (0.131) pm</td>\n",
       "      <td>0.100 (0.001) pm</td>\n",
       "      <td>0.070 (0.073) pm</td>\n",
       "    </tr>\n",
       "    <tr>\n",
       "      <th>2</th>\n",
       "      <td>PDS</td>\n",
       "      <td>0.556 (0.011) %</td>\n",
       "      <td>5.17 (1.38) %</td>\n",
       "      <td>3.85 (1.48) %</td>\n",
       "      <td>4.41 (1.98) %</td>\n",
       "      <td>0.574 (0.143) pm</td>\n",
       "      <td>0.146 (0.014) pm</td>\n",
       "      <td>0.086 (0.068) pm</td>\n",
       "    </tr>\n",
       "    <tr>\n",
       "      <th>3</th>\n",
       "      <td>PCS</td>\n",
       "      <td>0.685 (0.153) %</td>\n",
       "      <td>5.50 (1.30) %</td>\n",
       "      <td>4.23 (2.26) %</td>\n",
       "      <td>4.69 (1.65) %</td>\n",
       "      <td>0.734 (0.010) pm</td>\n",
       "      <td>0.189 (0.170) pm</td>\n",
       "      <td>0.117 (0.072) pm</td>\n",
       "    </tr>\n",
       "    <tr>\n",
       "      <th>4</th>\n",
       "      <td>DPCS</td>\n",
       "      <td>0.654 (0.042) %</td>\n",
       "      <td>6.32 (0.57) %</td>\n",
       "      <td>5.62 (0.80) %</td>\n",
       "      <td>5.96 (0.53) %</td>\n",
       "      <td>0.825 (0.021) pm</td>\n",
       "      <td>0.094 (0.037) pm</td>\n",
       "      <td>0.048 (0.002) pm</td>\n",
       "    </tr>\n",
       "  </tbody>\n",
       "</table>\n",
       "</div>"
      ],
      "text/plain": [
       "   Agent         True CTR       True PCS        True OS       True NCS  \\\n",
       "0   Rand  0.576 (0.037) %  4.63 (0.53) %  3.23 (0.12) %  3.61 (0.50) %   \n",
       "1  Click  0.530 (0.035) %  5.72 (1.61) %  4.77 (1.56) %  5.08 (2.26) %   \n",
       "2    PDS  0.556 (0.011) %  5.17 (1.38) %  3.85 (1.48) %  4.41 (1.98) %   \n",
       "3    PCS  0.685 (0.153) %  5.50 (1.30) %  4.23 (2.26) %  4.69 (1.65) %   \n",
       "4   DPCS  0.654 (0.042) %  6.32 (0.57) %  5.62 (0.80) %  5.96 (0.53) %   \n",
       "\n",
       "               NDPC             DPCSO             DPCSN  \n",
       "0  0.531 (0.027) pm  0.159 (0.037) pm  0.117 (0.004) pm  \n",
       "1  0.601 (0.131) pm  0.100 (0.001) pm  0.070 (0.073) pm  \n",
       "2  0.574 (0.143) pm  0.146 (0.014) pm  0.086 (0.068) pm  \n",
       "3  0.734 (0.010) pm  0.189 (0.170) pm  0.117 (0.072) pm  \n",
       "4  0.825 (0.021) pm  0.094 (0.037) pm  0.048 (0.002) pm  "
      ]
     },
     "metadata": {},
     "output_type": "display_data"
    }
   ],
   "source": [
    "res_avg = avg_result_extended(res_dict)\n",
    "(res_recap, res_recap_latex, \n",
    " res_AB, res_AB_latex, \n",
    " res_true, res_true_latex) = format_avg_result_extended(res_avg) #get dataframe & corresponding latex table"
   ]
  },
  {
   "cell_type": "code",
   "execution_count": 28,
   "metadata": {},
   "outputs": [
    {
     "name": "stdout",
     "output_type": "stream",
     "text": [
      "\\begin{tabular}{llllll}\n",
      "\\toprule\n",
      " Agent &              CTR & Att Sales &           Att CR &  Sales &               CR \\\\\n",
      "\\midrule\n",
      "  Rand &  0.297 (0.034) \\% &     0 (1) &   10.09 (8.40) \\% &  6 (8) &  19.06 (21.09) \\% \\\\\n",
      " Click &  0.420 (0.133) \\% &     0 (1) &   10.09 (8.40) \\% &  8 (6) &   25.00 (4.23) \\% \\\\\n",
      "   PDS &  0.611 (0.080) \\% &     0 (0) &   13.04 (4.22) \\% &  9 (0) &   39.94 (0.00) \\% \\\\\n",
      "   PCS &  0.501 (0.386) \\% &     1 (1) &  13.08 (12.63) \\% &  7 (5) &  27.98 (16.91) \\% \\\\\n",
      "  DPCS &  0.820 (0.235) \\% &     1 (0) &   10.06 (0.00) \\% &  9 (0) &   27.99 (0.00) \\% \\\\\n",
      "\\bottomrule\n",
      "\\end{tabular}\n",
      "\n",
      "\n",
      "\\begin{tabular}{llllllll}\n",
      "\\toprule\n",
      " Agent &         True CTR &       True PCS &        True OS &       True NCS &              NDPC &             DPCSO &             DPCSN \\\\\n",
      "\\midrule\n",
      "  Rand &  0.576 (0.037) \\% &  4.63 (0.53) \\% &  3.23 (0.12) \\% &  3.61 (0.50) \\% &  0.531 (0.027) pm &  0.159 (0.037) pm &  0.117 (0.004) pm \\\\\n",
      " Click &  0.530 (0.035) \\% &  5.72 (1.61) \\% &  4.77 (1.56) \\% &  5.08 (2.26) \\% &  0.601 (0.131) pm &  0.100 (0.001) pm &  0.070 (0.073) pm \\\\\n",
      "   PDS &  0.556 (0.011) \\% &  5.17 (1.38) \\% &  3.85 (1.48) \\% &  4.41 (1.98) \\% &  0.574 (0.143) pm &  0.146 (0.014) pm &  0.086 (0.068) pm \\\\\n",
      "   PCS &  0.685 (0.153) \\% &  5.50 (1.30) \\% &  4.23 (2.26) \\% &  4.69 (1.65) \\% &  0.734 (0.010) pm &  0.189 (0.170) pm &  0.117 (0.072) pm \\\\\n",
      "  DPCS &  0.654 (0.042) \\% &  6.32 (0.57) \\% &  5.62 (0.80) \\% &  5.96 (0.53) \\% &  0.825 (0.021) pm &  0.094 (0.037) pm &  0.048 (0.002) pm \\\\\n",
      "\\bottomrule\n",
      "\\end{tabular}\n",
      "\n"
     ]
    }
   ],
   "source": [
    "print(res_AB_latex+'\\n')\n",
    "print(res_true_latex)"
   ]
  },
  {
   "cell_type": "code",
   "execution_count": null,
   "metadata": {},
   "outputs": [],
   "source": []
  }
 ],
 "metadata": {
  "kernelspec": {
   "display_name": "Python 3",
   "language": "python",
   "name": "python3"
  },
  "language_info": {
   "codemirror_mode": {
    "name": "ipython",
    "version": 3
   },
   "file_extension": ".py",
   "mimetype": "text/x-python",
   "name": "python",
   "nbconvert_exporter": "python",
   "pygments_lexer": "ipython3",
   "version": "3.7.4"
  }
 },
 "nbformat": 4,
 "nbformat_minor": 2
}
