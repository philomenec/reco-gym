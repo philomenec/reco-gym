{
 "cells": [
  {
   "cell_type": "markdown",
   "metadata": {},
   "source": [
    "# Training and A/B test for Conversion agents - <font color='blue'> Presence</font> of sale"
   ]
  },
  {
   "cell_type": "code",
   "execution_count": 28,
   "metadata": {},
   "outputs": [
    {
     "name": "stdout",
     "output_type": "stream",
     "text": [
      "Number of products = 10\n",
      "Number of flips = 10\n",
      "Value of kappa = 0.2\n"
     ]
    }
   ],
   "source": [
    "import gym, recogym\n",
    "import matplotlib.pyplot as plt\n",
    "from copy import deepcopy\n",
    "import numpy as np\n",
    "import pandas as pd\n",
    "import pickle as pkl\n",
    "pd.options.mode.chained_assignment = None \n",
    "# from inspect import getsource\n",
    "from recogym.evaluate_agent_sale import verify_agents_sale, display_metrics, verify_agents_sale_extended \n",
    "from tqdm import tqdm\n",
    "\n",
    "# env_1_sale_args is a dictionary of default parameters (i.e. number of products)\n",
    "from recogym import env_1_sale_args, Configuration\n",
    "from recogym.agents.sale_agent import train_agents, train_timeagents\n",
    "from recogym.envs.utils_sale import format_avg_result, avg_result, format_avg_result_extended, avg_result_extended\n",
    "\n",
    "\n",
    "# You can overwrite environment arguments here:\n",
    "env_1_sale_args['random_seed'] = 0\n",
    "env_1_sale_args['num_products'] = 10\n",
    "env_1_sale_args['number_of_flips'] = 10 \n",
    "\n",
    "num_products = env_1_sale_args['num_products']\n",
    "print('Number of products =',num_products)\n",
    "print('Number of flips =',env_1_sale_args['number_of_flips'])\n",
    "nb_flips = env_1_sale_args['number_of_flips']\n",
    "\n",
    "# You can overwrite environment arguments here:\n",
    "env_1_sale_args['random_seed'] = 42\n",
    "env_1_sale_args['mu_sale'] = False \n",
    "\n",
    "# env_1_sale_args['kappa'] = 0.5\n",
    "print('Value of kappa =',env_1_sale_args['kappa'])\n",
    "\n",
    "# Initialize the gym \n",
    "env = gym.make('reco-gym-sale-v1')\n",
    "env.init_gym(env_1_sale_args)\n",
    "\n"
   ]
  },
  {
   "cell_type": "code",
   "execution_count": 29,
   "metadata": {},
   "outputs": [],
   "source": [
    "# Repository to save pickles\n",
    "data_repo = 'data_conversion/'"
   ]
  },
  {
   "cell_type": "markdown",
   "metadata": {},
   "source": [
    "## Train baseline agents"
   ]
  },
  {
   "cell_type": "markdown",
   "metadata": {},
   "source": [
    "#### Settings"
   ]
  },
  {
   "cell_type": "code",
   "execution_count": 30,
   "metadata": {},
   "outputs": [],
   "source": [
    "## Choose number of users for training and AB test\n",
    "# Number of users for the training\n",
    "# env_1_sale_args['num_users'] = 6 ##tochange !!\n",
    "env_1_sale_args['num_users'] = 5000\n",
    "num_users = env_1_sale_args['num_users']\n",
    "\n",
    "# Number of users for the A/B test\n",
    "# env_1_sale_args['num_users_AB'] = 7 ##tochange !!\n",
    "env_1_sale_args['num_users_AB'] = 5000\n",
    "num_users_AB = env_1_sale_args['num_users_AB']\n",
    "\n",
    "# Choose user features\n",
    "from recogym.agents.sale_agent import CountViewsClicksFeatureProvider, CountViewsFeatureProvider, ShareViewsClicksFeatureProvider, ShareViewsFeatureProvider\n",
    "vc_feature = CountViewsClicksFeatureProvider(env.config)\n",
    "v_feature = CountViewsFeatureProvider(env.config)\n",
    "vc_share_feature = ShareViewsClicksFeatureProvider(env.config)\n",
    "v_share_feature = ShareViewsFeatureProvider(env.config)\n",
    "features = {'vc':vc_feature,\n",
    "           'v':v_feature,\n",
    "           'vc_share':vc_share_feature,\n",
    "           'v_share':v_share_feature}\n",
    "feature_name = 'v_share'\n",
    "feature = features[feature_name]"
   ]
  },
  {
   "cell_type": "markdown",
   "metadata": {},
   "source": [
    "#### <font color='red'> Number of A/B tests</font>"
   ]
  },
  {
   "cell_type": "code",
   "execution_count": 31,
   "metadata": {},
   "outputs": [],
   "source": [
    "# # Choose number of A/B tests\n",
    "# num_AB_tests = 2 ##tochange !\n",
    "num_AB_tests = 25 ##tochange !"
   ]
  },
  {
   "cell_type": "markdown",
   "metadata": {},
   "source": [
    "#### Logs"
   ]
  },
  {
   "cell_type": "code",
   "execution_count": 32,
   "metadata": {
    "scrolled": true
   },
   "outputs": [
    {
     "name": "stdout",
     "output_type": "stream",
     "text": [
      "--- Logs loaded---\n"
     ]
    }
   ],
   "source": [
    "agents={}\n",
    "logs={}\n",
    "\n",
    "############## Random agent\n",
    "name_agent = 'rand'+str(nb_flips)\n",
    "from recogym.agents import RandomAgent, random_args\n",
    "random_agent = RandomAgent(Configuration(random_args))\n",
    "agents[name_agent] = random_agent\n",
    "\n",
    "\n",
    "try:\n",
    "    logs[name_agent] = pkl.load(open(data_repo + 'data' + str(num_users) + name_agent + '.pkl','rb'))\n",
    "    print('--- Logs loaded---')\n",
    "except: \n",
    "    print(\"--- Generate logs ---\")\n",
    "    logs[name_agent] = deepcopy(env).generate_logs(num_users)\n",
    "    print(data_repo + 'data' + str(num_users) + name_agent + '.pkl')\n",
    "    pkl.dump(logs[name_agent], open(data_repo + 'data' + str(num_users) + name_agent + '.pkl','wb'))"
   ]
  },
  {
   "cell_type": "markdown",
   "metadata": {},
   "source": [
    "#### Training for the <font color='blue'> Presence</font> of sale"
   ]
  },
  {
   "cell_type": "markdown",
   "metadata": {},
   "source": [
    "##### No weights"
   ]
  },
  {
   "cell_type": "code",
   "execution_count": 33,
   "metadata": {},
   "outputs": [
    {
     "name": "stdout",
     "output_type": "stream",
     "text": [
      "--- Trained agents loaded --- \n"
     ]
    }
   ],
   "source": [
    "name_extension = 'pres'\n",
    "name_logging = name_agent\n",
    "res_dict = {}\n",
    "try :\n",
    "    info, save_agents = pkl.load(open(data_repo+str('agents'+str(num_users)+name_logging+feature_name+name_extension+'.pkl'),'rb'))\n",
    "    print('--- Trained agents loaded --- ')\n",
    "except :\n",
    "    print('--- Train agents ---')\n",
    "    info, save_agents = train_agents(name_logging,logs,feature_name,features, num_users=num_users, \n",
    "                                     kronecker_features=True,repo = data_repo)"
   ]
  },
  {
   "cell_type": "code",
   "execution_count": 34,
   "metadata": {},
   "outputs": [
    {
     "name": "stdout",
     "output_type": "stream",
     "text": [
      "data_conversion/res_rand106_7_v_sharepres_nb0likelihood_saleclickprod_discountpres_full.pkl\n",
      "data_conversion/res_rand106_7_v_sharepres_nb1likelihood_saleclickprod_discountpres_full.pkl\n",
      "--- A/B test results loaded ---\n"
     ]
    }
   ],
   "source": [
    "try:\n",
    "    for i in range(num_AB_tests):\n",
    "        name_extension = 'pres'+'_nb'+str(i)\n",
    "        name = 'likelihood_saleclickprod_discountpres_full'\n",
    "        agent_id = name_logging+str(num_users)+\"_\"+str(num_users_AB)+\"_\"+feature_name+name_extension\n",
    "        print(str(data_repo) +'res_'+agent_id+name+'.pkl')\n",
    "        r = pkl.load(open(str(data_repo) +'res_'+agent_id+name+'.pkl',\"rb\"))\n",
    "        for k in r.keys():\n",
    "            if k not in ['CTR', 'Tot sales ATT', 'Share user with sale ATT', 'Tot sales', 'Share user with sale',\n",
    "                         'True CTR','True PCS','True OS','True NCS']:\n",
    "                r[k] = None\n",
    "\n",
    "        res_dict[name_logging+str(num_users)+\"_\"+str(num_users_AB)+\"_\"+feature_name+name_extension] = r\n",
    "    print('--- A/B test results loaded ---')\n",
    "    \n",
    "except:\n",
    "    print(' --- Run A/B test --- ')\n",
    "    for i in range(num_AB_tests):\n",
    "        print(\"-------------- A/B test n°\"+str(i)+'--------------')\n",
    "        name_extension = 'pres'+'_nb'+str(i)\n",
    "        res=verify_agents_sale_extended(\n",
    "            env,\n",
    "            number_of_users=num_users_AB,\n",
    "            agents={\n",
    "                **agents, \n",
    "                **save_agents},\n",
    "            name = name_logging+str(num_users)+\"_\"+str(num_users_AB)+\"_\"+feature_name+name_extension,\n",
    "            seed = 0,\n",
    "            same_env = False,\n",
    "            repo = data_repo\n",
    "        )\n",
    "\n",
    "        r = deepcopy(res)\n",
    "        for k in r.keys():\n",
    "            if k not in ['CTR', 'Tot sales ATT', 'Share user with sale ATT', 'Tot sales', 'Share user with sale',\n",
    "                         'True CTR','True PCS','True OS','True NCS']:\n",
    "                r[k] = None\n",
    "\n",
    "        res_dict[name_logging+str(num_users)+\"_\"+str(num_users_AB)+\"_\"+feature_name+name_extension] = r"
   ]
  },
  {
   "cell_type": "code",
   "execution_count": 35,
   "metadata": {},
   "outputs": [
    {
     "name": "stdout",
     "output_type": "stream",
     "text": [
      "-- A/B test --\n"
     ]
    },
    {
     "data": {
      "text/html": [
       "<div>\n",
       "<style scoped>\n",
       "    .dataframe tbody tr th:only-of-type {\n",
       "        vertical-align: middle;\n",
       "    }\n",
       "\n",
       "    .dataframe tbody tr th {\n",
       "        vertical-align: top;\n",
       "    }\n",
       "\n",
       "    .dataframe thead th {\n",
       "        text-align: right;\n",
       "    }\n",
       "</style>\n",
       "<table border=\"1\" class=\"dataframe\">\n",
       "  <thead>\n",
       "    <tr style=\"text-align: right;\">\n",
       "      <th></th>\n",
       "      <th>Agent</th>\n",
       "      <th>CTR</th>\n",
       "      <th>Att Sales</th>\n",
       "      <th>Att CR</th>\n",
       "      <th>Sales</th>\n",
       "      <th>CR</th>\n",
       "    </tr>\n",
       "  </thead>\n",
       "  <tbody>\n",
       "    <tr>\n",
       "      <th>0</th>\n",
       "      <td>Rand</td>\n",
       "      <td>0.790 (0.110) %</td>\n",
       "      <td>1 (0)</td>\n",
       "      <td>10.06 (0.00) %</td>\n",
       "      <td>6 (1)</td>\n",
       "      <td>33.97 (8.45) %</td>\n",
       "    </tr>\n",
       "    <tr>\n",
       "      <th>1</th>\n",
       "      <td>Click</td>\n",
       "      <td>0.680 (0.126) %</td>\n",
       "      <td>1 (0)</td>\n",
       "      <td>16.03 (8.45) %</td>\n",
       "      <td>5 (0)</td>\n",
       "      <td>22.01 (8.46) %</td>\n",
       "    </tr>\n",
       "    <tr>\n",
       "      <th>2</th>\n",
       "      <td>PVS</td>\n",
       "      <td>0.406 (0.008) %</td>\n",
       "      <td>0 (0)</td>\n",
       "      <td>10.06 (0.00) %</td>\n",
       "      <td>4 (4)</td>\n",
       "      <td>25.00 (12.69) %</td>\n",
       "    </tr>\n",
       "    <tr>\n",
       "      <th>3</th>\n",
       "      <td>PCS</td>\n",
       "      <td>0.995 (0.353) %</td>\n",
       "      <td>1 (0)</td>\n",
       "      <td>22.01 (0.00) %</td>\n",
       "      <td>5 (1)</td>\n",
       "      <td>27.99 (0.00) %</td>\n",
       "    </tr>\n",
       "    <tr>\n",
       "      <th>4</th>\n",
       "      <td>DPCS</td>\n",
       "      <td>0.839 (0.434) %</td>\n",
       "      <td>1 (0)</td>\n",
       "      <td>16.03 (0.00) %</td>\n",
       "      <td>7 (0)</td>\n",
       "      <td>33.97 (8.45) %</td>\n",
       "    </tr>\n",
       "  </tbody>\n",
       "</table>\n",
       "</div>"
      ],
      "text/plain": [
       "   Agent              CTR Att Sales          Att CR  Sales               CR\n",
       "0   Rand  0.790 (0.110) %     1 (0)  10.06 (0.00) %  6 (1)   33.97 (8.45) %\n",
       "1  Click  0.680 (0.126) %     1 (0)  16.03 (8.45) %  5 (0)   22.01 (8.46) %\n",
       "2    PVS  0.406 (0.008) %     0 (0)  10.06 (0.00) %  4 (4)  25.00 (12.69) %\n",
       "3    PCS  0.995 (0.353) %     1 (0)  22.01 (0.00) %  5 (1)   27.99 (0.00) %\n",
       "4   DPCS  0.839 (0.434) %     1 (0)  16.03 (0.00) %  7 (0)   33.97 (8.45) %"
      ]
     },
     "metadata": {},
     "output_type": "display_data"
    },
    {
     "name": "stdout",
     "output_type": "stream",
     "text": [
      "-- True metrics --\n"
     ]
    },
    {
     "data": {
      "text/html": [
       "<div>\n",
       "<style scoped>\n",
       "    .dataframe tbody tr th:only-of-type {\n",
       "        vertical-align: middle;\n",
       "    }\n",
       "\n",
       "    .dataframe tbody tr th {\n",
       "        vertical-align: top;\n",
       "    }\n",
       "\n",
       "    .dataframe thead th {\n",
       "        text-align: right;\n",
       "    }\n",
       "</style>\n",
       "<table border=\"1\" class=\"dataframe\">\n",
       "  <thead>\n",
       "    <tr style=\"text-align: right;\">\n",
       "      <th></th>\n",
       "      <th>Agent</th>\n",
       "      <th>True CTR</th>\n",
       "      <th>True PCS</th>\n",
       "      <th>True OS</th>\n",
       "      <th>True NCS</th>\n",
       "      <th>NDPC</th>\n",
       "      <th>DPCSO</th>\n",
       "      <th>DPCSN</th>\n",
       "    </tr>\n",
       "  </thead>\n",
       "  <tbody>\n",
       "    <tr>\n",
       "      <th>0</th>\n",
       "      <td>Rand</td>\n",
       "      <td>0.564 (0.026) %</td>\n",
       "      <td>4.61 (0.08) %</td>\n",
       "      <td>3.58 (0.33) %</td>\n",
       "      <td>3.60 (0.30) %</td>\n",
       "      <td>0.520 (0.014) pm</td>\n",
       "      <td>0.117 (0.033) pm</td>\n",
       "      <td>0.115 (0.030) pm</td>\n",
       "    </tr>\n",
       "    <tr>\n",
       "      <th>1</th>\n",
       "      <td>Click</td>\n",
       "      <td>0.499 (0.023) %</td>\n",
       "      <td>6.07 (0.12) %</td>\n",
       "      <td>4.62 (0.89) %</td>\n",
       "      <td>5.28 (0.22) %</td>\n",
       "      <td>0.606 (0.040) pm</td>\n",
       "      <td>0.143 (0.071) pm</td>\n",
       "      <td>0.079 (0.006) pm</td>\n",
       "    </tr>\n",
       "    <tr>\n",
       "      <th>2</th>\n",
       "      <td>PVS</td>\n",
       "      <td>0.514 (0.019) %</td>\n",
       "      <td>4.11 (0.08) %</td>\n",
       "      <td>2.97 (0.11) %</td>\n",
       "      <td>2.83 (0.08) %</td>\n",
       "      <td>0.423 (0.024) pm</td>\n",
       "      <td>0.117 (0.001) pm</td>\n",
       "      <td>0.132 (0.021) pm</td>\n",
       "    </tr>\n",
       "    <tr>\n",
       "      <th>3</th>\n",
       "      <td>PCS</td>\n",
       "      <td>0.739 (0.011) %</td>\n",
       "      <td>5.37 (0.37) %</td>\n",
       "      <td>3.87 (1.23) %</td>\n",
       "      <td>4.49 (0.48) %</td>\n",
       "      <td>0.794 (0.042) pm</td>\n",
       "      <td>0.224 (0.130) pm</td>\n",
       "      <td>0.131 (0.019) pm</td>\n",
       "    </tr>\n",
       "    <tr>\n",
       "      <th>4</th>\n",
       "      <td>DPCS</td>\n",
       "      <td>0.738 (0.234) %</td>\n",
       "      <td>6.60 (0.44) %</td>\n",
       "      <td>5.27 (0.54) %</td>\n",
       "      <td>6.18 (0.76) %</td>\n",
       "      <td>0.985 (0.374) pm</td>\n",
       "      <td>0.195 (0.048) pm</td>\n",
       "      <td>0.056 (0.027) pm</td>\n",
       "    </tr>\n",
       "  </tbody>\n",
       "</table>\n",
       "</div>"
      ],
      "text/plain": [
       "   Agent         True CTR       True PCS        True OS       True NCS  \\\n",
       "0   Rand  0.564 (0.026) %  4.61 (0.08) %  3.58 (0.33) %  3.60 (0.30) %   \n",
       "1  Click  0.499 (0.023) %  6.07 (0.12) %  4.62 (0.89) %  5.28 (0.22) %   \n",
       "2    PVS  0.514 (0.019) %  4.11 (0.08) %  2.97 (0.11) %  2.83 (0.08) %   \n",
       "3    PCS  0.739 (0.011) %  5.37 (0.37) %  3.87 (1.23) %  4.49 (0.48) %   \n",
       "4   DPCS  0.738 (0.234) %  6.60 (0.44) %  5.27 (0.54) %  6.18 (0.76) %   \n",
       "\n",
       "               NDPC             DPCSO             DPCSN  \n",
       "0  0.520 (0.014) pm  0.117 (0.033) pm  0.115 (0.030) pm  \n",
       "1  0.606 (0.040) pm  0.143 (0.071) pm  0.079 (0.006) pm  \n",
       "2  0.423 (0.024) pm  0.117 (0.001) pm  0.132 (0.021) pm  \n",
       "3  0.794 (0.042) pm  0.224 (0.130) pm  0.131 (0.019) pm  \n",
       "4  0.985 (0.374) pm  0.195 (0.048) pm  0.056 (0.027) pm  "
      ]
     },
     "metadata": {},
     "output_type": "display_data"
    }
   ],
   "source": [
    "res_avg = avg_result_extended(res_dict)\n",
    "(res_recap, res_recap_latex, \n",
    " res_AB, res_AB_latex, \n",
    " res_true, res_true_latex) = format_avg_result_extended(res_avg) #get dataframe & corresponding latex table"
   ]
  },
  {
   "cell_type": "code",
   "execution_count": 36,
   "metadata": {},
   "outputs": [
    {
     "name": "stdout",
     "output_type": "stream",
     "text": [
      "\\begin{tabular}{llllll}\n",
      "\\toprule\n",
      " Agent &              CTR & Att Sales &          Att CR &  Sales &               CR \\\\\n",
      "\\midrule\n",
      "  Rand &  0.790 (0.110) \\% &     1 (0) &  10.06 (0.00) \\% &  6 (1) &   33.97 (8.45) \\% \\\\\n",
      " Click &  0.680 (0.126) \\% &     1 (0) &  16.03 (8.45) \\% &  5 (0) &   22.01 (8.46) \\% \\\\\n",
      "   PVS &  0.406 (0.008) \\% &     0 (0) &  10.06 (0.00) \\% &  4 (4) &  25.00 (12.69) \\% \\\\\n",
      "   PCS &  0.995 (0.353) \\% &     1 (0) &  22.01 (0.00) \\% &  5 (1) &   27.99 (0.00) \\% \\\\\n",
      "  DPCS &  0.839 (0.434) \\% &     1 (0) &  16.03 (0.00) \\% &  7 (0) &   33.97 (8.45) \\% \\\\\n",
      "\\bottomrule\n",
      "\\end{tabular}\n",
      "\n",
      "\n",
      "\\begin{tabular}{llllllll}\n",
      "\\toprule\n",
      " Agent &         True CTR &       True PCS &        True OS &       True NCS &              NDPC &             DPCSO &             DPCSN \\\\\n",
      "\\midrule\n",
      "  Rand &  0.564 (0.026) \\% &  4.61 (0.08) \\% &  3.58 (0.33) \\% &  3.60 (0.30) \\% &  0.520 (0.014) pm &  0.117 (0.033) pm &  0.115 (0.030) pm \\\\\n",
      " Click &  0.499 (0.023) \\% &  6.07 (0.12) \\% &  4.62 (0.89) \\% &  5.28 (0.22) \\% &  0.606 (0.040) pm &  0.143 (0.071) pm &  0.079 (0.006) pm \\\\\n",
      "   PVS &  0.514 (0.019) \\% &  4.11 (0.08) \\% &  2.97 (0.11) \\% &  2.83 (0.08) \\% &  0.423 (0.024) pm &  0.117 (0.001) pm &  0.132 (0.021) pm \\\\\n",
      "   PCS &  0.739 (0.011) \\% &  5.37 (0.37) \\% &  3.87 (1.23) \\% &  4.49 (0.48) \\% &  0.794 (0.042) pm &  0.224 (0.130) pm &  0.131 (0.019) pm \\\\\n",
      "  DPCS &  0.738 (0.234) \\% &  6.60 (0.44) \\% &  5.27 (0.54) \\% &  6.18 (0.76) \\% &  0.985 (0.374) pm &  0.195 (0.048) pm &  0.056 (0.027) pm \\\\\n",
      "\\bottomrule\n",
      "\\end{tabular}\n",
      "\n"
     ]
    }
   ],
   "source": [
    "print(res_AB_latex+'\\n')\n",
    "print(res_true_latex)"
   ]
  },
  {
   "cell_type": "markdown",
   "metadata": {},
   "source": [
    "##### Weights"
   ]
  },
  {
   "cell_type": "code",
   "execution_count": 37,
   "metadata": {},
   "outputs": [
    {
     "name": "stdout",
     "output_type": "stream",
     "text": [
      "--- Trained agents loaded --- \n"
     ]
    }
   ],
   "source": [
    "name_extension = 'presweights'\n",
    "name_logging = name_agent\n",
    "res_dict = {}\n",
    "try :\n",
    "    info, save_agents = pkl.load(open(data_repo+str('agents'+str(num_users)+name_logging+feature_name+name_extension+'.pkl'),'rb'))\n",
    "    print('--- Trained agents loaded --- ')\n",
    "except :\n",
    "    print('--- Train agents ---')\n",
    "    info, save_agents = train_agents(name_logging,logs,feature_name,features, num_users=num_users, \n",
    "                                     kronecker_features=True,weights = True, repo = data_repo)"
   ]
  },
  {
   "cell_type": "code",
   "execution_count": 38,
   "metadata": {},
   "outputs": [
    {
     "name": "stdout",
     "output_type": "stream",
     "text": [
      "--- A/B test results loaded ---\n"
     ]
    }
   ],
   "source": [
    "try:\n",
    "    for i in range(num_AB_tests):\n",
    "        name_extension = 'presweights'+'_nb'+str(i)\n",
    "        name = 'likelihood_saleclickprod_discountpresweights_full'\n",
    "        agent_id = name_logging+str(num_users)+\"_\"+str(num_users_AB)+\"_\"+feature_name+name_extension\n",
    "        r = pkl.load(open(str(data_repo) +'res_'+agent_id+name+'.pkl',\"rb\"))\n",
    "        for k in r.keys():\n",
    "            if k not in ['CTR', 'Tot sales ATT', 'Share user with sale ATT', 'Tot sales', 'Share user with sale',\n",
    "                         'True CTR','True PCS','True OS','True NCS']:\n",
    "                r[k] = None\n",
    "\n",
    "        res_dict[name_logging+str(num_users)+\"_\"+str(num_users_AB)+\"_\"+feature_name+name_extension] = r\n",
    "    print('--- A/B test results loaded ---')\n",
    "    \n",
    "except:\n",
    "    print(' --- Run A/B test --- ')\n",
    "    for i in range(num_AB_tests):\n",
    "        print(\"-------------- A/B test n°\"+str(i)+'--------------')\n",
    "        name_extension = 'presweights'+'_nb'+str(i)\n",
    "        res=verify_agents_sale_extended(\n",
    "            env,\n",
    "            number_of_users=num_users_AB,\n",
    "            agents={\n",
    "                **agents, \n",
    "                **save_agents},\n",
    "            name = name_logging+str(num_users)+\"_\"+str(num_users_AB)+\"_\"+feature_name+name_extension,\n",
    "            seed = 0,\n",
    "            same_env = False,\n",
    "            repo = data_repo\n",
    "        )\n",
    "\n",
    "        r = deepcopy(res)\n",
    "        for k in r.keys():\n",
    "            if k not in ['CTR', 'Tot sales ATT', 'Share user with sale ATT', 'Tot sales', 'Share user with sale',\n",
    "                         'True CTR','True PCS','True OS','True NCS']:\n",
    "                r[k] = None\n",
    "\n",
    "        res_dict[name_logging+str(num_users)+\"_\"+str(num_users_AB)+\"_\"+feature_name+name_extension] = r"
   ]
  },
  {
   "cell_type": "code",
   "execution_count": 39,
   "metadata": {},
   "outputs": [
    {
     "name": "stdout",
     "output_type": "stream",
     "text": [
      "-- A/B test --\n"
     ]
    },
    {
     "data": {
      "text/html": [
       "<div>\n",
       "<style scoped>\n",
       "    .dataframe tbody tr th:only-of-type {\n",
       "        vertical-align: middle;\n",
       "    }\n",
       "\n",
       "    .dataframe tbody tr th {\n",
       "        vertical-align: top;\n",
       "    }\n",
       "\n",
       "    .dataframe thead th {\n",
       "        text-align: right;\n",
       "    }\n",
       "</style>\n",
       "<table border=\"1\" class=\"dataframe\">\n",
       "  <thead>\n",
       "    <tr style=\"text-align: right;\">\n",
       "      <th></th>\n",
       "      <th>Agent</th>\n",
       "      <th>CTR</th>\n",
       "      <th>Att Sales</th>\n",
       "      <th>Att CR</th>\n",
       "      <th>Sales</th>\n",
       "      <th>CR</th>\n",
       "    </tr>\n",
       "  </thead>\n",
       "  <tbody>\n",
       "    <tr>\n",
       "      <th>0</th>\n",
       "      <td>Rand</td>\n",
       "      <td>0.550 (0.257) %</td>\n",
       "      <td>1 (1)</td>\n",
       "      <td>19.02 (12.68) %</td>\n",
       "      <td>6 (5)</td>\n",
       "      <td>27.98 (16.91) %</td>\n",
       "    </tr>\n",
       "    <tr>\n",
       "      <th>1</th>\n",
       "      <td>Click</td>\n",
       "      <td>1.011 (0.072) %</td>\n",
       "      <td>1 (1)</td>\n",
       "      <td>16.03 (8.45) %</td>\n",
       "      <td>10 (1)</td>\n",
       "      <td>30.98 (4.23) %</td>\n",
       "    </tr>\n",
       "    <tr>\n",
       "      <th>2</th>\n",
       "      <td>PVS</td>\n",
       "      <td>0.300 (0.129) %</td>\n",
       "      <td>0 (0)</td>\n",
       "      <td>7.10 (4.18) %</td>\n",
       "      <td>4 (5)</td>\n",
       "      <td>19.02 (12.68) %</td>\n",
       "    </tr>\n",
       "    <tr>\n",
       "      <th>3</th>\n",
       "      <td>PCS</td>\n",
       "      <td>0.655 (0.312) %</td>\n",
       "      <td>1 (0)</td>\n",
       "      <td>13.04 (4.22) %</td>\n",
       "      <td>6 (1)</td>\n",
       "      <td>19.02 (4.23) %</td>\n",
       "    </tr>\n",
       "    <tr>\n",
       "      <th>4</th>\n",
       "      <td>DPCS</td>\n",
       "      <td>0.307 (0.190) %</td>\n",
       "      <td>1 (1)</td>\n",
       "      <td>10.09 (8.40) %</td>\n",
       "      <td>10 (4)</td>\n",
       "      <td>39.94 (0.00) %</td>\n",
       "    </tr>\n",
       "  </tbody>\n",
       "</table>\n",
       "</div>"
      ],
      "text/plain": [
       "   Agent              CTR Att Sales           Att CR   Sales               CR\n",
       "0   Rand  0.550 (0.257) %     1 (1)  19.02 (12.68) %   6 (5)  27.98 (16.91) %\n",
       "1  Click  1.011 (0.072) %     1 (1)   16.03 (8.45) %  10 (1)   30.98 (4.23) %\n",
       "2    PVS  0.300 (0.129) %     0 (0)    7.10 (4.18) %   4 (5)  19.02 (12.68) %\n",
       "3    PCS  0.655 (0.312) %     1 (0)   13.04 (4.22) %   6 (1)   19.02 (4.23) %\n",
       "4   DPCS  0.307 (0.190) %     1 (1)   10.09 (8.40) %  10 (4)   39.94 (0.00) %"
      ]
     },
     "metadata": {},
     "output_type": "display_data"
    },
    {
     "name": "stdout",
     "output_type": "stream",
     "text": [
      "-- True metrics --\n"
     ]
    },
    {
     "data": {
      "text/html": [
       "<div>\n",
       "<style scoped>\n",
       "    .dataframe tbody tr th:only-of-type {\n",
       "        vertical-align: middle;\n",
       "    }\n",
       "\n",
       "    .dataframe tbody tr th {\n",
       "        vertical-align: top;\n",
       "    }\n",
       "\n",
       "    .dataframe thead th {\n",
       "        text-align: right;\n",
       "    }\n",
       "</style>\n",
       "<table border=\"1\" class=\"dataframe\">\n",
       "  <thead>\n",
       "    <tr style=\"text-align: right;\">\n",
       "      <th></th>\n",
       "      <th>Agent</th>\n",
       "      <th>True CTR</th>\n",
       "      <th>True PCS</th>\n",
       "      <th>True OS</th>\n",
       "      <th>True NCS</th>\n",
       "      <th>NDPC</th>\n",
       "      <th>DPCSO</th>\n",
       "      <th>DPCSN</th>\n",
       "    </tr>\n",
       "  </thead>\n",
       "  <tbody>\n",
       "    <tr>\n",
       "      <th>0</th>\n",
       "      <td>Rand</td>\n",
       "      <td>0.632 (0.024) %</td>\n",
       "      <td>4.26 (0.11) %</td>\n",
       "      <td>2.93 (0.65) %</td>\n",
       "      <td>3.32 (0.01) %</td>\n",
       "      <td>0.539 (0.006) pm</td>\n",
       "      <td>0.167 (0.090) pm</td>\n",
       "      <td>0.120 (0.009) pm</td>\n",
       "    </tr>\n",
       "    <tr>\n",
       "      <th>1</th>\n",
       "      <td>Click</td>\n",
       "      <td>0.744 (0.194) %</td>\n",
       "      <td>6.15 (0.42) %</td>\n",
       "      <td>5.19 (0.95) %</td>\n",
       "      <td>5.60 (0.53) %</td>\n",
       "      <td>0.907 (0.175) pm</td>\n",
       "      <td>0.154 (0.116) pm</td>\n",
       "      <td>0.084 (0.037) pm</td>\n",
       "    </tr>\n",
       "    <tr>\n",
       "      <th>2</th>\n",
       "      <td>PVS</td>\n",
       "      <td>0.568 (0.073) %</td>\n",
       "      <td>4.75 (0.76) %</td>\n",
       "      <td>3.30 (0.71) %</td>\n",
       "      <td>3.91 (1.05) %</td>\n",
       "      <td>0.546 (0.156) pm</td>\n",
       "      <td>0.165 (0.027) pm</td>\n",
       "      <td>0.093 (0.021) pm</td>\n",
       "    </tr>\n",
       "    <tr>\n",
       "      <th>3</th>\n",
       "      <td>PCS</td>\n",
       "      <td>0.671 (0.058) %</td>\n",
       "      <td>5.86 (0.70) %</td>\n",
       "      <td>4.03 (0.58) %</td>\n",
       "      <td>5.15 (1.22) %</td>\n",
       "      <td>0.790 (0.162) pm</td>\n",
       "      <td>0.246 (0.037) pm</td>\n",
       "      <td>0.092 (0.062) pm</td>\n",
       "    </tr>\n",
       "    <tr>\n",
       "      <th>4</th>\n",
       "      <td>DPCS</td>\n",
       "      <td>0.479 (0.002) %</td>\n",
       "      <td>5.94 (0.46) %</td>\n",
       "      <td>5.41 (0.43) %</td>\n",
       "      <td>5.35 (0.78) %</td>\n",
       "      <td>0.568 (0.047) pm</td>\n",
       "      <td>0.050 (0.003) pm</td>\n",
       "      <td>0.057 (0.031) pm</td>\n",
       "    </tr>\n",
       "  </tbody>\n",
       "</table>\n",
       "</div>"
      ],
      "text/plain": [
       "   Agent         True CTR       True PCS        True OS       True NCS  \\\n",
       "0   Rand  0.632 (0.024) %  4.26 (0.11) %  2.93 (0.65) %  3.32 (0.01) %   \n",
       "1  Click  0.744 (0.194) %  6.15 (0.42) %  5.19 (0.95) %  5.60 (0.53) %   \n",
       "2    PVS  0.568 (0.073) %  4.75 (0.76) %  3.30 (0.71) %  3.91 (1.05) %   \n",
       "3    PCS  0.671 (0.058) %  5.86 (0.70) %  4.03 (0.58) %  5.15 (1.22) %   \n",
       "4   DPCS  0.479 (0.002) %  5.94 (0.46) %  5.41 (0.43) %  5.35 (0.78) %   \n",
       "\n",
       "               NDPC             DPCSO             DPCSN  \n",
       "0  0.539 (0.006) pm  0.167 (0.090) pm  0.120 (0.009) pm  \n",
       "1  0.907 (0.175) pm  0.154 (0.116) pm  0.084 (0.037) pm  \n",
       "2  0.546 (0.156) pm  0.165 (0.027) pm  0.093 (0.021) pm  \n",
       "3  0.790 (0.162) pm  0.246 (0.037) pm  0.092 (0.062) pm  \n",
       "4  0.568 (0.047) pm  0.050 (0.003) pm  0.057 (0.031) pm  "
      ]
     },
     "metadata": {},
     "output_type": "display_data"
    }
   ],
   "source": [
    "res_avg = avg_result_extended(res_dict)\n",
    "(res_recap, res_recap_latex, \n",
    " res_AB, res_AB_latex, \n",
    " res_true, res_true_latex) = format_avg_result_extended(res_avg) #get dataframe & corresponding latex table"
   ]
  },
  {
   "cell_type": "code",
   "execution_count": 40,
   "metadata": {},
   "outputs": [
    {
     "name": "stdout",
     "output_type": "stream",
     "text": [
      "\\begin{tabular}{llllll}\n",
      "\\toprule\n",
      " Agent &              CTR & Att Sales &           Att CR &   Sales &               CR \\\\\n",
      "\\midrule\n",
      "  Rand &  0.550 (0.257) \\% &     1 (1) &  19.02 (12.68) \\% &   6 (5) &  27.98 (16.91) \\% \\\\\n",
      " Click &  1.011 (0.072) \\% &     1 (1) &   16.03 (8.45) \\% &  10 (1) &   30.98 (4.23) \\% \\\\\n",
      "   PVS &  0.300 (0.129) \\% &     0 (0) &    7.10 (4.18) \\% &   4 (5) &  19.02 (12.68) \\% \\\\\n",
      "   PCS &  0.655 (0.312) \\% &     1 (0) &   13.04 (4.22) \\% &   6 (1) &   19.02 (4.23) \\% \\\\\n",
      "  DPCS &  0.307 (0.190) \\% &     1 (1) &   10.09 (8.40) \\% &  10 (4) &   39.94 (0.00) \\% \\\\\n",
      "\\bottomrule\n",
      "\\end{tabular}\n",
      "\n",
      "\n",
      "\\begin{tabular}{llllllll}\n",
      "\\toprule\n",
      " Agent &         True CTR &       True PCS &        True OS &       True NCS &              NDPC &             DPCSO &             DPCSN \\\\\n",
      "\\midrule\n",
      "  Rand &  0.632 (0.024) \\% &  4.26 (0.11) \\% &  2.93 (0.65) \\% &  3.32 (0.01) \\% &  0.539 (0.006) pm &  0.167 (0.090) pm &  0.120 (0.009) pm \\\\\n",
      " Click &  0.744 (0.194) \\% &  6.15 (0.42) \\% &  5.19 (0.95) \\% &  5.60 (0.53) \\% &  0.907 (0.175) pm &  0.154 (0.116) pm &  0.084 (0.037) pm \\\\\n",
      "   PVS &  0.568 (0.073) \\% &  4.75 (0.76) \\% &  3.30 (0.71) \\% &  3.91 (1.05) \\% &  0.546 (0.156) pm &  0.165 (0.027) pm &  0.093 (0.021) pm \\\\\n",
      "   PCS &  0.671 (0.058) \\% &  5.86 (0.70) \\% &  4.03 (0.58) \\% &  5.15 (1.22) \\% &  0.790 (0.162) pm &  0.246 (0.037) pm &  0.092 (0.062) pm \\\\\n",
      "  DPCS &  0.479 (0.002) \\% &  5.94 (0.46) \\% &  5.41 (0.43) \\% &  5.35 (0.78) \\% &  0.568 (0.047) pm &  0.050 (0.003) pm &  0.057 (0.031) pm \\\\\n",
      "\\bottomrule\n",
      "\\end{tabular}\n",
      "\n"
     ]
    }
   ],
   "source": [
    "print(res_AB_latex+'\\n')\n",
    "print(res_true_latex)"
   ]
  },
  {
   "cell_type": "code",
   "execution_count": null,
   "metadata": {},
   "outputs": [],
   "source": []
  }
 ],
 "metadata": {
  "kernelspec": {
   "display_name": "Python 3",
   "language": "python",
   "name": "python3"
  },
  "language_info": {
   "codemirror_mode": {
    "name": "ipython",
    "version": 3
   },
   "file_extension": ".py",
   "mimetype": "text/x-python",
   "name": "python",
   "nbconvert_exporter": "python",
   "pygments_lexer": "ipython3",
   "version": "3.7.4"
  }
 },
 "nbformat": 4,
 "nbformat_minor": 2
}
