{
 "cells": [
  {
   "cell_type": "markdown",
   "metadata": {},
   "source": [
    "# Training and A/B test for Conversion agents - <font color='blue'> Proportion</font> of sale"
   ]
  },
  {
   "cell_type": "code",
   "execution_count": 1,
   "metadata": {},
   "outputs": [
    {
     "name": "stdout",
     "output_type": "stream",
     "text": [
      "Number of products = 10\n",
      "Number of flips = 10\n",
      "Value of kappa = 0.2\n"
     ]
    }
   ],
   "source": [
    "import gym, recogym\n",
    "import matplotlib.pyplot as plt\n",
    "from copy import deepcopy\n",
    "import numpy as np\n",
    "import pandas as pd\n",
    "import pickle as pkl\n",
    "pd.options.mode.chained_assignment = None \n",
    "# from inspect import getsource\n",
    "from recogym.evaluate_agent_sale import verify_agents_sale, display_metrics, verify_agents_sale_extended\n",
    "from tqdm import tqdm\n",
    "\n",
    "# env_1_sale_args is a dictionary of default parameters (i.e. number of products)\n",
    "from recogym import env_1_sale_args, Configuration\n",
    "from recogym.agents.sale_agent import train_agents, train_timeagents\n",
    "from recogym.envs.utils_sale import format_avg_result, avg_result, format_avg_result_extended, avg_result_extended \n",
    "\n",
    "# You can overwrite environment arguments here:\n",
    "env_1_sale_args['random_seed'] = 0\n",
    "env_1_sale_args['num_products'] = 10\n",
    "env_1_sale_args['number_of_flips'] = 10 \n",
    "\n",
    "num_products = env_1_sale_args['num_products']\n",
    "print('Number of products =',num_products)\n",
    "print('Number of flips =',env_1_sale_args['number_of_flips'])\n",
    "nb_flips = env_1_sale_args['number_of_flips']\n",
    "\n",
    "# You can overwrite environment arguments here:\n",
    "env_1_sale_args['random_seed'] = 42\n",
    "env_1_sale_args['mu_sale'] = False \n",
    "\n",
    "# env_1_sale_args['kappa'] = 0.5\n",
    "print('Value of kappa =',env_1_sale_args['kappa'])\n",
    "\n",
    "# Initialize the gym \n",
    "env = gym.make('reco-gym-sale-v1')\n",
    "env.init_gym(env_1_sale_args)\n",
    "\n"
   ]
  },
  {
   "cell_type": "code",
   "execution_count": 2,
   "metadata": {},
   "outputs": [],
   "source": [
    "# Repository to save pickles\n",
    "data_repo = 'data_conversion/'"
   ]
  },
  {
   "cell_type": "markdown",
   "metadata": {},
   "source": [
    "## Train baseline agents"
   ]
  },
  {
   "cell_type": "markdown",
   "metadata": {},
   "source": [
    "#### Settings"
   ]
  },
  {
   "cell_type": "code",
   "execution_count": 3,
   "metadata": {},
   "outputs": [],
   "source": [
    "## Choose number of users for training and AB test\n",
    "# Number of users for the training\n",
    "# env_1_sale_args['num_users'] = 6 ##tochange !!\n",
    "env_1_sale_args['num_users'] = 5000\n",
    "num_users = env_1_sale_args['num_users']\n",
    "\n",
    "# Number of users for the A/B test\n",
    "# env_1_sale_args['num_users_AB'] = 7 ##tochange !!\n",
    "env_1_sale_args['num_users_AB'] = 5000 \n",
    "num_users_AB = env_1_sale_args['num_users_AB']\n",
    "\n",
    "# Choose user features\n",
    "from recogym.agents.sale_agent import CountViewsClicksFeatureProvider, CountViewsFeatureProvider, ShareViewsClicksFeatureProvider, ShareViewsFeatureProvider\n",
    "vc_feature = CountViewsClicksFeatureProvider(env.config)\n",
    "v_feature = CountViewsFeatureProvider(env.config)\n",
    "vc_share_feature = ShareViewsClicksFeatureProvider(env.config)\n",
    "v_share_feature = ShareViewsFeatureProvider(env.config)\n",
    "features = {'vc':vc_feature,\n",
    "           'v':v_feature,\n",
    "           'vc_share':vc_share_feature,\n",
    "           'v_share':v_share_feature}\n",
    "feature_name = 'v_share'\n",
    "feature = features[feature_name]"
   ]
  },
  {
   "cell_type": "markdown",
   "metadata": {},
   "source": [
    "#### <font color='red'> Number of A/B tests</font>"
   ]
  },
  {
   "cell_type": "code",
   "execution_count": 4,
   "metadata": {},
   "outputs": [],
   "source": [
    "# # Choose number of A/B tests\n",
    "# num_AB_tests = 2 ##tochange !\n",
    "num_AB_tests = 25 ##tochange !"
   ]
  },
  {
   "cell_type": "markdown",
   "metadata": {},
   "source": [
    "#### Logs"
   ]
  },
  {
   "cell_type": "code",
   "execution_count": 5,
   "metadata": {
    "scrolled": true
   },
   "outputs": [
    {
     "name": "stdout",
     "output_type": "stream",
     "text": [
      "--- Logs loaded---\n"
     ]
    }
   ],
   "source": [
    "agents={}\n",
    "logs={}\n",
    "\n",
    "############## Random agent\n",
    "name_agent = 'rand'+str(nb_flips)\n",
    "from recogym.agents import RandomAgent, random_args\n",
    "random_agent = RandomAgent(Configuration(random_args))\n",
    "agents[name_agent] = random_agent\n",
    "\n",
    "\n",
    "try:\n",
    "    logs[name_agent] = pkl.load(open(data_repo + 'data' + str(num_users) + name_agent + '.pkl','rb'))\n",
    "    print('--- Logs loaded---')\n",
    "except: \n",
    "    print(\"--- Generate logs ---\")\n",
    "    logs[name_agent] = deepcopy(env).generate_logs(num_users)\n",
    "    print(data_repo + 'data' + str(num_users) + name_agent + '.pkl')\n",
    "    pkl.dump(logs[name_agent], open(data_repo + 'data' + str(num_users) + name_agent + '.pkl','wb'))"
   ]
  },
  {
   "cell_type": "markdown",
   "metadata": {},
   "source": [
    "#### Training for the <font color='blue'> Proportion</font> of sale"
   ]
  },
  {
   "cell_type": "markdown",
   "metadata": {},
   "source": [
    "##### No weights"
   ]
  },
  {
   "cell_type": "code",
   "execution_count": 6,
   "metadata": {},
   "outputs": [
    {
     "name": "stdout",
     "output_type": "stream",
     "text": [
      "--- Trained agents loaded --- \n"
     ]
    }
   ],
   "source": [
    "name_extension = 'prop'\n",
    "name_logging = name_agent\n",
    "res_dict = {}\n",
    "try :\n",
    "    info, save_agents = pkl.load(open(data_repo+str('timeagents'+str(num_users)+name_logging+feature_name+name_extension+'.pkl'),'rb'))\n",
    "    print('--- Trained agents loaded --- ')\n",
    "except :\n",
    "    print('--- Train agents ---')\n",
    "    info, save_agents = train_timeagents(name_logging,logs,feature_name,features, num_users=num_users, \n",
    "                                     kronecker_features=True,linear_reg=True, repo = data_repo)"
   ]
  },
  {
   "cell_type": "code",
   "execution_count": 7,
   "metadata": {},
   "outputs": [
    {
     "name": "stdout",
     "output_type": "stream",
     "text": [
      "--- A/B test results loaded ---\n"
     ]
    }
   ],
   "source": [
    "try:\n",
    "    for i in range(num_AB_tests):\n",
    "        name_extension = 'prop'+'_nb'+str(i)\n",
    "        name = name = 'likelihood_saleclickprod_discount_allprop_full'\n",
    "        agent_id = name_logging+str(num_users)+\"_\"+str(num_users_AB)+\"_\"+feature_name+name_extension\n",
    "        r = pkl.load(open(str(data_repo) +'res_'+agent_id+name+'.pkl',\"rb\"))\n",
    "        for k in r.keys():\n",
    "            if k not in ['CTR', 'Tot sales ATT', 'Share user with sale ATT', 'Tot sales', 'Share user with sale',\n",
    "                         'True CTR','True PCS','True OS','True NCS']:\n",
    "                r[k] = None\n",
    "\n",
    "        res_dict[name_logging+str(num_users)+\"_\"+str(num_users_AB)+\"_\"+feature_name+name_extension] = r\n",
    "    print('--- A/B test results loaded ---')\n",
    "    \n",
    "except:\n",
    "    print(' --- Run A/B test --- ')\n",
    "    for i in range(num_AB_tests):\n",
    "        print(\"-------------- A/B test n°\"+str(i)+'--------------')\n",
    "        name_extension = 'prop'+'_nb'+str(i)\n",
    "        res=verify_agents_sale_extended(\n",
    "            env,\n",
    "            number_of_users=num_users_AB,\n",
    "            agents={\n",
    "                **agents, \n",
    "                **save_agents},\n",
    "            name = name_logging+str(num_users)+\"_\"+str(num_users_AB)+\"_\"+feature_name+name_extension,\n",
    "            seed = 0,\n",
    "            same_env = False,\n",
    "            repo = data_repo\n",
    "        )\n",
    "\n",
    "        r = deepcopy(res)\n",
    "        for k in r.keys():\n",
    "            if k not in ['CTR', 'Tot sales ATT', 'Share user with sale ATT', 'Tot sales', 'Share user with sale',\n",
    "                         'True CTR','True PCS','True OS','True NCS']:\n",
    "                r[k] = None\n",
    "\n",
    "        res_dict[name_logging+str(num_users)+\"_\"+str(num_users_AB)+\"_\"+feature_name+name_extension] = r"
   ]
  },
  {
   "cell_type": "code",
   "execution_count": 8,
   "metadata": {
    "scrolled": true
   },
   "outputs": [
    {
     "name": "stdout",
     "output_type": "stream",
     "text": [
      "-- A/B test --\n"
     ]
    },
    {
     "data": {
      "text/html": [
       "<div>\n",
       "<style scoped>\n",
       "    .dataframe tbody tr th:only-of-type {\n",
       "        vertical-align: middle;\n",
       "    }\n",
       "\n",
       "    .dataframe tbody tr th {\n",
       "        vertical-align: top;\n",
       "    }\n",
       "\n",
       "    .dataframe thead th {\n",
       "        text-align: right;\n",
       "    }\n",
       "</style>\n",
       "<table border=\"1\" class=\"dataframe\">\n",
       "  <thead>\n",
       "    <tr style=\"text-align: right;\">\n",
       "      <th></th>\n",
       "      <th>Agent</th>\n",
       "      <th>CTR</th>\n",
       "      <th>Att Sales</th>\n",
       "      <th>Att CR</th>\n",
       "      <th>Sales</th>\n",
       "      <th>CR</th>\n",
       "    </tr>\n",
       "  </thead>\n",
       "  <tbody>\n",
       "    <tr>\n",
       "      <th>0</th>\n",
       "      <td>Rand</td>\n",
       "      <td>0.744 (0.403) %</td>\n",
       "      <td>1 (0)</td>\n",
       "      <td>10.06 (0.00) %</td>\n",
       "      <td>6 (0)</td>\n",
       "      <td>27.99 (8.46) %</td>\n",
       "    </tr>\n",
       "    <tr>\n",
       "      <th>1</th>\n",
       "      <td>Click</td>\n",
       "      <td>0.810 (0.058) %</td>\n",
       "      <td>1 (0)</td>\n",
       "      <td>19.02 (4.23) %</td>\n",
       "      <td>6 (1)</td>\n",
       "      <td>30.98 (4.23) %</td>\n",
       "    </tr>\n",
       "    <tr>\n",
       "      <th>2</th>\n",
       "      <td>PCS</td>\n",
       "      <td>0.514 (0.205) %</td>\n",
       "      <td>0 (0)</td>\n",
       "      <td>13.04 (4.22) %</td>\n",
       "      <td>5 (5)</td>\n",
       "      <td>27.98 (16.91) %</td>\n",
       "    </tr>\n",
       "    <tr>\n",
       "      <th>3</th>\n",
       "      <td>DPCS</td>\n",
       "      <td>0.816 (0.099) %</td>\n",
       "      <td>1 (0)</td>\n",
       "      <td>16.03 (8.45) %</td>\n",
       "      <td>4 (3)</td>\n",
       "      <td>22.01 (8.46) %</td>\n",
       "    </tr>\n",
       "  </tbody>\n",
       "</table>\n",
       "</div>"
      ],
      "text/plain": [
       "   Agent              CTR Att Sales          Att CR  Sales               CR\n",
       "0   Rand  0.744 (0.403) %     1 (0)  10.06 (0.00) %  6 (0)   27.99 (8.46) %\n",
       "1  Click  0.810 (0.058) %     1 (0)  19.02 (4.23) %  6 (1)   30.98 (4.23) %\n",
       "2    PCS  0.514 (0.205) %     0 (0)  13.04 (4.22) %  5 (5)  27.98 (16.91) %\n",
       "3   DPCS  0.816 (0.099) %     1 (0)  16.03 (8.45) %  4 (3)   22.01 (8.46) %"
      ]
     },
     "metadata": {},
     "output_type": "display_data"
    },
    {
     "name": "stdout",
     "output_type": "stream",
     "text": [
      "-- True metrics --\n"
     ]
    },
    {
     "data": {
      "text/html": [
       "<div>\n",
       "<style scoped>\n",
       "    .dataframe tbody tr th:only-of-type {\n",
       "        vertical-align: middle;\n",
       "    }\n",
       "\n",
       "    .dataframe tbody tr th {\n",
       "        vertical-align: top;\n",
       "    }\n",
       "\n",
       "    .dataframe thead th {\n",
       "        text-align: right;\n",
       "    }\n",
       "</style>\n",
       "<table border=\"1\" class=\"dataframe\">\n",
       "  <thead>\n",
       "    <tr style=\"text-align: right;\">\n",
       "      <th></th>\n",
       "      <th>Agent</th>\n",
       "      <th>True CTR</th>\n",
       "      <th>True PCS</th>\n",
       "      <th>True OS</th>\n",
       "      <th>True NCS</th>\n",
       "      <th>NDPC</th>\n",
       "      <th>DPCSO</th>\n",
       "      <th>DPCSN</th>\n",
       "    </tr>\n",
       "  </thead>\n",
       "  <tbody>\n",
       "    <tr>\n",
       "      <th>0</th>\n",
       "      <td>Rand</td>\n",
       "      <td>0.570 (0.020) %</td>\n",
       "      <td>5.05 (0.61) %</td>\n",
       "      <td>3.80 (0.32) %</td>\n",
       "      <td>4.10 (1.01) %</td>\n",
       "      <td>0.575 (0.050) pm</td>\n",
       "      <td>0.142 (0.028) pm</td>\n",
       "      <td>0.109 (0.049) pm</td>\n",
       "    </tr>\n",
       "    <tr>\n",
       "      <th>1</th>\n",
       "      <td>Click</td>\n",
       "      <td>0.590 (0.105) %</td>\n",
       "      <td>6.10 (0.08) %</td>\n",
       "      <td>5.06 (0.27) %</td>\n",
       "      <td>5.40 (0.05) %</td>\n",
       "      <td>0.718 (0.119) pm</td>\n",
       "      <td>0.125 (0.045) pm</td>\n",
       "      <td>0.082 (0.011) pm</td>\n",
       "    </tr>\n",
       "    <tr>\n",
       "      <th>2</th>\n",
       "      <td>PCS</td>\n",
       "      <td>0.728 (0.160) %</td>\n",
       "      <td>4.45 (0.36) %</td>\n",
       "      <td>3.04 (1.30) %</td>\n",
       "      <td>3.73 (0.62) %</td>\n",
       "      <td>0.654 (0.195) pm</td>\n",
       "      <td>0.190 (0.092) pm</td>\n",
       "      <td>0.101 (0.015) pm</td>\n",
       "    </tr>\n",
       "    <tr>\n",
       "      <th>3</th>\n",
       "      <td>DPCS</td>\n",
       "      <td>0.656 (0.108) %</td>\n",
       "      <td>4.75 (0.57) %</td>\n",
       "      <td>3.40 (1.40) %</td>\n",
       "      <td>3.75 (0.89) %</td>\n",
       "      <td>0.629 (0.178) pm</td>\n",
       "      <td>0.168 (0.080) pm</td>\n",
       "      <td>0.127 (0.020) pm</td>\n",
       "    </tr>\n",
       "  </tbody>\n",
       "</table>\n",
       "</div>"
      ],
      "text/plain": [
       "   Agent         True CTR       True PCS        True OS       True NCS  \\\n",
       "0   Rand  0.570 (0.020) %  5.05 (0.61) %  3.80 (0.32) %  4.10 (1.01) %   \n",
       "1  Click  0.590 (0.105) %  6.10 (0.08) %  5.06 (0.27) %  5.40 (0.05) %   \n",
       "2    PCS  0.728 (0.160) %  4.45 (0.36) %  3.04 (1.30) %  3.73 (0.62) %   \n",
       "3   DPCS  0.656 (0.108) %  4.75 (0.57) %  3.40 (1.40) %  3.75 (0.89) %   \n",
       "\n",
       "               NDPC             DPCSO             DPCSN  \n",
       "0  0.575 (0.050) pm  0.142 (0.028) pm  0.109 (0.049) pm  \n",
       "1  0.718 (0.119) pm  0.125 (0.045) pm  0.082 (0.011) pm  \n",
       "2  0.654 (0.195) pm  0.190 (0.092) pm  0.101 (0.015) pm  \n",
       "3  0.629 (0.178) pm  0.168 (0.080) pm  0.127 (0.020) pm  "
      ]
     },
     "metadata": {},
     "output_type": "display_data"
    }
   ],
   "source": [
    "res_avg = avg_result_extended(res_dict)\n",
    "(res_recap, res_recap_latex, \n",
    " res_AB, res_AB_latex, \n",
    " res_true, res_true_latex) = format_avg_result_extended(res_avg) #get dataframe & corresponding latex table"
   ]
  },
  {
   "cell_type": "code",
   "execution_count": 9,
   "metadata": {},
   "outputs": [
    {
     "name": "stdout",
     "output_type": "stream",
     "text": [
      "\\begin{tabular}{llllll}\n",
      "\\toprule\n",
      " Agent &              CTR & Att Sales &          Att CR &  Sales &               CR \\\\\n",
      "\\midrule\n",
      "  Rand &  0.744 (0.403) \\% &     1 (0) &  10.06 (0.00) \\% &  6 (0) &   27.99 (8.46) \\% \\\\\n",
      " Click &  0.810 (0.058) \\% &     1 (0) &  19.02 (4.23) \\% &  6 (1) &   30.98 (4.23) \\% \\\\\n",
      "   PCS &  0.514 (0.205) \\% &     0 (0) &  13.04 (4.22) \\% &  5 (5) &  27.98 (16.91) \\% \\\\\n",
      "  DPCS &  0.816 (0.099) \\% &     1 (0) &  16.03 (8.45) \\% &  4 (3) &   22.01 (8.46) \\% \\\\\n",
      "\\bottomrule\n",
      "\\end{tabular}\n",
      "\n",
      "\n",
      "\\begin{tabular}{llllllll}\n",
      "\\toprule\n",
      " Agent &         True CTR &       True PCS &        True OS &       True NCS &              NDPC &             DPCSO &             DPCSN \\\\\n",
      "\\midrule\n",
      "  Rand &  0.570 (0.020) \\% &  5.05 (0.61) \\% &  3.80 (0.32) \\% &  4.10 (1.01) \\% &  0.575 (0.050) pm &  0.142 (0.028) pm &  0.109 (0.049) pm \\\\\n",
      " Click &  0.590 (0.105) \\% &  6.10 (0.08) \\% &  5.06 (0.27) \\% &  5.40 (0.05) \\% &  0.718 (0.119) pm &  0.125 (0.045) pm &  0.082 (0.011) pm \\\\\n",
      "   PCS &  0.728 (0.160) \\% &  4.45 (0.36) \\% &  3.04 (1.30) \\% &  3.73 (0.62) \\% &  0.654 (0.195) pm &  0.190 (0.092) pm &  0.101 (0.015) pm \\\\\n",
      "  DPCS &  0.656 (0.108) \\% &  4.75 (0.57) \\% &  3.40 (1.40) \\% &  3.75 (0.89) \\% &  0.629 (0.178) pm &  0.168 (0.080) pm &  0.127 (0.020) pm \\\\\n",
      "\\bottomrule\n",
      "\\end{tabular}\n",
      "\n"
     ]
    }
   ],
   "source": [
    "print(res_AB_latex+'\\n')\n",
    "print(res_true_latex)"
   ]
  },
  {
   "cell_type": "markdown",
   "metadata": {},
   "source": [
    "##### Weights"
   ]
  },
  {
   "cell_type": "code",
   "execution_count": 10,
   "metadata": {},
   "outputs": [
    {
     "name": "stdout",
     "output_type": "stream",
     "text": [
      "--- Trained agents loaded --- \n"
     ]
    }
   ],
   "source": [
    "name_extension = 'propweights'\n",
    "name_logging = name_agent\n",
    "res_dict = {}\n",
    "try :\n",
    "    info, save_agents = pkl.load(open(data_repo+str('timeagents'+str(num_users)+name_logging+feature_name+name_extension+'.pkl'),'rb'))\n",
    "    print('--- Trained agents loaded --- ')\n",
    "except :\n",
    "    print('--- Train agents ---')\n",
    "    info, save_agents = train_timeagents(name_logging,logs,feature_name,features, num_users=num_users, \n",
    "                                     kronecker_features=True,linear_reg=True, weights = True, repo = data_repo)"
   ]
  },
  {
   "cell_type": "code",
   "execution_count": 11,
   "metadata": {},
   "outputs": [
    {
     "name": "stdout",
     "output_type": "stream",
     "text": [
      "--- A/B test results loaded ---\n"
     ]
    }
   ],
   "source": [
    "try:\n",
    "    for i in range(num_AB_tests):\n",
    "        name_extension = 'propweights'+'_nb'+str(i)\n",
    "        name = 'likelihood_saleclickprod_discount_allpropweights_full'\n",
    "        agent_id = name_logging+str(num_users)+\"_\"+str(num_users_AB)+\"_\"+feature_name+name_extension\n",
    "        r = pkl.load(open(str(data_repo) +'res_'+agent_id+name+'.pkl',\"rb\"))\n",
    "        for k in r.keys():\n",
    "            if k not in ['CTR', 'Tot sales ATT', 'Share user with sale ATT', 'Tot sales', 'Share user with sale',\n",
    "                         'True CTR','True PCS','True OS','True NCS']:\n",
    "                r[k] = None\n",
    "\n",
    "        res_dict[name_logging+str(num_users)+\"_\"+str(num_users_AB)+\"_\"+feature_name+name_extension] = r\n",
    "    print('--- A/B test results loaded ---')\n",
    "    \n",
    "except:\n",
    "    print(' --- Run A/B test --- ')\n",
    "    for i in range(num_AB_tests):\n",
    "        print(\"-------------- A/B test n°\"+str(i)+'--------------')\n",
    "        name_extension = 'propweights'+'_nb'+str(i)\n",
    "        res=verify_agents_sale_extended(\n",
    "            env,\n",
    "            number_of_users=num_users_AB,\n",
    "            agents={\n",
    "                **agents, \n",
    "                **save_agents},\n",
    "            name = name_logging+str(num_users)+\"_\"+str(num_users_AB)+\"_\"+feature_name+name_extension,\n",
    "            seed = 0,\n",
    "            same_env = False,\n",
    "            repo = data_repo\n",
    "        )\n",
    "\n",
    "        r = deepcopy(res)\n",
    "        for k in r.keys():\n",
    "            if k not in ['CTR', 'Tot sales ATT', 'Share user with sale ATT', 'Tot sales', 'Share user with sale',\n",
    "                         'True CTR','True PCS','True OS','True NCS']:\n",
    "                r[k] = None\n",
    "\n",
    "        res_dict[name_logging+str(num_users)+\"_\"+str(num_users_AB)+\"_\"+feature_name+name_extension] = r"
   ]
  },
  {
   "cell_type": "code",
   "execution_count": 12,
   "metadata": {},
   "outputs": [
    {
     "name": "stdout",
     "output_type": "stream",
     "text": [
      "-- A/B test --\n"
     ]
    },
    {
     "data": {
      "text/html": [
       "<div>\n",
       "<style scoped>\n",
       "    .dataframe tbody tr th:only-of-type {\n",
       "        vertical-align: middle;\n",
       "    }\n",
       "\n",
       "    .dataframe tbody tr th {\n",
       "        vertical-align: top;\n",
       "    }\n",
       "\n",
       "    .dataframe thead th {\n",
       "        text-align: right;\n",
       "    }\n",
       "</style>\n",
       "<table border=\"1\" class=\"dataframe\">\n",
       "  <thead>\n",
       "    <tr style=\"text-align: right;\">\n",
       "      <th></th>\n",
       "      <th>Agent</th>\n",
       "      <th>CTR</th>\n",
       "      <th>Att Sales</th>\n",
       "      <th>Att CR</th>\n",
       "      <th>Sales</th>\n",
       "      <th>CR</th>\n",
       "    </tr>\n",
       "  </thead>\n",
       "  <tbody>\n",
       "    <tr>\n",
       "      <th>0</th>\n",
       "      <td>Rand</td>\n",
       "      <td>0.591 (0.153) %</td>\n",
       "      <td>0 (0)</td>\n",
       "      <td>10.06 (0.00) %</td>\n",
       "      <td>5 (1)</td>\n",
       "      <td>27.99 (8.46) %</td>\n",
       "    </tr>\n",
       "    <tr>\n",
       "      <th>1</th>\n",
       "      <td>PCS</td>\n",
       "      <td>0.692 (0.168) %</td>\n",
       "      <td>1 (0)</td>\n",
       "      <td>16.03 (0.00) %</td>\n",
       "      <td>3 (0)</td>\n",
       "      <td>25.00 (4.23) %</td>\n",
       "    </tr>\n",
       "    <tr>\n",
       "      <th>2</th>\n",
       "      <td>DPCS</td>\n",
       "      <td>0.763 (0.318) %</td>\n",
       "      <td>1 (0)</td>\n",
       "      <td>22.01 (0.00) %</td>\n",
       "      <td>8 (1)</td>\n",
       "      <td>39.91 (8.40) %</td>\n",
       "    </tr>\n",
       "  </tbody>\n",
       "</table>\n",
       "</div>"
      ],
      "text/plain": [
       "  Agent              CTR Att Sales          Att CR  Sales              CR\n",
       "0  Rand  0.591 (0.153) %     0 (0)  10.06 (0.00) %  5 (1)  27.99 (8.46) %\n",
       "1   PCS  0.692 (0.168) %     1 (0)  16.03 (0.00) %  3 (0)  25.00 (4.23) %\n",
       "2  DPCS  0.763 (0.318) %     1 (0)  22.01 (0.00) %  8 (1)  39.91 (8.40) %"
      ]
     },
     "metadata": {},
     "output_type": "display_data"
    },
    {
     "name": "stdout",
     "output_type": "stream",
     "text": [
      "-- True metrics --\n"
     ]
    },
    {
     "data": {
      "text/html": [
       "<div>\n",
       "<style scoped>\n",
       "    .dataframe tbody tr th:only-of-type {\n",
       "        vertical-align: middle;\n",
       "    }\n",
       "\n",
       "    .dataframe tbody tr th {\n",
       "        vertical-align: top;\n",
       "    }\n",
       "\n",
       "    .dataframe thead th {\n",
       "        text-align: right;\n",
       "    }\n",
       "</style>\n",
       "<table border=\"1\" class=\"dataframe\">\n",
       "  <thead>\n",
       "    <tr style=\"text-align: right;\">\n",
       "      <th></th>\n",
       "      <th>Agent</th>\n",
       "      <th>True CTR</th>\n",
       "      <th>True PCS</th>\n",
       "      <th>True OS</th>\n",
       "      <th>True NCS</th>\n",
       "      <th>NDPC</th>\n",
       "      <th>DPCSO</th>\n",
       "      <th>DPCSN</th>\n",
       "    </tr>\n",
       "  </thead>\n",
       "  <tbody>\n",
       "    <tr>\n",
       "      <th>0</th>\n",
       "      <td>Rand</td>\n",
       "      <td>0.604 (0.018) %</td>\n",
       "      <td>4.46 (0.28) %</td>\n",
       "      <td>3.43 (0.18) %</td>\n",
       "      <td>3.41 (0.12) %</td>\n",
       "      <td>0.538 (0.017) pm</td>\n",
       "      <td>0.124 (0.008) pm</td>\n",
       "      <td>0.126 (0.015) pm</td>\n",
       "    </tr>\n",
       "    <tr>\n",
       "      <th>1</th>\n",
       "      <td>PCS</td>\n",
       "      <td>0.538 (0.148) %</td>\n",
       "      <td>4.59 (0.39) %</td>\n",
       "      <td>3.43 (0.66) %</td>\n",
       "      <td>3.51 (0.62) %</td>\n",
       "      <td>0.499 (0.179) pm</td>\n",
       "      <td>0.121 (0.006) pm</td>\n",
       "      <td>0.113 (0.008) pm</td>\n",
       "    </tr>\n",
       "    <tr>\n",
       "      <th>2</th>\n",
       "      <td>DPCS</td>\n",
       "      <td>0.528 (0.111) %</td>\n",
       "      <td>5.57 (0.41) %</td>\n",
       "      <td>3.79 (0.55) %</td>\n",
       "      <td>4.53 (0.49) %</td>\n",
       "      <td>0.584 (0.081) pm</td>\n",
       "      <td>0.190 (0.055) pm</td>\n",
       "      <td>0.111 (0.031) pm</td>\n",
       "    </tr>\n",
       "  </tbody>\n",
       "</table>\n",
       "</div>"
      ],
      "text/plain": [
       "  Agent         True CTR       True PCS        True OS       True NCS  \\\n",
       "0  Rand  0.604 (0.018) %  4.46 (0.28) %  3.43 (0.18) %  3.41 (0.12) %   \n",
       "1   PCS  0.538 (0.148) %  4.59 (0.39) %  3.43 (0.66) %  3.51 (0.62) %   \n",
       "2  DPCS  0.528 (0.111) %  5.57 (0.41) %  3.79 (0.55) %  4.53 (0.49) %   \n",
       "\n",
       "               NDPC             DPCSO             DPCSN  \n",
       "0  0.538 (0.017) pm  0.124 (0.008) pm  0.126 (0.015) pm  \n",
       "1  0.499 (0.179) pm  0.121 (0.006) pm  0.113 (0.008) pm  \n",
       "2  0.584 (0.081) pm  0.190 (0.055) pm  0.111 (0.031) pm  "
      ]
     },
     "metadata": {},
     "output_type": "display_data"
    }
   ],
   "source": [
    "res_avg = avg_result_extended(res_dict)\n",
    "(res_recap, res_recap_latex, \n",
    " res_AB, res_AB_latex, \n",
    " res_true, res_true_latex) = format_avg_result_extended(res_avg) #get dataframe & corresponding latex table"
   ]
  },
  {
   "cell_type": "code",
   "execution_count": 13,
   "metadata": {},
   "outputs": [
    {
     "name": "stdout",
     "output_type": "stream",
     "text": [
      "\\begin{tabular}{llllll}\n",
      "\\toprule\n",
      "Agent &              CTR & Att Sales &          Att CR &  Sales &              CR \\\\\n",
      "\\midrule\n",
      " Rand &  0.591 (0.153) \\% &     0 (0) &  10.06 (0.00) \\% &  5 (1) &  27.99 (8.46) \\% \\\\\n",
      "  PCS &  0.692 (0.168) \\% &     1 (0) &  16.03 (0.00) \\% &  3 (0) &  25.00 (4.23) \\% \\\\\n",
      " DPCS &  0.763 (0.318) \\% &     1 (0) &  22.01 (0.00) \\% &  8 (1) &  39.91 (8.40) \\% \\\\\n",
      "\\bottomrule\n",
      "\\end{tabular}\n",
      "\n",
      "\n",
      "\\begin{tabular}{llllllll}\n",
      "\\toprule\n",
      "Agent &         True CTR &       True PCS &        True OS &       True NCS &              NDPC &             DPCSO &             DPCSN \\\\\n",
      "\\midrule\n",
      " Rand &  0.604 (0.018) \\% &  4.46 (0.28) \\% &  3.43 (0.18) \\% &  3.41 (0.12) \\% &  0.538 (0.017) pm &  0.124 (0.008) pm &  0.126 (0.015) pm \\\\\n",
      "  PCS &  0.538 (0.148) \\% &  4.59 (0.39) \\% &  3.43 (0.66) \\% &  3.51 (0.62) \\% &  0.499 (0.179) pm &  0.121 (0.006) pm &  0.113 (0.008) pm \\\\\n",
      " DPCS &  0.528 (0.111) \\% &  5.57 (0.41) \\% &  3.79 (0.55) \\% &  4.53 (0.49) \\% &  0.584 (0.081) pm &  0.190 (0.055) pm &  0.111 (0.031) pm \\\\\n",
      "\\bottomrule\n",
      "\\end{tabular}\n",
      "\n"
     ]
    }
   ],
   "source": [
    "print(res_AB_latex+'\\n')\n",
    "print(res_true_latex)"
   ]
  },
  {
   "cell_type": "code",
   "execution_count": null,
   "metadata": {},
   "outputs": [],
   "source": []
  }
 ],
 "metadata": {
  "kernelspec": {
   "display_name": "Python 3",
   "language": "python",
   "name": "python3"
  },
  "language_info": {
   "codemirror_mode": {
    "name": "ipython",
    "version": 3
   },
   "file_extension": ".py",
   "mimetype": "text/x-python",
   "name": "python",
   "nbconvert_exporter": "python",
   "pygments_lexer": "ipython3",
   "version": "3.7.4"
  }
 },
 "nbformat": 4,
 "nbformat_minor": 2
}
