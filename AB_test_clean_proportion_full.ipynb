{
 "cells": [
  {
   "cell_type": "markdown",
   "metadata": {},
   "source": [
    "# Training and A/B test for Conversion agents - <font color='blue'> Proportion</font> of sale"
   ]
  },
  {
   "cell_type": "code",
   "execution_count": 28,
   "metadata": {},
   "outputs": [
    {
     "name": "stdout",
     "output_type": "stream",
     "text": [
      "Number of products = 10\n",
      "Number of flips = 10\n",
      "Value of kappa = 0.2\n"
     ]
    }
   ],
   "source": [
    "import gym, recogym\n",
    "import matplotlib.pyplot as plt\n",
    "from copy import deepcopy\n",
    "import numpy as np\n",
    "import pandas as pd\n",
    "import pickle as pkl\n",
    "pd.options.mode.chained_assignment = None \n",
    "# from inspect import getsource\n",
    "from recogym.evaluate_agent_sale import verify_agents_sale, display_metrics, verify_agents_sale_extended\n",
    "from tqdm import tqdm\n",
    "\n",
    "# env_1_sale_args is a dictionary of default parameters (i.e. number of products)\n",
    "from recogym import env_1_sale_args, Configuration\n",
    "from recogym.agents.sale_agent import train_agents, train_timeagents\n",
    "from recogym.envs.utils_sale import format_avg_result, avg_result, format_avg_result_extended, avg_result_extended \n",
    "\n",
    "# You can overwrite environment arguments here:\n",
    "env_1_sale_args['random_seed'] = 0\n",
    "env_1_sale_args['num_products'] = 10\n",
    "env_1_sale_args['number_of_flips'] = 10 \n",
    "\n",
    "num_products = env_1_sale_args['num_products']\n",
    "print('Number of products =',num_products)\n",
    "print('Number of flips =',env_1_sale_args['number_of_flips'])\n",
    "nb_flips = env_1_sale_args['number_of_flips']\n",
    "\n",
    "# You can overwrite environment arguments here:\n",
    "env_1_sale_args['random_seed'] = 42\n",
    "env_1_sale_args['mu_sale'] = False \n",
    "\n",
    "# env_1_sale_args['kappa'] = 0.5\n",
    "print('Value of kappa =',env_1_sale_args['kappa'])\n",
    "\n",
    "# Initialize the gym \n",
    "env = gym.make('reco-gym-sale-v1')\n",
    "env.init_gym(env_1_sale_args)\n",
    "\n"
   ]
  },
  {
   "cell_type": "code",
   "execution_count": 29,
   "metadata": {},
   "outputs": [],
   "source": [
    "# Repository to save pickles\n",
    "data_repo = 'data_conversion/'"
   ]
  },
  {
   "cell_type": "markdown",
   "metadata": {},
   "source": [
    "## Train baseline agents"
   ]
  },
  {
   "cell_type": "markdown",
   "metadata": {},
   "source": [
    "#### Settings"
   ]
  },
  {
   "cell_type": "code",
   "execution_count": 30,
   "metadata": {},
   "outputs": [],
   "source": [
    "## Choose number of users for training and AB test\n",
    "# Number of users for the training\n",
    "# env_1_sale_args['num_users'] = 6 ##tochange !!\n",
    "env_1_sale_args['num_users'] = 5000\n",
    "num_users = env_1_sale_args['num_users']\n",
    "\n",
    "# Number of users for the A/B test\n",
    "# env_1_sale_args['num_users_AB'] = 7 ##tochange !!\n",
    "env_1_sale_args['num_users_AB'] = 5000 \n",
    "num_users_AB = env_1_sale_args['num_users_AB']\n",
    "\n",
    "# Choose user features\n",
    "from recogym.agents.sale_agent import CountViewsClicksFeatureProvider, CountViewsFeatureProvider, ShareViewsClicksFeatureProvider, ShareViewsFeatureProvider\n",
    "vc_feature = CountViewsClicksFeatureProvider(env.config)\n",
    "v_feature = CountViewsFeatureProvider(env.config)\n",
    "vc_share_feature = ShareViewsClicksFeatureProvider(env.config)\n",
    "v_share_feature = ShareViewsFeatureProvider(env.config)\n",
    "features = {'vc':vc_feature,\n",
    "           'v':v_feature,\n",
    "           'vc_share':vc_share_feature,\n",
    "           'v_share':v_share_feature}\n",
    "feature_name = 'v_share'\n",
    "feature = features[feature_name]"
   ]
  },
  {
   "cell_type": "markdown",
   "metadata": {},
   "source": [
    "#### <font color='red'> Number of A/B tests</font>"
   ]
  },
  {
   "cell_type": "code",
   "execution_count": 31,
   "metadata": {},
   "outputs": [],
   "source": [
    "# # Choose number of A/B tests\n",
    "# num_AB_tests = 2 ##tochange !\n",
    "num_AB_tests = 25 ##tochange !"
   ]
  },
  {
   "cell_type": "markdown",
   "metadata": {},
   "source": [
    "#### Logs"
   ]
  },
  {
   "cell_type": "code",
   "execution_count": 32,
   "metadata": {
    "scrolled": true
   },
   "outputs": [
    {
     "name": "stdout",
     "output_type": "stream",
     "text": [
      "--- Logs loaded---\n"
     ]
    }
   ],
   "source": [
    "agents={}\n",
    "logs={}\n",
    "\n",
    "############## Random agent\n",
    "name_agent = 'rand'+str(nb_flips)\n",
    "from recogym.agents import RandomAgent, random_args\n",
    "random_agent = RandomAgent(Configuration(random_args))\n",
    "agents[name_agent] = random_agent\n",
    "\n",
    "\n",
    "try:\n",
    "    logs[name_agent] = pkl.load(open(data_repo + 'data' + str(num_users) + name_agent + '.pkl','rb'))\n",
    "    print('--- Logs loaded---')\n",
    "except: \n",
    "    print(\"--- Generate logs ---\")\n",
    "    logs[name_agent] = deepcopy(env).generate_logs(num_users)\n",
    "    print(data_repo + 'data' + str(num_users) + name_agent + '.pkl')\n",
    "    pkl.dump(logs[name_agent], open(data_repo + 'data' + str(num_users) + name_agent + '.pkl','wb'))"
   ]
  },
  {
   "cell_type": "markdown",
   "metadata": {},
   "source": [
    "#### Training for the <font color='blue'> Proportion</font> of sale"
   ]
  },
  {
   "cell_type": "markdown",
   "metadata": {},
   "source": [
    "##### No weights"
   ]
  },
  {
   "cell_type": "code",
   "execution_count": 33,
   "metadata": {},
   "outputs": [
    {
     "name": "stdout",
     "output_type": "stream",
     "text": [
      "--- Trained agents loaded --- \n"
     ]
    }
   ],
   "source": [
    "name_extension = 'prop'\n",
    "name_logging = name_agent\n",
    "res_dict = {}\n",
    "try :\n",
    "    info, save_agents = pkl.load(open(data_repo+str('timeagents'+str(num_users)+name_logging+feature_name+name_extension+'.pkl'),'rb'))\n",
    "    print('--- Trained agents loaded --- ')\n",
    "except :\n",
    "    print('--- Train agents ---')\n",
    "    info, save_agents = train_timeagents(name_logging,logs,feature_name,features, num_users=num_users, \n",
    "                                     kronecker_features=True,linear_reg=True, repo = data_repo)"
   ]
  },
  {
   "cell_type": "code",
   "execution_count": 34,
   "metadata": {},
   "outputs": [
    {
     "name": "stdout",
     "output_type": "stream",
     "text": [
      "--- A/B test results loaded ---\n"
     ]
    }
   ],
   "source": [
    "try:\n",
    "    for i in range(num_AB_tests):\n",
    "        name_extension = 'prop'+'_nb'+str(i)\n",
    "        name = name = 'likelihood_saleclickprod_discountprop_full'\n",
    "        agent_id = name_logging+str(num_users)+\"_\"+str(num_users_AB)+\"_\"+feature_name+name_extension\n",
    "        r = pkl.load(open(str(data_repo) +'res_'+agent_id+name+'.pkl',\"rb\"))\n",
    "        for k in r.keys():\n",
    "            if k not in ['CTR', 'Tot sales ATT', 'Share user with sale ATT', 'Tot sales', 'Share user with sale',\n",
    "                         'True CTR','True PCS','True OS','True NCS']:\n",
    "                r[k] = None\n",
    "\n",
    "        res_dict[name_logging+str(num_users)+\"_\"+str(num_users_AB)+\"_\"+feature_name+name_extension] = r\n",
    "    print('--- A/B test results loaded ---')\n",
    "    \n",
    "except:\n",
    "    print(' --- Run A/B test --- ')\n",
    "    for i in range(num_AB_tests):\n",
    "        print(\"-------------- A/B test n°\"+str(i)+'--------------')\n",
    "        name_extension = 'prop'+'_nb'+str(i)\n",
    "        res=verify_agents_sale_extended(\n",
    "            env,\n",
    "            number_of_users=num_users_AB,\n",
    "            agents={\n",
    "                **agents, \n",
    "                **save_agents},\n",
    "            name = name_logging+str(num_users)+\"_\"+str(num_users_AB)+\"_\"+feature_name+name_extension,\n",
    "            seed = 0,\n",
    "            same_env = False,\n",
    "            repo = data_repo\n",
    "        )\n",
    "\n",
    "        r = deepcopy(res)\n",
    "        for k in r.keys():\n",
    "            if k not in ['CTR', 'Tot sales ATT', 'Share user with sale ATT', 'Tot sales', 'Share user with sale',\n",
    "                         'True CTR','True PCS','True OS','True NCS']:\n",
    "                r[k] = None\n",
    "\n",
    "        res_dict[name_logging+str(num_users)+\"_\"+str(num_users_AB)+\"_\"+feature_name+name_extension] = r"
   ]
  },
  {
   "cell_type": "code",
   "execution_count": 35,
   "metadata": {
    "scrolled": true
   },
   "outputs": [
    {
     "name": "stdout",
     "output_type": "stream",
     "text": [
      "-- A/B test --\n"
     ]
    },
    {
     "data": {
      "text/html": [
       "<div>\n",
       "<style scoped>\n",
       "    .dataframe tbody tr th:only-of-type {\n",
       "        vertical-align: middle;\n",
       "    }\n",
       "\n",
       "    .dataframe tbody tr th {\n",
       "        vertical-align: top;\n",
       "    }\n",
       "\n",
       "    .dataframe thead th {\n",
       "        text-align: right;\n",
       "    }\n",
       "</style>\n",
       "<table border=\"1\" class=\"dataframe\">\n",
       "  <thead>\n",
       "    <tr style=\"text-align: right;\">\n",
       "      <th></th>\n",
       "      <th>Agent</th>\n",
       "      <th>CTR</th>\n",
       "      <th>Att Sales</th>\n",
       "      <th>Att CR</th>\n",
       "      <th>Sales</th>\n",
       "      <th>CR</th>\n",
       "    </tr>\n",
       "  </thead>\n",
       "  <tbody>\n",
       "    <tr>\n",
       "      <th>0</th>\n",
       "      <td>Rand</td>\n",
       "      <td>0.546 (0.134) %</td>\n",
       "      <td>1 (0)</td>\n",
       "      <td>16.03 (8.45) %</td>\n",
       "      <td>6 (0)</td>\n",
       "      <td>33.97 (0.00) %</td>\n",
       "    </tr>\n",
       "    <tr>\n",
       "      <th>1</th>\n",
       "      <td>PCS</td>\n",
       "      <td>0.957 (0.266) %</td>\n",
       "      <td>1 (0)</td>\n",
       "      <td>19.02 (4.23) %</td>\n",
       "      <td>6 (1)</td>\n",
       "      <td>27.99 (0.00) %</td>\n",
       "    </tr>\n",
       "    <tr>\n",
       "      <th>2</th>\n",
       "      <td>DPCS</td>\n",
       "      <td>0.693 (0.397) %</td>\n",
       "      <td>1 (0)</td>\n",
       "      <td>16.03 (0.00) %</td>\n",
       "      <td>8 (1)</td>\n",
       "      <td>36.96 (4.22) %</td>\n",
       "    </tr>\n",
       "  </tbody>\n",
       "</table>\n",
       "</div>"
      ],
      "text/plain": [
       "  Agent              CTR Att Sales          Att CR  Sales              CR\n",
       "0  Rand  0.546 (0.134) %     1 (0)  16.03 (8.45) %  6 (0)  33.97 (0.00) %\n",
       "1   PCS  0.957 (0.266) %     1 (0)  19.02 (4.23) %  6 (1)  27.99 (0.00) %\n",
       "2  DPCS  0.693 (0.397) %     1 (0)  16.03 (0.00) %  8 (1)  36.96 (4.22) %"
      ]
     },
     "metadata": {},
     "output_type": "display_data"
    },
    {
     "name": "stdout",
     "output_type": "stream",
     "text": [
      "-- True metrics --\n"
     ]
    },
    {
     "data": {
      "text/html": [
       "<div>\n",
       "<style scoped>\n",
       "    .dataframe tbody tr th:only-of-type {\n",
       "        vertical-align: middle;\n",
       "    }\n",
       "\n",
       "    .dataframe tbody tr th {\n",
       "        vertical-align: top;\n",
       "    }\n",
       "\n",
       "    .dataframe thead th {\n",
       "        text-align: right;\n",
       "    }\n",
       "</style>\n",
       "<table border=\"1\" class=\"dataframe\">\n",
       "  <thead>\n",
       "    <tr style=\"text-align: right;\">\n",
       "      <th></th>\n",
       "      <th>Agent</th>\n",
       "      <th>True CTR</th>\n",
       "      <th>True PCS</th>\n",
       "      <th>True OS</th>\n",
       "      <th>True NCS</th>\n",
       "      <th>NDPC</th>\n",
       "      <th>DPCSO</th>\n",
       "      <th>DPCSN</th>\n",
       "    </tr>\n",
       "  </thead>\n",
       "  <tbody>\n",
       "    <tr>\n",
       "      <th>0</th>\n",
       "      <td>Rand</td>\n",
       "      <td>0.593 (0.019) %</td>\n",
       "      <td>4.82 (0.36) %</td>\n",
       "      <td>3.90 (0.37) %</td>\n",
       "      <td>3.81 (0.50) %</td>\n",
       "      <td>0.573 (0.062) pm</td>\n",
       "      <td>0.110 (0.002) pm</td>\n",
       "      <td>0.120 (0.013) pm</td>\n",
       "    </tr>\n",
       "    <tr>\n",
       "      <th>1</th>\n",
       "      <td>PCS</td>\n",
       "      <td>0.718 (0.281) %</td>\n",
       "      <td>5.87 (0.63) %</td>\n",
       "      <td>4.65 (0.46) %</td>\n",
       "      <td>5.26 (0.88) %</td>\n",
       "      <td>0.861 (0.420) pm</td>\n",
       "      <td>0.180 (0.093) pm</td>\n",
       "      <td>0.081 (0.001) pm</td>\n",
       "    </tr>\n",
       "    <tr>\n",
       "      <th>2</th>\n",
       "      <td>DPCS</td>\n",
       "      <td>0.684 (0.025) %</td>\n",
       "      <td>5.01 (0.73) %</td>\n",
       "      <td>2.89 (0.98) %</td>\n",
       "      <td>3.84 (0.46) %</td>\n",
       "      <td>0.687 (0.125) pm</td>\n",
       "      <td>0.290 (0.023) pm</td>\n",
       "      <td>0.161 (0.043) pm</td>\n",
       "    </tr>\n",
       "  </tbody>\n",
       "</table>\n",
       "</div>"
      ],
      "text/plain": [
       "  Agent         True CTR       True PCS        True OS       True NCS  \\\n",
       "0  Rand  0.593 (0.019) %  4.82 (0.36) %  3.90 (0.37) %  3.81 (0.50) %   \n",
       "1   PCS  0.718 (0.281) %  5.87 (0.63) %  4.65 (0.46) %  5.26 (0.88) %   \n",
       "2  DPCS  0.684 (0.025) %  5.01 (0.73) %  2.89 (0.98) %  3.84 (0.46) %   \n",
       "\n",
       "               NDPC             DPCSO             DPCSN  \n",
       "0  0.573 (0.062) pm  0.110 (0.002) pm  0.120 (0.013) pm  \n",
       "1  0.861 (0.420) pm  0.180 (0.093) pm  0.081 (0.001) pm  \n",
       "2  0.687 (0.125) pm  0.290 (0.023) pm  0.161 (0.043) pm  "
      ]
     },
     "metadata": {},
     "output_type": "display_data"
    }
   ],
   "source": [
    "res_avg = avg_result_extended(res_dict)\n",
    "(res_recap, res_recap_latex, \n",
    " res_AB, res_AB_latex, \n",
    " res_true, res_true_latex) = format_avg_result_extended(res_avg) #get dataframe & corresponding latex table"
   ]
  },
  {
   "cell_type": "code",
   "execution_count": 36,
   "metadata": {},
   "outputs": [
    {
     "name": "stdout",
     "output_type": "stream",
     "text": [
      "\\begin{tabular}{llllll}\n",
      "\\toprule\n",
      "Agent &              CTR & Att Sales &          Att CR &  Sales &              CR \\\\\n",
      "\\midrule\n",
      " Rand &  0.546 (0.134) \\% &     1 (0) &  16.03 (8.45) \\% &  6 (0) &  33.97 (0.00) \\% \\\\\n",
      "  PCS &  0.957 (0.266) \\% &     1 (0) &  19.02 (4.23) \\% &  6 (1) &  27.99 (0.00) \\% \\\\\n",
      " DPCS &  0.693 (0.397) \\% &     1 (0) &  16.03 (0.00) \\% &  8 (1) &  36.96 (4.22) \\% \\\\\n",
      "\\bottomrule\n",
      "\\end{tabular}\n",
      "\n",
      "\n",
      "\\begin{tabular}{llllllll}\n",
      "\\toprule\n",
      "Agent &         True CTR &       True PCS &        True OS &       True NCS &              NDPC &             DPCSO &             DPCSN \\\\\n",
      "\\midrule\n",
      " Rand &  0.593 (0.019) \\% &  4.82 (0.36) \\% &  3.90 (0.37) \\% &  3.81 (0.50) \\% &  0.573 (0.062) pm &  0.110 (0.002) pm &  0.120 (0.013) pm \\\\\n",
      "  PCS &  0.718 (0.281) \\% &  5.87 (0.63) \\% &  4.65 (0.46) \\% &  5.26 (0.88) \\% &  0.861 (0.420) pm &  0.180 (0.093) pm &  0.081 (0.001) pm \\\\\n",
      " DPCS &  0.684 (0.025) \\% &  5.01 (0.73) \\% &  2.89 (0.98) \\% &  3.84 (0.46) \\% &  0.687 (0.125) pm &  0.290 (0.023) pm &  0.161 (0.043) pm \\\\\n",
      "\\bottomrule\n",
      "\\end{tabular}\n",
      "\n"
     ]
    }
   ],
   "source": [
    "print(res_AB_latex+'\\n')\n",
    "print(res_true_latex)"
   ]
  },
  {
   "cell_type": "markdown",
   "metadata": {},
   "source": [
    "##### Weights"
   ]
  },
  {
   "cell_type": "code",
   "execution_count": 37,
   "metadata": {},
   "outputs": [
    {
     "name": "stdout",
     "output_type": "stream",
     "text": [
      "--- Trained agents loaded --- \n"
     ]
    }
   ],
   "source": [
    "name_extension = 'propweights'\n",
    "name_logging = name_agent\n",
    "res_dict = {}\n",
    "try :\n",
    "    info, save_agents = pkl.load(open(data_repo+str('timeagents'+str(num_users)+name_logging+feature_name+name_extension+'.pkl'),'rb'))\n",
    "    print('--- Trained agents loaded --- ')\n",
    "except :\n",
    "    print('--- Train agents ---')\n",
    "    info, save_agents = train_timeagents(name_logging,logs,feature_name,features, num_users=num_users, \n",
    "                                     kronecker_features=True,linear_reg=True, weights = True, repo = data_repo)"
   ]
  },
  {
   "cell_type": "code",
   "execution_count": 38,
   "metadata": {},
   "outputs": [
    {
     "name": "stdout",
     "output_type": "stream",
     "text": [
      "--- A/B test results loaded ---\n"
     ]
    }
   ],
   "source": [
    "try:\n",
    "    for i in range(num_AB_tests):\n",
    "        name_extension = 'propweights'+'_nb'+str(i)\n",
    "        name = 'likelihood_saleclickprod_discountpropweights_full'\n",
    "        agent_id = name_logging+str(num_users)+\"_\"+str(num_users_AB)+\"_\"+feature_name+name_extension\n",
    "        r = pkl.load(open(str(data_repo) +'res_'+agent_id+name+'.pkl',\"rb\"))\n",
    "        for k in r.keys():\n",
    "            if k not in ['CTR', 'Tot sales ATT', 'Share user with sale ATT', 'Tot sales', 'Share user with sale',\n",
    "                         'True CTR','True PCS','True OS','True NCS']:\n",
    "                r[k] = None\n",
    "\n",
    "        res_dict[name_logging+str(num_users)+\"_\"+str(num_users_AB)+\"_\"+feature_name+name_extension] = r\n",
    "    print('--- A/B test results loaded ---')\n",
    "    \n",
    "except:\n",
    "    print(' --- Run A/B test --- ')\n",
    "    for i in range(num_AB_tests):\n",
    "        print(\"-------------- A/B test n°\"+str(i)+'--------------')\n",
    "        name_extension = 'propweights'+'_nb'+str(i)\n",
    "        res=verify_agents_sale_extended(\n",
    "            env,\n",
    "            number_of_users=num_users_AB,\n",
    "            agents={\n",
    "                **agents, \n",
    "                **save_agents},\n",
    "            name = name_logging+str(num_users)+\"_\"+str(num_users_AB)+\"_\"+feature_name+name_extension,\n",
    "            seed = 0,\n",
    "            same_env = False,\n",
    "            repo = data_repo\n",
    "        )\n",
    "\n",
    "        r = deepcopy(res)\n",
    "        for k in r.keys():\n",
    "            if k not in ['CTR', 'Tot sales ATT', 'Share user with sale ATT', 'Tot sales', 'Share user with sale',\n",
    "                         'True CTR','True PCS','True OS','True NCS']:\n",
    "                r[k] = None\n",
    "\n",
    "        res_dict[name_logging+str(num_users)+\"_\"+str(num_users_AB)+\"_\"+feature_name+name_extension] = r"
   ]
  },
  {
   "cell_type": "code",
   "execution_count": 39,
   "metadata": {},
   "outputs": [
    {
     "name": "stdout",
     "output_type": "stream",
     "text": [
      "-- A/B test --\n"
     ]
    },
    {
     "data": {
      "text/html": [
       "<div>\n",
       "<style scoped>\n",
       "    .dataframe tbody tr th:only-of-type {\n",
       "        vertical-align: middle;\n",
       "    }\n",
       "\n",
       "    .dataframe tbody tr th {\n",
       "        vertical-align: top;\n",
       "    }\n",
       "\n",
       "    .dataframe thead th {\n",
       "        text-align: right;\n",
       "    }\n",
       "</style>\n",
       "<table border=\"1\" class=\"dataframe\">\n",
       "  <thead>\n",
       "    <tr style=\"text-align: right;\">\n",
       "      <th></th>\n",
       "      <th>Agent</th>\n",
       "      <th>CTR</th>\n",
       "      <th>Att Sales</th>\n",
       "      <th>Att CR</th>\n",
       "      <th>Sales</th>\n",
       "      <th>CR</th>\n",
       "    </tr>\n",
       "  </thead>\n",
       "  <tbody>\n",
       "    <tr>\n",
       "      <th>0</th>\n",
       "      <td>Rand</td>\n",
       "      <td>0.470 (0.004) %</td>\n",
       "      <td>0 (0)</td>\n",
       "      <td>10.09 (8.40) %</td>\n",
       "      <td>4 (5)</td>\n",
       "      <td>25.00 (21.13) %</td>\n",
       "    </tr>\n",
       "    <tr>\n",
       "      <th>1</th>\n",
       "      <td>PCS</td>\n",
       "      <td>0.580 (0.178) %</td>\n",
       "      <td>0 (0)</td>\n",
       "      <td>10.09 (8.40) %</td>\n",
       "      <td>1 (1)</td>\n",
       "      <td>16.03 (8.45) %</td>\n",
       "    </tr>\n",
       "    <tr>\n",
       "      <th>2</th>\n",
       "      <td>DPCS</td>\n",
       "      <td>0.822 (0.547) %</td>\n",
       "      <td>1 (0)</td>\n",
       "      <td>16.03 (8.45) %</td>\n",
       "      <td>6 (1)</td>\n",
       "      <td>30.98 (4.23) %</td>\n",
       "    </tr>\n",
       "  </tbody>\n",
       "</table>\n",
       "</div>"
      ],
      "text/plain": [
       "  Agent              CTR Att Sales          Att CR  Sales               CR\n",
       "0  Rand  0.470 (0.004) %     0 (0)  10.09 (8.40) %  4 (5)  25.00 (21.13) %\n",
       "1   PCS  0.580 (0.178) %     0 (0)  10.09 (8.40) %  1 (1)   16.03 (8.45) %\n",
       "2  DPCS  0.822 (0.547) %     1 (0)  16.03 (8.45) %  6 (1)   30.98 (4.23) %"
      ]
     },
     "metadata": {},
     "output_type": "display_data"
    },
    {
     "name": "stdout",
     "output_type": "stream",
     "text": [
      "-- True metrics --\n"
     ]
    },
    {
     "data": {
      "text/html": [
       "<div>\n",
       "<style scoped>\n",
       "    .dataframe tbody tr th:only-of-type {\n",
       "        vertical-align: middle;\n",
       "    }\n",
       "\n",
       "    .dataframe tbody tr th {\n",
       "        vertical-align: top;\n",
       "    }\n",
       "\n",
       "    .dataframe thead th {\n",
       "        text-align: right;\n",
       "    }\n",
       "</style>\n",
       "<table border=\"1\" class=\"dataframe\">\n",
       "  <thead>\n",
       "    <tr style=\"text-align: right;\">\n",
       "      <th></th>\n",
       "      <th>Agent</th>\n",
       "      <th>True CTR</th>\n",
       "      <th>True PCS</th>\n",
       "      <th>True OS</th>\n",
       "      <th>True NCS</th>\n",
       "      <th>NDPC</th>\n",
       "      <th>DPCSO</th>\n",
       "      <th>DPCSN</th>\n",
       "    </tr>\n",
       "  </thead>\n",
       "  <tbody>\n",
       "    <tr>\n",
       "      <th>0</th>\n",
       "      <td>Rand</td>\n",
       "      <td>0.606 (0.077) %</td>\n",
       "      <td>4.99 (1.66) %</td>\n",
       "      <td>3.89 (1.85) %</td>\n",
       "      <td>4.23 (1.95) %</td>\n",
       "      <td>0.591 (0.124) pm</td>\n",
       "      <td>0.135 (0.040) pm</td>\n",
       "      <td>0.094 (0.047) pm</td>\n",
       "    </tr>\n",
       "    <tr>\n",
       "      <th>1</th>\n",
       "      <td>PCS</td>\n",
       "      <td>0.663 (0.177) %</td>\n",
       "      <td>3.45 (1.62) %</td>\n",
       "      <td>1.92 (1.25) %</td>\n",
       "      <td>2.31 (1.33) %</td>\n",
       "      <td>0.429 (0.093) pm</td>\n",
       "      <td>0.196 (0.005) pm</td>\n",
       "      <td>0.146 (0.002) pm</td>\n",
       "    </tr>\n",
       "    <tr>\n",
       "      <th>2</th>\n",
       "      <td>DPCS</td>\n",
       "      <td>0.763 (0.064) %</td>\n",
       "      <td>4.33 (0.17) %</td>\n",
       "      <td>2.38 (0.06) %</td>\n",
       "      <td>3.26 (0.04) %</td>\n",
       "      <td>0.661 (0.029) pm</td>\n",
       "      <td>0.298 (0.008) pm</td>\n",
       "      <td>0.163 (0.006) pm</td>\n",
       "    </tr>\n",
       "  </tbody>\n",
       "</table>\n",
       "</div>"
      ],
      "text/plain": [
       "  Agent         True CTR       True PCS        True OS       True NCS  \\\n",
       "0  Rand  0.606 (0.077) %  4.99 (1.66) %  3.89 (1.85) %  4.23 (1.95) %   \n",
       "1   PCS  0.663 (0.177) %  3.45 (1.62) %  1.92 (1.25) %  2.31 (1.33) %   \n",
       "2  DPCS  0.763 (0.064) %  4.33 (0.17) %  2.38 (0.06) %  3.26 (0.04) %   \n",
       "\n",
       "               NDPC             DPCSO             DPCSN  \n",
       "0  0.591 (0.124) pm  0.135 (0.040) pm  0.094 (0.047) pm  \n",
       "1  0.429 (0.093) pm  0.196 (0.005) pm  0.146 (0.002) pm  \n",
       "2  0.661 (0.029) pm  0.298 (0.008) pm  0.163 (0.006) pm  "
      ]
     },
     "metadata": {},
     "output_type": "display_data"
    }
   ],
   "source": [
    "res_avg = avg_result_extended(res_dict)\n",
    "(res_recap, res_recap_latex, \n",
    " res_AB, res_AB_latex, \n",
    " res_true, res_true_latex) = format_avg_result_extended(res_avg) #get dataframe & corresponding latex table"
   ]
  },
  {
   "cell_type": "code",
   "execution_count": 40,
   "metadata": {},
   "outputs": [
    {
     "name": "stdout",
     "output_type": "stream",
     "text": [
      "\\begin{tabular}{llllll}\n",
      "\\toprule\n",
      "Agent &              CTR & Att Sales &          Att CR &  Sales &               CR \\\\\n",
      "\\midrule\n",
      " Rand &  0.470 (0.004) \\% &     0 (0) &  10.09 (8.40) \\% &  4 (5) &  25.00 (21.13) \\% \\\\\n",
      "  PCS &  0.580 (0.178) \\% &     0 (0) &  10.09 (8.40) \\% &  1 (1) &   16.03 (8.45) \\% \\\\\n",
      " DPCS &  0.822 (0.547) \\% &     1 (0) &  16.03 (8.45) \\% &  6 (1) &   30.98 (4.23) \\% \\\\\n",
      "\\bottomrule\n",
      "\\end{tabular}\n",
      "\n",
      "\n",
      "\\begin{tabular}{llllllll}\n",
      "\\toprule\n",
      "Agent &         True CTR &       True PCS &        True OS &       True NCS &              NDPC &             DPCSO &             DPCSN \\\\\n",
      "\\midrule\n",
      " Rand &  0.606 (0.077) \\% &  4.99 (1.66) \\% &  3.89 (1.85) \\% &  4.23 (1.95) \\% &  0.591 (0.124) pm &  0.135 (0.040) pm &  0.094 (0.047) pm \\\\\n",
      "  PCS &  0.663 (0.177) \\% &  3.45 (1.62) \\% &  1.92 (1.25) \\% &  2.31 (1.33) \\% &  0.429 (0.093) pm &  0.196 (0.005) pm &  0.146 (0.002) pm \\\\\n",
      " DPCS &  0.763 (0.064) \\% &  4.33 (0.17) \\% &  2.38 (0.06) \\% &  3.26 (0.04) \\% &  0.661 (0.029) pm &  0.298 (0.008) pm &  0.163 (0.006) pm \\\\\n",
      "\\bottomrule\n",
      "\\end{tabular}\n",
      "\n"
     ]
    }
   ],
   "source": [
    "print(res_AB_latex+'\\n')\n",
    "print(res_true_latex)"
   ]
  },
  {
   "cell_type": "code",
   "execution_count": null,
   "metadata": {},
   "outputs": [],
   "source": []
  }
 ],
 "metadata": {
  "kernelspec": {
   "display_name": "Python 3",
   "language": "python",
   "name": "python3"
  },
  "language_info": {
   "codemirror_mode": {
    "name": "ipython",
    "version": 3
   },
   "file_extension": ".py",
   "mimetype": "text/x-python",
   "name": "python",
   "nbconvert_exporter": "python",
   "pygments_lexer": "ipython3",
   "version": "3.7.4"
  }
 },
 "nbformat": 4,
 "nbformat_minor": 2
}
