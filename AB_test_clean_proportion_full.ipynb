{
 "cells": [
  {
   "cell_type": "markdown",
   "metadata": {},
   "source": [
    "# Training and A/B test for Conversion agents - <font color='blue'> Proportion</font> of sale"
   ]
  },
  {
   "cell_type": "code",
   "execution_count": 1,
   "metadata": {},
   "outputs": [
    {
     "name": "stdout",
     "output_type": "stream",
     "text": [
      "Number of products = 10\n",
      "Number of flips = 10\n",
      "Value of kappa = 0.2\n"
     ]
    }
   ],
   "source": [
    "import gym, recogym\n",
    "import matplotlib.pyplot as plt\n",
    "from copy import deepcopy\n",
    "import numpy as np\n",
    "import pandas as pd\n",
    "import pickle as pkl\n",
    "pd.options.mode.chained_assignment = None \n",
    "# from inspect import getsource\n",
    "from recogym.evaluate_agent_sale import verify_agents_sale, display_metrics, verify_agents_sale_extended\n",
    "from tqdm import tqdm\n",
    "\n",
    "# env_1_sale_args is a dictionary of default parameters (i.e. number of products)\n",
    "from recogym import env_1_sale_args, Configuration\n",
    "from recogym.agents.sale_agent import train_agents, train_timeagents\n",
    "from recogym.envs.utils_sale import format_avg_result, avg_result, format_avg_result_extended, avg_result_extended \n",
    "\n",
    "# You can overwrite environment arguments here:\n",
    "env_1_sale_args['random_seed'] = 0\n",
    "env_1_sale_args['num_products'] = 10\n",
    "env_1_sale_args['number_of_flips'] = 10 \n",
    "\n",
    "num_products = env_1_sale_args['num_products']\n",
    "print('Number of products =',num_products)\n",
    "print('Number of flips =',env_1_sale_args['number_of_flips'])\n",
    "nb_flips = env_1_sale_args['number_of_flips']\n",
    "\n",
    "# You can overwrite environment arguments here:\n",
    "env_1_sale_args['random_seed'] = 42\n",
    "env_1_sale_args['mu_sale'] = False \n",
    "\n",
    "# env_1_sale_args['kappa'] = 0.5\n",
    "print('Value of kappa =',env_1_sale_args['kappa'])\n",
    "\n",
    "# Initialize the gym \n",
    "env = gym.make('reco-gym-sale-v1')\n",
    "env.init_gym(env_1_sale_args)\n",
    "\n"
   ]
  },
  {
   "cell_type": "code",
   "execution_count": 2,
   "metadata": {},
   "outputs": [],
   "source": [
    "# Repository to save pickles\n",
    "data_repo = 'data_conversion/'"
   ]
  },
  {
   "cell_type": "markdown",
   "metadata": {},
   "source": [
    "## Train baseline agents"
   ]
  },
  {
   "cell_type": "markdown",
   "metadata": {},
   "source": [
    "#### Settings"
   ]
  },
  {
   "cell_type": "code",
   "execution_count": 3,
   "metadata": {},
   "outputs": [],
   "source": [
    "## Choose number of users for training and AB test\n",
    "# Number of users for the training\n",
    "# env_1_sale_args['num_users'] = 6 ##tochange !!\n",
    "env_1_sale_args['num_users'] = 5000\n",
    "num_users = env_1_sale_args['num_users']\n",
    "\n",
    "# Number of users for the A/B test\n",
    "# env_1_sale_args['num_users_AB'] = 7 ##tochange !!\n",
    "env_1_sale_args['num_users_AB'] = 5000 \n",
    "num_users_AB = env_1_sale_args['num_users_AB']\n",
    "\n",
    "# Choose user features\n",
    "from recogym.agents.sale_agent import CountViewsClicksFeatureProvider, CountViewsFeatureProvider, ShareViewsClicksFeatureProvider, ShareViewsFeatureProvider\n",
    "vc_feature = CountViewsClicksFeatureProvider(env.config)\n",
    "v_feature = CountViewsFeatureProvider(env.config)\n",
    "vc_share_feature = ShareViewsClicksFeatureProvider(env.config)\n",
    "v_share_feature = ShareViewsFeatureProvider(env.config)\n",
    "features = {'vc':vc_feature,\n",
    "           'v':v_feature,\n",
    "           'vc_share':vc_share_feature,\n",
    "           'v_share':v_share_feature}\n",
    "feature_name = 'v_share'\n",
    "feature = features[feature_name]"
   ]
  },
  {
   "cell_type": "markdown",
   "metadata": {},
   "source": [
    "#### <font color='red'> Number of A/B tests</font>"
   ]
  },
  {
   "cell_type": "code",
   "execution_count": 4,
   "metadata": {},
   "outputs": [],
   "source": [
    "# # Choose number of A/B tests\n",
    "# num_AB_tests = 2 ##tochange !\n",
    "num_AB_tests = 25 ##tochange !"
   ]
  },
  {
   "cell_type": "markdown",
   "metadata": {},
   "source": [
    "#### Logs"
   ]
  },
  {
   "cell_type": "code",
   "execution_count": 5,
   "metadata": {
    "scrolled": true
   },
   "outputs": [
    {
     "name": "stdout",
     "output_type": "stream",
     "text": [
      "--- Logs loaded---\n"
     ]
    }
   ],
   "source": [
    "agents={}\n",
    "logs={}\n",
    "\n",
    "############## Random agent\n",
    "name_agent = 'rand'+str(nb_flips)\n",
    "\n",
    "try:\n",
    "    logs[name_agent] = pkl.load(open(data_repo + 'data' + str(num_users) + name_agent + '.pkl','rb'))\n",
    "    print('--- Logs loaded---')\n",
    "except: \n",
    "    print(\"--- Generate logs ---\")\n",
    "    from recogym.agents import RandomAgent, random_args\n",
    "    random_agent = RandomAgent(Configuration(random_args))\n",
    "    agents[name_agent] = random_agent\n",
    "    logs[name_agent] = deepcopy(env).generate_logs(num_users)\n",
    "    print(data_repo + 'data' + str(num_users) + name_agent + '.pkl')\n",
    "    pkl.dump(logs[name_agent], open(data_repo + 'data' + str(num_users) + name_agent + '.pkl','wb'))"
   ]
  },
  {
   "cell_type": "markdown",
   "metadata": {},
   "source": [
    "#### Training for the <font color='blue'> Proportion</font> of sale"
   ]
  },
  {
   "cell_type": "markdown",
   "metadata": {},
   "source": [
    "##### No weights"
   ]
  },
  {
   "cell_type": "code",
   "execution_count": 6,
   "metadata": {},
   "outputs": [
    {
     "name": "stdout",
     "output_type": "stream",
     "text": [
      "--- Trained agents loaded --- \n"
     ]
    }
   ],
   "source": [
    "name_extension = 'prop'\n",
    "name_logging = name_agent\n",
    "res_dict = {}\n",
    "try :\n",
    "    info, save_agents = pkl.load(open(data_repo+str('timeagents'+str(num_users)+name_logging+feature_name+name_extension+'.pkl'),'rb'))\n",
    "    print('--- Trained agents loaded --- ')\n",
    "except :\n",
    "    print('--- Train agents ---')\n",
    "    info, save_agents = train_timeagents(name_logging,logs,feature_name,features, num_users=num_users, \n",
    "                                     kronecker_features=True,linear_reg=True, repo = data_repo)"
   ]
  },
  {
   "cell_type": "code",
   "execution_count": 7,
   "metadata": {},
   "outputs": [
    {
     "name": "stdout",
     "output_type": "stream",
     "text": [
      "--- A/B test results loaded ---\n"
     ]
    }
   ],
   "source": [
    "try:\n",
    "    for i in range(num_AB_tests):\n",
    "        name_extension = 'prop'+'_nb'+str(i)\n",
    "        name = name = 'likelihood_saleclickprod_discount_allprop_full'\n",
    "        agent_id = name_logging+str(num_users)+\"_\"+str(num_users_AB)+\"_\"+feature_name+name_extension\n",
    "        r = pkl.load(open(str(data_repo) +'res_'+agent_id+name+'.pkl',\"rb\"))\n",
    "        for k in r.keys():\n",
    "            if k not in ['CTR', 'Tot sales ATT', 'Share user with sale ATT', 'Tot sales', 'Share user with sale',\n",
    "                         'True CTR','True PCS','True OS','True NCS']:\n",
    "                r[k] = None\n",
    "\n",
    "        res_dict[name_logging+str(num_users)+\"_\"+str(num_users_AB)+\"_\"+feature_name+name_extension] = r\n",
    "    print('--- A/B test results loaded ---')\n",
    "    \n",
    "except:\n",
    "    print(' --- Run A/B test --- ')\n",
    "    for i in range(num_AB_tests):\n",
    "        print(\"-------------- A/B test n°\"+str(i)+'--------------')\n",
    "        name_extension = 'prop'+'_nb'+str(i)\n",
    "        res=verify_agents_sale_extended(\n",
    "            env,\n",
    "            number_of_users=num_users_AB,\n",
    "            agents={\n",
    "                **agents, \n",
    "                **save_agents},\n",
    "            name = name_logging+str(num_users)+\"_\"+str(num_users_AB)+\"_\"+feature_name+name_extension,\n",
    "            seed = 0,\n",
    "            same_env = False,\n",
    "            repo = data_repo\n",
    "        )\n",
    "\n",
    "        r = deepcopy(res)\n",
    "        for k in r.keys():\n",
    "            if k not in ['CTR', 'Tot sales ATT', 'Share user with sale ATT', 'Tot sales', 'Share user with sale',\n",
    "                         'True CTR','True PCS','True OS','True NCS']:\n",
    "                r[k] = None\n",
    "\n",
    "        res_dict[name_logging+str(num_users)+\"_\"+str(num_users_AB)+\"_\"+feature_name+name_extension] = r"
   ]
  },
  {
   "cell_type": "code",
   "execution_count": 8,
   "metadata": {
    "scrolled": true
   },
   "outputs": [
    {
     "name": "stdout",
     "output_type": "stream",
     "text": [
      "-- A/B test --\n"
     ]
    },
    {
     "data": {
      "text/html": [
       "<div>\n",
       "<style scoped>\n",
       "    .dataframe tbody tr th:only-of-type {\n",
       "        vertical-align: middle;\n",
       "    }\n",
       "\n",
       "    .dataframe tbody tr th {\n",
       "        vertical-align: top;\n",
       "    }\n",
       "\n",
       "    .dataframe thead th {\n",
       "        text-align: right;\n",
       "    }\n",
       "</style>\n",
       "<table border=\"1\" class=\"dataframe\">\n",
       "  <thead>\n",
       "    <tr style=\"text-align: right;\">\n",
       "      <th></th>\n",
       "      <th>Agent</th>\n",
       "      <th>CTR</th>\n",
       "      <th>Att Sales</th>\n",
       "      <th>Att CR</th>\n",
       "      <th>Sales</th>\n",
       "      <th>CR</th>\n",
       "    </tr>\n",
       "  </thead>\n",
       "  <tbody>\n",
       "    <tr>\n",
       "      <th>0</th>\n",
       "      <td>Click</td>\n",
       "      <td>0.642 (0.081) %</td>\n",
       "      <td>0 (0)</td>\n",
       "      <td>10.06 (0.00) %</td>\n",
       "      <td>5 (2)</td>\n",
       "      <td>30.98 (12.68) %</td>\n",
       "    </tr>\n",
       "    <tr>\n",
       "      <th>1</th>\n",
       "      <td>PDS</td>\n",
       "      <td>0.792 (0.032) %</td>\n",
       "      <td>1 (0)</td>\n",
       "      <td>19.02 (4.23) %</td>\n",
       "      <td>5 (1)</td>\n",
       "      <td>27.99 (0.00) %</td>\n",
       "    </tr>\n",
       "    <tr>\n",
       "      <th>2</th>\n",
       "      <td>PCS</td>\n",
       "      <td>0.521 (0.216) %</td>\n",
       "      <td>1 (0)</td>\n",
       "      <td>13.04 (4.22) %</td>\n",
       "      <td>7 (2)</td>\n",
       "      <td>30.98 (12.68) %</td>\n",
       "    </tr>\n",
       "    <tr>\n",
       "      <th>3</th>\n",
       "      <td>DPCS</td>\n",
       "      <td>0.816 (0.099) %</td>\n",
       "      <td>1 (0)</td>\n",
       "      <td>16.03 (8.45) %</td>\n",
       "      <td>4 (3)</td>\n",
       "      <td>22.01 (8.46) %</td>\n",
       "    </tr>\n",
       "  </tbody>\n",
       "</table>\n",
       "</div>"
      ],
      "text/plain": [
       "   Agent              CTR Att Sales          Att CR  Sales               CR\n",
       "0  Click  0.642 (0.081) %     0 (0)  10.06 (0.00) %  5 (2)  30.98 (12.68) %\n",
       "1    PDS  0.792 (0.032) %     1 (0)  19.02 (4.23) %  5 (1)   27.99 (0.00) %\n",
       "2    PCS  0.521 (0.216) %     1 (0)  13.04 (4.22) %  7 (2)  30.98 (12.68) %\n",
       "3   DPCS  0.816 (0.099) %     1 (0)  16.03 (8.45) %  4 (3)   22.01 (8.46) %"
      ]
     },
     "metadata": {},
     "output_type": "display_data"
    },
    {
     "name": "stdout",
     "output_type": "stream",
     "text": [
      "-- True metrics --\n"
     ]
    },
    {
     "data": {
      "text/html": [
       "<div>\n",
       "<style scoped>\n",
       "    .dataframe tbody tr th:only-of-type {\n",
       "        vertical-align: middle;\n",
       "    }\n",
       "\n",
       "    .dataframe tbody tr th {\n",
       "        vertical-align: top;\n",
       "    }\n",
       "\n",
       "    .dataframe thead th {\n",
       "        text-align: right;\n",
       "    }\n",
       "</style>\n",
       "<table border=\"1\" class=\"dataframe\">\n",
       "  <thead>\n",
       "    <tr style=\"text-align: right;\">\n",
       "      <th></th>\n",
       "      <th>Agent</th>\n",
       "      <th>True CTR</th>\n",
       "      <th>True PCS</th>\n",
       "      <th>True OS</th>\n",
       "      <th>True NCS</th>\n",
       "      <th>NDPC</th>\n",
       "      <th>DPCSO</th>\n",
       "      <th>DPCSN</th>\n",
       "    </tr>\n",
       "  </thead>\n",
       "  <tbody>\n",
       "    <tr>\n",
       "      <th>0</th>\n",
       "      <td>Click</td>\n",
       "      <td>0.568 (0.012) %</td>\n",
       "      <td>5.06 (0.48) %</td>\n",
       "      <td>4.24 (0.83) %</td>\n",
       "      <td>4.13 (0.77) %</td>\n",
       "      <td>0.575 (0.042) pm</td>\n",
       "      <td>0.094 (0.041) pm</td>\n",
       "      <td>0.106 (0.035) pm</td>\n",
       "    </tr>\n",
       "    <tr>\n",
       "      <th>1</th>\n",
       "      <td>PDS</td>\n",
       "      <td>0.573 (0.081) %</td>\n",
       "      <td>6.34 (0.27) %</td>\n",
       "      <td>5.40 (0.21) %</td>\n",
       "      <td>5.74 (0.43) %</td>\n",
       "      <td>0.729 (0.134) pm</td>\n",
       "      <td>0.108 (0.022) pm</td>\n",
       "      <td>0.068 (0.008) pm</td>\n",
       "    </tr>\n",
       "    <tr>\n",
       "      <th>2</th>\n",
       "      <td>PCS</td>\n",
       "      <td>0.543 (0.103) %</td>\n",
       "      <td>4.82 (0.88) %</td>\n",
       "      <td>1.83 (0.41) %</td>\n",
       "      <td>3.92 (0.89) %</td>\n",
       "      <td>0.514 (0.003) pm</td>\n",
       "      <td>0.311 (0.079) pm</td>\n",
       "      <td>0.098 (0.019) pm</td>\n",
       "    </tr>\n",
       "    <tr>\n",
       "      <th>3</th>\n",
       "      <td>DPCS</td>\n",
       "      <td>0.656 (0.108) %</td>\n",
       "      <td>4.75 (0.57) %</td>\n",
       "      <td>3.40 (1.40) %</td>\n",
       "      <td>3.75 (0.89) %</td>\n",
       "      <td>0.629 (0.178) pm</td>\n",
       "      <td>0.168 (0.080) pm</td>\n",
       "      <td>0.127 (0.020) pm</td>\n",
       "    </tr>\n",
       "  </tbody>\n",
       "</table>\n",
       "</div>"
      ],
      "text/plain": [
       "   Agent         True CTR       True PCS        True OS       True NCS  \\\n",
       "0  Click  0.568 (0.012) %  5.06 (0.48) %  4.24 (0.83) %  4.13 (0.77) %   \n",
       "1    PDS  0.573 (0.081) %  6.34 (0.27) %  5.40 (0.21) %  5.74 (0.43) %   \n",
       "2    PCS  0.543 (0.103) %  4.82 (0.88) %  1.83 (0.41) %  3.92 (0.89) %   \n",
       "3   DPCS  0.656 (0.108) %  4.75 (0.57) %  3.40 (1.40) %  3.75 (0.89) %   \n",
       "\n",
       "               NDPC             DPCSO             DPCSN  \n",
       "0  0.575 (0.042) pm  0.094 (0.041) pm  0.106 (0.035) pm  \n",
       "1  0.729 (0.134) pm  0.108 (0.022) pm  0.068 (0.008) pm  \n",
       "2  0.514 (0.003) pm  0.311 (0.079) pm  0.098 (0.019) pm  \n",
       "3  0.629 (0.178) pm  0.168 (0.080) pm  0.127 (0.020) pm  "
      ]
     },
     "metadata": {},
     "output_type": "display_data"
    }
   ],
   "source": [
    "res_avg = avg_result_extended(res_dict)\n",
    "(res_recap, res_recap_latex, \n",
    " res_AB, res_AB_latex, \n",
    " res_true, res_true_latex) = format_avg_result_extended(res_avg) #get dataframe & corresponding latex table"
   ]
  },
  {
   "cell_type": "code",
   "execution_count": 9,
   "metadata": {},
   "outputs": [
    {
     "name": "stdout",
     "output_type": "stream",
     "text": [
      "\\begin{tabular}{llllll}\n",
      "\\toprule\n",
      " Agent &              CTR & Att Sales &          Att CR &  Sales &               CR \\\\\n",
      "\\midrule\n",
      " Click &  0.642 (0.081) \\% &     0 (0) &  10.06 (0.00) \\% &  5 (2) &  30.98 (12.68) \\% \\\\\n",
      "   PDS &  0.792 (0.032) \\% &     1 (0) &  19.02 (4.23) \\% &  5 (1) &   27.99 (0.00) \\% \\\\\n",
      "   PCS &  0.521 (0.216) \\% &     1 (0) &  13.04 (4.22) \\% &  7 (2) &  30.98 (12.68) \\% \\\\\n",
      "  DPCS &  0.816 (0.099) \\% &     1 (0) &  16.03 (8.45) \\% &  4 (3) &   22.01 (8.46) \\% \\\\\n",
      "\\bottomrule\n",
      "\\end{tabular}\n",
      "\n",
      "\n",
      "\\begin{tabular}{llllllll}\n",
      "\\toprule\n",
      " Agent &         True CTR &       True PCS &        True OS &       True NCS &              NDPC &             DPCSO &             DPCSN \\\\\n",
      "\\midrule\n",
      " Click &  0.568 (0.012) \\% &  5.06 (0.48) \\% &  4.24 (0.83) \\% &  4.13 (0.77) \\% &  0.575 (0.042) pm &  0.094 (0.041) pm &  0.106 (0.035) pm \\\\\n",
      "   PDS &  0.573 (0.081) \\% &  6.34 (0.27) \\% &  5.40 (0.21) \\% &  5.74 (0.43) \\% &  0.729 (0.134) pm &  0.108 (0.022) pm &  0.068 (0.008) pm \\\\\n",
      "   PCS &  0.543 (0.103) \\% &  4.82 (0.88) \\% &  1.83 (0.41) \\% &  3.92 (0.89) \\% &  0.514 (0.003) pm &  0.311 (0.079) pm &  0.098 (0.019) pm \\\\\n",
      "  DPCS &  0.656 (0.108) \\% &  4.75 (0.57) \\% &  3.40 (1.40) \\% &  3.75 (0.89) \\% &  0.629 (0.178) pm &  0.168 (0.080) pm &  0.127 (0.020) pm \\\\\n",
      "\\bottomrule\n",
      "\\end{tabular}\n",
      "\n"
     ]
    }
   ],
   "source": [
    "print(res_AB_latex+'\\n')\n",
    "print(res_true_latex)"
   ]
  },
  {
   "cell_type": "markdown",
   "metadata": {},
   "source": [
    "##### Weights"
   ]
  },
  {
   "cell_type": "code",
   "execution_count": 10,
   "metadata": {},
   "outputs": [
    {
     "name": "stdout",
     "output_type": "stream",
     "text": [
      "--- Trained agents loaded --- \n"
     ]
    }
   ],
   "source": [
    "name_extension = 'propweights'\n",
    "name_logging = name_agent\n",
    "res_dict = {}\n",
    "try :\n",
    "    info, save_agents = pkl.load(open(data_repo+str('timeagents'+str(num_users)+name_logging+feature_name+name_extension+'.pkl'),'rb'))\n",
    "    print('--- Trained agents loaded --- ')\n",
    "except :\n",
    "    print('--- Train agents ---')\n",
    "    info, save_agents = train_timeagents(name_logging,logs,feature_name,features, num_users=num_users, \n",
    "                                     kronecker_features=True,linear_reg=True, weights = True, repo = data_repo)"
   ]
  },
  {
   "cell_type": "code",
   "execution_count": 11,
   "metadata": {},
   "outputs": [
    {
     "name": "stdout",
     "output_type": "stream",
     "text": [
      "--- A/B test results loaded ---\n"
     ]
    }
   ],
   "source": [
    "try:\n",
    "    for i in range(num_AB_tests):\n",
    "        name_extension = 'propweights'+'_nb'+str(i)\n",
    "        name = 'likelihood_saleclickprod_discount_allpropweights_full'\n",
    "        agent_id = name_logging+str(num_users)+\"_\"+str(num_users_AB)+\"_\"+feature_name+name_extension\n",
    "        r = pkl.load(open(str(data_repo) +'res_'+agent_id+name+'.pkl',\"rb\"))\n",
    "        for k in r.keys():\n",
    "            if k not in ['CTR', 'Tot sales ATT', 'Share user with sale ATT', 'Tot sales', 'Share user with sale',\n",
    "                         'True CTR','True PCS','True OS','True NCS']:\n",
    "                r[k] = None\n",
    "\n",
    "        res_dict[name_logging+str(num_users)+\"_\"+str(num_users_AB)+\"_\"+feature_name+name_extension] = r\n",
    "    print('--- A/B test results loaded ---')\n",
    "    \n",
    "except:\n",
    "    print(' --- Run A/B test --- ')\n",
    "    for i in range(num_AB_tests):\n",
    "        print(\"-------------- A/B test n°\"+str(i)+'--------------')\n",
    "        name_extension = 'propweights'+'_nb'+str(i)\n",
    "        res=verify_agents_sale_extended(\n",
    "            env,\n",
    "            number_of_users=num_users_AB,\n",
    "            agents={\n",
    "                **agents, \n",
    "                **save_agents},\n",
    "            name = name_logging+str(num_users)+\"_\"+str(num_users_AB)+\"_\"+feature_name+name_extension,\n",
    "            seed = 0,\n",
    "            same_env = False,\n",
    "            repo = data_repo\n",
    "        )\n",
    "\n",
    "        r = deepcopy(res)\n",
    "        for k in r.keys():\n",
    "            if k not in ['CTR', 'Tot sales ATT', 'Share user with sale ATT', 'Tot sales', 'Share user with sale',\n",
    "                         'True CTR','True PCS','True OS','True NCS']:\n",
    "                r[k] = None\n",
    "\n",
    "        res_dict[name_logging+str(num_users)+\"_\"+str(num_users_AB)+\"_\"+feature_name+name_extension] = r"
   ]
  },
  {
   "cell_type": "code",
   "execution_count": 12,
   "metadata": {},
   "outputs": [
    {
     "name": "stdout",
     "output_type": "stream",
     "text": [
      "-- A/B test --\n"
     ]
    },
    {
     "data": {
      "text/html": [
       "<div>\n",
       "<style scoped>\n",
       "    .dataframe tbody tr th:only-of-type {\n",
       "        vertical-align: middle;\n",
       "    }\n",
       "\n",
       "    .dataframe tbody tr th {\n",
       "        vertical-align: top;\n",
       "    }\n",
       "\n",
       "    .dataframe thead th {\n",
       "        text-align: right;\n",
       "    }\n",
       "</style>\n",
       "<table border=\"1\" class=\"dataframe\">\n",
       "  <thead>\n",
       "    <tr style=\"text-align: right;\">\n",
       "      <th></th>\n",
       "      <th>Agent</th>\n",
       "      <th>CTR</th>\n",
       "      <th>Att Sales</th>\n",
       "      <th>Att CR</th>\n",
       "      <th>Sales</th>\n",
       "      <th>CR</th>\n",
       "    </tr>\n",
       "  </thead>\n",
       "  <tbody>\n",
       "    <tr>\n",
       "      <th>0</th>\n",
       "      <td>Click</td>\n",
       "      <td>1.111 (0.854) %</td>\n",
       "      <td>1 (0)</td>\n",
       "      <td>16.03 (8.45) %</td>\n",
       "      <td>4 (1)</td>\n",
       "      <td>30.98 (4.23) %</td>\n",
       "    </tr>\n",
       "    <tr>\n",
       "      <th>1</th>\n",
       "      <td>PDS</td>\n",
       "      <td>0.642 (0.236) %</td>\n",
       "      <td>1 (0)</td>\n",
       "      <td>19.02 (4.23) %</td>\n",
       "      <td>10 (1)</td>\n",
       "      <td>33.97 (0.00) %</td>\n",
       "    </tr>\n",
       "    <tr>\n",
       "      <th>2</th>\n",
       "      <td>PCS</td>\n",
       "      <td>0.575 (0.150) %</td>\n",
       "      <td>1 (1)</td>\n",
       "      <td>16.03 (8.45) %</td>\n",
       "      <td>7 (6)</td>\n",
       "      <td>27.98 (16.91) %</td>\n",
       "    </tr>\n",
       "    <tr>\n",
       "      <th>3</th>\n",
       "      <td>DPCS</td>\n",
       "      <td>0.639 (0.268) %</td>\n",
       "      <td>1 (1)</td>\n",
       "      <td>16.03 (8.45) %</td>\n",
       "      <td>8 (2)</td>\n",
       "      <td>30.98 (12.68) %</td>\n",
       "    </tr>\n",
       "  </tbody>\n",
       "</table>\n",
       "</div>"
      ],
      "text/plain": [
       "   Agent              CTR Att Sales          Att CR   Sales               CR\n",
       "0  Click  1.111 (0.854) %     1 (0)  16.03 (8.45) %   4 (1)   30.98 (4.23) %\n",
       "1    PDS  0.642 (0.236) %     1 (0)  19.02 (4.23) %  10 (1)   33.97 (0.00) %\n",
       "2    PCS  0.575 (0.150) %     1 (1)  16.03 (8.45) %   7 (6)  27.98 (16.91) %\n",
       "3   DPCS  0.639 (0.268) %     1 (1)  16.03 (8.45) %   8 (2)  30.98 (12.68) %"
      ]
     },
     "metadata": {},
     "output_type": "display_data"
    },
    {
     "name": "stdout",
     "output_type": "stream",
     "text": [
      "-- True metrics --\n"
     ]
    },
    {
     "data": {
      "text/html": [
       "<div>\n",
       "<style scoped>\n",
       "    .dataframe tbody tr th:only-of-type {\n",
       "        vertical-align: middle;\n",
       "    }\n",
       "\n",
       "    .dataframe tbody tr th {\n",
       "        vertical-align: top;\n",
       "    }\n",
       "\n",
       "    .dataframe thead th {\n",
       "        text-align: right;\n",
       "    }\n",
       "</style>\n",
       "<table border=\"1\" class=\"dataframe\">\n",
       "  <thead>\n",
       "    <tr style=\"text-align: right;\">\n",
       "      <th></th>\n",
       "      <th>Agent</th>\n",
       "      <th>True CTR</th>\n",
       "      <th>True PCS</th>\n",
       "      <th>True OS</th>\n",
       "      <th>True NCS</th>\n",
       "      <th>NDPC</th>\n",
       "      <th>DPCSO</th>\n",
       "      <th>DPCSN</th>\n",
       "    </tr>\n",
       "  </thead>\n",
       "  <tbody>\n",
       "    <tr>\n",
       "      <th>0</th>\n",
       "      <td>Click</td>\n",
       "      <td>0.613 (0.031) %</td>\n",
       "      <td>4.50 (0.94) %</td>\n",
       "      <td>3.01 (1.60) %</td>\n",
       "      <td>3.44 (1.27) %</td>\n",
       "      <td>0.554 (0.143) pm</td>\n",
       "      <td>0.180 (0.071) pm</td>\n",
       "      <td>0.129 (0.033) pm</td>\n",
       "    </tr>\n",
       "    <tr>\n",
       "      <th>1</th>\n",
       "      <td>PDS</td>\n",
       "      <td>0.530 (0.122) %</td>\n",
       "      <td>6.46 (0.56) %</td>\n",
       "      <td>5.42 (1.42) %</td>\n",
       "      <td>5.95 (0.84) %</td>\n",
       "      <td>0.678 (0.098) pm</td>\n",
       "      <td>0.121 (0.116) pm</td>\n",
       "      <td>0.057 (0.042) pm</td>\n",
       "    </tr>\n",
       "    <tr>\n",
       "      <th>2</th>\n",
       "      <td>PCS</td>\n",
       "      <td>0.665 (0.131) %</td>\n",
       "      <td>4.44 (0.98) %</td>\n",
       "      <td>3.64 (0.91) %</td>\n",
       "      <td>3.74 (0.95) %</td>\n",
       "      <td>0.578 (0.014) pm</td>\n",
       "      <td>0.105 (0.011) pm</td>\n",
       "      <td>0.094 (0.015) pm</td>\n",
       "    </tr>\n",
       "    <tr>\n",
       "      <th>3</th>\n",
       "      <td>DPCS</td>\n",
       "      <td>0.760 (0.091) %</td>\n",
       "      <td>4.61 (0.50) %</td>\n",
       "      <td>2.76 (0.87) %</td>\n",
       "      <td>3.60 (0.51) %</td>\n",
       "      <td>0.697 (0.007) pm</td>\n",
       "      <td>0.285 (0.090) pm</td>\n",
       "      <td>0.155 (0.020) pm</td>\n",
       "    </tr>\n",
       "  </tbody>\n",
       "</table>\n",
       "</div>"
      ],
      "text/plain": [
       "   Agent         True CTR       True PCS        True OS       True NCS  \\\n",
       "0  Click  0.613 (0.031) %  4.50 (0.94) %  3.01 (1.60) %  3.44 (1.27) %   \n",
       "1    PDS  0.530 (0.122) %  6.46 (0.56) %  5.42 (1.42) %  5.95 (0.84) %   \n",
       "2    PCS  0.665 (0.131) %  4.44 (0.98) %  3.64 (0.91) %  3.74 (0.95) %   \n",
       "3   DPCS  0.760 (0.091) %  4.61 (0.50) %  2.76 (0.87) %  3.60 (0.51) %   \n",
       "\n",
       "               NDPC             DPCSO             DPCSN  \n",
       "0  0.554 (0.143) pm  0.180 (0.071) pm  0.129 (0.033) pm  \n",
       "1  0.678 (0.098) pm  0.121 (0.116) pm  0.057 (0.042) pm  \n",
       "2  0.578 (0.014) pm  0.105 (0.011) pm  0.094 (0.015) pm  \n",
       "3  0.697 (0.007) pm  0.285 (0.090) pm  0.155 (0.020) pm  "
      ]
     },
     "metadata": {},
     "output_type": "display_data"
    }
   ],
   "source": [
    "res_avg = avg_result_extended(res_dict)\n",
    "(res_recap, res_recap_latex, \n",
    " res_AB, res_AB_latex, \n",
    " res_true, res_true_latex) = format_avg_result_extended(res_avg) #get dataframe & corresponding latex table"
   ]
  },
  {
   "cell_type": "code",
   "execution_count": 13,
   "metadata": {},
   "outputs": [
    {
     "name": "stdout",
     "output_type": "stream",
     "text": [
      "\\begin{tabular}{llllll}\n",
      "\\toprule\n",
      " Agent &              CTR & Att Sales &          Att CR &   Sales &               CR \\\\\n",
      "\\midrule\n",
      " Click &  1.111 (0.854) \\% &     1 (0) &  16.03 (8.45) \\% &   4 (1) &   30.98 (4.23) \\% \\\\\n",
      "   PDS &  0.642 (0.236) \\% &     1 (0) &  19.02 (4.23) \\% &  10 (1) &   33.97 (0.00) \\% \\\\\n",
      "   PCS &  0.575 (0.150) \\% &     1 (1) &  16.03 (8.45) \\% &   7 (6) &  27.98 (16.91) \\% \\\\\n",
      "  DPCS &  0.639 (0.268) \\% &     1 (1) &  16.03 (8.45) \\% &   8 (2) &  30.98 (12.68) \\% \\\\\n",
      "\\bottomrule\n",
      "\\end{tabular}\n",
      "\n",
      "\n",
      "\\begin{tabular}{llllllll}\n",
      "\\toprule\n",
      " Agent &         True CTR &       True PCS &        True OS &       True NCS &              NDPC &             DPCSO &             DPCSN \\\\\n",
      "\\midrule\n",
      " Click &  0.613 (0.031) \\% &  4.50 (0.94) \\% &  3.01 (1.60) \\% &  3.44 (1.27) \\% &  0.554 (0.143) pm &  0.180 (0.071) pm &  0.129 (0.033) pm \\\\\n",
      "   PDS &  0.530 (0.122) \\% &  6.46 (0.56) \\% &  5.42 (1.42) \\% &  5.95 (0.84) \\% &  0.678 (0.098) pm &  0.121 (0.116) pm &  0.057 (0.042) pm \\\\\n",
      "   PCS &  0.665 (0.131) \\% &  4.44 (0.98) \\% &  3.64 (0.91) \\% &  3.74 (0.95) \\% &  0.578 (0.014) pm &  0.105 (0.011) pm &  0.094 (0.015) pm \\\\\n",
      "  DPCS &  0.760 (0.091) \\% &  4.61 (0.50) \\% &  2.76 (0.87) \\% &  3.60 (0.51) \\% &  0.697 (0.007) pm &  0.285 (0.090) pm &  0.155 (0.020) pm \\\\\n",
      "\\bottomrule\n",
      "\\end{tabular}\n",
      "\n"
     ]
    }
   ],
   "source": [
    "print(res_AB_latex+'\\n')\n",
    "print(res_true_latex)"
   ]
  }
 ],
 "metadata": {
  "kernelspec": {
   "display_name": "Python 3",
   "language": "python",
   "name": "python3"
  },
  "language_info": {
   "codemirror_mode": {
    "name": "ipython",
    "version": 3
   },
   "file_extension": ".py",
   "mimetype": "text/x-python",
   "name": "python",
   "nbconvert_exporter": "python",
   "pygments_lexer": "ipython3",
   "version": "3.7.4"
  }
 },
 "nbformat": 4,
 "nbformat_minor": 2
}
