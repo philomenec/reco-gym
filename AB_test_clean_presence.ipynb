{
 "cells": [
  {
   "cell_type": "markdown",
   "metadata": {},
   "source": [
    "# Training and A/B test for Conversion agents - <font color='blue'> Presence</font> of sale"
   ]
  },
  {
   "cell_type": "code",
   "execution_count": 1,
   "metadata": {},
   "outputs": [
    {
     "name": "stdout",
     "output_type": "stream",
     "text": [
      "Number of products = 10\n",
      "Number of flips = 10\n",
      "Value of kappa = 0.2\n"
     ]
    }
   ],
   "source": [
    "import gym, recogym\n",
    "import matplotlib.pyplot as plt\n",
    "from copy import deepcopy\n",
    "import numpy as np\n",
    "import pandas as pd\n",
    "import pickle as pkl\n",
    "pd.options.mode.chained_assignment = None \n",
    "# from inspect import getsource\n",
    "from recogym.evaluate_agent_sale import verify_agents_sale, display_metrics\n",
    "from tqdm import tqdm\n",
    "\n",
    "# env_1_sale_args is a dictionary of default parameters (i.e. number of products)\n",
    "from recogym import env_1_sale_args, Configuration\n",
    "from recogym.agents.sale_agent import train_agents, train_timeagents\n",
    "from recogym.envs.utils_sale import format_avg_result, avg_result\n",
    "\n",
    "\n",
    "# You can overwrite environment arguments here:\n",
    "env_1_sale_args['random_seed'] = 0\n",
    "env_1_sale_args['num_products'] = 10\n",
    "env_1_sale_args['number_of_flips'] = 10 \n",
    "\n",
    "num_products = env_1_sale_args['num_products']\n",
    "print('Number of products =',num_products)\n",
    "print('Number of flips =',env_1_sale_args['number_of_flips'])\n",
    "nb_flips = env_1_sale_args['number_of_flips']\n",
    "\n",
    "# You can overwrite environment arguments here:\n",
    "env_1_sale_args['random_seed'] = 42\n",
    "env_1_sale_args['mu_sale'] = False \n",
    "\n",
    "# env_1_sale_args['kappa'] = 0.5\n",
    "print('Value of kappa =',env_1_sale_args['kappa'])\n",
    "\n",
    "# Initialize the gym \n",
    "env = gym.make('reco-gym-sale-v1')\n",
    "env.init_gym(env_1_sale_args)\n",
    "\n"
   ]
  },
  {
   "cell_type": "code",
   "execution_count": 2,
   "metadata": {},
   "outputs": [],
   "source": [
    "# Repository to save pickles\n",
    "data_repo = 'data_conversion/'"
   ]
  },
  {
   "cell_type": "markdown",
   "metadata": {},
   "source": [
    "## Train baseline agents"
   ]
  },
  {
   "cell_type": "markdown",
   "metadata": {},
   "source": [
    "#### Settings"
   ]
  },
  {
   "cell_type": "code",
   "execution_count": 3,
   "metadata": {},
   "outputs": [],
   "source": [
    "## Choose number of users for training and AB test\n",
    "# Number of users for the training\n",
    "# env_1_sale_args['num_users'] = 6 ##tochange !!\n",
    "env_1_sale_args['num_users'] = 5000\n",
    "num_users = env_1_sale_args['num_users']\n",
    "\n",
    "# Number of users for the A/B test\n",
    "# env_1_sale_args['num_users_AB'] = 7 ##tochange !!\n",
    "env_1_sale_args['num_users_AB'] = 5000\n",
    "num_users_AB = env_1_sale_args['num_users_AB']\n",
    "\n",
    "# Choose user features\n",
    "from recogym.agents.sale_agent import CountViewsClicksFeatureProvider, CountViewsFeatureProvider, ShareViewsClicksFeatureProvider, ShareViewsFeatureProvider\n",
    "vc_feature = CountViewsClicksFeatureProvider(env.config)\n",
    "v_feature = CountViewsFeatureProvider(env.config)\n",
    "vc_share_feature = ShareViewsClicksFeatureProvider(env.config)\n",
    "v_share_feature = ShareViewsFeatureProvider(env.config)\n",
    "features = {'vc':vc_feature,\n",
    "           'v':v_feature,\n",
    "           'vc_share':vc_share_feature,\n",
    "           'v_share':v_share_feature}\n",
    "feature_name = 'v_share'\n",
    "feature = features[feature_name]"
   ]
  },
  {
   "cell_type": "markdown",
   "metadata": {},
   "source": [
    "#### <font color='red'> Number of A/B tests</font>"
   ]
  },
  {
   "cell_type": "code",
   "execution_count": 4,
   "metadata": {},
   "outputs": [],
   "source": [
    "# # Choose number of A/B tests\n",
    "# num_AB_tests = 2 ##tochange !\n",
    "num_AB_tests = 25 ##tochange !"
   ]
  },
  {
   "cell_type": "markdown",
   "metadata": {},
   "source": [
    "#### Logs"
   ]
  },
  {
   "cell_type": "code",
   "execution_count": 5,
   "metadata": {
    "scrolled": true
   },
   "outputs": [
    {
     "name": "stdout",
     "output_type": "stream",
     "text": [
      "--- Logs loaded---\n"
     ]
    }
   ],
   "source": [
    "agents={}\n",
    "logs={}\n",
    "\n",
    "############## Random agent\n",
    "name_agent = 'rand'+str(nb_flips)\n",
    "from recogym.agents import RandomAgent, random_args\n",
    "random_agent = RandomAgent(Configuration(random_args))\n",
    "agents[name_agent] = random_agent\n",
    "\n",
    "\n",
    "try:\n",
    "    logs[name_agent] = pkl.load(open(data_repo + 'data' + str(num_users) + name_agent + '.pkl','rb'))\n",
    "    print('--- Logs loaded---')\n",
    "except: \n",
    "    print(\"--- Generate logs ---\")\n",
    "    logs[name_agent] = deepcopy(env).generate_logs(num_users)\n",
    "    print(data_repo + 'data' + str(num_users) + name_agent + '.pkl')\n",
    "    pkl.dump(logs[name_agent], open(data_repo + 'data' + str(num_users) + name_agent + '.pkl','wb'))"
   ]
  },
  {
   "cell_type": "markdown",
   "metadata": {},
   "source": [
    "#### Training for the <font color='blue'> Presence</font> of sale"
   ]
  },
  {
   "cell_type": "markdown",
   "metadata": {},
   "source": [
    "##### No weights"
   ]
  },
  {
   "cell_type": "code",
   "execution_count": 6,
   "metadata": {},
   "outputs": [
    {
     "name": "stdout",
     "output_type": "stream",
     "text": [
      "--- Trained agents loaded --- \n"
     ]
    }
   ],
   "source": [
    "name_extension = 'pres'\n",
    "name_logging = name_agent\n",
    "res_dict = {}\n",
    "try :\n",
    "    info, save_agents = pkl.load(open(data_repo+str('agents'+str(num_users)+name_logging+feature_name+name_extension+'.pkl'),'rb'))\n",
    "    print('--- Trained agents loaded --- ')\n",
    "except :\n",
    "    print('--- Train agents ---')\n",
    "    info, save_agents = train_agents(name_logging,logs,feature_name,features, num_users=num_users, \n",
    "                                     kronecker_features=True,additional_models_only=False, repo = data_repo)"
   ]
  },
  {
   "cell_type": "code",
   "execution_count": 7,
   "metadata": {},
   "outputs": [
    {
     "name": "stdout",
     "output_type": "stream",
     "text": [
      "data_conversion/res_rand106_7_v_sharepres_nb0likelihood_saleclickprod_discount_allpres.pkl\n",
      "data_conversion/res_rand106_7_v_sharepres_nb1likelihood_saleclickprod_discount_allpres.pkl\n",
      "--- A/B test results loaded ---\n"
     ]
    }
   ],
   "source": [
    "try:\n",
    "    for i in range(num_AB_tests):\n",
    "        name_extension = 'pres'+'_nb'+str(i)\n",
    "        name = 'likelihood_saleclickprod_discount_allpres'\n",
    "        agent_id = name_logging+str(num_users)+\"_\"+str(num_users_AB)+\"_\"+feature_name+name_extension\n",
    "        print(str(data_repo) +'res_'+agent_id+name+'.pkl')\n",
    "        r = pkl.load(open(str(data_repo) +'res_'+agent_id+name+'.pkl',\"rb\"))\n",
    "        for k in r.keys():\n",
    "            if k not in ['CTR', 'Tot sales ATT', 'Share user with sale ATT', 'Tot sales', 'Share user with sale']:\n",
    "                r[k] = None\n",
    "\n",
    "        res_dict[name_logging+str(num_users)+\"_\"+str(num_users_AB)+\"_\"+feature_name+name_extension] = r\n",
    "    print('--- A/B test results loaded ---')\n",
    "    \n",
    "except:\n",
    "    print(' --- Run A/B test --- ')\n",
    "    for i in range(num_AB_tests):\n",
    "        print(\"-------------- A/B test n°\"+str(i)+'--------------')\n",
    "        name_extension = 'pres'+'_nb'+str(i)\n",
    "        res=verify_agents_sale(\n",
    "            env,\n",
    "            number_of_users=num_users_AB,\n",
    "            agents={\n",
    "                **agents, \n",
    "                **save_agents},\n",
    "            name = name_logging+str(num_users)+\"_\"+str(num_users_AB)+\"_\"+feature_name+name_extension,\n",
    "            seed = 0,\n",
    "            same_env = False,\n",
    "            repo = data_repo\n",
    "        )\n",
    "\n",
    "        r = deepcopy(res)\n",
    "        for k in r.keys():\n",
    "            if k not in ['CTR', 'Tot sales ATT', 'Share user with sale ATT', 'Tot sales', 'Share user with sale']:\n",
    "                r[k] = None\n",
    "\n",
    "        res_dict[name_logging+str(num_users)+\"_\"+str(num_users_AB)+\"_\"+feature_name+name_extension] = r"
   ]
  },
  {
   "cell_type": "code",
   "execution_count": 8,
   "metadata": {},
   "outputs": [
    {
     "data": {
      "text/html": [
       "<div>\n",
       "<style scoped>\n",
       "    .dataframe tbody tr th:only-of-type {\n",
       "        vertical-align: middle;\n",
       "    }\n",
       "\n",
       "    .dataframe tbody tr th {\n",
       "        vertical-align: top;\n",
       "    }\n",
       "\n",
       "    .dataframe thead th {\n",
       "        text-align: right;\n",
       "    }\n",
       "</style>\n",
       "<table border=\"1\" class=\"dataframe\">\n",
       "  <thead>\n",
       "    <tr style=\"text-align: right;\">\n",
       "      <th></th>\n",
       "      <th>Agent</th>\n",
       "      <th>CTR</th>\n",
       "      <th>Att Sales</th>\n",
       "      <th>Att CR</th>\n",
       "      <th>Sales</th>\n",
       "      <th>CR</th>\n",
       "    </tr>\n",
       "  </thead>\n",
       "  <tbody>\n",
       "    <tr>\n",
       "      <th>0</th>\n",
       "      <td>Rand</td>\n",
       "      <td>0.843 (0.185) %</td>\n",
       "      <td>1 (1)</td>\n",
       "      <td>13.04 (4.22) %</td>\n",
       "      <td>7 (0)</td>\n",
       "      <td>36.96 (4.22) %</td>\n",
       "    </tr>\n",
       "    <tr>\n",
       "      <th>1</th>\n",
       "      <td>Click</td>\n",
       "      <td>0.805 (0.050) %</td>\n",
       "      <td>1 (0)</td>\n",
       "      <td>16.03 (8.45) %</td>\n",
       "      <td>3 (2)</td>\n",
       "      <td>22.01 (8.46) %</td>\n",
       "    </tr>\n",
       "    <tr>\n",
       "      <th>2</th>\n",
       "      <td>PDS</td>\n",
       "      <td>0.559 (0.208) %</td>\n",
       "      <td>0 (0)</td>\n",
       "      <td>13.04 (4.22) %</td>\n",
       "      <td>5 (3)</td>\n",
       "      <td>27.99 (8.46) %</td>\n",
       "    </tr>\n",
       "    <tr>\n",
       "      <th>3</th>\n",
       "      <td>PCS</td>\n",
       "      <td>0.932 (0.264) %</td>\n",
       "      <td>1 (0)</td>\n",
       "      <td>22.01 (0.00) %</td>\n",
       "      <td>6 (1)</td>\n",
       "      <td>27.99 (0.00) %</td>\n",
       "    </tr>\n",
       "    <tr>\n",
       "      <th>4</th>\n",
       "      <td>DPCS</td>\n",
       "      <td>0.771 (0.529) %</td>\n",
       "      <td>1 (0)</td>\n",
       "      <td>16.03 (0.00) %</td>\n",
       "      <td>7 (0)</td>\n",
       "      <td>33.97 (8.45) %</td>\n",
       "    </tr>\n",
       "  </tbody>\n",
       "</table>\n",
       "</div>"
      ],
      "text/plain": [
       "   Agent              CTR Att Sales          Att CR  Sales              CR\n",
       "0   Rand  0.843 (0.185) %     1 (1)  13.04 (4.22) %  7 (0)  36.96 (4.22) %\n",
       "1  Click  0.805 (0.050) %     1 (0)  16.03 (8.45) %  3 (2)  22.01 (8.46) %\n",
       "2    PDS  0.559 (0.208) %     0 (0)  13.04 (4.22) %  5 (3)  27.99 (8.46) %\n",
       "3    PCS  0.932 (0.264) %     1 (0)  22.01 (0.00) %  6 (1)  27.99 (0.00) %\n",
       "4   DPCS  0.771 (0.529) %     1 (0)  16.03 (0.00) %  7 (0)  33.97 (8.45) %"
      ]
     },
     "metadata": {},
     "output_type": "display_data"
    }
   ],
   "source": [
    "res_avg = avg_result(res_dict)\n",
    "df, df_latex = format_avg_result(res_avg) #get dataframe & corresponding latex table"
   ]
  },
  {
   "cell_type": "code",
   "execution_count": 9,
   "metadata": {},
   "outputs": [
    {
     "name": "stdout",
     "output_type": "stream",
     "text": [
      "\\begin{tabular}{llllll}\n",
      "\\toprule\n",
      " Agent &              CTR & Att Sales &          Att CR &  Sales &              CR \\\\\n",
      "\\midrule\n",
      "  Rand &  0.843 (0.185) \\% &     1 (1) &  13.04 (4.22) \\% &  7 (0) &  36.96 (4.22) \\% \\\\\n",
      " Click &  0.805 (0.050) \\% &     1 (0) &  16.03 (8.45) \\% &  3 (2) &  22.01 (8.46) \\% \\\\\n",
      "   PDS &  0.559 (0.208) \\% &     0 (0) &  13.04 (4.22) \\% &  5 (3) &  27.99 (8.46) \\% \\\\\n",
      "   PCS &  0.932 (0.264) \\% &     1 (0) &  22.01 (0.00) \\% &  6 (1) &  27.99 (0.00) \\% \\\\\n",
      "  DPCS &  0.771 (0.529) \\% &     1 (0) &  16.03 (0.00) \\% &  7 (0) &  33.97 (8.45) \\% \\\\\n",
      "\\bottomrule\n",
      "\\end{tabular}\n",
      "\n"
     ]
    }
   ],
   "source": [
    "# display(df)\n",
    "print(df_latex)"
   ]
  },
  {
   "cell_type": "markdown",
   "metadata": {},
   "source": [
    "##### Weights"
   ]
  },
  {
   "cell_type": "code",
   "execution_count": 10,
   "metadata": {},
   "outputs": [
    {
     "name": "stdout",
     "output_type": "stream",
     "text": [
      "--- Trained agents loaded --- \n"
     ]
    }
   ],
   "source": [
    "name_extension = 'presweights'\n",
    "name_logging = name_agent\n",
    "res_dict = {}\n",
    "try :\n",
    "    info, save_agents = pkl.load(open(data_repo+str('agents'+str(num_users)+name_logging+feature_name+name_extension+'.pkl'),'rb'))\n",
    "    print('--- Trained agents loaded --- ')\n",
    "except :\n",
    "    print('--- Train agents ---')\n",
    "    info, save_agents = train_agents(name_logging,logs,feature_name,features, num_users=num_users, \n",
    "                                     kronecker_features=True,weights = True, additional_models_only=False, repo = data_repo)"
   ]
  },
  {
   "cell_type": "code",
   "execution_count": 11,
   "metadata": {},
   "outputs": [
    {
     "name": "stdout",
     "output_type": "stream",
     "text": [
      "--- A/B test results loaded ---\n"
     ]
    }
   ],
   "source": [
    "try:\n",
    "    for i in range(num_AB_tests):\n",
    "        name_extension = 'presweights'+'_nb'+str(i)\n",
    "        name = 'likelihood_saleclickprod_discount_allpresweights'\n",
    "        agent_id = name_logging+str(num_users)+\"_\"+str(num_users_AB)+\"_\"+feature_name+name_extension\n",
    "        r = pkl.load(open(str(data_repo) +'res_'+agent_id+name+'.pkl',\"rb\"))\n",
    "        for k in r.keys():\n",
    "            if k not in ['CTR', 'Tot sales ATT', 'Share user with sale ATT', 'Tot sales', 'Share user with sale']:\n",
    "                r[k] = None\n",
    "\n",
    "        res_dict[name_logging+str(num_users)+\"_\"+str(num_users_AB)+\"_\"+feature_name+name_extension] = r\n",
    "    print('--- A/B test results loaded ---')\n",
    "    \n",
    "except:\n",
    "    print(' --- Run A/B test --- ')\n",
    "    for i in range(num_AB_tests):\n",
    "        print(\"-------------- A/B test n°\"+str(i)+'--------------')\n",
    "        name_extension = 'presweights'+'_nb'+str(i)\n",
    "        res=verify_agents_sale(\n",
    "            env,\n",
    "            number_of_users=num_users_AB,\n",
    "            agents={\n",
    "                **agents, \n",
    "                **save_agents},\n",
    "            name = name_logging+str(num_users)+\"_\"+str(num_users_AB)+\"_\"+feature_name+name_extension,\n",
    "            seed = 0,\n",
    "            same_env = False,\n",
    "            repo = data_repo\n",
    "        )\n",
    "\n",
    "        r = deepcopy(res)\n",
    "        for k in r.keys():\n",
    "            if k not in ['CTR', 'Tot sales ATT', 'Share user with sale ATT', 'Tot sales', 'Share user with sale']:\n",
    "                r[k] = None\n",
    "\n",
    "        res_dict[name_logging+str(num_users)+\"_\"+str(num_users_AB)+\"_\"+feature_name+name_extension] = r"
   ]
  },
  {
   "cell_type": "code",
   "execution_count": 12,
   "metadata": {},
   "outputs": [
    {
     "data": {
      "text/html": [
       "<div>\n",
       "<style scoped>\n",
       "    .dataframe tbody tr th:only-of-type {\n",
       "        vertical-align: middle;\n",
       "    }\n",
       "\n",
       "    .dataframe tbody tr th {\n",
       "        vertical-align: top;\n",
       "    }\n",
       "\n",
       "    .dataframe thead th {\n",
       "        text-align: right;\n",
       "    }\n",
       "</style>\n",
       "<table border=\"1\" class=\"dataframe\">\n",
       "  <thead>\n",
       "    <tr style=\"text-align: right;\">\n",
       "      <th></th>\n",
       "      <th>Agent</th>\n",
       "      <th>CTR</th>\n",
       "      <th>Att Sales</th>\n",
       "      <th>Att CR</th>\n",
       "      <th>Sales</th>\n",
       "      <th>CR</th>\n",
       "    </tr>\n",
       "  </thead>\n",
       "  <tbody>\n",
       "    <tr>\n",
       "      <th>0</th>\n",
       "      <td>Rand</td>\n",
       "      <td>0.549 (0.134) %</td>\n",
       "      <td>0 (0)</td>\n",
       "      <td>7.10 (4.18) %</td>\n",
       "      <td>2 (2)</td>\n",
       "      <td>13.04 (4.22) %</td>\n",
       "    </tr>\n",
       "    <tr>\n",
       "      <th>1</th>\n",
       "      <td>Click</td>\n",
       "      <td>1.003 (0.077) %</td>\n",
       "      <td>1 (1)</td>\n",
       "      <td>19.02 (4.23) %</td>\n",
       "      <td>8 (5)</td>\n",
       "      <td>33.97 (0.00) %</td>\n",
       "    </tr>\n",
       "    <tr>\n",
       "      <th>2</th>\n",
       "      <td>PDS</td>\n",
       "      <td>0.496 (0.316) %</td>\n",
       "      <td>0 (0)</td>\n",
       "      <td>7.10 (4.18) %</td>\n",
       "      <td>5 (7)</td>\n",
       "      <td>22.05 (25.31) %</td>\n",
       "    </tr>\n",
       "    <tr>\n",
       "      <th>3</th>\n",
       "      <td>PCS</td>\n",
       "      <td>0.394 (0.170) %</td>\n",
       "      <td>1 (0)</td>\n",
       "      <td>13.04 (4.22) %</td>\n",
       "      <td>9 (5)</td>\n",
       "      <td>25.00 (4.23) %</td>\n",
       "    </tr>\n",
       "    <tr>\n",
       "      <th>4</th>\n",
       "      <td>DPCS</td>\n",
       "      <td>0.560 (0.253) %</td>\n",
       "      <td>1 (1)</td>\n",
       "      <td>16.03 (8.45) %</td>\n",
       "      <td>9 (3)</td>\n",
       "      <td>30.98 (12.68) %</td>\n",
       "    </tr>\n",
       "  </tbody>\n",
       "</table>\n",
       "</div>"
      ],
      "text/plain": [
       "   Agent              CTR Att Sales          Att CR  Sales               CR\n",
       "0   Rand  0.549 (0.134) %     0 (0)   7.10 (4.18) %  2 (2)   13.04 (4.22) %\n",
       "1  Click  1.003 (0.077) %     1 (1)  19.02 (4.23) %  8 (5)   33.97 (0.00) %\n",
       "2    PDS  0.496 (0.316) %     0 (0)   7.10 (4.18) %  5 (7)  22.05 (25.31) %\n",
       "3    PCS  0.394 (0.170) %     1 (0)  13.04 (4.22) %  9 (5)   25.00 (4.23) %\n",
       "4   DPCS  0.560 (0.253) %     1 (1)  16.03 (8.45) %  9 (3)  30.98 (12.68) %"
      ]
     },
     "metadata": {},
     "output_type": "display_data"
    }
   ],
   "source": [
    "res_avg = avg_result(res_dict)\n",
    "df, df_latex = format_avg_result(res_avg) #get dataframe & corresponding latex table"
   ]
  },
  {
   "cell_type": "code",
   "execution_count": 13,
   "metadata": {},
   "outputs": [
    {
     "name": "stdout",
     "output_type": "stream",
     "text": [
      "\\begin{tabular}{llllll}\n",
      "\\toprule\n",
      " Agent &              CTR & Att Sales &          Att CR &  Sales &               CR \\\\\n",
      "\\midrule\n",
      "  Rand &  0.549 (0.134) \\% &     0 (0) &   7.10 (4.18) \\% &  2 (2) &   13.04 (4.22) \\% \\\\\n",
      " Click &  1.003 (0.077) \\% &     1 (1) &  19.02 (4.23) \\% &  8 (5) &   33.97 (0.00) \\% \\\\\n",
      "   PDS &  0.496 (0.316) \\% &     0 (0) &   7.10 (4.18) \\% &  5 (7) &  22.05 (25.31) \\% \\\\\n",
      "   PCS &  0.394 (0.170) \\% &     1 (0) &  13.04 (4.22) \\% &  9 (5) &   25.00 (4.23) \\% \\\\\n",
      "  DPCS &  0.560 (0.253) \\% &     1 (1) &  16.03 (8.45) \\% &  9 (3) &  30.98 (12.68) \\% \\\\\n",
      "\\bottomrule\n",
      "\\end{tabular}\n",
      "\n"
     ]
    }
   ],
   "source": [
    "# display(df)\n",
    "print(df_latex)"
   ]
  },
  {
   "cell_type": "code",
   "execution_count": null,
   "metadata": {},
   "outputs": [],
   "source": []
  }
 ],
 "metadata": {
  "kernelspec": {
   "display_name": "Python 3",
   "language": "python",
   "name": "python3"
  },
  "language_info": {
   "codemirror_mode": {
    "name": "ipython",
    "version": 3
   },
   "file_extension": ".py",
   "mimetype": "text/x-python",
   "name": "python",
   "nbconvert_exporter": "python",
   "pygments_lexer": "ipython3",
   "version": "3.7.4"
  }
 },
 "nbformat": 4,
 "nbformat_minor": 2
}
