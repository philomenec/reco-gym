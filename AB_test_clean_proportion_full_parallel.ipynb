{
 "cells": [
  {
   "cell_type": "markdown",
   "metadata": {},
   "source": [
    "# Training and A/B test for Conversion agents - <font color='blue'> Proportion</font> of sale"
   ]
  },
  {
   "cell_type": "code",
   "execution_count": 15,
   "metadata": {},
   "outputs": [
    {
     "name": "stdout",
     "output_type": "stream",
     "text": [
      "Number of products = 10\n",
      "Number of flips = 10\n",
      "Value of kappa = 0.2\n"
     ]
    }
   ],
   "source": [
    "import gym, recogym\n",
    "import matplotlib.pyplot as plt\n",
    "from copy import deepcopy\n",
    "import numpy as np\n",
    "import pandas as pd\n",
    "import pickle as pkl\n",
    "pd.options.mode.chained_assignment = None \n",
    "# from inspect import getsource\n",
    "from recogym.evaluate_agent_sale import verify_agents_sale, display_metrics, verify_agents_sale_extended\n",
    "from recogym.run_agent_sale import run_AB_test\n",
    "from tqdm import tqdm\n",
    "\n",
    "# env_1_sale_args is a dictionary of default parameters (i.e. number of products)\n",
    "from recogym import env_1_sale_args, Configuration\n",
    "from recogym.agents.sale_agent import train_agents, train_timeagents\n",
    "from recogym.envs.utils_sale import format_avg_result, avg_result, format_avg_result_extended, avg_result_extended \n",
    "\n",
    "from joblib import Parallel, delayed\n",
    "\n",
    "# You can overwrite environment arguments here:\n",
    "env_1_sale_args['random_seed'] = 0\n",
    "env_1_sale_args['num_products'] = 10\n",
    "env_1_sale_args['number_of_flips'] = 10 \n",
    "\n",
    "num_products = env_1_sale_args['num_products']\n",
    "print('Number of products =',num_products)\n",
    "print('Number of flips =',env_1_sale_args['number_of_flips'])\n",
    "nb_flips = env_1_sale_args['number_of_flips']\n",
    "\n",
    "# You can overwrite environment arguments here:\n",
    "env_1_sale_args['random_seed'] = 42\n",
    "env_1_sale_args['mu_sale'] = False \n",
    "\n",
    "# env_1_sale_args['kappa'] = 0.5\n",
    "print('Value of kappa =',env_1_sale_args['kappa'])\n",
    "\n",
    "# Initialize the gym \n",
    "env = gym.make('reco-gym-sale-v1')\n",
    "env.init_gym(env_1_sale_args)\n",
    "\n"
   ]
  },
  {
   "cell_type": "code",
   "execution_count": 16,
   "metadata": {},
   "outputs": [],
   "source": [
    "# Repository to save pickles\n",
    "data_repo = 'data_conversion/'"
   ]
  },
  {
   "cell_type": "markdown",
   "metadata": {},
   "source": [
    "## Train baseline agents"
   ]
  },
  {
   "cell_type": "markdown",
   "metadata": {},
   "source": [
    "#### Settings"
   ]
  },
  {
   "cell_type": "code",
   "execution_count": 17,
   "metadata": {},
   "outputs": [],
   "source": [
    "## Choose number of users for training and AB test\n",
    "# Number of users for the training\n",
    "env_1_sale_args['num_users'] = 6 ##tochange !!\n",
    "# env_1_sale_args['num_users'] = 5000\n",
    "num_users = env_1_sale_args['num_users']\n",
    "\n",
    "# Number of users for the A/B test\n",
    "env_1_sale_args['num_users_AB'] = 7 ##tochange !!\n",
    "# env_1_sale_args['num_users_AB'] = 5000 \n",
    "num_users_AB = env_1_sale_args['num_users_AB']\n",
    "\n",
    "# Choose user features\n",
    "from recogym.agents.sale_agent import CountViewsClicksFeatureProvider, CountViewsFeatureProvider, ShareViewsClicksFeatureProvider, ShareViewsFeatureProvider\n",
    "vc_feature = CountViewsClicksFeatureProvider(env.config)\n",
    "v_feature = CountViewsFeatureProvider(env.config)\n",
    "vc_share_feature = ShareViewsClicksFeatureProvider(env.config)\n",
    "v_share_feature = ShareViewsFeatureProvider(env.config)\n",
    "features = {'vc':vc_feature,\n",
    "           'v':v_feature,\n",
    "           'vc_share':vc_share_feature,\n",
    "           'v_share':v_share_feature}\n",
    "feature_name = 'v_share'\n",
    "feature = features[feature_name]"
   ]
  },
  {
   "cell_type": "markdown",
   "metadata": {},
   "source": [
    "#### <font color='red'> Number of A/B tests</font>"
   ]
  },
  {
   "cell_type": "code",
   "execution_count": 26,
   "metadata": {},
   "outputs": [],
   "source": [
    "# # Choose number of A/B tests\n",
    "num_AB_tests = 4 ##tochange !\n",
    "# num_AB_tests = 25 ##tochange !"
   ]
  },
  {
   "cell_type": "code",
   "execution_count": 27,
   "metadata": {},
   "outputs": [],
   "source": [
    "num_cores = 8 ##tochange!!"
   ]
  },
  {
   "cell_type": "markdown",
   "metadata": {},
   "source": [
    "#### Logs"
   ]
  },
  {
   "cell_type": "code",
   "execution_count": 20,
   "metadata": {
    "scrolled": true
   },
   "outputs": [
    {
     "name": "stdout",
     "output_type": "stream",
     "text": [
      "--- Logs loaded---\n"
     ]
    }
   ],
   "source": [
    "agents={}\n",
    "logs={}\n",
    "\n",
    "############## Random agent\n",
    "name_agent = 'rand'+str(nb_flips)\n",
    "from recogym.agents import RandomAgent, random_args\n",
    "random_agent = RandomAgent(Configuration(random_args))\n",
    "agents[name_agent] = random_agent\n",
    "\n",
    "\n",
    "try:\n",
    "    logs[name_agent] = pkl.load(open(data_repo + 'data' + str(num_users) + name_agent + '.pkl','rb'))\n",
    "    print('--- Logs loaded---')\n",
    "except: \n",
    "    print(\"--- Generate logs ---\")\n",
    "    logs[name_agent] = deepcopy(env).generate_logs(num_users)\n",
    "    print(data_repo + 'data' + str(num_users) + name_agent + '.pkl')\n",
    "    pkl.dump(logs[name_agent], open(data_repo + 'data' + str(num_users) + name_agent + '.pkl','wb'))"
   ]
  },
  {
   "cell_type": "markdown",
   "metadata": {},
   "source": [
    "#### Training for the <font color='blue'> Proportion</font> of sale"
   ]
  },
  {
   "cell_type": "markdown",
   "metadata": {},
   "source": [
    "##### No weights"
   ]
  },
  {
   "cell_type": "code",
   "execution_count": 21,
   "metadata": {},
   "outputs": [],
   "source": [
    "def run_func(i): \n",
    "    return run_AB_test(i,name_ext=name_extension,env=env,num_users=num_users,num_users_AB=num_users_AB,\n",
    "                                    agents=agents,save_agents=save_agents,name_logging=name_logging,feature_name=feature_name,\n",
    "                                    data_repo=data_repo)"
   ]
  },
  {
   "cell_type": "code",
   "execution_count": 28,
   "metadata": {},
   "outputs": [
    {
     "name": "stdout",
     "output_type": "stream",
     "text": [
      "No discount\n",
      "Discount\n"
     ]
    },
    {
     "name": "stderr",
     "output_type": "stream",
     "text": [
      "[Parallel(n_jobs=4)]: Using backend LokyBackend with 4 concurrent workers.\n",
      "[Parallel(n_jobs=4)]: Done   1 tasks      | elapsed:  1.6min\n",
      "[Parallel(n_jobs=4)]: Done   2 out of   4 | elapsed:  1.6min remaining:  1.6min\n",
      "[Parallel(n_jobs=4)]: Done   4 out of   4 | elapsed:  1.7min remaining:    0.0s\n",
      "[Parallel(n_jobs=4)]: Done   4 out of   4 | elapsed:  1.7min finished\n"
     ]
    },
    {
     "name": "stdout",
     "output_type": "stream",
     "text": [
      "-- A/B test --\n"
     ]
    },
    {
     "data": {
      "text/html": [
       "<div>\n",
       "<style scoped>\n",
       "    .dataframe tbody tr th:only-of-type {\n",
       "        vertical-align: middle;\n",
       "    }\n",
       "\n",
       "    .dataframe tbody tr th {\n",
       "        vertical-align: top;\n",
       "    }\n",
       "\n",
       "    .dataframe thead th {\n",
       "        text-align: right;\n",
       "    }\n",
       "</style>\n",
       "<table border=\"1\" class=\"dataframe\">\n",
       "  <thead>\n",
       "    <tr style=\"text-align: right;\">\n",
       "      <th></th>\n",
       "      <th>Agent</th>\n",
       "      <th>CTR</th>\n",
       "      <th>Att Sales</th>\n",
       "      <th>Att CR</th>\n",
       "      <th>Sales</th>\n",
       "      <th>CR</th>\n",
       "    </tr>\n",
       "  </thead>\n",
       "  <tbody>\n",
       "    <tr>\n",
       "      <th>0</th>\n",
       "      <td>Rand</td>\n",
       "      <td>0.018 (0.000) %</td>\n",
       "      <td>0 (0)</td>\n",
       "      <td>0.31 (0.00) %</td>\n",
       "      <td>0 (0)</td>\n",
       "      <td>1.06 (0.00) %</td>\n",
       "    </tr>\n",
       "    <tr>\n",
       "      <th>1</th>\n",
       "      <td>PCS</td>\n",
       "      <td>0.029 (0.000) %</td>\n",
       "      <td>0 (0)</td>\n",
       "      <td>0.87 (0.00) %</td>\n",
       "      <td>0 (0)</td>\n",
       "      <td>0.87 (0.00) %</td>\n",
       "    </tr>\n",
       "    <tr>\n",
       "      <th>2</th>\n",
       "      <td>DPCS</td>\n",
       "      <td>0.018 (0.000) %</td>\n",
       "      <td>0 (0)</td>\n",
       "      <td>0.31 (0.00) %</td>\n",
       "      <td>0 (0)</td>\n",
       "      <td>0.87 (0.00) %</td>\n",
       "    </tr>\n",
       "  </tbody>\n",
       "</table>\n",
       "</div>"
      ],
      "text/plain": [
       "  Agent              CTR Att Sales         Att CR  Sales             CR\n",
       "0  Rand  0.018 (0.000) %     0 (0)  0.31 (0.00) %  0 (0)  1.06 (0.00) %\n",
       "1   PCS  0.029 (0.000) %     0 (0)  0.87 (0.00) %  0 (0)  0.87 (0.00) %\n",
       "2  DPCS  0.018 (0.000) %     0 (0)  0.31 (0.00) %  0 (0)  0.87 (0.00) %"
      ]
     },
     "metadata": {},
     "output_type": "display_data"
    },
    {
     "name": "stdout",
     "output_type": "stream",
     "text": [
      "-- True metrics --\n"
     ]
    },
    {
     "data": {
      "text/html": [
       "<div>\n",
       "<style scoped>\n",
       "    .dataframe tbody tr th:only-of-type {\n",
       "        vertical-align: middle;\n",
       "    }\n",
       "\n",
       "    .dataframe tbody tr th {\n",
       "        vertical-align: top;\n",
       "    }\n",
       "\n",
       "    .dataframe thead th {\n",
       "        text-align: right;\n",
       "    }\n",
       "</style>\n",
       "<table border=\"1\" class=\"dataframe\">\n",
       "  <thead>\n",
       "    <tr style=\"text-align: right;\">\n",
       "      <th></th>\n",
       "      <th>Agent</th>\n",
       "      <th>True CTR</th>\n",
       "      <th>True PCS</th>\n",
       "      <th>True OS</th>\n",
       "      <th>True NCS</th>\n",
       "      <th>NDPC</th>\n",
       "      <th>DPCSO</th>\n",
       "      <th>DPCSN</th>\n",
       "    </tr>\n",
       "  </thead>\n",
       "  <tbody>\n",
       "    <tr>\n",
       "      <th>0</th>\n",
       "      <td>Rand</td>\n",
       "      <td>0.018 (0.000) %</td>\n",
       "      <td>0.15 (0.00) %</td>\n",
       "      <td>0.11 (0.00) %</td>\n",
       "      <td>0.11 (0.00) %</td>\n",
       "      <td>0.017 (0.000) pm</td>\n",
       "      <td>0.004 (0.000) pm</td>\n",
       "      <td>0.004 (0.000) pm</td>\n",
       "    </tr>\n",
       "    <tr>\n",
       "      <th>1</th>\n",
       "      <td>PCS</td>\n",
       "      <td>0.021 (0.000) %</td>\n",
       "      <td>0.13 (0.00) %</td>\n",
       "      <td>0.10 (0.00) %</td>\n",
       "      <td>0.11 (0.00) %</td>\n",
       "      <td>0.018 (0.000) pm</td>\n",
       "      <td>0.004 (0.000) pm</td>\n",
       "      <td>0.003 (0.000) pm</td>\n",
       "    </tr>\n",
       "    <tr>\n",
       "      <th>2</th>\n",
       "      <td>DPCS</td>\n",
       "      <td>0.022 (0.000) %</td>\n",
       "      <td>0.13 (0.00) %</td>\n",
       "      <td>0.06 (0.00) %</td>\n",
       "      <td>0.11 (0.00) %</td>\n",
       "      <td>0.019 (0.000) pm</td>\n",
       "      <td>0.011 (0.000) pm</td>\n",
       "      <td>0.004 (0.000) pm</td>\n",
       "    </tr>\n",
       "  </tbody>\n",
       "</table>\n",
       "</div>"
      ],
      "text/plain": [
       "  Agent         True CTR       True PCS        True OS       True NCS  \\\n",
       "0  Rand  0.018 (0.000) %  0.15 (0.00) %  0.11 (0.00) %  0.11 (0.00) %   \n",
       "1   PCS  0.021 (0.000) %  0.13 (0.00) %  0.10 (0.00) %  0.11 (0.00) %   \n",
       "2  DPCS  0.022 (0.000) %  0.13 (0.00) %  0.06 (0.00) %  0.11 (0.00) %   \n",
       "\n",
       "               NDPC             DPCSO             DPCSN  \n",
       "0  0.017 (0.000) pm  0.004 (0.000) pm  0.004 (0.000) pm  \n",
       "1  0.018 (0.000) pm  0.004 (0.000) pm  0.003 (0.000) pm  \n",
       "2  0.019 (0.000) pm  0.011 (0.000) pm  0.004 (0.000) pm  "
      ]
     },
     "metadata": {},
     "output_type": "display_data"
    }
   ],
   "source": [
    "name_extension = 'prop'\n",
    "name_logging = name_agent\n",
    "info, save_agents = train_timeagents(name_logging,logs,feature_name,features, num_users=num_users, \n",
    "                                     kronecker_features=True,linear_reg=True, repo = data_repo)\n",
    "r_list = Parallel(n_jobs=int(num_cores/2), verbose=10)(delayed(run_func)(i) for i in range(num_AB_tests))\n",
    "res_dict = {r_list[i]['name']:r_list[i] for i in range(len(r_list))}\n",
    "res_avg = avg_result_extended(res_dict)\n",
    "(res_recap, res_recap_latex, \n",
    " res_AB, res_AB_latex, \n",
    " res_true, res_true_latex) = format_avg_result_extended(res_avg) #get dataframe & corresponding latex table\n",
    "pkl.dump(res_dict, open(data_repo+\"clean/res_dict_\"+name_logging+str(num_users)+\"_\"+str(num_users_AB)+\"_\"+feature_name+name_extension+\".pkl\",'wb'))\n",
    "pkl.dump(res_avg, open(data_repo+\"clean/res_avg_\"+name_logging+str(num_users)+\"_\"+str(num_users_AB)+\"_\"+feature_name+name_extension+\".pkl\",'wb'))\n",
    "res_recap.to_csv(data_repo+\"clean/res_recap_\"+name_logging+str(num_users)+\"_\"+str(num_users_AB)+\"_\"+feature_name+name_extension+\".csv\",index = False)\n",
    "res_true.to_csv(data_repo+\"clean/res_true_\"+name_logging+str(num_users)+\"_\"+str(num_users_AB)+\"_\"+feature_name+name_extension+\".csv\",index = False)"
   ]
  },
  {
   "cell_type": "code",
   "execution_count": 23,
   "metadata": {},
   "outputs": [],
   "source": [
    "def run_prop_noweight():\n",
    "    name_extension = 'prop'\n",
    "    name_logging = name_agent\n",
    "    info, save_agents = train_timeagents(name_logging,logs,feature_name,features, num_users=num_users, \n",
    "                                         kronecker_features=True,linear_reg=True, repo = data_repo)\n",
    "    r_list = Parallel(n_jobs=int(num_cores/2), verbose=10)(delayed(\n",
    "                        run_AB_test(i,name_ext=name_extension)) for i in range(num_AB_tests))\n",
    "    res_dict = {r_list[i]['name']:r_list[i] for i in range(len(r_list))}\n",
    "    res_avg = avg_result_extended(res_dict)\n",
    "    (res_recap, res_recap_latex, \n",
    "     res_AB, res_AB_latex, \n",
    "     res_true, res_true_latex) = format_avg_result_extended(res_avg) #get dataframe & corresponding latex table\n",
    "    pkl.dump(res_dict, open(data_repo+\"clean/res_dict_\"+name_logging+str(num_users)+\"_\"+str(num_users_AB)+\"_\"+feature_name+name_extension+\".pkl\",'wb'))\n",
    "    pkl.dump(res_avg, open(data_repo+\"clean/res_avg_\"+name_logging+str(num_users)+\"_\"+str(num_users_AB)+\"_\"+feature_name+name_extension+\".pkl\",'wb'))\n",
    "    res_recap.to_csv(data_repo+\"clean/res_recap_\"+name_logging+str(num_users)+\"_\"+str(num_users_AB)+\"_\"+feature_name+name_extension+\".csv\",index = False)\n",
    "    res_true.to_csv(data_repo+\"clean/res_true_\"+name_logging+str(num_users)+\"_\"+str(num_users_AB)+\"_\"+feature_name+name_extension+\".csv\",index = False)"
   ]
  },
  {
   "cell_type": "code",
   "execution_count": 9,
   "metadata": {},
   "outputs": [
    {
     "name": "stderr",
     "output_type": "stream",
     "text": [
      "[Parallel(n_jobs=3)]: Using backend LokyBackend with 3 concurrent workers.\n",
      "[Parallel(n_jobs=3)]: Done   2 out of   2 | elapsed:    4.5s remaining:    0.0s\n"
     ]
    },
    {
     "ename": "TypeError",
     "evalue": "cannot unpack non-iterable function object",
     "output_type": "error",
     "traceback": [
      "\u001b[1;31m---------------------------------------------------------------------------\u001b[0m",
      "\u001b[1;31m_RemoteTraceback\u001b[0m                          Traceback (most recent call last)",
      "\u001b[1;31m_RemoteTraceback\u001b[0m: \n\"\"\"\nTraceback (most recent call last):\n  File \"C:\\Users\\Philo\\AppData\\Local\\Continuum\\anaconda3\\lib\\site-packages\\joblib\\externals\\loky\\process_executor.py\", line 418, in _process_worker\n    r = call_item()\n  File \"C:\\Users\\Philo\\AppData\\Local\\Continuum\\anaconda3\\lib\\site-packages\\joblib\\externals\\loky\\process_executor.py\", line 272, in __call__\n    return self.fn(*self.args, **self.kwargs)\n  File \"C:\\Users\\Philo\\AppData\\Local\\Continuum\\anaconda3\\lib\\site-packages\\joblib\\_parallel_backends.py\", line 608, in __call__\n    return self.func(*args, **kwargs)\n  File \"C:\\Users\\Philo\\AppData\\Local\\Continuum\\anaconda3\\lib\\site-packages\\joblib\\parallel.py\", line 256, in __call__\n    for func, args, kwargs in self.items]\n  File \"C:\\Users\\Philo\\AppData\\Local\\Continuum\\anaconda3\\lib\\site-packages\\joblib\\parallel.py\", line 255, in <listcomp>\n    return [func(*args, **kwargs)\nTypeError: cannot unpack non-iterable function object\n\"\"\"",
      "\nThe above exception was the direct cause of the following exception:\n",
      "\u001b[1;31mTypeError\u001b[0m                                 Traceback (most recent call last)",
      "\u001b[1;32m<ipython-input-9-0d83292204cf>\u001b[0m in \u001b[0;36m<module>\u001b[1;34m\u001b[0m\n\u001b[0;32m      1\u001b[0m Parallel(n_jobs=int(num_cores), verbose=10)(delayed(\n\u001b[1;32m----> 2\u001b[1;33m                     run_prop_noweight) for name_extension in ['prop','propweights'])\n\u001b[0m",
      "\u001b[1;32m~\\AppData\\Local\\Continuum\\anaconda3\\lib\\site-packages\\joblib\\parallel.py\u001b[0m in \u001b[0;36m__call__\u001b[1;34m(self, iterable)\u001b[0m\n\u001b[0;32m   1015\u001b[0m \u001b[1;33m\u001b[0m\u001b[0m\n\u001b[0;32m   1016\u001b[0m             \u001b[1;32mwith\u001b[0m \u001b[0mself\u001b[0m\u001b[1;33m.\u001b[0m\u001b[0m_backend\u001b[0m\u001b[1;33m.\u001b[0m\u001b[0mretrieval_context\u001b[0m\u001b[1;33m(\u001b[0m\u001b[1;33m)\u001b[0m\u001b[1;33m:\u001b[0m\u001b[1;33m\u001b[0m\u001b[1;33m\u001b[0m\u001b[0m\n\u001b[1;32m-> 1017\u001b[1;33m                 \u001b[0mself\u001b[0m\u001b[1;33m.\u001b[0m\u001b[0mretrieve\u001b[0m\u001b[1;33m(\u001b[0m\u001b[1;33m)\u001b[0m\u001b[1;33m\u001b[0m\u001b[1;33m\u001b[0m\u001b[0m\n\u001b[0m\u001b[0;32m   1018\u001b[0m             \u001b[1;31m# Make sure that we get a last message telling us we are done\u001b[0m\u001b[1;33m\u001b[0m\u001b[1;33m\u001b[0m\u001b[1;33m\u001b[0m\u001b[0m\n\u001b[0;32m   1019\u001b[0m             \u001b[0melapsed_time\u001b[0m \u001b[1;33m=\u001b[0m \u001b[0mtime\u001b[0m\u001b[1;33m.\u001b[0m\u001b[0mtime\u001b[0m\u001b[1;33m(\u001b[0m\u001b[1;33m)\u001b[0m \u001b[1;33m-\u001b[0m \u001b[0mself\u001b[0m\u001b[1;33m.\u001b[0m\u001b[0m_start_time\u001b[0m\u001b[1;33m\u001b[0m\u001b[1;33m\u001b[0m\u001b[0m\n",
      "\u001b[1;32m~\\AppData\\Local\\Continuum\\anaconda3\\lib\\site-packages\\joblib\\parallel.py\u001b[0m in \u001b[0;36mretrieve\u001b[1;34m(self)\u001b[0m\n\u001b[0;32m    907\u001b[0m             \u001b[1;32mtry\u001b[0m\u001b[1;33m:\u001b[0m\u001b[1;33m\u001b[0m\u001b[1;33m\u001b[0m\u001b[0m\n\u001b[0;32m    908\u001b[0m                 \u001b[1;32mif\u001b[0m \u001b[0mgetattr\u001b[0m\u001b[1;33m(\u001b[0m\u001b[0mself\u001b[0m\u001b[1;33m.\u001b[0m\u001b[0m_backend\u001b[0m\u001b[1;33m,\u001b[0m \u001b[1;34m'supports_timeout'\u001b[0m\u001b[1;33m,\u001b[0m \u001b[1;32mFalse\u001b[0m\u001b[1;33m)\u001b[0m\u001b[1;33m:\u001b[0m\u001b[1;33m\u001b[0m\u001b[1;33m\u001b[0m\u001b[0m\n\u001b[1;32m--> 909\u001b[1;33m                     \u001b[0mself\u001b[0m\u001b[1;33m.\u001b[0m\u001b[0m_output\u001b[0m\u001b[1;33m.\u001b[0m\u001b[0mextend\u001b[0m\u001b[1;33m(\u001b[0m\u001b[0mjob\u001b[0m\u001b[1;33m.\u001b[0m\u001b[0mget\u001b[0m\u001b[1;33m(\u001b[0m\u001b[0mtimeout\u001b[0m\u001b[1;33m=\u001b[0m\u001b[0mself\u001b[0m\u001b[1;33m.\u001b[0m\u001b[0mtimeout\u001b[0m\u001b[1;33m)\u001b[0m\u001b[1;33m)\u001b[0m\u001b[1;33m\u001b[0m\u001b[1;33m\u001b[0m\u001b[0m\n\u001b[0m\u001b[0;32m    910\u001b[0m                 \u001b[1;32melse\u001b[0m\u001b[1;33m:\u001b[0m\u001b[1;33m\u001b[0m\u001b[1;33m\u001b[0m\u001b[0m\n\u001b[0;32m    911\u001b[0m                     \u001b[0mself\u001b[0m\u001b[1;33m.\u001b[0m\u001b[0m_output\u001b[0m\u001b[1;33m.\u001b[0m\u001b[0mextend\u001b[0m\u001b[1;33m(\u001b[0m\u001b[0mjob\u001b[0m\u001b[1;33m.\u001b[0m\u001b[0mget\u001b[0m\u001b[1;33m(\u001b[0m\u001b[1;33m)\u001b[0m\u001b[1;33m)\u001b[0m\u001b[1;33m\u001b[0m\u001b[1;33m\u001b[0m\u001b[0m\n",
      "\u001b[1;32m~\\AppData\\Local\\Continuum\\anaconda3\\lib\\site-packages\\joblib\\_parallel_backends.py\u001b[0m in \u001b[0;36mwrap_future_result\u001b[1;34m(future, timeout)\u001b[0m\n\u001b[0;32m    560\u001b[0m         AsyncResults.get from multiprocessing.\"\"\"\n\u001b[0;32m    561\u001b[0m         \u001b[1;32mtry\u001b[0m\u001b[1;33m:\u001b[0m\u001b[1;33m\u001b[0m\u001b[1;33m\u001b[0m\u001b[0m\n\u001b[1;32m--> 562\u001b[1;33m             \u001b[1;32mreturn\u001b[0m \u001b[0mfuture\u001b[0m\u001b[1;33m.\u001b[0m\u001b[0mresult\u001b[0m\u001b[1;33m(\u001b[0m\u001b[0mtimeout\u001b[0m\u001b[1;33m=\u001b[0m\u001b[0mtimeout\u001b[0m\u001b[1;33m)\u001b[0m\u001b[1;33m\u001b[0m\u001b[1;33m\u001b[0m\u001b[0m\n\u001b[0m\u001b[0;32m    563\u001b[0m         \u001b[1;32mexcept\u001b[0m \u001b[0mLokyTimeoutError\u001b[0m\u001b[1;33m:\u001b[0m\u001b[1;33m\u001b[0m\u001b[1;33m\u001b[0m\u001b[0m\n\u001b[0;32m    564\u001b[0m             \u001b[1;32mraise\u001b[0m \u001b[0mTimeoutError\u001b[0m\u001b[1;33m(\u001b[0m\u001b[1;33m)\u001b[0m\u001b[1;33m\u001b[0m\u001b[1;33m\u001b[0m\u001b[0m\n",
      "\u001b[1;32m~\\AppData\\Local\\Continuum\\anaconda3\\lib\\concurrent\\futures\\_base.py\u001b[0m in \u001b[0;36mresult\u001b[1;34m(self, timeout)\u001b[0m\n\u001b[0;32m    433\u001b[0m                 \u001b[1;32mraise\u001b[0m \u001b[0mCancelledError\u001b[0m\u001b[1;33m(\u001b[0m\u001b[1;33m)\u001b[0m\u001b[1;33m\u001b[0m\u001b[1;33m\u001b[0m\u001b[0m\n\u001b[0;32m    434\u001b[0m             \u001b[1;32melif\u001b[0m \u001b[0mself\u001b[0m\u001b[1;33m.\u001b[0m\u001b[0m_state\u001b[0m \u001b[1;33m==\u001b[0m \u001b[0mFINISHED\u001b[0m\u001b[1;33m:\u001b[0m\u001b[1;33m\u001b[0m\u001b[1;33m\u001b[0m\u001b[0m\n\u001b[1;32m--> 435\u001b[1;33m                 \u001b[1;32mreturn\u001b[0m \u001b[0mself\u001b[0m\u001b[1;33m.\u001b[0m\u001b[0m__get_result\u001b[0m\u001b[1;33m(\u001b[0m\u001b[1;33m)\u001b[0m\u001b[1;33m\u001b[0m\u001b[1;33m\u001b[0m\u001b[0m\n\u001b[0m\u001b[0;32m    436\u001b[0m             \u001b[1;32melse\u001b[0m\u001b[1;33m:\u001b[0m\u001b[1;33m\u001b[0m\u001b[1;33m\u001b[0m\u001b[0m\n\u001b[0;32m    437\u001b[0m                 \u001b[1;32mraise\u001b[0m \u001b[0mTimeoutError\u001b[0m\u001b[1;33m(\u001b[0m\u001b[1;33m)\u001b[0m\u001b[1;33m\u001b[0m\u001b[1;33m\u001b[0m\u001b[0m\n",
      "\u001b[1;32m~\\AppData\\Local\\Continuum\\anaconda3\\lib\\concurrent\\futures\\_base.py\u001b[0m in \u001b[0;36m__get_result\u001b[1;34m(self)\u001b[0m\n\u001b[0;32m    382\u001b[0m     \u001b[1;32mdef\u001b[0m \u001b[0m__get_result\u001b[0m\u001b[1;33m(\u001b[0m\u001b[0mself\u001b[0m\u001b[1;33m)\u001b[0m\u001b[1;33m:\u001b[0m\u001b[1;33m\u001b[0m\u001b[1;33m\u001b[0m\u001b[0m\n\u001b[0;32m    383\u001b[0m         \u001b[1;32mif\u001b[0m \u001b[0mself\u001b[0m\u001b[1;33m.\u001b[0m\u001b[0m_exception\u001b[0m\u001b[1;33m:\u001b[0m\u001b[1;33m\u001b[0m\u001b[1;33m\u001b[0m\u001b[0m\n\u001b[1;32m--> 384\u001b[1;33m             \u001b[1;32mraise\u001b[0m \u001b[0mself\u001b[0m\u001b[1;33m.\u001b[0m\u001b[0m_exception\u001b[0m\u001b[1;33m\u001b[0m\u001b[1;33m\u001b[0m\u001b[0m\n\u001b[0m\u001b[0;32m    385\u001b[0m         \u001b[1;32melse\u001b[0m\u001b[1;33m:\u001b[0m\u001b[1;33m\u001b[0m\u001b[1;33m\u001b[0m\u001b[0m\n\u001b[0;32m    386\u001b[0m             \u001b[1;32mreturn\u001b[0m \u001b[0mself\u001b[0m\u001b[1;33m.\u001b[0m\u001b[0m_result\u001b[0m\u001b[1;33m\u001b[0m\u001b[1;33m\u001b[0m\u001b[0m\n",
      "\u001b[1;31mTypeError\u001b[0m: cannot unpack non-iterable function object"
     ]
    }
   ],
   "source": [
    "Parallel(n_jobs=int(num_cores), verbose=10)(delayed(\n",
    "                    run_prop_noweight) for name_extension in ['prop','propweights'])"
   ]
  },
  {
   "cell_type": "code",
   "execution_count": null,
   "metadata": {},
   "outputs": [],
   "source": []
  }
 ],
 "metadata": {
  "kernelspec": {
   "display_name": "Python 3",
   "language": "python",
   "name": "python3"
  },
  "language_info": {
   "codemirror_mode": {
    "name": "ipython",
    "version": 3
   },
   "file_extension": ".py",
   "mimetype": "text/x-python",
   "name": "python",
   "nbconvert_exporter": "python",
   "pygments_lexer": "ipython3",
   "version": "3.7.4"
  }
 },
 "nbformat": 4,
 "nbformat_minor": 2
}
