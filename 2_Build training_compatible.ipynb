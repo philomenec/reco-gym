{
 "cells": [
  {
   "cell_type": "code",
   "execution_count": 1,
   "metadata": {},
   "outputs": [],
   "source": [
    "import gym, recogym\n",
    "import matplotlib.pyplot as plt\n",
    "from copy import deepcopy\n",
    "import numpy as np\n",
    "import pandas as pd\n",
    "import pickle as pkl\n",
    "pd.options.mode.chained_assignment = None \n",
    "# from inspect import getsource\n",
    "from recogym.evaluate_agent_sale import verify_agents_sale, plot_verify_agents_sale, plot_CR_CTR\n",
    "from tqdm import tqdm\n",
    "\n",
    "# env_1_sale_args is a dictionary of default parameters (i.e. number of products)\n",
    "from recogym import env_1_sale_args, Configuration\n",
    "from recogym.envs.utils_sale import (share_states, share_sale, env_infos, count_sales_first_session, \n",
    "                                     get_beta_confidence_interval, share_user_with_sale, share_clicks_with_sale)\n",
    "# You can overwrite environment arguments here:\n",
    "env_1_sale_args['random_seed'] = 42\n",
    "\n",
    "# Initialize the gym for the first time by calling .make() and .init_gym()\n",
    "env = gym.make('reco-gym-sale-v1')\n",
    "env.init_gym(env_1_sale_args)\n",
    "\n",
    "# .reset() env before each episode (one episode per user).\n",
    "env.reset()\n",
    "done = False\n",
    "num_products = env_1_sale_args['num_products']\n",
    "\n",
    "# You can overwrite environment arguments here:\n",
    "env_1_sale_args['random_seed'] = 42\n",
    "\n",
    "# Initialize the gym \n",
    "env = gym.make('reco-gym-sale-v1')\n",
    "env.init_gym(env_1_sale_args)\n",
    "\n",
    "env_1_sale_args['number_of_flips'] = 5"
   ]
  },
  {
   "cell_type": "code",
   "execution_count": 4,
   "metadata": {},
   "outputs": [
    {
     "name": "stderr",
     "output_type": "stream",
     "text": [
      "Organic Users: 0it [00:00, ?it/s]\n",
      "Users: 100%|███████████████████████████████████████████████████████████████████████| 5000/5000 [02:46<00:00, 29.96it/s]\n"
     ]
    }
   ],
   "source": [
    "num_users = 5000\n",
    "# # Random policy as logging policy\n",
    "# data_random = deepcopy(env).generate_logs(num_users)\n",
    "# data = data_random.copy()\n",
    "# pkl.dump(data,open(str('data\\data'+str(num_users)+'rand.pkl'),'wb'))\n",
    "\n",
    "data_random = pkl.load(open(str('data\\data'+str(num_users)+'rand.pkl'),'rb'))\n",
    "data = data_random.copy()"
   ]
  },
  {
   "cell_type": "markdown",
   "metadata": {},
   "source": [
    "## Reward shaping"
   ]
  },
  {
   "cell_type": "markdown",
   "metadata": {},
   "source": [
    "#### Previous version : reward = click"
   ]
  },
  {
   "cell_type": "code",
   "execution_count": 5,
   "metadata": {},
   "outputs": [],
   "source": [
    "from recogym.agents.sale_agent import ClickRewardProvider\n",
    "\n",
    "Click_rewards = ClickRewardProvider()"
   ]
  },
  {
   "cell_type": "markdown",
   "metadata": {},
   "source": [
    "#### V0 attribute the reward of the MDP"
   ]
  },
  {
   "cell_type": "code",
   "execution_count": 6,
   "metadata": {},
   "outputs": [],
   "source": [
    "from recogym.agents.sale_agent import MDPRewardProvider\n",
    "\n",
    "MDP_rewards = MDPRewardProvider()\n",
    "MDP_rewards_all = MDPRewardProvider(clicks_only=False)\n",
    "MDP_rewards_all_pureorganic = MDPRewardProvider(clicks_only=False, organic_only=True)"
   ]
  },
  {
   "cell_type": "code",
   "execution_count": 5,
   "metadata": {},
   "outputs": [
    {
     "data": {
      "image/png": "[encoded data removed]",
      "text/plain": [
       "<Figure size 432x288 with 1 Axes>"
      ]
     },
     "metadata": {
      "needs_background": "light"
     },
     "output_type": "display_data"
    },
    {
     "name": "stdout",
     "output_type": "stream",
     "text": [
      "Share of sales that are taken into account in the trainset :  0.8315123634272571\n",
      "Number of sales in the trainset : 1446.0\n"
     ]
    }
   ],
   "source": [
    "MDP_rewards_all.observe(data)\n",
    "MDP_base_all = MDP_rewards_all.features()\n",
    "# display(MDP_base_all)\n",
    "# len(MDP_base_all)\n",
    "\n",
    "trainset = MDP_base_all\n",
    "\n",
    "plt.hist(trainset[\"y\"], bins = np.array(sorted(list(trainset[\"y\"].unique())+[max(trainset[\"y\"])+1]))-0.5)\n",
    "plt.title(\"All non sale as negative\")\n",
    "plt.show()\n",
    "print(\"Share of sales that are taken into account in the trainset : \",\n",
    "      np.sum(trainset[\"y\"])/np.sum(data[\"z\"]==\"sale\"))\n",
    "print(\"Number of sales in the trainset :\",np.sum(trainset[\"y\"]))"
   ]
  },
  {
   "cell_type": "code",
   "execution_count": 6,
   "metadata": {},
   "outputs": [
    {
     "data": {
      "image/png": "[encoded data removed]",
      "text/plain": [
       "<Figure size 432x288 with 1 Axes>"
      ]
     },
     "metadata": {
      "needs_background": "light"
     },
     "output_type": "display_data"
    },
    {
     "name": "stdout",
     "output_type": "stream",
     "text": [
      "Share of sales that are taken into account in the trainset :  0.16503737780333524\n",
      "Number of sales in the trainset : 287.0\n"
     ]
    }
   ],
   "source": [
    "MDP_rewards.observe(data)\n",
    "MDP_base = MDP_rewards.features()\n",
    "# display(MDP_base)\n",
    "# print(len(MDP_base))\n",
    "\n",
    "trainset = MDP_base\n",
    "\n",
    "plt.hist(trainset[\"y\"], bins = np.array(sorted(list(trainset[\"y\"].unique())+[max(trainset[\"y\"])+1]))-0.5)\n",
    "plt.title(\"Sale with no click as negative\")\n",
    "plt.show()\n",
    "print(\"Share of sales that are taken into account in the trainset : \",\n",
    "      np.sum(trainset[\"y\"])/np.sum((data[\"z\"]==\"sale\")))\n",
    "print(\"Number of sales in the trainset :\",np.sum(trainset[\"y\"]))"
   ]
  },
  {
   "cell_type": "markdown",
   "metadata": {},
   "source": [
    " #### V1 : Only attribute reward if the recommended product is sold before the next clicked recommendation"
   ]
  },
  {
   "cell_type": "code",
   "execution_count": 7,
   "metadata": {},
   "outputs": [],
   "source": [
    "from recogym.agents.sale_agent import ShortTermRewardProvider\n",
    "st_rewards = ShortTermRewardProvider()\n",
    "st_rewards_all = ShortTermRewardProvider(clicks_only=False)"
   ]
  },
  {
   "cell_type": "code",
   "execution_count": 8,
   "metadata": {},
   "outputs": [
    {
     "data": {
      "image/png": "[encoded data removed]",
      "text/plain": [
       "<Figure size 432x288 with 1 Axes>"
      ]
     },
     "metadata": {
      "needs_background": "light"
     },
     "output_type": "display_data"
    },
    {
     "name": "stdout",
     "output_type": "stream",
     "text": [
      "Share of sales that are taken into account in the trainset :  0.18171362852213915\n"
     ]
    }
   ],
   "source": [
    "st_rewards_all.observe(data)\n",
    "st_all = st_rewards_all.features()\n",
    "\n",
    "trainset = st_all\n",
    "\n",
    "plt.hist(trainset[\"y\"], bins = np.array(sorted(list(trainset[\"y\"].unique())+[max(trainset[\"y\"])+1]))-0.5)\n",
    "plt.title(\"All non sale as negative\")\n",
    "plt.show()\n",
    "print(\"Share of sales that are taken into account in the trainset : \",\n",
    "      np.sum(trainset[\"y\"])/np.sum(data[\"z\"]==\"sale\"))"
   ]
  },
  {
   "cell_type": "code",
   "execution_count": 9,
   "metadata": {},
   "outputs": [
    {
     "data": {
      "image/png": "[encoded data removed]",
      "text/plain": [
       "<Figure size 432x288 with 1 Axes>"
      ]
     },
     "metadata": {
      "needs_background": "light"
     },
     "output_type": "display_data"
    },
    {
     "name": "stdout",
     "output_type": "stream",
     "text": [
      "Share of sales that are taken into account in the trainset :  0.18171362852213915\n"
     ]
    }
   ],
   "source": [
    "st_rewards.observe(data)\n",
    "st = st_rewards.features()\n",
    "# st.to_csv(\"data/data_clicked.csv\")\n",
    "\n",
    "trainset = st\n",
    "\n",
    "plt.hist(trainset[\"y\"], bins = np.array(sorted(list(trainset[\"y\"].unique())+[max(trainset[\"y\"])+1]))-0.5)\n",
    "plt.title(\"Sale with no click as negative\")\n",
    "plt.show()\n",
    "print(\"Share of sales that are taken into account in the trainset : \",\n",
    "      np.sum(trainset[\"y\"])/np.sum((data[\"z\"]==\"sale\")))"
   ]
  },
  {
   "cell_type": "markdown",
   "metadata": {},
   "source": [
    "#### V2 : Attribute a reward if the product was sold later at one point during the user session\n",
    "\n",
    "In case of several recommendations for the same product, attribute it to the last time it was recommended.\n",
    "Thus, for each user : look at every sale, find the last time it was recommended (if any), and give reward"
   ]
  },
  {
   "cell_type": "code",
   "execution_count": 10,
   "metadata": {},
   "outputs": [],
   "source": [
    "from recogym.agents.sale_agent import CumulativeRewardProvider\n",
    "cum_rewards = CumulativeRewardProvider()\n",
    "cum_rewards_all = CumulativeRewardProvider(clicks_only=False)"
   ]
  },
  {
   "cell_type": "code",
   "execution_count": 11,
   "metadata": {
    "scrolled": true
   },
   "outputs": [
    {
     "data": {
      "image/png": "[encoded data removed]",
      "text/plain": [
       "<Figure size 432x288 with 1 Axes>"
      ]
     },
     "metadata": {
      "needs_background": "light"
     },
     "output_type": "display_data"
    },
    {
     "name": "stdout",
     "output_type": "stream",
     "text": [
      "Share of sales that are taken into account in the trainset :  0.28349626221966645\n"
     ]
    }
   ],
   "source": [
    "cum_rewards_all.observe(data)\n",
    "cum_all = cum_rewards_all.features()\n",
    "\n",
    "trainset = cum_all\n",
    "\n",
    "plt.hist(trainset[\"y\"], bins = np.array(sorted(list(trainset[\"y\"].unique())+[max(trainset[\"y\"])+1]))-0.5)\n",
    "plt.title(\"All non sale as negative\")\n",
    "plt.show()\n",
    "print(\"Share of sales that are taken into account in the trainset : \",\n",
    "      np.sum(trainset[\"y\"])/np.sum(data[\"z\"]==\"sale\"))"
   ]
  },
  {
   "cell_type": "code",
   "execution_count": 12,
   "metadata": {},
   "outputs": [
    {
     "data": {
      "image/png": "[encoded data removed]",
      "text/plain": [
       "<Figure size 432x288 with 1 Axes>"
      ]
     },
     "metadata": {
      "needs_background": "light"
     },
     "output_type": "display_data"
    },
    {
     "name": "stdout",
     "output_type": "stream",
     "text": [
      "Share of sales that are taken into account in the trainset :  0.28349626221966645\n"
     ]
    }
   ],
   "source": [
    "cum_rewards.observe(data)\n",
    "cum = cum_rewards.features()\n",
    "# cum.to_csv(\"data/data_clicked2.csv\")\n",
    "trainset = cum\n",
    "\n",
    "plt.hist(trainset[\"y\"], bins = np.array(sorted(list(trainset[\"y\"].unique())+[max(trainset[\"y\"])+1]))-0.5)\n",
    "plt.title(\"Sale with no click as negative\")\n",
    "plt.show()\n",
    "print(\"Share of sales that are taken into account in the trainset : \",\n",
    "      np.sum(trainset[\"y\"])/np.sum((data[\"z\"]==\"sale\")))"
   ]
  },
  {
   "cell_type": "markdown",
   "metadata": {},
   "source": [
    "#### Save info about reward provider"
   ]
  },
  {
   "cell_type": "code",
   "execution_count": 7,
   "metadata": {},
   "outputs": [],
   "source": [
    "# def info_reward_provider(data,reward_provider, name, share_sales=True):\n",
    "#     dict_info = {'Name':name,\n",
    "#                 'Total length data':len(data),\n",
    "#                  'Total length trainset':len(reward_provider.features())}\n",
    "#     if share_sales==True :\n",
    "#         dict_info['Share of sales in trainset'] = np.sum(reward_provider.features()[\"y\"])/np.sum(data[\"z\"]==\"sale\")\n",
    "#     return dict_info"
   ]
  },
  {
   "cell_type": "markdown",
   "metadata": {},
   "source": [
    "## Build features"
   ]
  },
  {
   "cell_type": "code",
   "execution_count": 8,
   "metadata": {},
   "outputs": [],
   "source": [
    "from recogym.agents.sale_agent import CountViewsClicksFeatureProvider, CountViewsFeatureProvider\n",
    "vc_feature = CountViewsClicksFeatureProvider(env.config)\n",
    "v_feature = CountViewsFeatureProvider(env.config)"
   ]
  },
  {
   "cell_type": "markdown",
   "metadata": {},
   "source": [
    "## Build train data based on features and shaped rewards"
   ]
  },
  {
   "cell_type": "code",
   "execution_count": 9,
   "metadata": {},
   "outputs": [],
   "source": [
    "from recogym.agents.sale_agent import build_train_data\n",
    "\n",
    "# train_st = build_train_data(data, vc_feature, st_rewards)\n",
    "# train_cum = build_train_data(data, vc_feature, cum_rewards)\n",
    "\n",
    "# # Short term\n",
    "# pkl.dump(train_st,open(\"data/train_st.pkl\",\"wb\"))\n",
    "# user_states, actions, rewards, proba_actions = pkl.load(open(\"data/train_st.pkl\",\"rb\"))\n",
    "\n",
    "# # Cumulative\n",
    "# pkl.dump(train_cum,open(\"data/train_cum.pkl\",\"wb\"))\n",
    "# user_states, actions, rewards, proba_actions = pkl.load(open(\"data/train_cum.pkl\",\"rb\"))"
   ]
  },
  {
   "cell_type": "markdown",
   "metadata": {},
   "source": [
    "## Train agent"
   ]
  },
  {
   "cell_type": "code",
   "execution_count": 11,
   "metadata": {},
   "outputs": [],
   "source": [
    "from recogym.agents.sale_agent import SaleLikelihoodAgent, SaleProductLikelihoodAgent\n",
    "\n",
    "from recogym.agents import RandomAgent, random_args\n",
    "random_agent = RandomAgent(Configuration(random_args))\n",
    "\n",
    "from recogym.agents import OrganicUserEventCounterAgent, organic_user_count_args\n",
    "organic_counter_agent = OrganicUserEventCounterAgent(Configuration({**organic_user_count_args,\n",
    "                                                                    **env_1_sale_args,\n",
    "                                                                    'select_randomly': True}))\n",
    "\n",
    "from recogym.agents.sale_oracle import ClickViewSaleOracleAgent\n",
    "env.reset()\n",
    "cvs_oracle = ClickViewSaleOracleAgent(env=env)\n",
    "cvs_oracle.reset()\n",
    "\n",
    "from recogym.agents.sale_oracle import ClickSaleOracleAgent\n",
    "env.reset()\n",
    "cs_oracle = ClickSaleOracleAgent(env=env)\n",
    "cs_oracle.reset()\n",
    "\n",
    "from recogym.agents.sale_count_oracle import ClickViewSaleCountOracleAgent\n",
    "env.reset()\n",
    "cvs_count_oracle = ClickViewSaleCountOracleAgent(env=env)\n",
    "cvs_count_oracle.reset()\n",
    "\n",
    "from recogym.agents.sale_count_oracle import ClickSaleCountOracleAgent\n",
    "env.reset()\n",
    "cs_count_oracle = ClickSaleCountOracleAgent(env=env)\n",
    "cs_count_oracle.reset()\n",
    "\n",
    "from recogym.agents.sale_oracle import ClickViewExpectSalesOracleAgent\n",
    "env.reset()\n",
    "cves_oracle = ClickViewExpectSalesOracleAgent(env = env)\n",
    "cves_oracle.reset()\n",
    "\n",
    "from recogym.agents.sale_oracle import ClickViewExpectGhostSalesOracleAgent\n",
    "env.reset()\n",
    "cvegs_oracle = ClickViewExpectGhostSalesOracleAgent(env = env)\n",
    "cvegs_oracle.reset()\n",
    "\n",
    "from recogym.agents.sale_count_oracle import ClickViewExpectSalesCountOracleAgent\n",
    "env.reset()\n",
    "cvesc_oracle = ClickViewExpectSalesCountOracleAgent(env = env)\n",
    "cvesc_oracle.reset()"
   ]
  },
  {
   "cell_type": "markdown",
   "metadata": {},
   "source": [
    "## Random logging policy"
   ]
  },
  {
   "cell_type": "code",
   "execution_count": 12,
   "metadata": {},
   "outputs": [],
   "source": [
    "info = {}\n",
    "\n",
    "likelihood_logreg_click = SaleLikelihoodAgent(v_feature, Click_rewards)\n",
    "likelihood_logreg_click.train(data)\n",
    "info[likelihood_logreg_click.info[\"Name\"]] = likelihood_logreg_click.info\n",
    "\n",
    "likelihood_saleclickprod = SaleProductLikelihoodAgent(feature_provider_list=[v_feature,v_feature], \n",
    "                                                reward_provider_list=[Click_rewards,MDP_rewards_all], \n",
    "                                                discounts=[0,0])\n",
    "likelihood_saleclickprod.train(data)\n",
    "info[likelihood_saleclickprod.info[\"Name\"]] = likelihood_saleclickprod.info\n",
    "\n",
    "likelihood_saleclickprod_discount = SaleProductLikelihoodAgent(feature_provider_list=[v_feature,v_feature,v_feature], \n",
    "                                                reward_provider_list=[Click_rewards,MDP_rewards_all,MDP_rewards_all_pureorganic], \n",
    "                                                discounts=[0,0,-1])\n",
    "likelihood_saleclickprod_discount.train(data)\n",
    "info[likelihood_saleclickprod_discount.info[\"Name\"]] = likelihood_saleclickprod_discount.info\n",
    "\n",
    "# likelihood_logreg_mdp_all = SaleLikelihoodAgent(vc_feature, MDP_rewards_all)\n",
    "# likelihood_logreg_mdp_all.train(data)\n",
    "# info[likelihood_logreg_mdp_all.info[\"Name\"]] = likelihood_logreg_mdp_all.info\n",
    "\n",
    "# likelihood_logreg_cum_all = SaleLikelihoodAgent(vc_feature, cum_rewards_all)\n",
    "# likelihood_logreg_cum_all.train(data)\n",
    "# info[likelihood_logreg_cum_all.info[\"Name\"]] = likelihood_logreg_cum_all.info\n",
    "\n",
    "\n",
    "# likelihood_logreg_st_all = SaleLikelihoodAgent(vc_feature, st_rewards_all)\n",
    "# likelihood_logreg_st_all.train(data)\n",
    "# info[likelihood_logreg_st_all.info[\"Name\"]] = likelihood_logreg_st_all.info\n",
    "\n",
    "\n",
    "# likelihood_logreg_mdp = SaleLikelihoodAgent(vc_feature, MDP_rewards)\n",
    "# likelihood_logreg_mdp.train(data)\n",
    "# info[likelihood_logreg_mdp.info[\"Name\"]] = likelihood_logreg_mdp.info\n",
    "\n",
    "\n",
    "# likelihood_logreg_cum = SaleLikelihoodAgent(vc_feature, cum_rewards)\n",
    "# likelihood_logreg_cum.train(data)\n",
    "# info[likelihood_logreg_cum.info[\"Name\"]] = likelihood_logreg_cum.info\n",
    "\n",
    "\n",
    "# likelihood_logreg_st = SaleLikelihoodAgent(vc_feature, st_rewards)\n",
    "# likelihood_logreg_st.train(data)\n",
    "# info[likelihood_logreg_st.info[\"Name\"]] = likelihood_logreg_st.info"
   ]
  },
  {
   "cell_type": "code",
   "execution_count": null,
   "metadata": {
    "scrolled": true
   },
   "outputs": [
    {
     "name": "stderr",
     "output_type": "stream",
     "text": [
      "Organic Users: 0it [00:00, ?it/s]\n",
      "Users: 100%|███████████████████████████████████████████████████████████████████████| 1000/1000 [00:32<00:00, 30.59it/s]\n",
      "Organic Users: 0it [00:00, ?it/s]\n",
      "Users: 100%|███████████████████████████████████████████████████████████████████████| 1000/1000 [00:42<00:00, 23.45it/s]\n",
      "Organic Users: 0it [00:00, ?it/s]\n",
      "Users:  88%|███████████████████████████████████████████████████████████████▋        | 884/1000 [26:11<05:27,  2.82s/it]"
     ]
    }
   ],
   "source": [
    "env.reset()\n",
    "res_all_test=verify_agents_sale(\n",
    "    env,\n",
    "    number_of_users=1000,\n",
    "    agents={\n",
    "        'random agent' : random_agent,\n",
    "        'organic user' : organic_counter_agent,\n",
    "        'likelihood click': likelihood_logreg_click,\n",
    "        'likelihood_saleclickprod':likelihood_saleclickprod,\n",
    "        'likelihood_saleclickprod_discount':likelihood_saleclickprod_discount,\n",
    "#         'likelihood MDP all': likelihood_logreg_mdp_all,\n",
    "#         'likelihood ST all': likelihood_logreg_st_all,\n",
    "#         'likelihood cum all': likelihood_logreg_cum_all,\n",
    "#         'likelihood MDP': likelihood_logreg_mdp,\n",
    "#         'likelihood ST': likelihood_logreg_st,\n",
    "#         'likelihood cum': likelihood_logreg_cum,\n",
    "#         'cvs_oracle':cvs_oracle,\n",
    "#         'cs_oracle':cs_oracle,\n",
    "#         'cvs_count_oracle':cvs_count_oracle,\n",
    "#         'cs_count_oracle':cs_count_oracle,\n",
    "#         'cves_oracle':cves_oracle,\n",
    "#         'cvegs_oracle':cvegs_oracle,\n",
    "#         'cvesc_oracle':cvesc_oracle\n",
    "    }\n",
    ")"
   ]
  },
  {
   "cell_type": "code",
   "execution_count": null,
   "metadata": {},
   "outputs": [],
   "source": [
    "# res_all_test[\"sale rate\"]\n",
    "# res_all_test[\"CTR\"]\n",
    "# res_all_test[\"Tot sales\"]\n",
    "# res_all_test['Share user with sale']"
   ]
  },
  {
   "cell_type": "code",
   "execution_count": null,
   "metadata": {},
   "outputs": [],
   "source": [
    "pkl.dump([res_all_test, env_1_sale_args, info,\n",
    "          [likelihood_logreg_click,likelihood_saleclickprod,likelihood_saleclickprod_discount]],\n",
    "         open(\"data/res_all_test3.pkl\",\"wb\"))"
   ]
  },
  {
   "cell_type": "code",
   "execution_count": null,
   "metadata": {},
   "outputs": [],
   "source": [
    "res = res_all_test\n",
    "plot_verify_agents_sale(res[\"sale rate\"], res[\"CTR\"], res[\"Tot sales\"], \n",
    "                        res['Share user with sale'], res['Share sale after click'],\n",
    "                       res[\"User embeddings\"])\n",
    "None"
   ]
  },
  {
   "cell_type": "markdown",
   "metadata": {},
   "source": [
    "## Popularity agent as logging policy"
   ]
  },
  {
   "cell_type": "code",
   "execution_count": null,
   "metadata": {},
   "outputs": [],
   "source": [
    "from recogym.envs.utils_sale import PopularityAgent\n",
    "popagent=PopularityAgent(Configuration({**env_1_sale_args,'num_products': num_products}))\n",
    "popagent.logging_pretrain(data)\n",
    "\n",
    "# num_users = 1000\n",
    "num_users = 5000\n",
    "data = deepcopy(env).generate_logs(num_users, agent=popagent)\n",
    "pkl.dump(data,open(str('data\\data'+str(num_users)+'pop.pkl'),'wb'))\n",
    "data = pkl.load(open(str('data\\data'+str(num_users)+'pop.pkl'),'rb'))"
   ]
  },
  {
   "cell_type": "code",
   "execution_count": null,
   "metadata": {},
   "outputs": [],
   "source": [
    "info = {}\n",
    "\n",
    "likelihood_logreg_click = SaleLikelihoodAgent(v_feature, Click_rewards)\n",
    "likelihood_logreg_click.train(data)\n",
    "info[likelihood_logreg_click.info[\"Name\"]] = likelihood_logreg_click.info\n",
    "\n",
    "likelihood_saleclickprod = SaleProductLikelihoodAgent(feature_provider_list=[v_feature,v_feature], \n",
    "                                                reward_provider_list=[Click_rewards,MDP_rewards_all], \n",
    "                                                discounts=[0,0])\n",
    "likelihood_saleclickprod.train(data)\n",
    "info[likelihood_saleclickprod.info[\"Name\"]] = likelihood_saleclickprod.info\n",
    "\n",
    "likelihood_saleclickprod_discount = SaleProductLikelihoodAgent(feature_provider_list=[v_feature,v_feature,v_feature], \n",
    "                                                reward_provider_list=[Click_rewards,MDP_rewards_all,MDP_rewards_all_pureorganic], \n",
    "                                                discounts=[0,0,-1])\n",
    "likelihood_saleclickprod_discount.train(data)\n",
    "info[likelihood_saleclickprod_discount.info[\"Name\"]] = likelihood_saleclickprod_discount.info\n",
    "\n",
    "# likelihood_logreg_mdp_all = SaleLikelihoodAgent(vc_feature, MDP_rewards_all)\n",
    "# likelihood_logreg_mdp_all.train(data)\n",
    "# info[likelihood_logreg_mdp_all.info[\"Name\"]] = likelihood_logreg_mdp_all.info\n",
    "\n",
    "# likelihood_logreg_cum_all = SaleLikelihoodAgent(vc_feature, cum_rewards_all)\n",
    "# likelihood_logreg_cum_all.train(data)\n",
    "# info[likelihood_logreg_cum_all.info[\"Name\"]] = likelihood_logreg_cum_all.info\n",
    "\n",
    "\n",
    "# likelihood_logreg_st_all = SaleLikelihoodAgent(vc_feature, st_rewards_all)\n",
    "# likelihood_logreg_st_all.train(data)\n",
    "# info[likelihood_logreg_st_all.info[\"Name\"]] = likelihood_logreg_st_all.info\n",
    "\n",
    "\n",
    "# likelihood_logreg_mdp = SaleLikelihoodAgent(vc_feature, MDP_rewards)\n",
    "# likelihood_logreg_mdp.train(data)\n",
    "# info[likelihood_logreg_mdp.info[\"Name\"]] = likelihood_logreg_mdp.info\n",
    "\n",
    "\n",
    "# likelihood_logreg_cum = SaleLikelihoodAgent(vc_feature, cum_rewards)\n",
    "# likelihood_logreg_cum.train(data)\n",
    "# info[likelihood_logreg_cum.info[\"Name\"]] = likelihood_logreg_cum.info\n",
    "\n",
    "\n",
    "# likelihood_logreg_st = SaleLikelihoodAgent(vc_feature, st_rewards)\n",
    "# likelihood_logreg_st.train(data)\n",
    "# info[likelihood_logreg_st.info[\"Name\"]] = likelihood_logreg_st.info"
   ]
  },
  {
   "cell_type": "code",
   "execution_count": null,
   "metadata": {},
   "outputs": [],
   "source": [
    "env.reset()\n",
    "res_all_test_pop=verify_agents_sale(\n",
    "    env,\n",
    "#     number_of_users=100,\n",
    "#     number_of_users=500,\n",
    "    number_of_users=1000,\n",
    "    agents={\n",
    "        'random agent' : random_agent,\n",
    "        'organic user' : organic_counter_agent,\n",
    "        'likelihood click': likelihood_logreg_click,\n",
    "        'likelihood_saleclickprod':likelihood_saleclickprod,\n",
    "        'likelihood_saleclickprod_discount':likelihood_saleclickprod_discount,\n",
    "#         'likelihood MDP all': likelihood_logreg_mdp_all,\n",
    "#         'likelihood ST all': likelihood_logreg_st_all,\n",
    "#         'likelihood cum all': likelihood_logreg_cum_all,\n",
    "#         'likelihood MDP': likelihood_logreg_mdp,\n",
    "#         'likelihood ST': likelihood_logreg_st,\n",
    "#         'likelihood cum': likelihood_logreg_cum,\n",
    "        'cvs_oracle':cvs_oracle,\n",
    "        'cs_oracle':cs_oracle,\n",
    "        'cvs_count_oracle':cvs_count_oracle,\n",
    "        'cs_count_oracle':cs_count_oracle,\n",
    "        'cves_oracle':cves_oracle,\n",
    "        'cvegs_oracle':cvegs_oracle,\n",
    "        'cvesc_oracle':cvesc_oracle\n",
    "    }\n",
    ")"
   ]
  },
  {
   "cell_type": "code",
   "execution_count": null,
   "metadata": {},
   "outputs": [],
   "source": [
    "pkl.dump([res_all_test_pop, env_1_sale_args, info,\n",
    "          [likelihood_logreg_click,likelihood_saleclickprod,likelihood_saleclickprod_discount]],\n",
    "         open(\"data/res_all_test_pop2.pkl\",\"wb\"))"
   ]
  },
  {
   "cell_type": "code",
   "execution_count": null,
   "metadata": {},
   "outputs": [],
   "source": [
    "res = res_all_test_pop\n",
    "plot_verify_agents_sale(res[\"sale rate\"], res[\"CTR\"], res[\"Tot sales\"], \n",
    "                        res['Share user with sale'], res['Share sale after click'],\n",
    "                       res[\"User embeddings\"])\n",
    "None"
   ]
  },
  {
   "cell_type": "markdown",
   "metadata": {},
   "source": [
    "### Organic user counter as logging policy"
   ]
  },
  {
   "cell_type": "code",
   "execution_count": null,
   "metadata": {},
   "outputs": [],
   "source": [
    "# num_users = 1000\n",
    "num_users = 5000\n",
    "data = deepcopy(env).generate_logs(num_users, agent=organic_counter_agent)\n",
    "pkl.dump(data,open(str('data\\data'+str(num_users)+'organic.pkl'),'wb'))\n",
    "data = pkl.load(open(str('data\\data'+str(num_users)+'organic.pkl'),'rb'))"
   ]
  },
  {
   "cell_type": "code",
   "execution_count": null,
   "metadata": {},
   "outputs": [],
   "source": [
    "info = {}\n",
    "\n",
    "likelihood_logreg_click = SaleLikelihoodAgent(v_feature, Click_rewards)\n",
    "likelihood_logreg_click.train(data)\n",
    "info[likelihood_logreg_click.info[\"Name\"]] = likelihood_logreg_click.info\n",
    "\n",
    "likelihood_saleclickprod = SaleProductLikelihoodAgent(feature_provider_list=[v_feature,v_feature], \n",
    "                                                reward_provider_list=[Click_rewards,MDP_rewards_all], \n",
    "                                                discounts=[0,0])\n",
    "likelihood_saleclickprod.train(data)\n",
    "info[likelihood_saleclickprod.info[\"Name\"]] = likelihood_saleclickprod.info\n",
    "\n",
    "likelihood_saleclickprod_discount = SaleProductLikelihoodAgent(feature_provider_list=[v_feature,v_feature,v_feature], \n",
    "                                                reward_provider_list=[Click_rewards,MDP_rewards_all,MDP_rewards_all_pureorganic], \n",
    "                                                discounts=[0,0,-1])\n",
    "likelihood_saleclickprod_discount.train(data)\n",
    "info[likelihood_saleclickprod_discount.info[\"Name\"]] = likelihood_saleclickprod_discount.info\n",
    "\n",
    "# likelihood_logreg_mdp_all = SaleLikelihoodAgent(vc_feature, MDP_rewards_all)\n",
    "# likelihood_logreg_mdp_all.train(data)\n",
    "# info[likelihood_logreg_mdp_all.info[\"Name\"]] = likelihood_logreg_mdp_all.info\n",
    "\n",
    "# likelihood_logreg_cum_all = SaleLikelihoodAgent(vc_feature, cum_rewards_all)\n",
    "# likelihood_logreg_cum_all.train(data)\n",
    "# info[likelihood_logreg_cum_all.info[\"Name\"]] = likelihood_logreg_cum_all.info\n",
    "\n",
    "\n",
    "# likelihood_logreg_st_all = SaleLikelihoodAgent(vc_feature, st_rewards_all)\n",
    "# likelihood_logreg_st_all.train(data)\n",
    "# info[likelihood_logreg_st_all.info[\"Name\"]] = likelihood_logreg_st_all.info\n",
    "\n",
    "\n",
    "# likelihood_logreg_mdp = SaleLikelihoodAgent(vc_feature, MDP_rewards)\n",
    "# likelihood_logreg_mdp.train(data)\n",
    "# info[likelihood_logreg_mdp.info[\"Name\"]] = likelihood_logreg_mdp.info\n",
    "\n",
    "\n",
    "# likelihood_logreg_cum = SaleLikelihoodAgent(vc_feature, cum_rewards)\n",
    "# likelihood_logreg_cum.train(data)\n",
    "# info[likelihood_logreg_cum.info[\"Name\"]] = likelihood_logreg_cum.info\n",
    "\n",
    "\n",
    "# likelihood_logreg_st = SaleLikelihoodAgent(vc_feature, st_rewards)\n",
    "# likelihood_logreg_st.train(data)\n",
    "# info[likelihood_logreg_st.info[\"Name\"]] = likelihood_logreg_st.info"
   ]
  },
  {
   "cell_type": "code",
   "execution_count": null,
   "metadata": {},
   "outputs": [],
   "source": [
    "env.reset()\n",
    "res_all_test_organic=verify_agents_sale(\n",
    "    env,\n",
    "#     number_of_users=100,\n",
    "#     number_of_users=500,\n",
    "    number_of_users=1000,\n",
    "    agents={\n",
    "        'random agent' : random_agent,\n",
    "        'organic user' : organic_counter_agent,\n",
    "        'likelihood click': likelihood_logreg_click,\n",
    "        'likelihood_saleclickprod':likelihood_saleclickprod,\n",
    "        'likelihood_saleclickprod_discount':likelihood_saleclickprod_discount,\n",
    "#         'likelihood MDP all': likelihood_logreg_mdp_all,\n",
    "#         'likelihood ST all': likelihood_logreg_st_all,\n",
    "#         'likelihood cum all': likelihood_logreg_cum_all,\n",
    "#         'likelihood MDP': likelihood_logreg_mdp,\n",
    "#         'likelihood ST': likelihood_logreg_st,\n",
    "#         'likelihood cum': likelihood_logreg_cum,\n",
    "        'cvs_oracle':cvs_oracle,\n",
    "        'cs_oracle':cs_oracle,\n",
    "        'cvs_count_oracle':cvs_count_oracle,\n",
    "        'cs_count_oracle':cs_count_oracle,\n",
    "        'cves_oracle':cves_oracle,\n",
    "        'cvegs_oracle':cvegs_oracle,\n",
    "        'cvesc_oracle':cvesc_oracle\n",
    "    }\n",
    ")"
   ]
  },
  {
   "cell_type": "code",
   "execution_count": null,
   "metadata": {},
   "outputs": [],
   "source": [
    "pkl.dump([res_all_test_organic, env_1_sale_args, info,\n",
    "          [likelihood_logreg_click,likelihood_saleclickprod,likelihood_saleclickprod_discount]],\n",
    "         open(\"data/res_all_test_organic2.pkl\",\"wb\"))"
   ]
  },
  {
   "cell_type": "code",
   "execution_count": null,
   "metadata": {},
   "outputs": [],
   "source": [
    "res = res_all_test_organic\n",
    "plot_verify_agents_sale(res[\"sale rate\"], res[\"CTR\"], res[\"Tot sales\"], \n",
    "                        res['Share user with sale'], res['Share sale after click'],\n",
    "                       res[\"User embeddings\"])\n",
    "None"
   ]
  },
  {
   "cell_type": "markdown",
   "metadata": {},
   "source": [
    "## Likelihood clicks as logging policy"
   ]
  },
  {
   "cell_type": "code",
   "execution_count": null,
   "metadata": {},
   "outputs": [],
   "source": [
    "num_users = 5000\n",
    "data = deepcopy(env).generate_logs(num_users, agent=likelihood_logreg_click)\n",
    "pkl.dump(data,open(str('data\\data'+str(num_users)+'like_click.pkl'),'wb'))\n",
    "data = pkl.load(open(str('data\\data'+str(num_users)+'like_click.pkl'),'rb'))"
   ]
  },
  {
   "cell_type": "code",
   "execution_count": null,
   "metadata": {},
   "outputs": [],
   "source": [
    "info = {}\n",
    "\n",
    "likelihood_logreg_click = SaleLikelihoodAgent(v_feature, Click_rewards)\n",
    "likelihood_logreg_click.train(data)\n",
    "info[likelihood_logreg_click.info[\"Name\"]] = likelihood_logreg_click.info\n",
    "\n",
    "likelihood_saleclickprod = SaleProductLikelihoodAgent(feature_provider_list=[v_feature,v_feature], \n",
    "                                                reward_provider_list=[Click_rewards,MDP_rewards_all], \n",
    "                                                discounts=[0,0])\n",
    "likelihood_saleclickprod.train(data)\n",
    "info[likelihood_saleclickprod.info[\"Name\"]] = likelihood_saleclickprod.info\n",
    "\n",
    "likelihood_saleclickprod_discount = SaleProductLikelihoodAgent(feature_provider_list=[v_feature,v_feature,v_feature], \n",
    "                                                reward_provider_list=[Click_rewards,MDP_rewards_all,MDP_rewards_all_pureorganic], \n",
    "                                                discounts=[0,0,-1])\n",
    "likelihood_saleclickprod_discount.train(data)\n",
    "info[likelihood_saleclickprod_discount.info[\"Name\"]] = likelihood_saleclickprod_discount.info\n",
    "\n",
    "# likelihood_logreg_mdp_all = SaleLikelihoodAgent(vc_feature, MDP_rewards_all)\n",
    "# likelihood_logreg_mdp_all.train(data)\n",
    "# info[likelihood_logreg_mdp_all.info[\"Name\"]] = likelihood_logreg_mdp_all.info\n",
    "\n",
    "# likelihood_logreg_cum_all = SaleLikelihoodAgent(vc_feature, cum_rewards_all)\n",
    "# likelihood_logreg_cum_all.train(data)\n",
    "# info[likelihood_logreg_cum_all.info[\"Name\"]] = likelihood_logreg_cum_all.info\n",
    "\n",
    "\n",
    "# likelihood_logreg_st_all = SaleLikelihoodAgent(vc_feature, st_rewards_all)\n",
    "# likelihood_logreg_st_all.train(data)\n",
    "# info[likelihood_logreg_st_all.info[\"Name\"]] = likelihood_logreg_st_all.info\n",
    "\n",
    "\n",
    "# likelihood_logreg_mdp = SaleLikelihoodAgent(vc_feature, MDP_rewards)\n",
    "# likelihood_logreg_mdp.train(data)\n",
    "# info[likelihood_logreg_mdp.info[\"Name\"]] = likelihood_logreg_mdp.info\n",
    "\n",
    "\n",
    "# likelihood_logreg_cum = SaleLikelihoodAgent(vc_feature, cum_rewards)\n",
    "# likelihood_logreg_cum.train(data)\n",
    "# info[likelihood_logreg_cum.info[\"Name\"]] = likelihood_logreg_cum.info\n",
    "\n",
    "\n",
    "# likelihood_logreg_st = SaleLikelihoodAgent(vc_feature, st_rewards)\n",
    "# likelihood_logreg_st.train(data)\n",
    "# info[likelihood_logreg_st.info[\"Name\"]] = likelihood_logreg_st.info"
   ]
  },
  {
   "cell_type": "code",
   "execution_count": null,
   "metadata": {},
   "outputs": [],
   "source": [
    "env.reset()\n",
    "res_all_test_click=verify_agents_sale(\n",
    "    env,\n",
    "#     number_of_users=100,\n",
    "#     number_of_users=500,\n",
    "    number_of_users=1000,\n",
    "    agents={\n",
    "        'random agent' : random_agent,\n",
    "        'organic user' : organic_counter_agent,\n",
    "        'likelihood click': likelihood_logreg_click,\n",
    "        'likelihood_saleclickprod':likelihood_saleclickprod,\n",
    "        'likelihood_saleclickprod_discount':likelihood_saleclickprod_discount,\n",
    "#         'likelihood MDP all': likelihood_logreg_mdp_all,\n",
    "#         'likelihood ST all': likelihood_logreg_st_all,\n",
    "#         'likelihood cum all': likelihood_logreg_cum_all,\n",
    "#         'likelihood MDP': likelihood_logreg_mdp,\n",
    "#         'likelihood ST': likelihood_logreg_st,\n",
    "#         'likelihood cum': likelihood_logreg_cum,\n",
    "        'cvs_oracle':cvs_oracle,\n",
    "        'cs_oracle':cs_oracle,\n",
    "        'cvs_count_oracle':cvs_count_oracle,\n",
    "        'cs_count_oracle':cs_count_oracle,\n",
    "        'cves_oracle':cves_oracle,\n",
    "        'cvegs_oracle':cvegs_oracle,\n",
    "        'cvesc_oracle':cvesc_oracle\n",
    "    }\n",
    ")"
   ]
  },
  {
   "cell_type": "code",
   "execution_count": null,
   "metadata": {},
   "outputs": [],
   "source": [
    "pkl.dump([res_all_test_click, env_1_sale_args, info,\n",
    "          [likelihood_logreg_click,likelihood_saleclickprod,likelihood_saleclickprod_discount]],\n",
    "         open(\"data/res_all_test_click2.pkl\",\"wb\"))"
   ]
  },
  {
   "cell_type": "code",
   "execution_count": null,
   "metadata": {},
   "outputs": [],
   "source": [
    "res = res_all_test_click\n",
    "plot_verify_agents_sale(res[\"sale rate\"], res[\"CTR\"], res[\"Tot sales\"], \n",
    "                        res['Share user with sale'], res['Share sale after click'],\n",
    "                       res[\"User embeddings\"])\n",
    "None"
   ]
  },
  {
   "cell_type": "code",
   "execution_count": null,
   "metadata": {},
   "outputs": [],
   "source": [
    "env.reset()\n",
    "res_all_test_click2=verify_agents_sale(\n",
    "    env,\n",
    "#     number_of_users=100,\n",
    "#     number_of_users=500,\n",
    "    number_of_users=1000,\n",
    "    agents={\n",
    "        'random agent' : random_agent,\n",
    "        'organic user' : organic_counter_agent,\n",
    "        'likelihood click': likelihood_logreg_click,\n",
    "        'likelihood_saleclickprod':likelihood_saleclickprod,\n",
    "        'likelihood_saleclickprod_discount':likelihood_saleclickprod_discount,\n",
    "#         'likelihood MDP all': likelihood_logreg_mdp_all,\n",
    "#         'likelihood ST all': likelihood_logreg_st_all,\n",
    "#         'likelihood cum all': likelihood_logreg_cum_all,\n",
    "#         'likelihood MDP': likelihood_logreg_mdp,\n",
    "#         'likelihood ST': likelihood_logreg_st,\n",
    "#         'likelihood cum': likelihood_logreg_cum,\n",
    "        'cvs_oracle':cvs_oracle,\n",
    "        'cs_oracle':cs_oracle,\n",
    "        'cvs_count_oracle':cvs_count_oracle,\n",
    "        'cs_count_oracle':cs_count_oracle,\n",
    "        'cves_oracle':cves_oracle,\n",
    "        'cvegs_oracle':cvegs_oracle,\n",
    "        'cvesc_oracle':cvesc_oracle\n",
    "    }\n",
    ")"
   ]
  },
  {
   "cell_type": "code",
   "execution_count": null,
   "metadata": {},
   "outputs": [],
   "source": [
    "pkl.dump([res_all_test_click2, env_1_sale_args, info],open(\"data/res_all_test_click3.pkl\",\"wb\"))"
   ]
  },
  {
   "cell_type": "code",
   "execution_count": null,
   "metadata": {},
   "outputs": [],
   "source": [
    "res = res_all_test_click2\n",
    "plot_verify_agents_sale(res[\"sale rate\"], res[\"CTR\"], res[\"Tot sales\"], \n",
    "                        res['Share user with sale'], res['Share sale after click'],\n",
    "                       res[\"User embeddings\"])\n",
    "None"
   ]
  },
  {
   "cell_type": "code",
   "execution_count": null,
   "metadata": {},
   "outputs": [],
   "source": []
  },
  {
   "cell_type": "code",
   "execution_count": null,
   "metadata": {},
   "outputs": [],
   "source": []
  }
 ],
 "metadata": {
  "kernelspec": {
   "display_name": "Python 3",
   "language": "python",
   "name": "python3"
  },
  "language_info": {
   "codemirror_mode": {
    "name": "ipython",
    "version": 3
   },
   "file_extension": ".py",
   "mimetype": "text/x-python",
   "name": "python",
   "nbconvert_exporter": "python",
   "pygments_lexer": "ipython3",
   "version": "3.7.4"
  }
 },
 "nbformat": 4,
 "nbformat_minor": 2
}
