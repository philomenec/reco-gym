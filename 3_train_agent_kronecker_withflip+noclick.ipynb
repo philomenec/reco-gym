{
 "cells": [
  {
   "cell_type": "markdown",
   "metadata": {},
   "source": [
    "we only need to normalize when there is some bandit events. For pure organic, it doesn't really make sense since we consider each row independently != if we look at a log where a row is a reco then we need to divide by the length of the organic session, which is stochastic (independent of our reco)\n",
    "\n",
    "actually we need this because otherwise when we apply the discount it won't work. At least we need it for the MDP reward\n",
    "--> for the organic user : we should divide by the number of time each action a is viewed by user u ?\n",
    "\n",
    "Idea : click => \"only one chance to click\""
   ]
  },
  {
   "cell_type": "code",
   "execution_count": 1,
   "metadata": {},
   "outputs": [
    {
     "name": "stdout",
     "output_type": "stream",
     "text": [
      "1.966042202395077\n",
      "mu sale [-0.99379029 -3.12128904 -3.9968082  -0.13101334  1.12695637  0.82779815\n",
      " -4.48369477 -2.89367933 -0.97225191  0.96059318]\n",
      "mu sale [0. 0. 0. 0. 0. 0. 0. 0. 0. 0.]\n"
     ]
    }
   ],
   "source": [
    "import gym, recogym\n",
    "import matplotlib.pyplot as plt\n",
    "from copy import deepcopy\n",
    "import numpy as np\n",
    "import pandas as pd\n",
    "import pickle as pkl\n",
    "pd.options.mode.chained_assignment = None \n",
    "# from inspect import getsource\n",
    "from recogym.evaluate_agent_sale import verify_agents_sale, plot_verify_agents_sale, plot_CR_CTR\n",
    "from tqdm import tqdm\n",
    "\n",
    "# env_1_sale_args is a dictionary of default parameters (i.e. number of products)\n",
    "from recogym import env_1_sale_args, Configuration\n",
    "from recogym.envs.utils_sale import (share_states, share_sale, env_infos, count_sales_first_session, \n",
    "                                     get_beta_confidence_interval, share_user_with_sale, share_clicks_with_sale)\n",
    "# You can overwrite environment arguments here:\n",
    "env_1_sale_args['random_seed'] = 42\n",
    "\n",
    "# Initialize the gym for the first time by calling .make() and .init_gym()\n",
    "env = gym.make('reco-gym-sale-v1')\n",
    "env.init_gym(env_1_sale_args)\n",
    "\n",
    "# .reset() env before each episode (one episode per user).\n",
    "env.reset()\n",
    "done = False\n",
    "\n",
    "# env_1_sale_args['num_products'] = 1000\n",
    "# env_1_sale_args['number_of_flips'] = 500\n",
    "env_1_sale_args['num_products'] = 10\n",
    "env_1_sale_args['number_of_flips'] = 5\n",
    "\n",
    "num_products = env_1_sale_args['num_products']\n",
    "\n",
    "# You can overwrite environment arguments here:\n",
    "env_1_sale_args['random_seed'] = 42\n",
    "env_1_sale_args['mu_sale'] = False\n",
    "# env_1_sale_args['sigma_mu_sale'] = env_1_sale_args['sigma_mu_organic']/4\n",
    "\n",
    "\n",
    "# Initialize the gym \n",
    "env = gym.make('reco-gym-sale-v1')\n",
    "env.init_gym(env_1_sale_args)\n"
   ]
  },
  {
   "cell_type": "code",
   "execution_count": 2,
   "metadata": {},
   "outputs": [],
   "source": [
    "nb_flips = env_1_sale_args['number_of_flips']"
   ]
  },
  {
   "cell_type": "markdown",
   "metadata": {},
   "source": [
    "## Build targets"
   ]
  },
  {
   "cell_type": "code",
   "execution_count": 3,
   "metadata": {},
   "outputs": [],
   "source": [
    "## Clicks\n",
    "from recogym.agents.sale_agent import ClickRewardProvider\n",
    "Click_rewards = ClickRewardProvider()\n",
    "\n",
    "## MDP\n",
    "from recogym.agents.sale_agent import MDPRewardProvider, PostDisplayRewardProvider,DifferenceRewardProvider,NoclickRewardProdivder\n",
    "# doesn't take into account the length of the observation\n",
    "MDP_rewards = MDPRewardProvider()\n",
    "MDP_rewards_all = MDPRewardProvider(clicks_only=False)\n",
    "# take into account length of the observation\n",
    "MDP_rewards_time = MDPRewardProvider(clicks_only=True, organic_only=False, normalize = True)\n",
    "MDP_rewards_all_time = MDPRewardProvider(clicks_only=False, organic_only=False, normalize = True)\n",
    "MDP_rewards_pureorganic = MDPRewardProvider(clicks_only=False, organic_only=True)\n",
    "PostDisplay_rewards = PostDisplayRewardProvider()\n",
    "Noclick_rewards_provider = NoclickRewardProdivder()\n",
    "Noclick_rewards_provider_time = NoclickRewardProdivder(normalize = True)\n",
    "# Diff_rewards = DifferenceRewardProvider(MDP_rewards_all_time,MDP_rewards_pureorganic,normalize = False)\n",
    "# Diff_rewards_norm = DifferenceRewardProvider(MDP_rewards_all_time,MDP_rewards_pureorganic,normalize = True)\n",
    "\n",
    "rewards = {'click':Click_rewards,\n",
    "          'MDP':MDP_rewards,\n",
    "          'MDP_all':MDP_rewards_all,\n",
    "          'MDP_time':MDP_rewards_time,\n",
    "          'MDP_all_time':MDP_rewards_all_time,\n",
    "          'MDP_pureorganic':MDP_rewards_pureorganic,\n",
    "          'PostDisplay':PostDisplay_rewards}"
   ]
  },
  {
   "cell_type": "markdown",
   "metadata": {},
   "source": [
    "## Build features"
   ]
  },
  {
   "cell_type": "code",
   "execution_count": 4,
   "metadata": {},
   "outputs": [],
   "source": [
    "from recogym.agents.sale_agent import CountViewsClicksFeatureProvider, CountViewsFeatureProvider, ShareViewsClicksFeatureProvider, ShareViewsFeatureProvider\n",
    "vc_feature = CountViewsClicksFeatureProvider(env.config)\n",
    "v_feature = CountViewsFeatureProvider(env.config)\n",
    "vc_share_feature = ShareViewsClicksFeatureProvider(env.config)\n",
    "v_share_feature = ShareViewsFeatureProvider(env.config)\n",
    "\n",
    "features = {'vc':vc_feature,\n",
    "           'v':v_feature,\n",
    "           'vc_share':vc_share_feature,\n",
    "           'v_share':v_share_feature}"
   ]
  },
  {
   "cell_type": "markdown",
   "metadata": {},
   "source": [
    "## Train baseline agents"
   ]
  },
  {
   "cell_type": "code",
   "execution_count": 5,
   "metadata": {},
   "outputs": [],
   "source": [
    "# Choose number of users for training and AB test\n",
    "env_1_sale_args['num_users'] = 10000\n",
    "env_1_sale_args['num_users_AB'] = 1000\n",
    "num_users = env_1_sale_args['num_users']\n",
    "num_users_AB = env_1_sale_args['num_users_AB']\n",
    "\n",
    "# Choose features\n",
    "feature_name = 'v_share'\n",
    "feature = features[feature_name]"
   ]
  },
  {
   "cell_type": "code",
   "execution_count": 6,
   "metadata": {
    "scrolled": true
   },
   "outputs": [],
   "source": [
    "from recogym.agents.sale_agent import build_train_data\n",
    "from recogym.agents.sale_agent import SaleLikelihoodAgent, SaleProductLikelihoodAgent\n",
    "from recogym.agents.sale_agent import train_agents, train_timeagents\n",
    "\n",
    "agents={}\n",
    "logs={}\n",
    "\n",
    "############## Random agent\n",
    "from recogym.agents import RandomAgent, random_args\n",
    "random_agent = RandomAgent(Configuration(random_args))\n",
    "name_agent = 'rand'+str(nb_flips)\n",
    "agents[name_agent] = random_agent\n",
    "try:\n",
    "    data = pkl.load(open(str('data\\data'+str(num_users)+name_agent+'.pkl'),'rb'))\n",
    "except :\n",
    "    data = deepcopy(env).generate_logs(num_users)\n",
    "    pkl.dump(data,open(str('data\\data'+str(num_users)+name_agent+'.pkl'),'wb'))\n",
    "logs[name_agent] = data\n",
    "\n",
    "############## Random agent\n",
    "from recogym.agents import RandomAgent, random_args\n",
    "random_agent = RandomAgent(Configuration(random_args))\n",
    "name_agent = 'rand'+str(nb_flips)\n",
    "agents[name_agent] = random_agent\n",
    "try:\n",
    "    data = pkl.load(open(str('data\\data'+str(num_users)+name_agent+'.pkl'),'rb'))\n",
    "except :\n",
    "    data = deepcopy(env).generate_logs(num_users)\n",
    "    pkl.dump(data,open(str('data\\data'+str(num_users)+name_agent+'.pkl'),'wb'))\n",
    "logs[name_agent] = data\n",
    "    \n",
    "# ############## Organic agent\n",
    "# from recogym.agents import OrganicUserEventCounterAgent, organic_user_count_args\n",
    "# organic_counter_agent = OrganicUserEventCounterAgent(Configuration({**organic_user_count_args,\n",
    "#                                                                     **env_1_sale_args,\n",
    "#                                                                     'select_randomly': True}))\n",
    "# name_agent = 'organic'+str(nb_flips)\n",
    "# agents[name_agent] = organic_counter_agent\n",
    "# try:\n",
    "#     data = pkl.load(open(str('data\\data'+str(num_users)+name_agent+'.pkl'),'rb'))\n",
    "# except :\n",
    "#     data = deepcopy(env).generate_logs(num_users,agent=organic_counter_agent)\n",
    "#     pkl.dump(data,open(str('data\\data'+str(num_users)+name_agent+'.pkl'),'wb'))\n",
    "# logs[name_agent] = data\n",
    "\n",
    "# ############## Likelihood click kronecker\n",
    "# name_agent = \"likclickkron\"\n",
    "# try :\n",
    "#     data = pkl.load(open(str('data\\data'+str(num_users)+name_agent+'.pkl'),'rb'))\n",
    "# except:\n",
    "#     likelihood_logreg_click = SaleLikelihoodAgent(feature, Click_rewards,kronecker_features=True)\n",
    "#     likelihood_logreg_click.train(data)\n",
    "#     agents[name_agent] = likelihood_logreg_click\n",
    "#     data = deepcopy(env).generate_logs(num_users, agent=likelihood_logreg_click)\n",
    "#     pkl.dump(data,open(str('data\\data'+str(num_users)+name_agent+'.pkl'),'wb'))\n",
    "# logs[name_agent] = data"
   ]
  },
  {
   "cell_type": "code",
   "execution_count": null,
   "metadata": {},
   "outputs": [],
   "source": []
  },
  {
   "cell_type": "markdown",
   "metadata": {},
   "source": [
    "### Agents with no notion of time (needed or neglected) TODO !!"
   ]
  },
  {
   "cell_type": "code",
   "execution_count": 7,
   "metadata": {},
   "outputs": [],
   "source": [
    "name_extension = 'kron'+str(nb_flips)+'_addonly'\n",
    "res_dict = {}"
   ]
  },
  {
   "cell_type": "code",
   "execution_count": 10,
   "metadata": {},
   "outputs": [
    {
     "name": "stderr",
     "output_type": "stream",
     "text": [
      "Organic Users: 0it [00:00, ?it/s]\n",
      "Users: 100%|███████████████████████████████████████████████████████████████████████| 5000/5000 [04:05<00:00, 20.37it/s]\n",
      "Organic Users: 0it [00:00, ?it/s]\n",
      "Users:   6%|████▎                                                                 | 309/5000 [21:55<5:32:51,  4.26s/it]\n"
     ]
    },
    {
     "name": "stdout",
     "output_type": "stream",
     "text": [
      "Issue with agent :  likelihood_saleclickprod_discount_allkron_addonly\n",
      "exception: Unable to allocate 944. KiB for an array with shape (4, 30192) and data type object\n"
     ]
    },
    {
     "name": "stderr",
     "output_type": "stream",
     "text": [
      "Organic Users: 0it [00:00, ?it/s]\n",
      "Users:   0%|▏                                                                       | 9/5000 [00:23<3:38:26,  2.63s/it]\n"
     ]
    },
    {
     "ename": "KeyboardInterrupt",
     "evalue": "",
     "output_type": "error",
     "traceback": [
      "\u001b[1;31m---------------------------------------------------------------------------\u001b[0m",
      "\u001b[1;31mKeyboardInterrupt\u001b[0m                         Traceback (most recent call last)",
      "\u001b[1;32m<ipython-input-10-803550c8dca1>\u001b[0m in \u001b[0;36m<module>\u001b[1;34m\u001b[0m\n\u001b[0;32m     20\u001b[0m         \u001b[1;33m**\u001b[0m\u001b[0magents\u001b[0m\u001b[1;33m,\u001b[0m\u001b[1;33m\u001b[0m\u001b[1;33m\u001b[0m\u001b[0m\n\u001b[0;32m     21\u001b[0m         **save_agents},\n\u001b[1;32m---> 22\u001b[1;33m     \u001b[0mname\u001b[0m \u001b[1;33m=\u001b[0m \u001b[0mname_logging\u001b[0m\u001b[1;33m+\u001b[0m\u001b[0mstr\u001b[0m\u001b[1;33m(\u001b[0m\u001b[0mnum_users\u001b[0m\u001b[1;33m)\u001b[0m\u001b[1;33m+\u001b[0m\u001b[1;34m\"_\"\u001b[0m\u001b[1;33m+\u001b[0m\u001b[0mstr\u001b[0m\u001b[1;33m(\u001b[0m\u001b[0mnum_users_AB\u001b[0m\u001b[1;33m)\u001b[0m\u001b[1;33m+\u001b[0m\u001b[1;34m\"_\"\u001b[0m\u001b[1;33m+\u001b[0m\u001b[0mfeature_name\u001b[0m\u001b[1;33m+\u001b[0m\u001b[0mname_extension\u001b[0m\u001b[1;33m\u001b[0m\u001b[1;33m\u001b[0m\u001b[0m\n\u001b[0m\u001b[0;32m     23\u001b[0m )\n\u001b[0;32m     24\u001b[0m \u001b[1;31m# pkl.dump([res, env_1_sale_args, info, save_agents],\u001b[0m\u001b[1;33m\u001b[0m\u001b[1;33m\u001b[0m\u001b[1;33m\u001b[0m\u001b[0m\n",
      "\u001b[1;32m~\\Documents\\reco-gym\\recogym\\evaluate_agent_sale.py\u001b[0m in \u001b[0;36mverify_agents_sale\u001b[1;34m(env, number_of_users, agents, agent_reset, name)\u001b[0m\n\u001b[0;32m    716\u001b[0m                 \u001b[0magents\u001b[0m\u001b[1;33m[\u001b[0m\u001b[0magent_id\u001b[0m\u001b[1;33m]\u001b[0m\u001b[1;33m.\u001b[0m\u001b[0mreset\u001b[0m\u001b[1;33m(\u001b[0m\u001b[1;33m)\u001b[0m\u001b[1;33m\u001b[0m\u001b[1;33m\u001b[0m\u001b[0m\n\u001b[0;32m    717\u001b[0m \u001b[1;33m\u001b[0m\u001b[0m\n\u001b[1;32m--> 718\u001b[1;33m             \u001b[0mdata\u001b[0m \u001b[1;33m=\u001b[0m \u001b[0menvcopy\u001b[0m\u001b[1;33m.\u001b[0m\u001b[0mgenerate_logs\u001b[0m\u001b[1;33m(\u001b[0m\u001b[0mnumber_of_users\u001b[0m\u001b[1;33m,\u001b[0m \u001b[0magents\u001b[0m\u001b[1;33m[\u001b[0m\u001b[0magent_id\u001b[0m\u001b[1;33m]\u001b[0m\u001b[1;33m)\u001b[0m\u001b[1;33m\u001b[0m\u001b[1;33m\u001b[0m\u001b[0m\n\u001b[0m\u001b[0;32m    719\u001b[0m             \u001b[1;32mtry\u001b[0m \u001b[1;33m:\u001b[0m\u001b[1;33m\u001b[0m\u001b[1;33m\u001b[0m\u001b[0m\n\u001b[0;32m    720\u001b[0m                 \u001b[0mreport_issue\u001b[0m \u001b[1;33m=\u001b[0m \u001b[0magents\u001b[0m\u001b[1;33m[\u001b[0m\u001b[0magent_id\u001b[0m\u001b[1;33m]\u001b[0m\u001b[1;33m.\u001b[0m\u001b[0mreport_issue\u001b[0m\u001b[1;33m\u001b[0m\u001b[1;33m\u001b[0m\u001b[0m\n",
      "\u001b[1;32m~\\Documents\\reco-gym\\recogym\\envs\\reco_env_v1_sale.py\u001b[0m in \u001b[0;36mgenerate_logs\u001b[1;34m(self, num_offline_users, agent, num_organic_offline_users)\u001b[0m\n\u001b[0;32m    365\u001b[0m                 \u001b[0m_store_organic\u001b[0m\u001b[1;33m(\u001b[0m\u001b[0mobservation\u001b[0m\u001b[1;33m)\u001b[0m\u001b[1;33m\u001b[0m\u001b[1;33m\u001b[0m\u001b[0m\n\u001b[0;32m    366\u001b[0m                 action, observation, reward, done, info = self.step_offline(\n\u001b[1;32m--> 367\u001b[1;33m                     \u001b[0mobservation\u001b[0m\u001b[1;33m,\u001b[0m \u001b[0mreward\u001b[0m\u001b[1;33m,\u001b[0m \u001b[0mdone\u001b[0m\u001b[1;33m,\u001b[0m \u001b[0minfo\u001b[0m\u001b[1;33m\u001b[0m\u001b[1;33m\u001b[0m\u001b[0m\n\u001b[0m\u001b[0;32m    368\u001b[0m                 )\n\u001b[0;32m    369\u001b[0m                 \u001b[0m_store_bandit\u001b[0m\u001b[1;33m(\u001b[0m\u001b[0maction\u001b[0m\u001b[1;33m,\u001b[0m \u001b[0mreward\u001b[0m\u001b[1;33m,\u001b[0m \u001b[0mobservation\u001b[0m\u001b[1;33m)\u001b[0m\u001b[1;33m\u001b[0m\u001b[1;33m\u001b[0m\u001b[0m\n",
      "\u001b[1;32m~\\Documents\\reco-gym\\recogym\\envs\\reco_env_v1_sale.py\u001b[0m in \u001b[0;36mstep_offline\u001b[1;34m(self, observation, reward, done, info)\u001b[0m\n\u001b[0;32m    257\u001b[0m             \u001b[1;32massert\u001b[0m \u001b[1;33m(\u001b[0m\u001b[0mobservation\u001b[0m \u001b[1;32mis\u001b[0m \u001b[1;32mnot\u001b[0m \u001b[1;32mNone\u001b[0m\u001b[1;33m)\u001b[0m\u001b[1;33m\u001b[0m\u001b[1;33m\u001b[0m\u001b[0m\n\u001b[0;32m    258\u001b[0m             \u001b[1;32mif\u001b[0m \u001b[0mself\u001b[0m\u001b[1;33m.\u001b[0m\u001b[0magent\u001b[0m\u001b[1;33m:\u001b[0m\u001b[1;33m\u001b[0m\u001b[1;33m\u001b[0m\u001b[0m\n\u001b[1;32m--> 259\u001b[1;33m                 \u001b[0maction\u001b[0m \u001b[1;33m=\u001b[0m \u001b[0mself\u001b[0m\u001b[1;33m.\u001b[0m\u001b[0magent\u001b[0m\u001b[1;33m.\u001b[0m\u001b[0mact\u001b[0m\u001b[1;33m(\u001b[0m\u001b[0mobservation\u001b[0m\u001b[1;33m,\u001b[0m \u001b[0mreward\u001b[0m\u001b[1;33m,\u001b[0m \u001b[0mdone\u001b[0m\u001b[1;33m)\u001b[0m\u001b[1;33m\u001b[0m\u001b[1;33m\u001b[0m\u001b[0m\n\u001b[0m\u001b[0;32m    260\u001b[0m             \u001b[1;32melse\u001b[0m\u001b[1;33m:\u001b[0m\u001b[1;33m\u001b[0m\u001b[1;33m\u001b[0m\u001b[0m\n\u001b[0;32m    261\u001b[0m                 \u001b[1;31m# Select a Product randomly.\u001b[0m\u001b[1;33m\u001b[0m\u001b[1;33m\u001b[0m\u001b[1;33m\u001b[0m\u001b[0m\n",
      "\u001b[1;32m~\\Documents\\reco-gym\\recogym\\agents\\sale_agent.py\u001b[0m in \u001b[0;36mact\u001b[1;34m(self, observation, reward, done)\u001b[0m\n\u001b[0;32m   1225\u001b[0m \u001b[1;33m\u001b[0m\u001b[0m\n\u001b[0;32m   1226\u001b[0m         \u001b[1;32melse\u001b[0m \u001b[1;33m:\u001b[0m\u001b[1;33m\u001b[0m\u001b[1;33m\u001b[0m\u001b[0m\n\u001b[1;32m-> 1227\u001b[1;33m             \u001b[0mlogged_observation\u001b[0m \u001b[1;33m=\u001b[0m \u001b[0mself\u001b[0m\u001b[1;33m.\u001b[0m\u001b[0mobservation_to_log\u001b[0m\u001b[1;33m(\u001b[0m\u001b[0mobservation\u001b[0m\u001b[1;33m)\u001b[0m\u001b[1;33m\u001b[0m\u001b[1;33m\u001b[0m\u001b[0m\n\u001b[0m\u001b[0;32m   1228\u001b[0m             \u001b[1;31m# Initialize the scores as 1\u001b[0m\u001b[1;33m\u001b[0m\u001b[1;33m\u001b[0m\u001b[1;33m\u001b[0m\u001b[0m\n\u001b[0;32m   1229\u001b[0m             \u001b[0mscore\u001b[0m \u001b[1;33m=\u001b[0m \u001b[0mnp\u001b[0m\u001b[1;33m.\u001b[0m\u001b[0mones\u001b[0m\u001b[1;33m(\u001b[0m\u001b[0mself\u001b[0m\u001b[1;33m.\u001b[0m\u001b[0mnum_products\u001b[0m\u001b[1;33m)\u001b[0m\u001b[1;33m\u001b[0m\u001b[1;33m\u001b[0m\u001b[0m\n",
      "\u001b[1;32m~\\Documents\\reco-gym\\recogym\\agents\\sale_agent.py\u001b[0m in \u001b[0;36mobservation_to_log\u001b[1;34m(self, observation)\u001b[0m\n\u001b[0;32m   1214\u001b[0m \u001b[1;33m\u001b[0m\u001b[0m\n\u001b[0;32m   1215\u001b[0m         \u001b[0mdf\u001b[0m \u001b[1;33m=\u001b[0m \u001b[0mpd\u001b[0m\u001b[1;33m.\u001b[0m\u001b[0mDataFrame\u001b[0m\u001b[1;33m(\u001b[0m\u001b[0mdata\u001b[0m\u001b[1;33m)\u001b[0m\u001b[1;33m\u001b[0m\u001b[1;33m\u001b[0m\u001b[0m\n\u001b[1;32m-> 1216\u001b[1;33m         \u001b[0mdf\u001b[0m\u001b[1;33m.\u001b[0m\u001b[0msort_values\u001b[0m\u001b[1;33m(\u001b[0m\u001b[1;34m't'\u001b[0m\u001b[1;33m)\u001b[0m\u001b[1;33m\u001b[0m\u001b[1;33m\u001b[0m\u001b[0m\n\u001b[0m\u001b[0;32m   1217\u001b[0m         \u001b[1;32mreturn\u001b[0m \u001b[0mdf\u001b[0m\u001b[1;33m\u001b[0m\u001b[1;33m\u001b[0m\u001b[0m\n\u001b[0;32m   1218\u001b[0m \u001b[1;33m\u001b[0m\u001b[0m\n",
      "\u001b[1;32m~\\AppData\\Local\\Continuum\\anaconda3\\lib\\site-packages\\pandas\\core\\frame.py\u001b[0m in \u001b[0;36msort_values\u001b[1;34m(self, by, axis, ascending, inplace, kind, na_position, ignore_index)\u001b[0m\n\u001b[0;32m   4935\u001b[0m \u001b[1;33m\u001b[0m\u001b[0m\n\u001b[0;32m   4936\u001b[0m         new_data = self._data.take(\n\u001b[1;32m-> 4937\u001b[1;33m             \u001b[0mindexer\u001b[0m\u001b[1;33m,\u001b[0m \u001b[0maxis\u001b[0m\u001b[1;33m=\u001b[0m\u001b[0mself\u001b[0m\u001b[1;33m.\u001b[0m\u001b[0m_get_block_manager_axis\u001b[0m\u001b[1;33m(\u001b[0m\u001b[0maxis\u001b[0m\u001b[1;33m)\u001b[0m\u001b[1;33m,\u001b[0m \u001b[0mverify\u001b[0m\u001b[1;33m=\u001b[0m\u001b[1;32mFalse\u001b[0m\u001b[1;33m\u001b[0m\u001b[1;33m\u001b[0m\u001b[0m\n\u001b[0m\u001b[0;32m   4938\u001b[0m         )\n\u001b[0;32m   4939\u001b[0m \u001b[1;33m\u001b[0m\u001b[0m\n",
      "\u001b[1;32m~\\AppData\\Local\\Continuum\\anaconda3\\lib\\site-packages\\pandas\\core\\internals\\managers.py\u001b[0m in \u001b[0;36mtake\u001b[1;34m(self, indexer, axis, verify, convert)\u001b[0m\n\u001b[0;32m   1384\u001b[0m         \u001b[0mn\u001b[0m \u001b[1;33m=\u001b[0m \u001b[0mself\u001b[0m\u001b[1;33m.\u001b[0m\u001b[0mshape\u001b[0m\u001b[1;33m[\u001b[0m\u001b[0maxis\u001b[0m\u001b[1;33m]\u001b[0m\u001b[1;33m\u001b[0m\u001b[1;33m\u001b[0m\u001b[0m\n\u001b[0;32m   1385\u001b[0m         \u001b[1;32mif\u001b[0m \u001b[0mconvert\u001b[0m\u001b[1;33m:\u001b[0m\u001b[1;33m\u001b[0m\u001b[1;33m\u001b[0m\u001b[0m\n\u001b[1;32m-> 1386\u001b[1;33m             \u001b[0mindexer\u001b[0m \u001b[1;33m=\u001b[0m \u001b[0mmaybe_convert_indices\u001b[0m\u001b[1;33m(\u001b[0m\u001b[0mindexer\u001b[0m\u001b[1;33m,\u001b[0m \u001b[0mn\u001b[0m\u001b[1;33m)\u001b[0m\u001b[1;33m\u001b[0m\u001b[1;33m\u001b[0m\u001b[0m\n\u001b[0m\u001b[0;32m   1387\u001b[0m \u001b[1;33m\u001b[0m\u001b[0m\n\u001b[0;32m   1388\u001b[0m         \u001b[1;32mif\u001b[0m \u001b[0mverify\u001b[0m\u001b[1;33m:\u001b[0m\u001b[1;33m\u001b[0m\u001b[1;33m\u001b[0m\u001b[0m\n",
      "\u001b[1;32m~\\AppData\\Local\\Continuum\\anaconda3\\lib\\site-packages\\pandas\\core\\indexers.py\u001b[0m in \u001b[0;36mmaybe_convert_indices\u001b[1;34m(indices, n)\u001b[0m\n\u001b[0;32m    209\u001b[0m         \u001b[0mindices\u001b[0m\u001b[1;33m[\u001b[0m\u001b[0mmask\u001b[0m\u001b[1;33m]\u001b[0m \u001b[1;33m+=\u001b[0m \u001b[0mn\u001b[0m\u001b[1;33m\u001b[0m\u001b[1;33m\u001b[0m\u001b[0m\n\u001b[0;32m    210\u001b[0m \u001b[1;33m\u001b[0m\u001b[0m\n\u001b[1;32m--> 211\u001b[1;33m     \u001b[0mmask\u001b[0m \u001b[1;33m=\u001b[0m \u001b[1;33m(\u001b[0m\u001b[0mindices\u001b[0m \u001b[1;33m>=\u001b[0m \u001b[0mn\u001b[0m\u001b[1;33m)\u001b[0m \u001b[1;33m|\u001b[0m \u001b[1;33m(\u001b[0m\u001b[0mindices\u001b[0m \u001b[1;33m<\u001b[0m \u001b[1;36m0\u001b[0m\u001b[1;33m)\u001b[0m\u001b[1;33m\u001b[0m\u001b[1;33m\u001b[0m\u001b[0m\n\u001b[0m\u001b[0;32m    212\u001b[0m     \u001b[1;32mif\u001b[0m \u001b[0mmask\u001b[0m\u001b[1;33m.\u001b[0m\u001b[0many\u001b[0m\u001b[1;33m(\u001b[0m\u001b[1;33m)\u001b[0m\u001b[1;33m:\u001b[0m\u001b[1;33m\u001b[0m\u001b[1;33m\u001b[0m\u001b[0m\n\u001b[0;32m    213\u001b[0m         \u001b[1;32mraise\u001b[0m \u001b[0mIndexError\u001b[0m\u001b[1;33m(\u001b[0m\u001b[1;34m\"indices are out-of-bounds\"\u001b[0m\u001b[1;33m)\u001b[0m\u001b[1;33m\u001b[0m\u001b[1;33m\u001b[0m\u001b[0m\n",
      "\u001b[1;31mKeyboardInterrupt\u001b[0m: "
     ]
    }
   ],
   "source": [
    "name_logging = 'rand'+str(nb_flips)\n",
    "num_users_AB = 5000\n",
    "data = logs[name_logging]\n",
    "# try :\n",
    "#     info, save_agents = pkl.load(open(str('data/agents'+str(num_users)+name_logging+feature_name+name_extension+'.pkl'),'rb'))\n",
    "# except :\n",
    "#     info, save_agents = train_agents(name_logging,logs,feature_name,features, num_users=num_users, \n",
    "#                                      kronecker_features=True,additional_models_only=True)\n",
    "\n",
    "name_extension = 'kron'+'_addonly'\n",
    "info, save_agents = pkl.load(open(str('data/agents'+str(num_users)+name_logging+feature_name+name_extension+'.pkl'),'rb'))\n",
    "name_extension = 'kron'+str(nb_flips)+'_addonly'\n",
    "\n",
    "# A/B test\n",
    "env.reset()\n",
    "res=verify_agents_sale(\n",
    "    env,\n",
    "    number_of_users=num_users_AB,\n",
    "    agents={\n",
    "        **agents, \n",
    "        **save_agents},\n",
    "    name = name_logging+str(num_users)+\"_\"+str(num_users_AB)+\"_\"+feature_name+name_extension\n",
    ")\n",
    "# pkl.dump([res, env_1_sale_args, info, save_agents],\n",
    "#          open(\"data/res_\"+name_logging+str(num_users)+\"_\"+str(num_users_AB)+\"_\"+feature_name+name_extension+\".pkl\",\"wb\"))\n",
    "\n",
    "res_dict[name_logging+str(num_users)+\"_\"+str(num_users_AB)+\"_\"+feature_name+name_extension] = res\n",
    "\n",
    "# plot result\n",
    "plot_verify_agents_sale(res[\"CTR\"], res[\"Tot sales ATT\"], res['Share user with sale ATT'], \n",
    "                        res[\"Tot sales\"], res['Share user with sale'])\n",
    "None"
   ]
  },
  {
   "cell_type": "code",
   "execution_count": null,
   "metadata": {},
   "outputs": [],
   "source": [
    "name_extension = 'kronweights'+str(nb_flips)+'_addonly'\n",
    "# res_dict = {}"
   ]
  },
  {
   "cell_type": "code",
   "execution_count": null,
   "metadata": {},
   "outputs": [],
   "source": [
    "name_logging = 'rand'+str(nb_flips)\n",
    "num_users_AB = 5000\n",
    "data = logs[name_logging]\n",
    "try :\n",
    "    info, save_agents = pkl.load(open(str('data/agents'+str(num_users)+name_logging+feature_name+name_extension+'.pkl'),'rb'))\n",
    "except :\n",
    "    info, save_agents = train_agents(name_logging,logs,feature_name,features, num_users=num_users, \n",
    "                                     kronecker_features=True,weights=True,additional_models_only=True)\n",
    "\n",
    "# A/B test\n",
    "env.reset()\n",
    "res=verify_agents_sale(\n",
    "    env,\n",
    "    number_of_users=num_users_AB,\n",
    "    agents={\n",
    "        **agents, \n",
    "        **save_agents}\n",
    ")\n",
    "# pkl.dump([res, env_1_sale_args, info, save_agents],\n",
    "#          open(\"data/res_\"+name_logging+str(num_users)+\"_\"+str(num_users_AB)+\"_\"+feature_name+name_extension+\".pkl\",\"wb\"))\n",
    "\n",
    "res_dict[name_logging+str(num_users)+\"_\"+str(num_users_AB)+\"_\"+feature_name+name_extension] = res\n",
    "\n",
    "# plot result\n",
    "plot_verify_agents_sale(res[\"CTR\"], res[\"Tot sales ATT\"], res['Share user with sale ATT'], \n",
    "                        res[\"Tot sales\"], res['Share user with sale'])\n",
    "None"
   ]
  },
  {
   "cell_type": "code",
   "execution_count": null,
   "metadata": {},
   "outputs": [],
   "source": [
    "name_extension = 'kron'+str(nb_flips)\n",
    "# res_dict = {}"
   ]
  },
  {
   "cell_type": "code",
   "execution_count": null,
   "metadata": {},
   "outputs": [],
   "source": [
    "name_logging = 'rand'+str(nb_flips)\n",
    "num_users_AB = 5000\n",
    "data = logs[name_logging]\n",
    "try :\n",
    "    info, save_agents = pkl.load(open(str('data/agents'+str(num_users)+name_logging+feature_name+name_extension+'.pkl'),'rb'))\n",
    "except :\n",
    "    info, save_agents = train_agents(name_logging,logs,feature_name,features, num_users=num_users, \n",
    "                                     kronecker_features=True,additional_models_only=False)\n",
    "\n",
    "# A/B test\n",
    "env.reset()\n",
    "res=verify_agents_sale(\n",
    "    env,\n",
    "    number_of_users=num_users_AB,\n",
    "    agents={\n",
    "        **agents, \n",
    "        **save_agents}\n",
    ")\n",
    "# pkl.dump([res, env_1_sale_args, info, save_agents],\n",
    "#          open(\"data/res_\"+name_logging+str(num_users)+\"_\"+str(num_users_AB)+\"_\"+feature_name+name_extension+\".pkl\",\"wb\"))\n",
    "\n",
    "res_dict[name_logging+str(num_users)+\"_\"+str(num_users_AB)+\"_\"+feature_name+name_extension] = res\n",
    "\n",
    "# plot result\n",
    "plot_verify_agents_sale(res[\"CTR\"], res[\"Tot sales ATT\"], res['Share user with sale ATT'], \n",
    "                        res[\"Tot sales\"], res['Share user with sale'])\n",
    "None"
   ]
  }
 ],
 "metadata": {
  "kernelspec": {
   "display_name": "Python 3",
   "language": "python",
   "name": "python3"
  },
  "language_info": {
   "codemirror_mode": {
    "name": "ipython",
    "version": 3
   },
   "file_extension": ".py",
   "mimetype": "text/x-python",
   "name": "python",
   "nbconvert_exporter": "python",
   "pygments_lexer": "ipython3",
   "version": "3.7.4"
  }
 },
 "nbformat": 4,
 "nbformat_minor": 2
}
