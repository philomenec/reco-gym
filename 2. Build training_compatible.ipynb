{
 "cells": [
  {
   "cell_type": "code",
   "execution_count": 1,
   "metadata": {},
   "outputs": [],
   "source": [
    "import gym, recogym\n",
    "import matplotlib.pyplot as plt\n",
    "from copy import deepcopy\n",
    "import numpy as np\n",
    "import pandas as pd\n",
    "pd.options.mode.chained_assignment = None \n",
    "# from inspect import getsource\n",
    "from recogym.evaluate_agent_sale import verify_agents_sale, plot_verify_agents_sale, plot_CR_CTR\n",
    "from tqdm import tqdm\n",
    "\n",
    "# env_1_sale_args is a dictionary of default parameters (i.e. number of products)\n",
    "from recogym import env_1_sale_args, Configuration\n",
    "from recogym.envs.utils_sale import (share_states, share_sale, env_infos, count_sales_first_session, \n",
    "                                     get_beta_confidence_interval, share_user_with_sale, share_clicks_with_sale)\n",
    "# You can overwrite environment arguments here:\n",
    "env_1_sale_args['random_seed'] = 42\n",
    "\n",
    "# Initialize the gym for the first time by calling .make() and .init_gym()\n",
    "env = gym.make('reco-gym-sale-v1')\n",
    "env.init_gym(env_1_sale_args)\n",
    "\n",
    "# .reset() env before each episode (one episode per user).\n",
    "env.reset()\n",
    "done = False\n",
    "num_products = env_1_sale_args['num_products']\n",
    "\n",
    "# You can overwrite environment arguments here:\n",
    "env_1_sale_args['random_seed'] = 42\n",
    "\n",
    "# Initialize the gym \n",
    "env = gym.make('reco-gym-sale-v1')\n",
    "env.init_gym(env_1_sale_args)"
   ]
  },
  {
   "cell_type": "code",
   "execution_count": 2,
   "metadata": {},
   "outputs": [
    {
     "name": "stderr",
     "output_type": "stream",
     "text": [
      "Organic Users: 0it [00:00, ?it/s]\n",
      "Users: 100%|█████████████████████████████████████████████████████████████████████████| 100/100 [00:03<00:00, 27.31it/s]\n"
     ]
    },
    {
     "data": {
      "text/html": [
       "<div>\n",
       "<style scoped>\n",
       "    .dataframe tbody tr th:only-of-type {\n",
       "        vertical-align: middle;\n",
       "    }\n",
       "\n",
       "    .dataframe tbody tr th {\n",
       "        vertical-align: top;\n",
       "    }\n",
       "\n",
       "    .dataframe thead th {\n",
       "        text-align: right;\n",
       "    }\n",
       "</style>\n",
       "<table border=\"1\" class=\"dataframe\">\n",
       "  <thead>\n",
       "    <tr style=\"text-align: right;\">\n",
       "      <th></th>\n",
       "      <th>t</th>\n",
       "      <th>u</th>\n",
       "      <th>z</th>\n",
       "      <th>v</th>\n",
       "      <th>a</th>\n",
       "      <th>c</th>\n",
       "      <th>r</th>\n",
       "      <th>ps</th>\n",
       "      <th>ps-a</th>\n",
       "    </tr>\n",
       "  </thead>\n",
       "  <tbody>\n",
       "    <tr>\n",
       "      <th>0</th>\n",
       "      <td>0.0</td>\n",
       "      <td>0</td>\n",
       "      <td>organic</td>\n",
       "      <td>0</td>\n",
       "      <td>&lt;NA&gt;</td>\n",
       "      <td>NaN</td>\n",
       "      <td>NaN</td>\n",
       "      <td>NaN</td>\n",
       "      <td>None</td>\n",
       "    </tr>\n",
       "    <tr>\n",
       "      <th>1</th>\n",
       "      <td>1.0</td>\n",
       "      <td>0</td>\n",
       "      <td>organic</td>\n",
       "      <td>9</td>\n",
       "      <td>&lt;NA&gt;</td>\n",
       "      <td>NaN</td>\n",
       "      <td>NaN</td>\n",
       "      <td>NaN</td>\n",
       "      <td>None</td>\n",
       "    </tr>\n",
       "    <tr>\n",
       "      <th>2</th>\n",
       "      <td>2.0</td>\n",
       "      <td>0</td>\n",
       "      <td>organic</td>\n",
       "      <td>0</td>\n",
       "      <td>&lt;NA&gt;</td>\n",
       "      <td>NaN</td>\n",
       "      <td>NaN</td>\n",
       "      <td>NaN</td>\n",
       "      <td>None</td>\n",
       "    </tr>\n",
       "    <tr>\n",
       "      <th>3</th>\n",
       "      <td>3.0</td>\n",
       "      <td>0</td>\n",
       "      <td>organic</td>\n",
       "      <td>0</td>\n",
       "      <td>&lt;NA&gt;</td>\n",
       "      <td>NaN</td>\n",
       "      <td>NaN</td>\n",
       "      <td>NaN</td>\n",
       "      <td>None</td>\n",
       "    </tr>\n",
       "    <tr>\n",
       "      <th>4</th>\n",
       "      <td>4.0</td>\n",
       "      <td>0</td>\n",
       "      <td>organic</td>\n",
       "      <td>9</td>\n",
       "      <td>&lt;NA&gt;</td>\n",
       "      <td>NaN</td>\n",
       "      <td>NaN</td>\n",
       "      <td>NaN</td>\n",
       "      <td>None</td>\n",
       "    </tr>\n",
       "    <tr>\n",
       "      <th>...</th>\n",
       "      <td>...</td>\n",
       "      <td>...</td>\n",
       "      <td>...</td>\n",
       "      <td>...</td>\n",
       "      <td>...</td>\n",
       "      <td>...</td>\n",
       "      <td>...</td>\n",
       "      <td>...</td>\n",
       "      <td>...</td>\n",
       "    </tr>\n",
       "    <tr>\n",
       "      <th>8955</th>\n",
       "      <td>133.0</td>\n",
       "      <td>99</td>\n",
       "      <td>bandit</td>\n",
       "      <td>&lt;NA&gt;</td>\n",
       "      <td>2</td>\n",
       "      <td>0.0</td>\n",
       "      <td>0.0</td>\n",
       "      <td>0.1</td>\n",
       "      <td>()</td>\n",
       "    </tr>\n",
       "    <tr>\n",
       "      <th>8956</th>\n",
       "      <td>134.0</td>\n",
       "      <td>99</td>\n",
       "      <td>bandit</td>\n",
       "      <td>&lt;NA&gt;</td>\n",
       "      <td>5</td>\n",
       "      <td>0.0</td>\n",
       "      <td>0.0</td>\n",
       "      <td>0.1</td>\n",
       "      <td>()</td>\n",
       "    </tr>\n",
       "    <tr>\n",
       "      <th>8957</th>\n",
       "      <td>135.0</td>\n",
       "      <td>99</td>\n",
       "      <td>bandit</td>\n",
       "      <td>&lt;NA&gt;</td>\n",
       "      <td>2</td>\n",
       "      <td>0.0</td>\n",
       "      <td>0.0</td>\n",
       "      <td>0.1</td>\n",
       "      <td>()</td>\n",
       "    </tr>\n",
       "    <tr>\n",
       "      <th>8958</th>\n",
       "      <td>136.0</td>\n",
       "      <td>99</td>\n",
       "      <td>bandit</td>\n",
       "      <td>&lt;NA&gt;</td>\n",
       "      <td>5</td>\n",
       "      <td>0.0</td>\n",
       "      <td>0.0</td>\n",
       "      <td>0.1</td>\n",
       "      <td>()</td>\n",
       "    </tr>\n",
       "    <tr>\n",
       "      <th>8959</th>\n",
       "      <td>137.0</td>\n",
       "      <td>99</td>\n",
       "      <td>bandit</td>\n",
       "      <td>&lt;NA&gt;</td>\n",
       "      <td>0</td>\n",
       "      <td>0.0</td>\n",
       "      <td>0.0</td>\n",
       "      <td>0.1</td>\n",
       "      <td>()</td>\n",
       "    </tr>\n",
       "  </tbody>\n",
       "</table>\n",
       "<p>8960 rows × 9 columns</p>\n",
       "</div>"
      ],
      "text/plain": [
       "          t   u        z     v     a    c    r   ps  ps-a\n",
       "0       0.0   0  organic     0  <NA>  NaN  NaN  NaN  None\n",
       "1       1.0   0  organic     9  <NA>  NaN  NaN  NaN  None\n",
       "2       2.0   0  organic     0  <NA>  NaN  NaN  NaN  None\n",
       "3       3.0   0  organic     0  <NA>  NaN  NaN  NaN  None\n",
       "4       4.0   0  organic     9  <NA>  NaN  NaN  NaN  None\n",
       "...     ...  ..      ...   ...   ...  ...  ...  ...   ...\n",
       "8955  133.0  99   bandit  <NA>     2  0.0  0.0  0.1    ()\n",
       "8956  134.0  99   bandit  <NA>     5  0.0  0.0  0.1    ()\n",
       "8957  135.0  99   bandit  <NA>     2  0.0  0.0  0.1    ()\n",
       "8958  136.0  99   bandit  <NA>     5  0.0  0.0  0.1    ()\n",
       "8959  137.0  99   bandit  <NA>     0  0.0  0.0  0.1    ()\n",
       "\n",
       "[8960 rows x 9 columns]"
      ]
     },
     "metadata": {},
     "output_type": "display_data"
    }
   ],
   "source": [
    "num_users = 100\n",
    "data_sm = deepcopy(env).generate_logs(num_users)\n",
    "display(data_sm)\n",
    "data = data_sm"
   ]
  },
  {
   "cell_type": "markdown",
   "metadata": {},
   "source": [
    "## Reward shaping"
   ]
  },
  {
   "cell_type": "markdown",
   "metadata": {},
   "source": [
    " #### V1 : Only attribute reward if the recommended product is sold before the next clicked recommendation"
   ]
  },
  {
   "cell_type": "code",
   "execution_count": 3,
   "metadata": {},
   "outputs": [],
   "source": [
    "from recogym.agents import FeatureProvider"
   ]
  },
  {
   "cell_type": "code",
   "execution_count": 4,
   "metadata": {},
   "outputs": [],
   "source": [
    "class ShortTermRewardProvider(FeatureProvider):\n",
    "    \"\"\"Reward shaping class\"\"\"\n",
    "\n",
    "    def __init__(self):\n",
    "        self.data_rewards = None\n",
    "\n",
    "    def observe(self, data):\n",
    "    # List indices that correspond to clicks\n",
    "        clicked_indices = list(data.loc[data[\"c\"]==1].index)\n",
    "\n",
    "        # Only keep clicked rows\n",
    "        data_clicked = data.loc[data[\"c\"]==1]\n",
    "        data_clicked[\"y\"] = 0\n",
    "\n",
    "        last_user_clicked = list(data.loc[data[\"u\"]==data.iloc[clicked_indices[len(clicked_indices)-1]].loc[\"u\"]].index)\n",
    "        last_user_clicked = last_user_clicked[len(last_user_clicked)-1] +1\n",
    "\n",
    "        # add one value to clicked indices : the last row for the last user who clicked\n",
    "        clicked_indices += [last_user_clicked]\n",
    "\n",
    "        for i in range(len(clicked_indices)-1):\n",
    "            # Only keep the indices before the next time the user clicks\n",
    "            data_slice = data.iloc[clicked_indices[i]:clicked_indices[i+1]]\n",
    "            # Only keep the observations for the same user\n",
    "            data_slice.loc[data_slice[\"u\"]==data_slice[\"u\"].iloc[0]]\n",
    "\n",
    "            # Count the number of times a sale for the recommended product is observed in the time frame of interest\n",
    "            data_clicked[\"y\"].iloc[i] = len(data_slice.loc[(data_slice[\"z\"]==\"sale\") & (data_slice[\"v\"]==data_slice[\"a\"].iloc[0])])\n",
    "        self.data_rewards = data_clicked\n",
    "\n",
    "    def features(self):\n",
    "        return self.data_rewards\n",
    "    \n",
    "    def reset(self):\n",
    "        self.data_rewards = None"
   ]
  },
  {
   "cell_type": "code",
   "execution_count": 5,
   "metadata": {},
   "outputs": [
    {
     "data": {
      "text/html": [
       "<div>\n",
       "<style scoped>\n",
       "    .dataframe tbody tr th:only-of-type {\n",
       "        vertical-align: middle;\n",
       "    }\n",
       "\n",
       "    .dataframe tbody tr th {\n",
       "        vertical-align: top;\n",
       "    }\n",
       "\n",
       "    .dataframe thead th {\n",
       "        text-align: right;\n",
       "    }\n",
       "</style>\n",
       "<table border=\"1\" class=\"dataframe\">\n",
       "  <thead>\n",
       "    <tr style=\"text-align: right;\">\n",
       "      <th></th>\n",
       "      <th>t</th>\n",
       "      <th>u</th>\n",
       "      <th>z</th>\n",
       "      <th>v</th>\n",
       "      <th>a</th>\n",
       "      <th>c</th>\n",
       "      <th>r</th>\n",
       "      <th>ps</th>\n",
       "      <th>ps-a</th>\n",
       "      <th>y</th>\n",
       "    </tr>\n",
       "  </thead>\n",
       "  <tbody>\n",
       "    <tr>\n",
       "      <th>38</th>\n",
       "      <td>38.0</td>\n",
       "      <td>0</td>\n",
       "      <td>bandit</td>\n",
       "      <td>&lt;NA&gt;</td>\n",
       "      <td>0</td>\n",
       "      <td>1.0</td>\n",
       "      <td>1.0</td>\n",
       "      <td>0.1</td>\n",
       "      <td>()</td>\n",
       "      <td>1</td>\n",
       "    </tr>\n",
       "    <tr>\n",
       "      <th>65</th>\n",
       "      <td>65.0</td>\n",
       "      <td>0</td>\n",
       "      <td>bandit</td>\n",
       "      <td>&lt;NA&gt;</td>\n",
       "      <td>0</td>\n",
       "      <td>1.0</td>\n",
       "      <td>0.0</td>\n",
       "      <td>0.1</td>\n",
       "      <td>()</td>\n",
       "      <td>0</td>\n",
       "    </tr>\n",
       "    <tr>\n",
       "      <th>203</th>\n",
       "      <td>91.0</td>\n",
       "      <td>2</td>\n",
       "      <td>bandit</td>\n",
       "      <td>&lt;NA&gt;</td>\n",
       "      <td>3</td>\n",
       "      <td>1.0</td>\n",
       "      <td>0.0</td>\n",
       "      <td>0.1</td>\n",
       "      <td>()</td>\n",
       "      <td>1</td>\n",
       "    </tr>\n",
       "    <tr>\n",
       "      <th>456</th>\n",
       "      <td>181.0</td>\n",
       "      <td>3</td>\n",
       "      <td>bandit</td>\n",
       "      <td>&lt;NA&gt;</td>\n",
       "      <td>5</td>\n",
       "      <td>1.0</td>\n",
       "      <td>0.0</td>\n",
       "      <td>0.1</td>\n",
       "      <td>()</td>\n",
       "      <td>2</td>\n",
       "    </tr>\n",
       "    <tr>\n",
       "      <th>760</th>\n",
       "      <td>40.0</td>\n",
       "      <td>8</td>\n",
       "      <td>bandit</td>\n",
       "      <td>&lt;NA&gt;</td>\n",
       "      <td>3</td>\n",
       "      <td>1.0</td>\n",
       "      <td>0.0</td>\n",
       "      <td>0.1</td>\n",
       "      <td>()</td>\n",
       "      <td>0</td>\n",
       "    </tr>\n",
       "    <tr>\n",
       "      <th>...</th>\n",
       "      <td>...</td>\n",
       "      <td>...</td>\n",
       "      <td>...</td>\n",
       "      <td>...</td>\n",
       "      <td>...</td>\n",
       "      <td>...</td>\n",
       "      <td>...</td>\n",
       "      <td>...</td>\n",
       "      <td>...</td>\n",
       "      <td>...</td>\n",
       "    </tr>\n",
       "    <tr>\n",
       "      <th>8657</th>\n",
       "      <td>95.0</td>\n",
       "      <td>96</td>\n",
       "      <td>bandit</td>\n",
       "      <td>&lt;NA&gt;</td>\n",
       "      <td>5</td>\n",
       "      <td>1.0</td>\n",
       "      <td>1.0</td>\n",
       "      <td>0.1</td>\n",
       "      <td>()</td>\n",
       "      <td>1</td>\n",
       "    </tr>\n",
       "    <tr>\n",
       "      <th>8687</th>\n",
       "      <td>125.0</td>\n",
       "      <td>96</td>\n",
       "      <td>bandit</td>\n",
       "      <td>&lt;NA&gt;</td>\n",
       "      <td>2</td>\n",
       "      <td>1.0</td>\n",
       "      <td>1.0</td>\n",
       "      <td>0.1</td>\n",
       "      <td>()</td>\n",
       "      <td>1</td>\n",
       "    </tr>\n",
       "    <tr>\n",
       "      <th>8789</th>\n",
       "      <td>55.0</td>\n",
       "      <td>98</td>\n",
       "      <td>bandit</td>\n",
       "      <td>&lt;NA&gt;</td>\n",
       "      <td>0</td>\n",
       "      <td>1.0</td>\n",
       "      <td>0.0</td>\n",
       "      <td>0.1</td>\n",
       "      <td>()</td>\n",
       "      <td>0</td>\n",
       "    </tr>\n",
       "    <tr>\n",
       "      <th>8860</th>\n",
       "      <td>38.0</td>\n",
       "      <td>99</td>\n",
       "      <td>bandit</td>\n",
       "      <td>&lt;NA&gt;</td>\n",
       "      <td>5</td>\n",
       "      <td>1.0</td>\n",
       "      <td>1.0</td>\n",
       "      <td>0.1</td>\n",
       "      <td>()</td>\n",
       "      <td>2</td>\n",
       "    </tr>\n",
       "    <tr>\n",
       "      <th>8912</th>\n",
       "      <td>90.0</td>\n",
       "      <td>99</td>\n",
       "      <td>bandit</td>\n",
       "      <td>&lt;NA&gt;</td>\n",
       "      <td>5</td>\n",
       "      <td>1.0</td>\n",
       "      <td>0.0</td>\n",
       "      <td>0.1</td>\n",
       "      <td>()</td>\n",
       "      <td>0</td>\n",
       "    </tr>\n",
       "  </tbody>\n",
       "</table>\n",
       "<p>78 rows × 10 columns</p>\n",
       "</div>"
      ],
      "text/plain": [
       "          t   u       z     v  a    c    r   ps ps-a  y\n",
       "38     38.0   0  bandit  <NA>  0  1.0  1.0  0.1   ()  1\n",
       "65     65.0   0  bandit  <NA>  0  1.0  0.0  0.1   ()  0\n",
       "203    91.0   2  bandit  <NA>  3  1.0  0.0  0.1   ()  1\n",
       "456   181.0   3  bandit  <NA>  5  1.0  0.0  0.1   ()  2\n",
       "760    40.0   8  bandit  <NA>  3  1.0  0.0  0.1   ()  0\n",
       "...     ...  ..     ...   ... ..  ...  ...  ...  ... ..\n",
       "8657   95.0  96  bandit  <NA>  5  1.0  1.0  0.1   ()  1\n",
       "8687  125.0  96  bandit  <NA>  2  1.0  1.0  0.1   ()  1\n",
       "8789   55.0  98  bandit  <NA>  0  1.0  0.0  0.1   ()  0\n",
       "8860   38.0  99  bandit  <NA>  5  1.0  1.0  0.1   ()  2\n",
       "8912   90.0  99  bandit  <NA>  5  1.0  0.0  0.1   ()  0\n",
       "\n",
       "[78 rows x 10 columns]"
      ]
     },
     "execution_count": 5,
     "metadata": {},
     "output_type": "execute_result"
    }
   ],
   "source": [
    "st_rewards = ShortTermRewardProvider()\n",
    "st_rewards.observe(data)\n",
    "data_clicked = st_rewards.features()\n",
    "data_clicked\n",
    "# data_clicked.to_csv(\"data/data_clicked.csv\")"
   ]
  },
  {
   "cell_type": "code",
   "execution_count": 6,
   "metadata": {},
   "outputs": [
    {
     "data": {
      "image/png": "[encoded data removed]",
      "text/plain": [
       "<Figure size 432x288 with 1 Axes>"
      ]
     },
     "metadata": {
      "needs_background": "light"
     },
     "output_type": "display_data"
    }
   ],
   "source": [
    "plt.hist(data_clicked[\"y\"], bins = np.array(sorted(list(data_clicked[\"y\"].unique())+[max(data_clicked[\"y\"])+1]))-0.5)\n",
    "plt.show()"
   ]
  },
  {
   "cell_type": "markdown",
   "metadata": {},
   "source": [
    "The following sales are either delayed sales, or \"pure organic\" sales (ie sales that happen even though the product was never recommended)"
   ]
  },
  {
   "cell_type": "code",
   "execution_count": 7,
   "metadata": {},
   "outputs": [
    {
     "name": "stdout",
     "output_type": "stream",
     "text": [
      "Share of sales that are taken into account in the trainset :  0.2222222222222222\n"
     ]
    }
   ],
   "source": [
    "print(\"Share of sales that are taken into account in the trainset : \",\n",
    "      np.sum(data_clicked[\"y\"])/np.sum(data[\"z\"]==\"sale\"))"
   ]
  },
  {
   "cell_type": "markdown",
   "metadata": {},
   "source": [
    "#### V2 : Attribute a reward if the product was sold later at one point during the user session\n",
    "\n",
    "In case of several recommendations for the same product, attribute it to the last time it was recommended.\n",
    "Thus, for each user : look at every sale, find the last time it was recommended (if any), and give reward"
   ]
  },
  {
   "cell_type": "code",
   "execution_count": 8,
   "metadata": {},
   "outputs": [],
   "source": [
    "class CumulativeRewardProvider(FeatureProvider):\n",
    "    \"\"\"Reward shaping class\"\"\"\n",
    "    \n",
    "    def __init__(self):\n",
    "        self.data_rewards = None\n",
    "\n",
    "    def observe(self, data):\n",
    "        from tqdm import tqdm\n",
    "        sales_indices = list(data.loc[data[\"c\"]==1].index)\n",
    "        data_clicked2 = data.loc[data[\"c\"]==1]\n",
    "        data_clicked2[\"y\"] = 0\n",
    "\n",
    "        # Loop over users\n",
    "        for u in tqdm(data[\"u\"].unique()):\n",
    "            # Create dataframe with current user\n",
    "            data_u = data.loc[data[\"u\"]==u]\n",
    "            # Keep track of indices of sales, and corresponding products\n",
    "            sales = {\"index\":data_u.loc[data[\"z\"]==\"sale\"].index,\n",
    "                     \"product\":list(data_u.loc[data[\"z\"]==\"sale\"][\"v\"])}\n",
    "            # Loop over sales\n",
    "            for i in range(len(sales[\"index\"])):\n",
    "                # Create dataframe that includes everything up until the sale\n",
    "                data_slice = data_u.iloc[:sales[\"index\"][i]]\n",
    "                # Only keep clicked recos that correspond to the sold product\n",
    "                data_recos = data_slice.loc[(data_slice[\"c\"]==1) & (data_slice[\"a\"]==sales[\"product\"][i])]\n",
    "                if len(data_recos) > 0 :\n",
    "                    index = data_recos.index[len(data_recos.index)-1]\n",
    "                    data_clicked2[\"y\"].loc[data_clicked2.index == index] = data_clicked2[\"y\"].loc[data_clicked2.index == index] + 1\n",
    "        self.data_rewards = data_clicked2\n",
    "\n",
    "    def features(self):\n",
    "        return self.data_rewards\n",
    "        \n",
    "    def reset(self):\n",
    "        self.data_rewards = None"
   ]
  },
  {
   "cell_type": "code",
   "execution_count": 9,
   "metadata": {},
   "outputs": [
    {
     "name": "stderr",
     "output_type": "stream",
     "text": [
      "100%|████████████████████████████████████████████████████████████████████████████████| 100/100 [00:01<00:00, 77.19it/s]\n"
     ]
    },
    {
     "data": {
      "text/html": [
       "<div>\n",
       "<style scoped>\n",
       "    .dataframe tbody tr th:only-of-type {\n",
       "        vertical-align: middle;\n",
       "    }\n",
       "\n",
       "    .dataframe tbody tr th {\n",
       "        vertical-align: top;\n",
       "    }\n",
       "\n",
       "    .dataframe thead th {\n",
       "        text-align: right;\n",
       "    }\n",
       "</style>\n",
       "<table border=\"1\" class=\"dataframe\">\n",
       "  <thead>\n",
       "    <tr style=\"text-align: right;\">\n",
       "      <th></th>\n",
       "      <th>t</th>\n",
       "      <th>u</th>\n",
       "      <th>z</th>\n",
       "      <th>v</th>\n",
       "      <th>a</th>\n",
       "      <th>c</th>\n",
       "      <th>r</th>\n",
       "      <th>ps</th>\n",
       "      <th>ps-a</th>\n",
       "      <th>y</th>\n",
       "    </tr>\n",
       "  </thead>\n",
       "  <tbody>\n",
       "    <tr>\n",
       "      <th>38</th>\n",
       "      <td>38.0</td>\n",
       "      <td>0</td>\n",
       "      <td>bandit</td>\n",
       "      <td>&lt;NA&gt;</td>\n",
       "      <td>0</td>\n",
       "      <td>1.0</td>\n",
       "      <td>1.0</td>\n",
       "      <td>0.1</td>\n",
       "      <td>()</td>\n",
       "      <td>1</td>\n",
       "    </tr>\n",
       "    <tr>\n",
       "      <th>65</th>\n",
       "      <td>65.0</td>\n",
       "      <td>0</td>\n",
       "      <td>bandit</td>\n",
       "      <td>&lt;NA&gt;</td>\n",
       "      <td>0</td>\n",
       "      <td>1.0</td>\n",
       "      <td>0.0</td>\n",
       "      <td>0.1</td>\n",
       "      <td>()</td>\n",
       "      <td>0</td>\n",
       "    </tr>\n",
       "    <tr>\n",
       "      <th>203</th>\n",
       "      <td>91.0</td>\n",
       "      <td>2</td>\n",
       "      <td>bandit</td>\n",
       "      <td>&lt;NA&gt;</td>\n",
       "      <td>3</td>\n",
       "      <td>1.0</td>\n",
       "      <td>0.0</td>\n",
       "      <td>0.1</td>\n",
       "      <td>()</td>\n",
       "      <td>0</td>\n",
       "    </tr>\n",
       "    <tr>\n",
       "      <th>456</th>\n",
       "      <td>181.0</td>\n",
       "      <td>3</td>\n",
       "      <td>bandit</td>\n",
       "      <td>&lt;NA&gt;</td>\n",
       "      <td>5</td>\n",
       "      <td>1.0</td>\n",
       "      <td>0.0</td>\n",
       "      <td>0.1</td>\n",
       "      <td>()</td>\n",
       "      <td>1</td>\n",
       "    </tr>\n",
       "    <tr>\n",
       "      <th>760</th>\n",
       "      <td>40.0</td>\n",
       "      <td>8</td>\n",
       "      <td>bandit</td>\n",
       "      <td>&lt;NA&gt;</td>\n",
       "      <td>3</td>\n",
       "      <td>1.0</td>\n",
       "      <td>0.0</td>\n",
       "      <td>0.1</td>\n",
       "      <td>()</td>\n",
       "      <td>0</td>\n",
       "    </tr>\n",
       "    <tr>\n",
       "      <th>...</th>\n",
       "      <td>...</td>\n",
       "      <td>...</td>\n",
       "      <td>...</td>\n",
       "      <td>...</td>\n",
       "      <td>...</td>\n",
       "      <td>...</td>\n",
       "      <td>...</td>\n",
       "      <td>...</td>\n",
       "      <td>...</td>\n",
       "      <td>...</td>\n",
       "    </tr>\n",
       "    <tr>\n",
       "      <th>8657</th>\n",
       "      <td>95.0</td>\n",
       "      <td>96</td>\n",
       "      <td>bandit</td>\n",
       "      <td>&lt;NA&gt;</td>\n",
       "      <td>5</td>\n",
       "      <td>1.0</td>\n",
       "      <td>1.0</td>\n",
       "      <td>0.1</td>\n",
       "      <td>()</td>\n",
       "      <td>1</td>\n",
       "    </tr>\n",
       "    <tr>\n",
       "      <th>8687</th>\n",
       "      <td>125.0</td>\n",
       "      <td>96</td>\n",
       "      <td>bandit</td>\n",
       "      <td>&lt;NA&gt;</td>\n",
       "      <td>2</td>\n",
       "      <td>1.0</td>\n",
       "      <td>1.0</td>\n",
       "      <td>0.1</td>\n",
       "      <td>()</td>\n",
       "      <td>1</td>\n",
       "    </tr>\n",
       "    <tr>\n",
       "      <th>8789</th>\n",
       "      <td>55.0</td>\n",
       "      <td>98</td>\n",
       "      <td>bandit</td>\n",
       "      <td>&lt;NA&gt;</td>\n",
       "      <td>0</td>\n",
       "      <td>1.0</td>\n",
       "      <td>0.0</td>\n",
       "      <td>0.1</td>\n",
       "      <td>()</td>\n",
       "      <td>0</td>\n",
       "    </tr>\n",
       "    <tr>\n",
       "      <th>8860</th>\n",
       "      <td>38.0</td>\n",
       "      <td>99</td>\n",
       "      <td>bandit</td>\n",
       "      <td>&lt;NA&gt;</td>\n",
       "      <td>5</td>\n",
       "      <td>1.0</td>\n",
       "      <td>1.0</td>\n",
       "      <td>0.1</td>\n",
       "      <td>()</td>\n",
       "      <td>0</td>\n",
       "    </tr>\n",
       "    <tr>\n",
       "      <th>8912</th>\n",
       "      <td>90.0</td>\n",
       "      <td>99</td>\n",
       "      <td>bandit</td>\n",
       "      <td>&lt;NA&gt;</td>\n",
       "      <td>5</td>\n",
       "      <td>1.0</td>\n",
       "      <td>0.0</td>\n",
       "      <td>0.1</td>\n",
       "      <td>()</td>\n",
       "      <td>2</td>\n",
       "    </tr>\n",
       "  </tbody>\n",
       "</table>\n",
       "<p>78 rows × 10 columns</p>\n",
       "</div>"
      ],
      "text/plain": [
       "          t   u       z     v  a    c    r   ps ps-a  y\n",
       "38     38.0   0  bandit  <NA>  0  1.0  1.0  0.1   ()  1\n",
       "65     65.0   0  bandit  <NA>  0  1.0  0.0  0.1   ()  0\n",
       "203    91.0   2  bandit  <NA>  3  1.0  0.0  0.1   ()  0\n",
       "456   181.0   3  bandit  <NA>  5  1.0  0.0  0.1   ()  1\n",
       "760    40.0   8  bandit  <NA>  3  1.0  0.0  0.1   ()  0\n",
       "...     ...  ..     ...   ... ..  ...  ...  ...  ... ..\n",
       "8657   95.0  96  bandit  <NA>  5  1.0  1.0  0.1   ()  1\n",
       "8687  125.0  96  bandit  <NA>  2  1.0  1.0  0.1   ()  1\n",
       "8789   55.0  98  bandit  <NA>  0  1.0  0.0  0.1   ()  0\n",
       "8860   38.0  99  bandit  <NA>  5  1.0  1.0  0.1   ()  0\n",
       "8912   90.0  99  bandit  <NA>  5  1.0  0.0  0.1   ()  2\n",
       "\n",
       "[78 rows x 10 columns]"
      ]
     },
     "execution_count": 9,
     "metadata": {},
     "output_type": "execute_result"
    }
   ],
   "source": [
    "cum_rewards = CumulativeRewardProvider()\n",
    "cum_rewards.observe(data)\n",
    "data_clicked2 = cum_rewards.features()\n",
    "data_clicked2\n",
    "# data_clicked2.to_csv(\"data/data_clicked2.csv\")"
   ]
  },
  {
   "cell_type": "code",
   "execution_count": 10,
   "metadata": {
    "scrolled": true
   },
   "outputs": [
    {
     "data": {
      "image/png": "[encoded data removed]",
      "text/plain": [
       "<Figure size 432x288 with 1 Axes>"
      ]
     },
     "metadata": {
      "needs_background": "light"
     },
     "output_type": "display_data"
    }
   ],
   "source": [
    "plt.hist(data_clicked2[\"y\"], bins = np.array(sorted(list(data_clicked2[\"y\"].unique())+[max(data_clicked2[\"y\"])+1]))-0.5)\n",
    "plt.show()"
   ]
  },
  {
   "cell_type": "markdown",
   "metadata": {},
   "source": [
    "Theses sales reprensents sales before a first product was recommended, but should include delayed sales"
   ]
  },
  {
   "cell_type": "code",
   "execution_count": 11,
   "metadata": {},
   "outputs": [
    {
     "name": "stdout",
     "output_type": "stream",
     "text": [
      "Share of sales that are taken into account in the trainset :  0.25146198830409355\n"
     ]
    }
   ],
   "source": [
    "print(\"Share of sales that are taken into account in the trainset : \",\n",
    "      np.sum(data_clicked2[\"y\"])/np.sum(data[\"z\"]==\"sale\"))"
   ]
  },
  {
   "cell_type": "markdown",
   "metadata": {},
   "source": [
    "## Build features"
   ]
  },
  {
   "cell_type": "code",
   "execution_count": 84,
   "metadata": {},
   "outputs": [],
   "source": [
    "from recogym.agents import FeatureProvider\n",
    "\n",
    "class CountViewsClicksFeatureProvider(FeatureProvider):\n",
    "    \"\"\"Feature provider as an abstract class that defines interface of setting/getting features\n",
    "    The class counts both clicks and views \"\"\"\n",
    "\n",
    "    def __init__(self, config):\n",
    "        super(CountViewsClicksFeatureProvider, self).__init__(config)\n",
    "        self.num_products = config.num_products\n",
    "        self.view_feature = np.zeros(self.num_products)\n",
    "        self.click_feature = np.zeros(self.num_products)\n",
    "        self.user_features = np.zeros(2*self.num_products)\n",
    "        \n",
    "    def observe(self, data):\n",
    "        if type(data) == pd.core.series.Series:\n",
    "            row = data\n",
    "            if row[\"z\"]=='organic':\n",
    "                self.view_feature[row[\"v\"]] += 1 \n",
    "            if (row[\"z\"]=='bandit') & (row[\"c\"]==1):\n",
    "                self.click_feature[row[\"a\"]] += 1 \n",
    "        else :\n",
    "            for _, row in data.iterrows():\n",
    "                if row[\"z\"]=='organic':\n",
    "                    self.view_feature[int(row[\"v\"])] += 1 \n",
    "                if (row[\"z\"]=='bandit') & (row[\"c\"]==1):\n",
    "                    self.click_feature[int(row[\"a\"])] += 1 \n",
    "                \n",
    "        self.user_features = np.concatenate([self.view_feature,self.click_feature])\n",
    "        \n",
    "    def features(self):\n",
    "        \"\"\"Provide feature values adjusted to a particular feature set\"\"\"\n",
    "        return self.user_features\n",
    "\n",
    "    def reset(self):\n",
    "        self.view_feature = np.zeros(self.num_products)\n",
    "        self.click_feature = np.zeros(self.num_products)\n",
    "        self.user_features = np.zeros(2*self.num_products)"
   ]
  },
  {
   "cell_type": "code",
   "execution_count": 85,
   "metadata": {},
   "outputs": [],
   "source": [
    "vc_feature = CountViewsClicksFeatureProvider(env.config)"
   ]
  },
  {
   "cell_type": "markdown",
   "metadata": {},
   "source": [
    "## Build train data based on features and shaped rewards"
   ]
  },
  {
   "cell_type": "code",
   "execution_count": 43,
   "metadata": {},
   "outputs": [],
   "source": [
    "def build_train_data(logs, feature_provider, reward_provider):\n",
    "    user_states = []\n",
    "\n",
    "    # Define clicked logs\n",
    "    reward_provider.observe(logs)\n",
    "    clicked_log = reward_provider.features()\n",
    "    \n",
    "    # Restrict logs to users that clicked at least once\n",
    "    logs = logs[logs[\"u\"].isin(list(clicked_log[\"u\"].unique()))]\n",
    "    \n",
    "    current_user = None #for checkup\n",
    "    for index, row in logs.iterrows():\n",
    "        if current_user != row['u']:\n",
    "            # User has changed: reset user state.\n",
    "            current_user = row['u'] #for checkup\n",
    "            feature_provider.reset()\n",
    "        \n",
    "        feature_provider.observe(row)\n",
    "        \n",
    "        if index in clicked_log.index :\n",
    "            user_states.append(feature_provider.features().copy())\n",
    "            assert clicked_log[\"u\"][index] == current_user\n",
    "\n",
    "    return (np.array(user_states), \n",
    "            np.array(clicked_log[\"a\"]).astype(int), \n",
    "            np.array(clicked_log[\"y\"].astype(int)), \n",
    "            np.array(clicked_log[\"ps\"]))"
   ]
  },
  {
   "cell_type": "code",
   "execution_count": 15,
   "metadata": {},
   "outputs": [
    {
     "name": "stderr",
     "output_type": "stream",
     "text": [
      "100%|████████████████████████████████████████████████████████████████████████████████| 100/100 [00:01<00:00, 83.99it/s]\n"
     ]
    }
   ],
   "source": [
    "train_st = build_train_data(data, vc_feature, st_rewards)\n",
    "train_cum = build_train_data(data, vc_feature, cum_rewards)"
   ]
  },
  {
   "cell_type": "code",
   "execution_count": 16,
   "metadata": {},
   "outputs": [],
   "source": [
    "# import pickle as pkl\n",
    "# # Short term\n",
    "# pkl.dump(train_st,open(\"data/train_st.pkl\",\"wb\"))\n",
    "# user_states, actions, rewards, proba_actions = pkl.load(open(\"data/train_st.pkl\",\"rb\"))\n",
    "\n",
    "# # Cumulative\n",
    "# pkl.dump(train_cum,open(\"data/train_cum.pkl\",\"wb\"))\n",
    "# user_states, actions, rewards, proba_actions = pkl.load(open(\"data/train_cum.pkl\",\"rb\"))"
   ]
  },
  {
   "cell_type": "code",
   "execution_count": 17,
   "metadata": {},
   "outputs": [],
   "source": [
    "from recogym.agents import Agent, FeatureProvider\n",
    "from numpy.random.mtrand import RandomState\n",
    "from sklearn.linear_model import LogisticRegression\n",
    "# import pandas as pd\n",
    "from copy import deepcopy\n",
    "from scipy.stats.distributions import beta\n",
    "import matplotlib.pyplot as plt\n",
    "import torch\n",
    "import torch.nn.functional as F\n",
    "from torch.autograd import Variable\n",
    "from recogym.util import FullBatchLBFGS"
   ]
  },
  {
   "cell_type": "code",
   "execution_count": 89,
   "metadata": {},
   "outputs": [],
   "source": [
    "class LikelihoodAgent(Agent):\n",
    "    def __init__(self, feature_provider, reward_provider, epsilon_greedy = False, epsilon = 0.3, seed=43):\n",
    "        self.feature_provider = feature_provider\n",
    "        self.reward_provider = reward_provider\n",
    "        self.random_state = RandomState(seed)\n",
    "        self.model = None\n",
    "        self.epsilon_greedy = epsilon_greedy\n",
    "        self.epsilon = epsilon\n",
    "        self.ctr = None\n",
    "        \n",
    "    @property\n",
    "    def num_products(self):\n",
    "        return self.feature_provider.config.num_products\n",
    "    \n",
    "    def _create_features(self, user_state, action):\n",
    "        \"\"\"Create the features that are used to estimate the expected reward from the user state\"\"\"\n",
    "        features = np.zeros(len(user_state) * self.num_products)\n",
    "        # perform kronecker product directly on the flattened version of the features matrix\n",
    "        features[action * len(user_state): (action + 1) * len(user_state)] = user_state\n",
    "        return features\n",
    "    \n",
    "    def train(self, logs):\n",
    "        user_states, actions, rewards, proba_actions = build_train_data(logs, \n",
    "                                                                        self.feature_provider, \n",
    "                                                                        self.reward_provider)\n",
    "        rewards = (rewards > 0)*1\n",
    "        # Question 1 : estimate sales rate (boolean)\n",
    "        count_actions = np.unique(actions,return_counts = True)[1]\n",
    "        assert len(count_actions) == self.num_products\n",
    "        count_sales_bool = np.array([len(np.where((actions==_) & (rewards>0))[0]) for _ in range(self.num_products)])\n",
    "        self.salesrate = count_sales_bool / count_actions\n",
    "#         print(\"Estimated sales rate : \",self.salesrate)\n",
    "        \n",
    "        features = np.vstack([\n",
    "            self._create_features(user_state, action) \n",
    "            for user_state, action in zip(user_states, actions)\n",
    "        ])\n",
    "        self.model = LogisticRegression(solver='lbfgs', max_iter=5000)\n",
    "        self.model.fit(features, rewards)\n",
    "    \n",
    "    def _score_products(self, user_state):\n",
    "        all_action_features = np.array([\n",
    "            # How do you create the features to feed the logistic model ?\n",
    "            self._create_features(user_state, action) for action in range(self.num_products)\n",
    "        ])\n",
    "        return self.model.predict_proba(all_action_features)[:, 1]\n",
    "    \n",
    "    def observation_to_log(self,observation):\n",
    "        data = {\n",
    "                    't': [],\n",
    "                    'u': [],\n",
    "                    'z': [],\n",
    "                    'v': [],\n",
    "                    'a': [],\n",
    "                    'c': [],\n",
    "                    'r': [],\n",
    "                    'ps': [],\n",
    "                    'ps-a': [],\n",
    "                }\n",
    "        def _store_organic(observation):\n",
    "            assert (observation is not None)\n",
    "            assert (observation.sessions() is not None)\n",
    "            for session in observation.sessions():\n",
    "                data['t'].append(session['t'])\n",
    "                data['u'].append(session['u'])\n",
    "                data['z'].append('organic' if session['z']=='pageview' else 'sale') \n",
    "                data['v'].append(session['v'])\n",
    "                data['a'].append(None)\n",
    "                data['c'].append(None)\n",
    "                data['r'].append(None) ##H\n",
    "                data['ps'].append(None)\n",
    "                data['ps-a'].append(None)\n",
    "\n",
    "        def _store_clicks(observation):\n",
    "            assert (observation is not None)\n",
    "            assert (observation.click is not None)\n",
    "            for session in observation.click:\n",
    "                data['t'].append(session['t'])\n",
    "                data['u'].append(session['u'])\n",
    "                data['z'].append('bandit') \n",
    "                data['v'].append(None)\n",
    "                data['a'].append(session['a'])\n",
    "                data['c'].append(session['c'])\n",
    "                data['r'].append(None) \n",
    "                data['ps'].append(None)\n",
    "                data['ps-a'].append(None)\n",
    "\n",
    "        _store_organic(observation)\n",
    "        _store_clicks(observation)\n",
    "        df = pd.DataFrame(data)\n",
    "        df.sort_values('t')\n",
    "        return df\n",
    "        \n",
    "    \n",
    "    def act(self, observation, reward, done):\n",
    "        \"\"\"Act method returns an action based on current observation and past history\"\"\"\n",
    "        ## OK\n",
    "        ##Question : should we do something about rewards ???\n",
    "        logged_observation = self.observation_to_log(observation)\n",
    "        self.feature_provider.observe(logged_observation)      \n",
    "        user_state = self.feature_provider.features()\n",
    "        if (self.epsilon_greedy == True) & (np.random.rand() < self.epsilon) : \n",
    "            print(\"Explore\")\n",
    "            action = np.random.randint(self.num_products())\n",
    "        else :\n",
    "            action = np.argmax(self._score_products(user_state))\n",
    "        \n",
    "        ps = 1.0\n",
    "        all_ps = np.zeros(self.num_products)\n",
    "        all_ps[action] = 1.0        \n",
    "        \n",
    "        return {\n",
    "            **super().act(observation, reward, done),\n",
    "            **{\n",
    "                'a': action,\n",
    "                'ps': ps,\n",
    "                'ps-a': all_ps,\n",
    "            }\n",
    "        }\n",
    "\n",
    "    def reset(self):\n",
    "        self.feature_provider.reset()  "
   ]
  },
  {
   "cell_type": "code",
   "execution_count": 90,
   "metadata": {},
   "outputs": [
    {
     "name": "stderr",
     "output_type": "stream",
     "text": [
      "100%|████████████████████████████████████████████████████████████████████████████████| 100/100 [00:01<00:00, 80.45it/s]\n"
     ]
    }
   ],
   "source": [
    "####TODO !!!\n",
    "likelihood_logreg = LikelihoodAgent(vc_feature, cum_rewards)\n",
    "likelihood_logreg.train(data)"
   ]
  },
  {
   "cell_type": "code",
   "execution_count": 100,
   "metadata": {},
   "outputs": [],
   "source": [
    "from recogym.agents import RandomAgent, random_args\n",
    "random_agent = RandomAgent(Configuration(random_args))"
   ]
  },
  {
   "cell_type": "code",
   "execution_count": 101,
   "metadata": {},
   "outputs": [
    {
     "name": "stderr",
     "output_type": "stream",
     "text": [
      "Organic Users: 0it [00:00, ?it/s]\n",
      "Users: 100%|███████████████████████████████████████████████████████████████████████████| 10/10 [00:11<00:00,  1.12s/it]\n",
      "C:\\Users\\Philo\\Documents\\reco-gym\\recogym\\evaluate_agent_sale.py:703: UserWarning: Boolean Series key will be reindexed to match DataFrame index.\n",
      "  data_list[agent_id] = data[data[\"a\"] >= 0][data[\"c\"] > 0]\n",
      "Organic Users: 0it [00:00, ?it/s]\n",
      "Users: 100%|███████████████████████████████████████████████████████████████████████████| 10/10 [00:00<00:00, 33.92it/s]\n",
      "C:\\Users\\Philo\\Documents\\reco-gym\\recogym\\evaluate_agent_sale.py:703: UserWarning: Boolean Series key will be reindexed to match DataFrame index.\n",
      "  data_list[agent_id] = data[data[\"a\"] >= 0][data[\"c\"] > 0]\n"
     ]
    }
   ],
   "source": [
    "test=verify_agents_sale(\n",
    "    env,\n",
    "    number_of_users=10,\n",
    "    agents={\n",
    "        'likelihood modif': likelihood_logreg,\n",
    "        'random agent' : random_agent\n",
    "    }\n",
    ")"
   ]
  },
  {
   "cell_type": "code",
   "execution_count": 103,
   "metadata": {},
   "outputs": [
    {
     "data": {
      "image/png": "[encoded data removed]",
      "text/plain": [
       "<Figure size 432x288 with 1 Axes>"
      ]
     },
     "metadata": {
      "needs_background": "light"
     },
     "output_type": "display_data"
    },
    {
     "data": {
      "image/png": "[encoded data removed]",
      "text/plain": [
       "<Figure size 432x288 with 1 Axes>"
      ]
     },
     "metadata": {
      "needs_background": "light"
     },
     "output_type": "display_data"
    },
    {
     "data": {
      "image/png": "[encoded data removed]",
      "text/plain": [
       "<Figure size 432x288 with 1 Axes>"
      ]
     },
     "metadata": {
      "needs_background": "light"
     },
     "output_type": "display_data"
    },
    {
     "data": {
      "image/png": "[encoded data removed]",
      "text/plain": [
       "<Figure size 432x288 with 1 Axes>"
      ]
     },
     "metadata": {
      "needs_background": "light"
     },
     "output_type": "display_data"
    },
    {
     "data": {
      "image/png": "[encoded data removed]",
      "text/plain": [
       "<Figure size 432x288 with 1 Axes>"
      ]
     },
     "metadata": {
      "needs_background": "light"
     },
     "output_type": "display_data"
    },
    {
     "data": {
      "image/png": "[encoded data removed]",
      "text/plain": [
       "<Figure size 432x288 with 1 Axes>"
      ]
     },
     "metadata": {
      "needs_background": "light"
     },
     "output_type": "display_data"
    }
   ],
   "source": [
    "plot_verify_agents_sale(test[\"sale rate\"], test[\"CTR\"], test[\"Tot sales\"], \n",
    "                        test['Share user with sale'], test['Share sale after click'],\n",
    "                       test[\"User embeddings\"])\n",
    "None"
   ]
  },
  {
   "cell_type": "code",
   "execution_count": null,
   "metadata": {},
   "outputs": [],
   "source": []
  },
  {
   "cell_type": "code",
   "execution_count": null,
   "metadata": {},
   "outputs": [],
   "source": []
  },
  {
   "cell_type": "code",
   "execution_count": null,
   "metadata": {},
   "outputs": [],
   "source": []
  },
  {
   "cell_type": "code",
   "execution_count": 87,
   "metadata": {},
   "outputs": [],
   "source": [
    "agent.train(user_states, actions, (rewards>0)*1, proba_actions)"
   ]
  },
  {
   "cell_type": "code",
   "execution_count": 93,
   "metadata": {},
   "outputs": [
    {
     "data": {
      "image/png": "[encoded data removed]",
      "text/plain": [
       "<Figure size 432x288 with 1 Axes>"
      ]
     },
     "metadata": {
      "needs_background": "light"
     },
     "output_type": "display_data"
    }
   ],
   "source": [
    "feat = np.concatenate([user_states,np.array(actions).reshape(len(actions),1)],axis=1)\n",
    "rew = (rewards>0)*1\n",
    "# plt.plot(rewards,alpha=0.1)\n",
    "\n",
    "plt.plot(rew)\n",
    "plt.plot(agent.model.predict(feat))\n",
    "plt.show()"
   ]
  },
  {
   "cell_type": "code",
   "execution_count": 102,
   "metadata": {},
   "outputs": [
    {
     "data": {
      "text/plain": [
       "(21,)"
      ]
     },
     "execution_count": 102,
     "metadata": {},
     "output_type": "execute_result"
    }
   ],
   "source": [
    "agent.model.score(feat, rew)\n",
    "# agent.model.predict()\n",
    "feat[0,:].shape"
   ]
  },
  {
   "cell_type": "code",
   "execution_count": 83,
   "metadata": {},
   "outputs": [
    {
     "data": {
      "text/plain": [
       "9"
      ]
     },
     "execution_count": 83,
     "metadata": {},
     "output_type": "execute_result"
    }
   ],
   "source": [
    "len(agent.model.predict_proba(feat)[10])"
   ]
  },
  {
   "cell_type": "code",
   "execution_count": 58,
   "metadata": {},
   "outputs": [
    {
     "name": "stderr",
     "output_type": "stream",
     "text": [
      "Organic Users: 0it [00:00, ?it/s]\n",
      "Users:   0%|                                                                                  | 0/2000 [00:00<?, ?it/s]\n"
     ]
    },
    {
     "ename": "NameError",
     "evalue": "name 'features' is not defined",
     "output_type": "error",
     "traceback": [
      "\u001b[1;31m---------------------------------------------------------------------------\u001b[0m",
      "\u001b[1;31mNameError\u001b[0m                                 Traceback (most recent call last)",
      "\u001b[1;32m<ipython-input-58-f3a587c8a693>\u001b[0m in \u001b[0;36m<module>\u001b[1;34m\u001b[0m\n\u001b[0;32m      5\u001b[0m     \u001b[0mnumber_of_users\u001b[0m\u001b[1;33m=\u001b[0m\u001b[1;36m2000\u001b[0m\u001b[1;33m,\u001b[0m\u001b[1;33m\u001b[0m\u001b[1;33m\u001b[0m\u001b[0m\n\u001b[0;32m      6\u001b[0m     agents={\n\u001b[1;32m----> 7\u001b[1;33m         \u001b[1;34m'likelihood modif'\u001b[0m\u001b[1;33m:\u001b[0m \u001b[0magent\u001b[0m\u001b[1;33m\u001b[0m\u001b[1;33m\u001b[0m\u001b[0m\n\u001b[0m\u001b[0;32m      8\u001b[0m     }\n\u001b[0;32m      9\u001b[0m )\n",
      "\u001b[1;32m~\\Documents\\reco-gym\\recogym\\evaluate_agent_sale.py\u001b[0m in \u001b[0;36mverify_agents_sale\u001b[1;34m(env, number_of_users, agents, agent_reset)\u001b[0m\n\u001b[0;32m    700\u001b[0m             \u001b[0magents\u001b[0m\u001b[1;33m[\u001b[0m\u001b[0magent_id\u001b[0m\u001b[1;33m]\u001b[0m\u001b[1;33m.\u001b[0m\u001b[0mreset\u001b[0m\u001b[1;33m(\u001b[0m\u001b[1;33m)\u001b[0m\u001b[1;33m\u001b[0m\u001b[1;33m\u001b[0m\u001b[0m\n\u001b[0;32m    701\u001b[0m \u001b[1;33m\u001b[0m\u001b[0m\n\u001b[1;32m--> 702\u001b[1;33m         \u001b[0mdata\u001b[0m \u001b[1;33m=\u001b[0m \u001b[0menv\u001b[0m\u001b[1;33m.\u001b[0m\u001b[0mgenerate_logs\u001b[0m\u001b[1;33m(\u001b[0m\u001b[0mnumber_of_users\u001b[0m\u001b[1;33m,\u001b[0m \u001b[0magents\u001b[0m\u001b[1;33m[\u001b[0m\u001b[0magent_id\u001b[0m\u001b[1;33m]\u001b[0m\u001b[1;33m)\u001b[0m\u001b[1;33m\u001b[0m\u001b[1;33m\u001b[0m\u001b[0m\n\u001b[0m\u001b[0;32m    703\u001b[0m         \u001b[0mdata_list\u001b[0m\u001b[1;33m[\u001b[0m\u001b[0magent_id\u001b[0m\u001b[1;33m]\u001b[0m \u001b[1;33m=\u001b[0m \u001b[0mdata\u001b[0m\u001b[1;33m[\u001b[0m\u001b[0mdata\u001b[0m\u001b[1;33m[\u001b[0m\u001b[1;34m\"a\"\u001b[0m\u001b[1;33m]\u001b[0m \u001b[1;33m>=\u001b[0m \u001b[1;36m0\u001b[0m\u001b[1;33m]\u001b[0m\u001b[1;33m[\u001b[0m\u001b[0mdata\u001b[0m\u001b[1;33m[\u001b[0m\u001b[1;34m\"c\"\u001b[0m\u001b[1;33m]\u001b[0m \u001b[1;33m>\u001b[0m \u001b[1;36m0\u001b[0m\u001b[1;33m]\u001b[0m\u001b[1;33m\u001b[0m\u001b[1;33m\u001b[0m\u001b[0m\n\u001b[0;32m    704\u001b[0m         \u001b[0membed_list\u001b[0m\u001b[1;33m[\u001b[0m\u001b[0magent_id\u001b[0m\u001b[1;33m]\u001b[0m \u001b[1;33m=\u001b[0m \u001b[0menv\u001b[0m\u001b[1;33m.\u001b[0m\u001b[0muser_embedding_list\u001b[0m\u001b[1;33m\u001b[0m\u001b[1;33m\u001b[0m\u001b[0m\n",
      "\u001b[1;32m~\\Documents\\reco-gym\\recogym\\envs\\reco_env_v1_sale.py\u001b[0m in \u001b[0;36mgenerate_logs\u001b[1;34m(self, num_offline_users, agent, num_organic_offline_users)\u001b[0m\n\u001b[0;32m    353\u001b[0m                 \u001b[0m_store_organic\u001b[0m\u001b[1;33m(\u001b[0m\u001b[0mobservation\u001b[0m\u001b[1;33m)\u001b[0m\u001b[1;33m\u001b[0m\u001b[1;33m\u001b[0m\u001b[0m\n\u001b[0;32m    354\u001b[0m                 action, observation, reward, done, info = self.step_offline(\n\u001b[1;32m--> 355\u001b[1;33m                     \u001b[0mobservation\u001b[0m\u001b[1;33m,\u001b[0m \u001b[0mreward\u001b[0m\u001b[1;33m,\u001b[0m \u001b[0mdone\u001b[0m\u001b[1;33m,\u001b[0m \u001b[0minfo\u001b[0m\u001b[1;33m\u001b[0m\u001b[1;33m\u001b[0m\u001b[0m\n\u001b[0m\u001b[0;32m    356\u001b[0m                 )\n\u001b[0;32m    357\u001b[0m                 \u001b[0m_store_bandit\u001b[0m\u001b[1;33m(\u001b[0m\u001b[0maction\u001b[0m\u001b[1;33m,\u001b[0m \u001b[0mreward\u001b[0m\u001b[1;33m,\u001b[0m \u001b[0mobservation\u001b[0m\u001b[1;33m)\u001b[0m\u001b[1;33m\u001b[0m\u001b[1;33m\u001b[0m\u001b[0m\n",
      "\u001b[1;32m~\\Documents\\reco-gym\\recogym\\envs\\reco_env_v1_sale.py\u001b[0m in \u001b[0;36mstep_offline\u001b[1;34m(self, observation, reward, done, info)\u001b[0m\n\u001b[0;32m    242\u001b[0m             \u001b[1;32massert\u001b[0m \u001b[1;33m(\u001b[0m\u001b[0mobservation\u001b[0m \u001b[1;32mis\u001b[0m \u001b[1;32mnot\u001b[0m \u001b[1;32mNone\u001b[0m\u001b[1;33m)\u001b[0m\u001b[1;33m\u001b[0m\u001b[1;33m\u001b[0m\u001b[0m\n\u001b[0;32m    243\u001b[0m             \u001b[1;32mif\u001b[0m \u001b[0mself\u001b[0m\u001b[1;33m.\u001b[0m\u001b[0magent\u001b[0m\u001b[1;33m:\u001b[0m\u001b[1;33m\u001b[0m\u001b[1;33m\u001b[0m\u001b[0m\n\u001b[1;32m--> 244\u001b[1;33m                 \u001b[0maction\u001b[0m \u001b[1;33m=\u001b[0m \u001b[0mself\u001b[0m\u001b[1;33m.\u001b[0m\u001b[0magent\u001b[0m\u001b[1;33m.\u001b[0m\u001b[0mact\u001b[0m\u001b[1;33m(\u001b[0m\u001b[0mobservation\u001b[0m\u001b[1;33m,\u001b[0m \u001b[0mreward\u001b[0m\u001b[1;33m,\u001b[0m \u001b[0mdone\u001b[0m\u001b[1;33m,\u001b[0m \u001b[0minfo\u001b[0m\u001b[1;33m)\u001b[0m\u001b[1;33m\u001b[0m\u001b[1;33m\u001b[0m\u001b[0m\n\u001b[0m\u001b[0;32m    245\u001b[0m             \u001b[1;32melse\u001b[0m\u001b[1;33m:\u001b[0m\u001b[1;33m\u001b[0m\u001b[1;33m\u001b[0m\u001b[0m\n\u001b[0;32m    246\u001b[0m                 \u001b[1;31m# Select a Product randomly.\u001b[0m\u001b[1;33m\u001b[0m\u001b[1;33m\u001b[0m\u001b[1;33m\u001b[0m\u001b[0m\n",
      "\u001b[1;32m<ipython-input-55-70ed7177838c>\u001b[0m in \u001b[0;36mact\u001b[1;34m(self, observation, reward, done, info)\u001b[0m\n\u001b[0;32m     35\u001b[0m                 \u001b[0maction\u001b[0m \u001b[1;33m=\u001b[0m \u001b[0mnp\u001b[0m\u001b[1;33m.\u001b[0m\u001b[0mrandom\u001b[0m\u001b[1;33m.\u001b[0m\u001b[0mrandint\u001b[0m\u001b[1;33m(\u001b[0m\u001b[0mself\u001b[0m\u001b[1;33m.\u001b[0m\u001b[0mconfig\u001b[0m\u001b[1;33m.\u001b[0m\u001b[0mnum_products\u001b[0m\u001b[1;33m(\u001b[0m\u001b[1;33m)\u001b[0m\u001b[1;33m)\u001b[0m\u001b[1;33m\u001b[0m\u001b[1;33m\u001b[0m\u001b[0m\n\u001b[0;32m     36\u001b[0m             \u001b[1;32melse\u001b[0m \u001b[1;33m:\u001b[0m\u001b[1;33m\u001b[0m\u001b[1;33m\u001b[0m\u001b[0m\n\u001b[1;32m---> 37\u001b[1;33m                 \u001b[0maction\u001b[0m \u001b[1;33m=\u001b[0m \u001b[0mself\u001b[0m\u001b[1;33m.\u001b[0m\u001b[0mmodel\u001b[0m\u001b[1;33m.\u001b[0m\u001b[0mpredict\u001b[0m\u001b[1;33m(\u001b[0m\u001b[0mfeatures\u001b[0m\u001b[1;33m)\u001b[0m\u001b[1;33m.\u001b[0m\u001b[0mitem\u001b[0m\u001b[1;33m(\u001b[0m\u001b[1;33m)\u001b[0m\u001b[1;33m\u001b[0m\u001b[1;33m\u001b[0m\u001b[0m\n\u001b[0m\u001b[0;32m     38\u001b[0m             \u001b[0mps\u001b[0m \u001b[1;33m=\u001b[0m \u001b[1;36m1.0\u001b[0m\u001b[1;33m\u001b[0m\u001b[1;33m\u001b[0m\u001b[0m\n\u001b[0;32m     39\u001b[0m             \u001b[1;32mif\u001b[0m \u001b[0mself\u001b[0m\u001b[1;33m.\u001b[0m\u001b[0mconfig\u001b[0m\u001b[1;33m.\u001b[0m\u001b[0mwith_ps_all\u001b[0m\u001b[1;33m:\u001b[0m\u001b[1;33m\u001b[0m\u001b[1;33m\u001b[0m\u001b[0m\n",
      "\u001b[1;31mNameError\u001b[0m: name 'features' is not defined"
     ]
    }
   ],
   "source": [
    "# del verify_agents_sale\n",
    "# from recogym.evaluate_agent_sale import verify_agents_sale\n",
    "test=verify_agents_sale(\n",
    "    env,\n",
    "    number_of_users=2000,\n",
    "    agents={\n",
    "        'likelihood modif': agent\n",
    "    }\n",
    ")"
   ]
  },
  {
   "cell_type": "code",
   "execution_count": 62,
   "metadata": {},
   "outputs": [
    {
     "name": "stderr",
     "output_type": "stream",
     "text": [
      "Organic Users: 0it [00:00, ?it/s]\n",
      "Users:   0%|                                                                                  | 0/2000 [00:00<?, ?it/s]\n"
     ]
    },
    {
     "ename": "KeyError",
     "evalue": "'a'",
     "output_type": "error",
     "traceback": [
      "\u001b[1;31m---------------------------------------------------------------------------\u001b[0m",
      "\u001b[1;31mKeyError\u001b[0m                                  Traceback (most recent call last)",
      "\u001b[1;32m<ipython-input-62-3ca23d8b8542>\u001b[0m in \u001b[0;36m<module>\u001b[1;34m\u001b[0m\n\u001b[0;32m     34\u001b[0m     \u001b[0mnumber_of_users\u001b[0m\u001b[1;33m=\u001b[0m\u001b[1;36m2000\u001b[0m\u001b[1;33m,\u001b[0m\u001b[1;33m\u001b[0m\u001b[1;33m\u001b[0m\u001b[0m\n\u001b[0;32m     35\u001b[0m     agents={\n\u001b[1;32m---> 36\u001b[1;33m         \u001b[1;34m'likelihood modif'\u001b[0m\u001b[1;33m:\u001b[0m \u001b[0magent\u001b[0m\u001b[1;33m\u001b[0m\u001b[1;33m\u001b[0m\u001b[0m\n\u001b[0m\u001b[0;32m     37\u001b[0m     }\n\u001b[0;32m     38\u001b[0m )\n",
      "\u001b[1;32m~\\Documents\\reco-gym\\recogym\\evaluate_agent_sale.py\u001b[0m in \u001b[0;36mverify_agents_sale\u001b[1;34m(env, number_of_users, agents, agent_reset)\u001b[0m\n\u001b[0;32m    700\u001b[0m             \u001b[0magents\u001b[0m\u001b[1;33m[\u001b[0m\u001b[0magent_id\u001b[0m\u001b[1;33m]\u001b[0m\u001b[1;33m.\u001b[0m\u001b[0mreset\u001b[0m\u001b[1;33m(\u001b[0m\u001b[1;33m)\u001b[0m\u001b[1;33m\u001b[0m\u001b[1;33m\u001b[0m\u001b[0m\n\u001b[0;32m    701\u001b[0m \u001b[1;33m\u001b[0m\u001b[0m\n\u001b[1;32m--> 702\u001b[1;33m         \u001b[0mdata\u001b[0m \u001b[1;33m=\u001b[0m \u001b[0menv\u001b[0m\u001b[1;33m.\u001b[0m\u001b[0mgenerate_logs\u001b[0m\u001b[1;33m(\u001b[0m\u001b[0mnumber_of_users\u001b[0m\u001b[1;33m,\u001b[0m \u001b[0magents\u001b[0m\u001b[1;33m[\u001b[0m\u001b[0magent_id\u001b[0m\u001b[1;33m]\u001b[0m\u001b[1;33m)\u001b[0m\u001b[1;33m\u001b[0m\u001b[1;33m\u001b[0m\u001b[0m\n\u001b[0m\u001b[0;32m    703\u001b[0m         \u001b[0mdata_list\u001b[0m\u001b[1;33m[\u001b[0m\u001b[0magent_id\u001b[0m\u001b[1;33m]\u001b[0m \u001b[1;33m=\u001b[0m \u001b[0mdata\u001b[0m\u001b[1;33m[\u001b[0m\u001b[0mdata\u001b[0m\u001b[1;33m[\u001b[0m\u001b[1;34m\"a\"\u001b[0m\u001b[1;33m]\u001b[0m \u001b[1;33m>=\u001b[0m \u001b[1;36m0\u001b[0m\u001b[1;33m]\u001b[0m\u001b[1;33m[\u001b[0m\u001b[0mdata\u001b[0m\u001b[1;33m[\u001b[0m\u001b[1;34m\"c\"\u001b[0m\u001b[1;33m]\u001b[0m \u001b[1;33m>\u001b[0m \u001b[1;36m0\u001b[0m\u001b[1;33m]\u001b[0m\u001b[1;33m\u001b[0m\u001b[1;33m\u001b[0m\u001b[0m\n\u001b[0;32m    704\u001b[0m         \u001b[0membed_list\u001b[0m\u001b[1;33m[\u001b[0m\u001b[0magent_id\u001b[0m\u001b[1;33m]\u001b[0m \u001b[1;33m=\u001b[0m \u001b[0menv\u001b[0m\u001b[1;33m.\u001b[0m\u001b[0muser_embedding_list\u001b[0m\u001b[1;33m\u001b[0m\u001b[1;33m\u001b[0m\u001b[0m\n",
      "\u001b[1;32m~\\Documents\\reco-gym\\recogym\\envs\\reco_env_v1_sale.py\u001b[0m in \u001b[0;36mgenerate_logs\u001b[1;34m(self, num_offline_users, agent, num_organic_offline_users)\u001b[0m\n\u001b[0;32m    350\u001b[0m                 \u001b[0m_store_organic\u001b[0m\u001b[1;33m(\u001b[0m\u001b[0mobservation\u001b[0m\u001b[1;33m)\u001b[0m\u001b[1;33m\u001b[0m\u001b[1;33m\u001b[0m\u001b[0m\n\u001b[0;32m    351\u001b[0m                 action, observation, reward, done, info = self.step_offline(\n\u001b[1;32m--> 352\u001b[1;33m                     \u001b[0mobservation\u001b[0m\u001b[1;33m,\u001b[0m \u001b[0mreward\u001b[0m\u001b[1;33m,\u001b[0m \u001b[0mdone\u001b[0m\u001b[1;33m,\u001b[0m \u001b[0minfo\u001b[0m\u001b[1;33m\u001b[0m\u001b[1;33m\u001b[0m\u001b[0m\n\u001b[0m\u001b[0;32m    353\u001b[0m                 )\n\u001b[0;32m    354\u001b[0m                 \u001b[0m_store_bandit\u001b[0m\u001b[1;33m(\u001b[0m\u001b[0maction\u001b[0m\u001b[1;33m,\u001b[0m \u001b[0mreward\u001b[0m\u001b[1;33m,\u001b[0m \u001b[0mobservation\u001b[0m\u001b[1;33m)\u001b[0m\u001b[1;33m\u001b[0m\u001b[1;33m\u001b[0m\u001b[0m\n",
      "\u001b[1;32m~\\Documents\\reco-gym\\recogym\\envs\\reco_env_v1_sale.py\u001b[0m in \u001b[0;36mstep_offline\u001b[1;34m(self, observation, reward, done, info)\u001b[0m\n\u001b[0;32m    274\u001b[0m         \u001b[1;32melse\u001b[0m\u001b[1;33m:\u001b[0m\u001b[1;33m\u001b[0m\u001b[1;33m\u001b[0m\u001b[0m\n\u001b[0;32m    275\u001b[0m             observation, reward, done, info = self.step(\n\u001b[1;32m--> 276\u001b[1;33m                 \u001b[1;32mNone\u001b[0m \u001b[1;32mif\u001b[0m \u001b[0maction\u001b[0m \u001b[1;32mis\u001b[0m \u001b[1;32mnot\u001b[0m \u001b[1;32mNone\u001b[0m \u001b[1;32melse\u001b[0m \u001b[0maction\u001b[0m\u001b[1;33m[\u001b[0m\u001b[1;34m'a'\u001b[0m\u001b[1;33m]\u001b[0m\u001b[1;33m\u001b[0m\u001b[1;33m\u001b[0m\u001b[0m\n\u001b[0m\u001b[0;32m    277\u001b[0m             )\n\u001b[0;32m    278\u001b[0m \u001b[1;33m\u001b[0m\u001b[0m\n",
      "\u001b[1;31mKeyError\u001b[0m: 'a'"
     ]
    }
   ],
   "source": [
    "# You can overwrite environment arguments here:\n",
    "env_1_sale_args['random_seed'] = 42\n",
    "\n",
    "# Initialize the gym for the first time by calling .make() and .init_gym()\n",
    "env = gym.make('reco-gym-sale-v1')\n",
    "env.init_gym(env_1_sale_args)\n",
    "\n",
    "# .reset() env before each episode (one episode per user).\n",
    "env.reset()\n",
    "# done = False\n",
    "# num_products = env_1_sale_args['num_products']\n",
    "\n",
    "# # You can overwrite environment arguments here:\n",
    "# env_1_sale_args['random_seed'] = 42\n",
    "\n",
    "# # Initialize the gym \n",
    "# env = gym.make('reco-gym-sale-v1')\n",
    "# env.init_gym(env_1_sale_args)\n",
    "\n",
    "# env.reset()\n",
    "# done = False\n",
    "# # Counting how many steps.\n",
    "# i = 0\n",
    "# observation, reward, done, info = None, 0, False, {'c':0}\n",
    "\n",
    "# while not done:\n",
    "# # while (observation is None) or ((observation is not None) & (observation.click is None or observation.click['c'] != 1)):\n",
    "#     action, observation, reward, done, info = env.step_offline(observation, reward, done, info)\n",
    "#     print(f\"Step: {i} - Action: {action} - Observation: {observation.sessions()} - Click:{observation.click} Reward: {reward}\")\n",
    "#     i += 1\n",
    "\n",
    "test=verify_agents_sale(\n",
    "    env,\n",
    "    number_of_users=2000,\n",
    "    agents={\n",
    "        'likelihood modif': agent\n",
    "    }\n",
    ")"
   ]
  }
 ],
 "metadata": {
  "kernelspec": {
   "display_name": "Python 3",
   "language": "python",
   "name": "python3"
  },
  "language_info": {
   "codemirror_mode": {
    "name": "ipython",
    "version": 3
   },
   "file_extension": ".py",
   "mimetype": "text/x-python",
   "name": "python",
   "nbconvert_exporter": "python",
   "pygments_lexer": "ipython3",
   "version": "3.7.4"
  }
 },
 "nbformat": 4,
 "nbformat_minor": 2
}
